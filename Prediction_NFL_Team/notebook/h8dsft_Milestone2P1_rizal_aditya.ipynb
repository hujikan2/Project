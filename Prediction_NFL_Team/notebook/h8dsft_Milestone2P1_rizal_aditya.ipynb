{
 "cells": [
  {
   "cell_type": "markdown",
   "metadata": {},
   "source": [
    "# 1. Perkenalan\n",
    "\n",
    "## Phase 1 Milestone 2\n",
    "> _Milestones ini dibuat guna mengevaluasi pembelajaran pada Hacktiv8 Data Science Fulltime Program khususnya pada Phase 1._\n",
    "\n",
    "---\n",
    "Milestone ini dikerjakan oleh **Rizal Aditya - 008**\n",
    "\n",
    "Untuk **Milestone 2** ini saya memilih kasus _classification_/*binary classification*. \n",
    "\n",
    "### Abstract\n",
    "Ada sebuah tim NFL ingin melakukan recruitment pemain baru, dengan cara mengikuti draft NFL setiap tahunnya. Tim NFL ini ingin mencari pemain yang layak untuk masuk ke dalam tim. Agent Recruitment pemain akan memilih pemain dengan syarat yang diinginkan oleh tim NFL ini. Sehingga Agent ini membutuhkan informasi mengenai statistik para pemain yang ingin di recruit. Tetapi Agent bingung bagaimana memilih pemain yang sesuai dengan apa yang diinginkan dan mencari tau pemain mana saja yang belum direcruit yang sesuai dengan syarat tim NFL.\n",
    "\n",
    "### Task\n",
    "Dari informasi diatas, kita akan membantu Agent untuk mencari referensi yang sesuai dengan syarat tim NFL. Kita memerlukan bantuan machine learning. Untuk memberikan informasi apakah pemain yang akan dipilih, untuk di recruit itu sudah di recruit tim lain atau tidak. Dan mencari pemain yang belum memiliki tim untuk dilakukan draft recuitment sesuai dengan syarat tim NFL, dengan menggunakan beberapa fitur yang akan kita persiapkan dari dataset yang sudah kita dapatkan sebelumnya.\n",
    "\n",
    "Sumber dataset ini berasal dari kaggle. Anda dapat mengaksesnya [disini](https://www.kaggle.com/redlineracer/nfl-combine-performance-data-2009-2019)\n",
    "\n",
    "Di dalam melakukan tugas kita dalam membuat model machine learning yang bagus. Kita akan menggunkaan beberapa algoritma yang telah kita pelajari selama belajar di phase 1 ini. Karena problem kita adalah *classification* maka kita akan menggunkaan algoritma machine learning yang dapat melakukan *classification*."
   ]
  },
  {
   "cell_type": "markdown",
   "metadata": {},
   "source": [
    "# 2. Import Libraries"
   ]
  },
  {
   "cell_type": "code",
   "execution_count": 1,
   "metadata": {},
   "outputs": [],
   "source": [
    "import warnings\n",
    "warnings.filterwarnings('ignore')\n",
    "import pandas as pd\n",
    "import numpy as np\n",
    "import seaborn as sns\n",
    "import matplotlib.pyplot as plt\n",
    "import time\n",
    "\n",
    "# Preprocessing\n",
    "from sklearn.preprocessing import StandardScaler, OneHotEncoder\n",
    "from sklearn.model_selection import train_test_split\n",
    "from sklearn.pipeline import Pipeline, make_pipeline\n",
    "from sklearn.compose import ColumnTransformer\n",
    "from sklearn.impute import SimpleImputer\n",
    "\n",
    "# Model\n",
    "from sklearn.model_selection import RandomizedSearchCV, GridSearchCV\n",
    "from sklearn.linear_model import LogisticRegression, SGDClassifier\n",
    "from sklearn.tree import DecisionTreeClassifier\n",
    "from sklearn.ensemble import RandomForestClassifier, AdaBoostClassifier, BaggingClassifier, GradientBoostingClassifier\n",
    "from sklearn.neighbors import KNeighborsClassifier\n",
    "from sklearn.metrics import f1_score, plot_confusion_matrix, classification_report, roc_auc_score, roc_curve, accuracy_score"
   ]
  },
  {
   "cell_type": "markdown",
   "metadata": {},
   "source": [
    "# 3. Data Loading"
   ]
  },
  {
   "cell_type": "code",
   "execution_count": 2,
   "metadata": {},
   "outputs": [
    {
     "name": "stdout",
     "output_type": "stream",
     "text": [
      "Jumlah baris dari dataset ini adalah : 3477\n",
      "Jumlah kolom dari dataset ini adalah : 18\n"
     ]
    },
    {
     "data": {
      "text/html": [
       "<div>\n",
       "<style scoped>\n",
       "    .dataframe tbody tr th:only-of-type {\n",
       "        vertical-align: middle;\n",
       "    }\n",
       "\n",
       "    .dataframe tbody tr th {\n",
       "        vertical-align: top;\n",
       "    }\n",
       "\n",
       "    .dataframe thead th {\n",
       "        text-align: right;\n",
       "    }\n",
       "</style>\n",
       "<table border=\"1\" class=\"dataframe\">\n",
       "  <thead>\n",
       "    <tr style=\"text-align: right;\">\n",
       "      <th></th>\n",
       "      <th>Year</th>\n",
       "      <th>Player</th>\n",
       "      <th>Age</th>\n",
       "      <th>School</th>\n",
       "      <th>Height</th>\n",
       "      <th>Weight</th>\n",
       "      <th>Sprint_40yd</th>\n",
       "      <th>Vertical_Jump</th>\n",
       "      <th>Bench_Press_Reps</th>\n",
       "      <th>Broad_Jump</th>\n",
       "      <th>Agility_3cone</th>\n",
       "      <th>Shuttle</th>\n",
       "      <th>Drafted..tm.rnd.yr.</th>\n",
       "      <th>BMI</th>\n",
       "      <th>Player_Type</th>\n",
       "      <th>Position_Type</th>\n",
       "      <th>Position</th>\n",
       "      <th>Drafted</th>\n",
       "    </tr>\n",
       "  </thead>\n",
       "  <tbody>\n",
       "    <tr>\n",
       "      <th>1735</th>\n",
       "      <td>2017</td>\n",
       "      <td>Chuck Clark\\ClarCh00</td>\n",
       "      <td>21.0</td>\n",
       "      <td>Virginia Tech</td>\n",
       "      <td>1.8288</td>\n",
       "      <td>94.347213</td>\n",
       "      <td>4.54</td>\n",
       "      <td>86.36</td>\n",
       "      <td>16.0</td>\n",
       "      <td>309.88</td>\n",
       "      <td>6.85</td>\n",
       "      <td>4.07</td>\n",
       "      <td>Baltimore Ravens / 6th / 186th pick / 2017</td>\n",
       "      <td>28.209582</td>\n",
       "      <td>defense</td>\n",
       "      <td>defensive_back</td>\n",
       "      <td>FS</td>\n",
       "      <td>Yes</td>\n",
       "    </tr>\n",
       "    <tr>\n",
       "      <th>1666</th>\n",
       "      <td>2016</td>\n",
       "      <td>Jihad Ward\\WardJi02</td>\n",
       "      <td>21.0</td>\n",
       "      <td>Illinois</td>\n",
       "      <td>1.9558</td>\n",
       "      <td>134.716934</td>\n",
       "      <td>5.11</td>\n",
       "      <td>63.50</td>\n",
       "      <td>20.0</td>\n",
       "      <td>281.94</td>\n",
       "      <td>7.38</td>\n",
       "      <td>4.63</td>\n",
       "      <td>Oakland Raiders / 2nd / 44th pick / 2016</td>\n",
       "      <td>35.218699</td>\n",
       "      <td>defense</td>\n",
       "      <td>defensive_lineman</td>\n",
       "      <td>DT</td>\n",
       "      <td>Yes</td>\n",
       "    </tr>\n",
       "    <tr>\n",
       "      <th>2070</th>\n",
       "      <td>2018</td>\n",
       "      <td>Ryan Izzo\\IzzoRy00</td>\n",
       "      <td>22.0</td>\n",
       "      <td>Florida St.</td>\n",
       "      <td>1.9558</td>\n",
       "      <td>116.119647</td>\n",
       "      <td>4.94</td>\n",
       "      <td>83.82</td>\n",
       "      <td>18.0</td>\n",
       "      <td>279.40</td>\n",
       "      <td>7.15</td>\n",
       "      <td>4.43</td>\n",
       "      <td>New England Patriots / 7th / 250th pick / 2018</td>\n",
       "      <td>30.356858</td>\n",
       "      <td>offense</td>\n",
       "      <td>backs_receivers</td>\n",
       "      <td>TE</td>\n",
       "      <td>Yes</td>\n",
       "    </tr>\n",
       "    <tr>\n",
       "      <th>290</th>\n",
       "      <td>2010</td>\n",
       "      <td>Kareem Jackson\\JackKa99</td>\n",
       "      <td>21.0</td>\n",
       "      <td>Alabama</td>\n",
       "      <td>1.7780</td>\n",
       "      <td>88.904105</td>\n",
       "      <td>4.40</td>\n",
       "      <td>95.25</td>\n",
       "      <td>13.0</td>\n",
       "      <td>299.72</td>\n",
       "      <td>6.92</td>\n",
       "      <td>4.14</td>\n",
       "      <td>Houston Texans / 1st / 20th pick / 2010</td>\n",
       "      <td>28.122783</td>\n",
       "      <td>defense</td>\n",
       "      <td>defensive_back</td>\n",
       "      <td>CB</td>\n",
       "      <td>Yes</td>\n",
       "    </tr>\n",
       "    <tr>\n",
       "      <th>45</th>\n",
       "      <td>2009</td>\n",
       "      <td>Alex Mack\\MackAl20</td>\n",
       "      <td>23.0</td>\n",
       "      <td>California</td>\n",
       "      <td>1.9304</td>\n",
       "      <td>141.067227</td>\n",
       "      <td>5.17</td>\n",
       "      <td>NaN</td>\n",
       "      <td>NaN</td>\n",
       "      <td>NaN</td>\n",
       "      <td>NaN</td>\n",
       "      <td>NaN</td>\n",
       "      <td>Cleveland Browns / 1st / 21st pick / 2009</td>\n",
       "      <td>37.855720</td>\n",
       "      <td>offense</td>\n",
       "      <td>offensive_lineman</td>\n",
       "      <td>C</td>\n",
       "      <td>Yes</td>\n",
       "    </tr>\n",
       "  </tbody>\n",
       "</table>\n",
       "</div>"
      ],
      "text/plain": [
       "      Year                   Player   Age         School  Height      Weight  \\\n",
       "1735  2017     Chuck Clark\\ClarCh00  21.0  Virginia Tech  1.8288   94.347213   \n",
       "1666  2016      Jihad Ward\\WardJi02  21.0       Illinois  1.9558  134.716934   \n",
       "2070  2018       Ryan Izzo\\IzzoRy00  22.0    Florida St.  1.9558  116.119647   \n",
       "290   2010  Kareem Jackson\\JackKa99  21.0        Alabama  1.7780   88.904105   \n",
       "45    2009       Alex Mack\\MackAl20  23.0     California  1.9304  141.067227   \n",
       "\n",
       "      Sprint_40yd  Vertical_Jump  Bench_Press_Reps  Broad_Jump  Agility_3cone  \\\n",
       "1735         4.54          86.36              16.0      309.88           6.85   \n",
       "1666         5.11          63.50              20.0      281.94           7.38   \n",
       "2070         4.94          83.82              18.0      279.40           7.15   \n",
       "290          4.40          95.25              13.0      299.72           6.92   \n",
       "45           5.17            NaN               NaN         NaN            NaN   \n",
       "\n",
       "      Shuttle                             Drafted..tm.rnd.yr.        BMI  \\\n",
       "1735     4.07      Baltimore Ravens / 6th / 186th pick / 2017  28.209582   \n",
       "1666     4.63        Oakland Raiders / 2nd / 44th pick / 2016  35.218699   \n",
       "2070     4.43  New England Patriots / 7th / 250th pick / 2018  30.356858   \n",
       "290      4.14         Houston Texans / 1st / 20th pick / 2010  28.122783   \n",
       "45        NaN       Cleveland Browns / 1st / 21st pick / 2009  37.855720   \n",
       "\n",
       "     Player_Type      Position_Type Position Drafted  \n",
       "1735     defense     defensive_back       FS     Yes  \n",
       "1666     defense  defensive_lineman       DT     Yes  \n",
       "2070     offense    backs_receivers       TE     Yes  \n",
       "290      defense     defensive_back       CB     Yes  \n",
       "45       offense  offensive_lineman        C     Yes  "
      ]
     },
     "execution_count": 2,
     "metadata": {},
     "output_type": "execute_result"
    }
   ],
   "source": [
    "# definisi letak file dataset\n",
    "dir = \"data/NFL.csv\"\n",
    "\n",
    "# Import Dataset Original\n",
    "data_ori = pd.read_csv(dir)\n",
    "\n",
    "# Copy Dataset yang akan kita gunakan\n",
    "data_copy = data_ori.copy()\n",
    "print(f\"Jumlah baris dari dataset ini adalah : {data_copy.shape[0]}\")\n",
    "print(f\"Jumlah kolom dari dataset ini adalah : {data_copy.shape[1]}\")\n",
    "data_copy.sample(5, random_state=0) # menampilkan 5 data secara acak dari dataset"
   ]
  },
  {
   "cell_type": "markdown",
   "metadata": {},
   "source": [
    "Dari informasi sekilas mengenai data diatas. Kita memiliki **3477** baris data dan **17** sebagai calon fitur dan **1** sebagai label  target. Dataset ini juga Hasil Gabungan NFL dari 2009 hingga 2019. Yang berisi informasi tentang hasil pengujian kinerja olahraga, kelulusan sekolah, hasil rancangan, dan demografi umum tentang pemain yang akan mengikuti draft NFL.\n",
    "\n",
    "Sebelum lebih lebih jauh lagi untuk melakukan eksplorasi dengan dataset ini. Kita akan mencoba memahami fitur yang ada di dalam dataset ini.\n",
    "\n"
   ]
  },
  {
   "cell_type": "markdown",
   "metadata": {},
   "source": [
    "**INFORMATION ABOUT DATASET**\n",
    "\n",
    "| Nama Kolom | Description |\n",
    "| --- | --- |\n",
    "| **Year** | Tahun kehadiran di NFL Combine |\n",
    "| **Player** | Nama pemain |\n",
    "| **Age** | Usia (tahun) |\n",
    "| **School** | Program Football |\n",
    "| **Height** | Tinggi (m) |\n",
    "| **Weight** | Berat badan (kg) |\n",
    "| **Sprint_40yd** | Waktu sprint 40 yard (s) | \n",
    "| **Vertical_Jump** | Hasil lompatan vertikal (cm) |\n",
    "| **Bench_Press_Reps** |  Pengulangan bench press maksimum dicapai saat mengangkat beban 102,1 kg |\n",
    "| **Broad_Jump** | Hasil lompat jauh (cm) |\n",
    "| **Agility_3cone** | Waktu uji kelincahan menggunakan 3 cone |\n",
    "| **Shuttle** |  Waktu antar-jemput lateral | \n",
    "| **Drafted..tm.rnd.yr.** | Tim yang dipilih oleh atlet, putaran draft, draft pick, dan tahun |\n",
    "| **BMI** | Indeks massa tubuh (kg/m2) |\n",
    "| **Player_Type** | Pemain penyerang atau pemain bertahan atau tim khusus |\n",
    "| **Position_Type** |  Klasifikasi luas dari posisi bermain atlet |\n",
    "| **Position** |  Posisi bermain |\n",
    "| **Drafted** | Apakah pemain direkrut selama NFL Draft? |"
   ]
  },
  {
   "cell_type": "code",
   "execution_count": 3,
   "metadata": {},
   "outputs": [
    {
     "name": "stdout",
     "output_type": "stream",
     "text": [
      "<class 'pandas.core.frame.DataFrame'>\n",
      "RangeIndex: 3477 entries, 0 to 3476\n",
      "Data columns (total 18 columns):\n",
      " #   Column               Non-Null Count  Dtype  \n",
      "---  ------               --------------  -----  \n",
      " 0   Year                 3477 non-null   int64  \n",
      " 1   Player               3477 non-null   object \n",
      " 2   Age                  2927 non-null   float64\n",
      " 3   School               3477 non-null   object \n",
      " 4   Height               3477 non-null   float64\n",
      " 5   Weight               3477 non-null   float64\n",
      " 6   Sprint_40yd          3303 non-null   float64\n",
      " 7   Vertical_Jump        2780 non-null   float64\n",
      " 8   Bench_Press_Reps     2572 non-null   float64\n",
      " 9   Broad_Jump           2749 non-null   float64\n",
      " 10  Agility_3cone        2260 non-null   float64\n",
      " 11  Shuttle              2337 non-null   float64\n",
      " 12  Drafted..tm.rnd.yr.  2254 non-null   object \n",
      " 13  BMI                  3477 non-null   float64\n",
      " 14  Player_Type          3477 non-null   object \n",
      " 15  Position_Type        3477 non-null   object \n",
      " 16  Position             3477 non-null   object \n",
      " 17  Drafted              3477 non-null   object \n",
      "dtypes: float64(10), int64(1), object(7)\n",
      "memory usage: 489.1+ KB\n"
     ]
    }
   ],
   "source": [
    "# Selanjutnya saya ingin melihat informasi dari dataset ini\n",
    "data_copy.info()"
   ]
  },
  {
   "cell_type": "markdown",
   "metadata": {},
   "source": [
    "Dari hasil informasi data diatas, dapat kita lihat bahwa dataset ini memiliki 2 tipe data. Yaitu numerikal dan kategorikal data.\n",
    "\n",
    "Dari informasi diatas dapat dilihat juga bahwa, ada beberapa kolom yang tidak lengkap begitu. Seperti kolom `Age`, `Sprint_40yd`, `Vertical_Jump`, `Bench_Press_Reps`, `Bench_Press_Reps`, `Broad_Jump`, `Agility_3cone`, dan `Shuttle`.  Dan bisa dibilang kolom-kolom tersebut memiliki missing value. "
   ]
  },
  {
   "cell_type": "markdown",
   "metadata": {},
   "source": [
    "# 4. Exploratory Data Analysis (EDA)\n",
    "\n",
    "Selanjutnya, Kita akan mencari informasi lebih jauh mengenai dataset ini."
   ]
  },
  {
   "cell_type": "code",
   "execution_count": 4,
   "metadata": {},
   "outputs": [
    {
     "data": {
      "text/html": [
       "<div>\n",
       "<style scoped>\n",
       "    .dataframe tbody tr th:only-of-type {\n",
       "        vertical-align: middle;\n",
       "    }\n",
       "\n",
       "    .dataframe tbody tr th {\n",
       "        vertical-align: top;\n",
       "    }\n",
       "\n",
       "    .dataframe thead th {\n",
       "        text-align: right;\n",
       "    }\n",
       "</style>\n",
       "<table border=\"1\" class=\"dataframe\">\n",
       "  <thead>\n",
       "    <tr style=\"text-align: right;\">\n",
       "      <th></th>\n",
       "      <th>Year</th>\n",
       "      <th>Player</th>\n",
       "      <th>Age</th>\n",
       "      <th>School</th>\n",
       "      <th>Height</th>\n",
       "      <th>Weight</th>\n",
       "      <th>Sprint_40yd</th>\n",
       "      <th>Vertical_Jump</th>\n",
       "      <th>Bench_Press_Reps</th>\n",
       "      <th>Broad_Jump</th>\n",
       "      <th>Agility_3cone</th>\n",
       "      <th>Shuttle</th>\n",
       "      <th>Drafted..tm.rnd.yr.</th>\n",
       "      <th>BMI</th>\n",
       "      <th>Player_Type</th>\n",
       "      <th>Position_Type</th>\n",
       "      <th>Position</th>\n",
       "      <th>Drafted</th>\n",
       "    </tr>\n",
       "  </thead>\n",
       "  <tbody>\n",
       "    <tr>\n",
       "      <th>0</th>\n",
       "      <td>2009</td>\n",
       "      <td>Beanie Wells\\WellCh00</td>\n",
       "      <td>20.0</td>\n",
       "      <td>Ohio St.</td>\n",
       "      <td>1.8542</td>\n",
       "      <td>106.594207</td>\n",
       "      <td>4.38</td>\n",
       "      <td>85.09</td>\n",
       "      <td>25.0</td>\n",
       "      <td>325.12</td>\n",
       "      <td>NaN</td>\n",
       "      <td>NaN</td>\n",
       "      <td>Arizona Cardinals / 1st / 31st pick / 2009</td>\n",
       "      <td>31.004194</td>\n",
       "      <td>offense</td>\n",
       "      <td>backs_receivers</td>\n",
       "      <td>RB</td>\n",
       "      <td>Yes</td>\n",
       "    </tr>\n",
       "    <tr>\n",
       "      <th>1</th>\n",
       "      <td>2009</td>\n",
       "      <td>Will Davis\\DaviWi99</td>\n",
       "      <td>22.0</td>\n",
       "      <td>Illinois</td>\n",
       "      <td>1.8796</td>\n",
       "      <td>118.387609</td>\n",
       "      <td>4.84</td>\n",
       "      <td>83.82</td>\n",
       "      <td>27.0</td>\n",
       "      <td>292.10</td>\n",
       "      <td>7.38</td>\n",
       "      <td>4.45</td>\n",
       "      <td>Arizona Cardinals / 6th / 204th pick / 2009</td>\n",
       "      <td>33.510073</td>\n",
       "      <td>defense</td>\n",
       "      <td>defensive_lineman</td>\n",
       "      <td>DE</td>\n",
       "      <td>Yes</td>\n",
       "    </tr>\n",
       "    <tr>\n",
       "      <th>2</th>\n",
       "      <td>2009</td>\n",
       "      <td>Herman Johnson\\JohnHe23</td>\n",
       "      <td>24.0</td>\n",
       "      <td>LSU</td>\n",
       "      <td>2.0066</td>\n",
       "      <td>165.107623</td>\n",
       "      <td>5.50</td>\n",
       "      <td>NaN</td>\n",
       "      <td>21.0</td>\n",
       "      <td>NaN</td>\n",
       "      <td>NaN</td>\n",
       "      <td>NaN</td>\n",
       "      <td>Arizona Cardinals / 5th / 167th pick / 2009</td>\n",
       "      <td>41.005821</td>\n",
       "      <td>offense</td>\n",
       "      <td>offensive_lineman</td>\n",
       "      <td>OG</td>\n",
       "      <td>Yes</td>\n",
       "    </tr>\n",
       "    <tr>\n",
       "      <th>3</th>\n",
       "      <td>2009</td>\n",
       "      <td>Rashad Johnson\\JohnRa98</td>\n",
       "      <td>23.0</td>\n",
       "      <td>Alabama</td>\n",
       "      <td>1.8034</td>\n",
       "      <td>92.079251</td>\n",
       "      <td>4.49</td>\n",
       "      <td>93.98</td>\n",
       "      <td>15.0</td>\n",
       "      <td>304.80</td>\n",
       "      <td>7.09</td>\n",
       "      <td>4.23</td>\n",
       "      <td>Arizona Cardinals / 3rd / 95th pick / 2009</td>\n",
       "      <td>28.312463</td>\n",
       "      <td>defense</td>\n",
       "      <td>defensive_back</td>\n",
       "      <td>FS</td>\n",
       "      <td>Yes</td>\n",
       "    </tr>\n",
       "    <tr>\n",
       "      <th>4</th>\n",
       "      <td>2009</td>\n",
       "      <td>Cody Brown\\BrowCo96</td>\n",
       "      <td>22.0</td>\n",
       "      <td>Connecticut</td>\n",
       "      <td>1.8796</td>\n",
       "      <td>110.676538</td>\n",
       "      <td>4.76</td>\n",
       "      <td>92.71</td>\n",
       "      <td>26.0</td>\n",
       "      <td>304.80</td>\n",
       "      <td>7.10</td>\n",
       "      <td>4.40</td>\n",
       "      <td>Arizona Cardinals / 2nd / 63rd pick / 2009</td>\n",
       "      <td>31.327425</td>\n",
       "      <td>defense</td>\n",
       "      <td>line_backer</td>\n",
       "      <td>OLB</td>\n",
       "      <td>Yes</td>\n",
       "    </tr>\n",
       "  </tbody>\n",
       "</table>\n",
       "</div>"
      ],
      "text/plain": [
       "   Year                   Player   Age       School  Height      Weight  \\\n",
       "0  2009    Beanie Wells\\WellCh00  20.0     Ohio St.  1.8542  106.594207   \n",
       "1  2009      Will Davis\\DaviWi99  22.0     Illinois  1.8796  118.387609   \n",
       "2  2009  Herman Johnson\\JohnHe23  24.0          LSU  2.0066  165.107623   \n",
       "3  2009  Rashad Johnson\\JohnRa98  23.0      Alabama  1.8034   92.079251   \n",
       "4  2009      Cody Brown\\BrowCo96  22.0  Connecticut  1.8796  110.676538   \n",
       "\n",
       "   Sprint_40yd  Vertical_Jump  Bench_Press_Reps  Broad_Jump  Agility_3cone  \\\n",
       "0         4.38          85.09              25.0      325.12            NaN   \n",
       "1         4.84          83.82              27.0      292.10           7.38   \n",
       "2         5.50            NaN              21.0         NaN            NaN   \n",
       "3         4.49          93.98              15.0      304.80           7.09   \n",
       "4         4.76          92.71              26.0      304.80           7.10   \n",
       "\n",
       "   Shuttle                          Drafted..tm.rnd.yr.        BMI  \\\n",
       "0      NaN   Arizona Cardinals / 1st / 31st pick / 2009  31.004194   \n",
       "1     4.45  Arizona Cardinals / 6th / 204th pick / 2009  33.510073   \n",
       "2      NaN  Arizona Cardinals / 5th / 167th pick / 2009  41.005821   \n",
       "3     4.23   Arizona Cardinals / 3rd / 95th pick / 2009  28.312463   \n",
       "4     4.40   Arizona Cardinals / 2nd / 63rd pick / 2009  31.327425   \n",
       "\n",
       "  Player_Type      Position_Type Position Drafted  \n",
       "0     offense    backs_receivers       RB     Yes  \n",
       "1     defense  defensive_lineman       DE     Yes  \n",
       "2     offense  offensive_lineman       OG     Yes  \n",
       "3     defense     defensive_back       FS     Yes  \n",
       "4     defense        line_backer      OLB     Yes  "
      ]
     },
     "execution_count": 4,
     "metadata": {},
     "output_type": "execute_result"
    }
   ],
   "source": [
    "# Melihat 5 row data\n",
    "data_copy.head()"
   ]
  },
  {
   "cell_type": "markdown",
   "metadata": {},
   "source": [
    "### 4.1 Melihat informasi perbandingan dari label target"
   ]
  },
  {
   "cell_type": "code",
   "execution_count": 5,
   "metadata": {},
   "outputs": [
    {
     "data": {
      "image/png": "[encoded data removed]",
      "text/plain": [
       "<Figure size 864x360 with 2 Axes>"
      ]
     },
     "metadata": {
      "needs_background": "light"
     },
     "output_type": "display_data"
    }
   ],
   "source": [
    "# membuat figure\n",
    "plt.figure(figsize=(12,5))\n",
    "\n",
    "# Ploting untuk menghitung label target\n",
    "plt.subplot(1,2,1) \n",
    "ax = sns.countplot(data=data_copy, x='Drafted', palette = [\"#fca103\",\"#49c726\"])\n",
    "ax.bar_label(ax.containers[0])\n",
    "plt.title(\"Distibution Of Drafted Players\", fontsize='14')\n",
    "# Plotting untuk percentage\n",
    "plt.subplot(1,2,2)\n",
    "plt.pie(data_copy['Drafted'].value_counts(), labels=data_copy['Drafted'].unique(), explode=(0,0.05), autopct='%.2f%%', colors = [\"#fca103\",\"#49c726\"])\n",
    "plt.title(\"Proportion of Drafted Players\", fontsize='14')\n",
    "plt.legend()\n",
    "plt.tight_layout()\n",
    "plt.show()\n"
   ]
  },
  {
   "cell_type": "markdown",
   "metadata": {},
   "source": [
    "| Degree of imbalance | Proportion of Minority Class |\n",
    "| --- | --- |\n",
    "| Mild | 20-40% of the data set |\n",
    "| Moderate | 1-20% of the data set |\n",
    "| Extreme | < 1% of the data set |"
   ]
  },
  {
   "cell_type": "markdown",
   "metadata": {},
   "source": [
    "Dari informasi visualisasi diatas terlihat bahwa label target memiliki proporsi yang bisa dibilang **imbalance(mild)**. Dari informasi proporsi terlihat bahwa pemain yang sudah direkrut memiliki persentase **64.83%**, dan pemain yang belum direkrut memiliki persentase **35.17%**. \n",
    "\n"
   ]
  },
  {
   "cell_type": "markdown",
   "metadata": {},
   "source": [
    "### 4.2 Melihat Informasi pada umur pemain yang paling banyak di rekrut"
   ]
  },
  {
   "cell_type": "code",
   "execution_count": 6,
   "metadata": {},
   "outputs": [
    {
     "data": {
      "image/png": "[encoded data removed]",
      "text/plain": [
       "<Figure size 864x360 with 1 Axes>"
      ]
     },
     "metadata": {
      "needs_background": "light"
     },
     "output_type": "display_data"
    }
   ],
   "source": [
    "# melakukan filter untuk pada pemain yang sudah  mendapatkan tim NFL\n",
    "drafted = data_copy[data_copy['Drafted'] == 'Yes']\n",
    "\n",
    "# membuat count plot unutk melihat informasi di dalam `Age`\n",
    "plt.figure(figsize = (12, 5))\n",
    "plt.subplot(1,2,1)\n",
    "ax = sns.countplot(\n",
    "    x = drafted[\"Age\"],\n",
    "    order = drafted[\"Age\"].value_counts().sort_values(ascending = False).index,\n",
    "    palette='bright')\n",
    "ax.bar_label(ax.containers[0])\n",
    "plt.title(\"Age\", fontsize = \"14\")\n",
    "plt.tight_layout()\n",
    "plt.show()"
   ]
  },
  {
   "cell_type": "markdown",
   "metadata": {},
   "source": [
    "Dari hasil informasi diatas terlihat bahwa pemain yang di rekrut, dominan pada umur 22 tahun. Tidak menutup kemungkinan juga para pemain direkrut pada rentang usia 20 - 25 tahun. "
   ]
  },
  {
   "cell_type": "markdown",
   "metadata": {},
   "source": [
    "### 4.3 Sekolah mana yang memiliki jumlah pemain terbanyak yang direkrut menjadi NFL?"
   ]
  },
  {
   "cell_type": "code",
   "execution_count": 7,
   "metadata": {},
   "outputs": [
    {
     "data": {
      "image/png": "[encoded data removed]",
      "text/plain": [
       "<Figure size 720x432 with 1 Axes>"
      ]
     },
     "metadata": {
      "needs_background": "light"
     },
     "output_type": "display_data"
    }
   ],
   "source": [
    "# Prepare data\n",
    "import random\n",
    "shcool = data_copy.groupby('School').size().reset_index(name='counts').sort_values(by='counts', ascending=False).head(10)\n",
    "n = shcool['School'].unique().__len__()+1\n",
    "all_colors = list(plt.cm.colors.cnames.keys())\n",
    "random.seed(100)\n",
    "c = random.choices(all_colors, k=n)\n",
    "\n",
    "# Plot Bars\n",
    "plt.figure(figsize=(10,6))\n",
    "plt.bar(shcool['School'], shcool['counts'], color=c, width=.5)\n",
    "for i, val in enumerate(shcool['counts'].values):\n",
    "    plt.text(i, val, float(val), horizontalalignment='center', verticalalignment='bottom', fontdict={'fontweight':500, 'size':12})\n",
    "plt.title(\"Top 10 schools based on recruited players\", fontsize='14')\n",
    "plt.xlabel('School')\n",
    "plt.ylabel('Count')\n",
    "plt.tight_layout()\n",
    "plt.show()"
   ]
  },
  {
   "cell_type": "markdown",
   "metadata": {},
   "source": [
    "Dari informasi diatas, dapat kita lihat bahwa program pendidikan Football yang memiliki jumlah pemain terbanyak yang direkrut menjadi NFL adalah **Alabama**, **LSU** dan **Ohio St.**. Mungkin saja program pendidikan football tersebut merupakan yang paling favorit untuk menjadi pemain NFL."
   ]
  },
  {
   "cell_type": "markdown",
   "metadata": {},
   "source": [
    "### 4.4 Tahun berapa yang memiliki jumlah pemain terbanyak yang direkrut menjadi NFL?"
   ]
  },
  {
   "cell_type": "code",
   "execution_count": 8,
   "metadata": {},
   "outputs": [
    {
     "data": {
      "image/png": "[encoded data removed]",
      "text/plain": [
       "<Figure size 720x360 with 1 Axes>"
      ]
     },
     "metadata": {
      "needs_background": "light"
     },
     "output_type": "display_data"
    }
   ],
   "source": [
    "# Get the data\n",
    "years = drafted['Year'].value_counts()\n",
    "\n",
    "# Plot the data\n",
    "ax = years.plot(kind='barh', figsize=(10,5), color=\"#49c726\")\n",
    "ax.bar_label(ax.containers[0])\n",
    "plt.ylabel('Year') # add to x-label to the plot\n",
    "plt.xlabel('Number of players') # add y-label to the plot\n",
    "plt.title('Distibution of Year') # add title to the plot\n",
    "plt.show()"
   ]
  },
  {
   "cell_type": "markdown",
   "metadata": {},
   "source": [
    "Dari hasil informasi visualisasi diatas, terlihat bahwa pada tahun 2013, 2014, dan 2017 merupakan jumlah pemain terbanyak di rekrut sebagain pemain NFL. "
   ]
  },
  {
   "cell_type": "markdown",
   "metadata": {},
   "source": [
    "### 4.5 mencari posisi pemain yang paling banyak direkrut menjadi NFL\n"
   ]
  },
  {
   "cell_type": "code",
   "execution_count": 9,
   "metadata": {},
   "outputs": [
    {
     "data": {
      "image/png": "[encoded data removed]",
      "text/plain": [
       "<Figure size 720x360 with 1 Axes>"
      ]
     },
     "metadata": {
      "needs_background": "light"
     },
     "output_type": "display_data"
    }
   ],
   "source": [
    "# Get the data\n",
    "position = drafted['Position'].value_counts().head()\n",
    "\n",
    "# Plot the data\n",
    "ax = position.plot(kind='bar', figsize=(10,5), color=\"#fca103\")\n",
    "ax.bar_label(ax.containers[0])\n",
    "plt.xlabel('Position') # add to x-label to the plot\n",
    "plt.ylabel('Number of players') # add y-label to the plot\n",
    "plt.title('Distibution of Position') # add title to the plot\n",
    "plt.show()"
   ]
  },
  {
   "cell_type": "markdown",
   "metadata": {},
   "source": [
    "Dari hasil visualisasi diatas, terlihat bahwa dari 5 posisi pemain yang sering direkrut adalah posisi sebagi **WR**, **CB**, **RB**, **OT**, dan **DT**.\n",
    "\n",
    "Berikut 3 penjelan dari posisi yang sering di rekrut sebagi pemain NFL :\n",
    "- Wide receiver (WR), adalah pemain yang pada umumnya memiliki tingkat menangkap dan kecepatan lari paling baik dalam tim, karena memang itu tugasnya.\n",
    "- Cornerback (CB) merupakan musuh terkuat dari Wide Receiver. Tugasnya menghalau Wide Receiver untuk menangkap bola dan mencoba menangkap bola yang dioperkan ke Wide Receiver (Intercept).\n",
    "- Running Back (RB) adalah pemain bertugas membawa bola yang diberikan oleh Quarterback. Running Back itu bukan hanya kecepatan yang di test, namun juga kekuatan fisik ketika menubruk lawan (Trucking kalau di bahasa american football)."
   ]
  },
  {
   "cell_type": "markdown",
   "metadata": {},
   "source": [
    "### 4.6 Mencari informasi tipe pemain yang sering di rekrut untuk menjadi pemain NFL"
   ]
  },
  {
   "cell_type": "code",
   "execution_count": 10,
   "metadata": {},
   "outputs": [
    {
     "data": {
      "image/png": "[encoded data removed]",
      "text/plain": [
       "<Figure size 864x432 with 2 Axes>"
      ]
     },
     "metadata": {
      "needs_background": "light"
     },
     "output_type": "display_data"
    }
   ],
   "source": [
    "# Create a figure\n",
    "plt.figure(figsize=(12,6))\n",
    "\n",
    "# Plotting for Player Type\n",
    "plt.subplot(1,2,1)\n",
    "ax = sns.countplot(data=data_copy, x='Player_Type', hue='Drafted', palette = [\"#49c726\", \"#fca103\"])\n",
    "ax.bar_label(ax.containers[0])\n",
    "plt.title('Distributin of Player Type')\n",
    "plt.xlabel('Player Type')\n",
    "\n",
    "# Plotting for Position Type\n",
    "plt.subplot(1,2,2)\n",
    "ax = sns.countplot(data=data_copy, x='Position_Type', hue='Drafted', palette = [\"#49c726\", \"#fca103\"])\n",
    "ax.bar_label(ax.containers[0])\n",
    "plt.title('Distibution of Position Type')\n",
    "plt.xticks(rotation = 45) # Rotates X-Axis Ticks by 45-degrees\n",
    "plt.xlabel('Position Type')\n",
    "plt.tight_layout()\n",
    "plt.show()"
   ]
  },
  {
   "cell_type": "markdown",
   "metadata": {},
   "source": [
    "Dari hasil visualisasi diatas, dapat di tarik informasi bahwa :\n",
    "- Dari hasil tipe pemain yang paling sering di rekrut adalah tipe **offense** dan pemain tipe **defense** yang direkrut menjadi NFL\n",
    "- Dari hasil Tipe posisi yang paling dominan di rekrut adalah **back_receivers** karena dalam permaian NFL di perlukan kemampuan pemain dalam melakukan operan dari belakang ke depan yang akan dikirimkan ke **WR**"
   ]
  },
  {
   "cell_type": "markdown",
   "metadata": {},
   "source": [
    "### 4.7 Apakah pemain yang direkrut dan yang tidak direkrut memiliki performa berbeda pada tes kinerja?"
   ]
  },
  {
   "cell_type": "code",
   "execution_count": 11,
   "metadata": {},
   "outputs": [
    {
     "data": {
      "text/html": [
       "<div>\n",
       "<style scoped>\n",
       "    .dataframe tbody tr th:only-of-type {\n",
       "        vertical-align: middle;\n",
       "    }\n",
       "\n",
       "    .dataframe tbody tr th {\n",
       "        vertical-align: top;\n",
       "    }\n",
       "\n",
       "    .dataframe thead th {\n",
       "        text-align: right;\n",
       "    }\n",
       "</style>\n",
       "<table border=\"1\" class=\"dataframe\">\n",
       "  <thead>\n",
       "    <tr style=\"text-align: right;\">\n",
       "      <th></th>\n",
       "      <th>count</th>\n",
       "      <th>mean</th>\n",
       "      <th>std</th>\n",
       "      <th>min</th>\n",
       "      <th>25%</th>\n",
       "      <th>50%</th>\n",
       "      <th>75%</th>\n",
       "      <th>max</th>\n",
       "    </tr>\n",
       "  </thead>\n",
       "  <tbody>\n",
       "    <tr>\n",
       "      <th>Year</th>\n",
       "      <td>1223.0</td>\n",
       "      <td>2013.944399</td>\n",
       "      <td>3.151159</td>\n",
       "      <td>2009.000000</td>\n",
       "      <td>2011.000000</td>\n",
       "      <td>2014.000000</td>\n",
       "      <td>2017.000000</td>\n",
       "      <td>2019.000000</td>\n",
       "    </tr>\n",
       "    <tr>\n",
       "      <th>Age</th>\n",
       "      <td>684.0</td>\n",
       "      <td>22.228070</td>\n",
       "      <td>0.929759</td>\n",
       "      <td>18.000000</td>\n",
       "      <td>22.000000</td>\n",
       "      <td>22.000000</td>\n",
       "      <td>23.000000</td>\n",
       "      <td>26.000000</td>\n",
       "    </tr>\n",
       "    <tr>\n",
       "      <th>Height</th>\n",
       "      <td>1223.0</td>\n",
       "      <td>1.868696</td>\n",
       "      <td>0.068013</td>\n",
       "      <td>1.676400</td>\n",
       "      <td>1.828800</td>\n",
       "      <td>1.879600</td>\n",
       "      <td>1.905000</td>\n",
       "      <td>2.082800</td>\n",
       "    </tr>\n",
       "    <tr>\n",
       "      <th>Weight</th>\n",
       "      <td>1223.0</td>\n",
       "      <td>107.639732</td>\n",
       "      <td>20.231034</td>\n",
       "      <td>67.585263</td>\n",
       "      <td>92.079251</td>\n",
       "      <td>101.151099</td>\n",
       "      <td>120.428774</td>\n",
       "      <td>167.375585</td>\n",
       "    </tr>\n",
       "    <tr>\n",
       "      <th>Sprint_40yd</th>\n",
       "      <td>1148.0</td>\n",
       "      <td>4.811080</td>\n",
       "      <td>0.298948</td>\n",
       "      <td>4.290000</td>\n",
       "      <td>4.580000</td>\n",
       "      <td>4.730000</td>\n",
       "      <td>4.990000</td>\n",
       "      <td>6.000000</td>\n",
       "    </tr>\n",
       "    <tr>\n",
       "      <th>Vertical_Jump</th>\n",
       "      <td>936.0</td>\n",
       "      <td>81.701976</td>\n",
       "      <td>10.641778</td>\n",
       "      <td>44.450000</td>\n",
       "      <td>74.930000</td>\n",
       "      <td>82.550000</td>\n",
       "      <td>88.900000</td>\n",
       "      <td>111.760000</td>\n",
       "    </tr>\n",
       "    <tr>\n",
       "      <th>Bench_Press_Reps</th>\n",
       "      <td>863.0</td>\n",
       "      <td>19.005794</td>\n",
       "      <td>6.146224</td>\n",
       "      <td>4.000000</td>\n",
       "      <td>15.000000</td>\n",
       "      <td>19.000000</td>\n",
       "      <td>23.000000</td>\n",
       "      <td>36.000000</td>\n",
       "    </tr>\n",
       "    <tr>\n",
       "      <th>Broad_Jump</th>\n",
       "      <td>926.0</td>\n",
       "      <td>287.886782</td>\n",
       "      <td>23.245629</td>\n",
       "      <td>198.120000</td>\n",
       "      <td>274.320000</td>\n",
       "      <td>292.100000</td>\n",
       "      <td>304.800000</td>\n",
       "      <td>358.140000</td>\n",
       "    </tr>\n",
       "    <tr>\n",
       "      <th>Agility_3cone</th>\n",
       "      <td>746.0</td>\n",
       "      <td>7.275697</td>\n",
       "      <td>0.434003</td>\n",
       "      <td>6.280000</td>\n",
       "      <td>6.970000</td>\n",
       "      <td>7.170000</td>\n",
       "      <td>7.517500</td>\n",
       "      <td>9.040000</td>\n",
       "    </tr>\n",
       "    <tr>\n",
       "      <th>Shuttle</th>\n",
       "      <td>779.0</td>\n",
       "      <td>4.434390</td>\n",
       "      <td>0.278861</td>\n",
       "      <td>3.900000</td>\n",
       "      <td>4.220000</td>\n",
       "      <td>4.370000</td>\n",
       "      <td>4.600000</td>\n",
       "      <td>5.560000</td>\n",
       "    </tr>\n",
       "    <tr>\n",
       "      <th>BMI</th>\n",
       "      <td>1223.0</td>\n",
       "      <td>30.659464</td>\n",
       "      <td>4.441830</td>\n",
       "      <td>21.609798</td>\n",
       "      <td>27.124598</td>\n",
       "      <td>29.557619</td>\n",
       "      <td>33.212092</td>\n",
       "      <td>43.142006</td>\n",
       "    </tr>\n",
       "  </tbody>\n",
       "</table>\n",
       "</div>"
      ],
      "text/plain": [
       "                   count         mean        std          min          25%  \\\n",
       "Year              1223.0  2013.944399   3.151159  2009.000000  2011.000000   \n",
       "Age                684.0    22.228070   0.929759    18.000000    22.000000   \n",
       "Height            1223.0     1.868696   0.068013     1.676400     1.828800   \n",
       "Weight            1223.0   107.639732  20.231034    67.585263    92.079251   \n",
       "Sprint_40yd       1148.0     4.811080   0.298948     4.290000     4.580000   \n",
       "Vertical_Jump      936.0    81.701976  10.641778    44.450000    74.930000   \n",
       "Bench_Press_Reps   863.0    19.005794   6.146224     4.000000    15.000000   \n",
       "Broad_Jump         926.0   287.886782  23.245629   198.120000   274.320000   \n",
       "Agility_3cone      746.0     7.275697   0.434003     6.280000     6.970000   \n",
       "Shuttle            779.0     4.434390   0.278861     3.900000     4.220000   \n",
       "BMI               1223.0    30.659464   4.441830    21.609798    27.124598   \n",
       "\n",
       "                          50%          75%          max  \n",
       "Year              2014.000000  2017.000000  2019.000000  \n",
       "Age                 22.000000    23.000000    26.000000  \n",
       "Height               1.879600     1.905000     2.082800  \n",
       "Weight             101.151099   120.428774   167.375585  \n",
       "Sprint_40yd          4.730000     4.990000     6.000000  \n",
       "Vertical_Jump       82.550000    88.900000   111.760000  \n",
       "Bench_Press_Reps    19.000000    23.000000    36.000000  \n",
       "Broad_Jump         292.100000   304.800000   358.140000  \n",
       "Agility_3cone        7.170000     7.517500     9.040000  \n",
       "Shuttle              4.370000     4.600000     5.560000  \n",
       "BMI                 29.557619    33.212092    43.142006  "
      ]
     },
     "execution_count": 11,
     "metadata": {},
     "output_type": "execute_result"
    }
   ],
   "source": [
    "# Melihat statistik deskriptif dari pemain yang tidak di rekrut\n",
    "data_copy[data_copy['Drafted'] == 'No'].describe().T"
   ]
  },
  {
   "cell_type": "code",
   "execution_count": 12,
   "metadata": {},
   "outputs": [
    {
     "data": {
      "text/html": [
       "<div>\n",
       "<style scoped>\n",
       "    .dataframe tbody tr th:only-of-type {\n",
       "        vertical-align: middle;\n",
       "    }\n",
       "\n",
       "    .dataframe tbody tr th {\n",
       "        vertical-align: top;\n",
       "    }\n",
       "\n",
       "    .dataframe thead th {\n",
       "        text-align: right;\n",
       "    }\n",
       "</style>\n",
       "<table border=\"1\" class=\"dataframe\">\n",
       "  <thead>\n",
       "    <tr style=\"text-align: right;\">\n",
       "      <th></th>\n",
       "      <th>count</th>\n",
       "      <th>mean</th>\n",
       "      <th>std</th>\n",
       "      <th>min</th>\n",
       "      <th>25%</th>\n",
       "      <th>50%</th>\n",
       "      <th>75%</th>\n",
       "      <th>max</th>\n",
       "    </tr>\n",
       "  </thead>\n",
       "  <tbody>\n",
       "    <tr>\n",
       "      <th>Year</th>\n",
       "      <td>2254.0</td>\n",
       "      <td>2013.758208</td>\n",
       "      <td>3.032537</td>\n",
       "      <td>2009.00000</td>\n",
       "      <td>2011.000000</td>\n",
       "      <td>2014.000000</td>\n",
       "      <td>2016.000000</td>\n",
       "      <td>2019.000000</td>\n",
       "    </tr>\n",
       "    <tr>\n",
       "      <th>Age</th>\n",
       "      <td>2243.0</td>\n",
       "      <td>21.908605</td>\n",
       "      <td>0.969256</td>\n",
       "      <td>19.00000</td>\n",
       "      <td>21.000000</td>\n",
       "      <td>22.000000</td>\n",
       "      <td>23.000000</td>\n",
       "      <td>28.000000</td>\n",
       "    </tr>\n",
       "    <tr>\n",
       "      <th>Height</th>\n",
       "      <td>2254.0</td>\n",
       "      <td>1.876828</td>\n",
       "      <td>0.067053</td>\n",
       "      <td>1.65100</td>\n",
       "      <td>1.828800</td>\n",
       "      <td>1.879600</td>\n",
       "      <td>1.930400</td>\n",
       "      <td>2.057400</td>\n",
       "    </tr>\n",
       "    <tr>\n",
       "      <th>Weight</th>\n",
       "      <td>2254.0</td>\n",
       "      <td>110.889449</td>\n",
       "      <td>20.533794</td>\n",
       "      <td>70.76041</td>\n",
       "      <td>93.440028</td>\n",
       "      <td>106.594207</td>\n",
       "      <td>129.727418</td>\n",
       "      <td>165.107623</td>\n",
       "    </tr>\n",
       "    <tr>\n",
       "      <th>Sprint_40yd</th>\n",
       "      <td>2155.0</td>\n",
       "      <td>4.746705</td>\n",
       "      <td>0.300497</td>\n",
       "      <td>4.22000</td>\n",
       "      <td>4.510000</td>\n",
       "      <td>4.660000</td>\n",
       "      <td>4.940000</td>\n",
       "      <td>5.850000</td>\n",
       "    </tr>\n",
       "    <tr>\n",
       "      <th>Vertical_Jump</th>\n",
       "      <td>1844.0</td>\n",
       "      <td>84.250450</td>\n",
       "      <td>10.597095</td>\n",
       "      <td>49.53000</td>\n",
       "      <td>77.470000</td>\n",
       "      <td>85.090000</td>\n",
       "      <td>91.440000</td>\n",
       "      <td>114.300000</td>\n",
       "    </tr>\n",
       "    <tr>\n",
       "      <th>Bench_Press_Reps</th>\n",
       "      <td>1709.0</td>\n",
       "      <td>20.864833</td>\n",
       "      <td>6.582203</td>\n",
       "      <td>2.00000</td>\n",
       "      <td>16.000000</td>\n",
       "      <td>21.000000</td>\n",
       "      <td>25.000000</td>\n",
       "      <td>49.000000</td>\n",
       "    </tr>\n",
       "    <tr>\n",
       "      <th>Broad_Jump</th>\n",
       "      <td>1823.0</td>\n",
       "      <td>293.530927</td>\n",
       "      <td>24.100702</td>\n",
       "      <td>208.28000</td>\n",
       "      <td>279.400000</td>\n",
       "      <td>297.180000</td>\n",
       "      <td>309.880000</td>\n",
       "      <td>373.380000</td>\n",
       "    </tr>\n",
       "    <tr>\n",
       "      <th>Agility_3cone</th>\n",
       "      <td>1514.0</td>\n",
       "      <td>7.218554</td>\n",
       "      <td>0.396786</td>\n",
       "      <td>6.44000</td>\n",
       "      <td>6.922500</td>\n",
       "      <td>7.120000</td>\n",
       "      <td>7.480000</td>\n",
       "      <td>8.420000</td>\n",
       "    </tr>\n",
       "    <tr>\n",
       "      <th>Shuttle</th>\n",
       "      <td>1558.0</td>\n",
       "      <td>4.388569</td>\n",
       "      <td>0.256867</td>\n",
       "      <td>3.81000</td>\n",
       "      <td>4.200000</td>\n",
       "      <td>4.340000</td>\n",
       "      <td>4.550000</td>\n",
       "      <td>5.380000</td>\n",
       "    </tr>\n",
       "    <tr>\n",
       "      <th>BMI</th>\n",
       "      <td>2254.0</td>\n",
       "      <td>31.299567</td>\n",
       "      <td>4.421061</td>\n",
       "      <td>22.38344</td>\n",
       "      <td>27.667090</td>\n",
       "      <td>30.350694</td>\n",
       "      <td>34.544890</td>\n",
       "      <td>44.680097</td>\n",
       "    </tr>\n",
       "  </tbody>\n",
       "</table>\n",
       "</div>"
      ],
      "text/plain": [
       "                   count         mean        std         min          25%  \\\n",
       "Year              2254.0  2013.758208   3.032537  2009.00000  2011.000000   \n",
       "Age               2243.0    21.908605   0.969256    19.00000    21.000000   \n",
       "Height            2254.0     1.876828   0.067053     1.65100     1.828800   \n",
       "Weight            2254.0   110.889449  20.533794    70.76041    93.440028   \n",
       "Sprint_40yd       2155.0     4.746705   0.300497     4.22000     4.510000   \n",
       "Vertical_Jump     1844.0    84.250450  10.597095    49.53000    77.470000   \n",
       "Bench_Press_Reps  1709.0    20.864833   6.582203     2.00000    16.000000   \n",
       "Broad_Jump        1823.0   293.530927  24.100702   208.28000   279.400000   \n",
       "Agility_3cone     1514.0     7.218554   0.396786     6.44000     6.922500   \n",
       "Shuttle           1558.0     4.388569   0.256867     3.81000     4.200000   \n",
       "BMI               2254.0    31.299567   4.421061    22.38344    27.667090   \n",
       "\n",
       "                          50%          75%          max  \n",
       "Year              2014.000000  2016.000000  2019.000000  \n",
       "Age                 22.000000    23.000000    28.000000  \n",
       "Height               1.879600     1.930400     2.057400  \n",
       "Weight             106.594207   129.727418   165.107623  \n",
       "Sprint_40yd          4.660000     4.940000     5.850000  \n",
       "Vertical_Jump       85.090000    91.440000   114.300000  \n",
       "Bench_Press_Reps    21.000000    25.000000    49.000000  \n",
       "Broad_Jump         297.180000   309.880000   373.380000  \n",
       "Agility_3cone        7.120000     7.480000     8.420000  \n",
       "Shuttle              4.340000     4.550000     5.380000  \n",
       "BMI                 30.350694    34.544890    44.680097  "
      ]
     },
     "execution_count": 12,
     "metadata": {},
     "output_type": "execute_result"
    }
   ],
   "source": [
    "# melihat statistik deskriptif dari pemain yang di rekrut\n",
    "data_copy[data_copy['Drafted'] == 'Yes'].describe().T"
   ]
  },
  {
   "cell_type": "markdown",
   "metadata": {},
   "source": [
    "Dari hasil statistik deskriptif diatas dapat dilihat bahwa tidak terlihat pebedaan secara signifikan antara pemain yang di rekrut dengan pemain yang tidak di rekrut menjadi NFL. Tetapi dilihat lebih detail lagi bahwa pemain NFL harus memiliki badan yang bagus dan memiliki kecepatan dalam membawa bola. Hal ini dapat dilihat bahwa :\n",
    "- dari informasi `Weight` terlihat bawha ada perbedaan dalam merekrut pemain berdasarkan berat badan. Pemain yang di rekrut memiliki rata-rata berat 110 kg dan yang tidak direkrut memiliki rata-rata berat 107 kg. \n",
    "- dari informasi `Sprint_40yd` terlihat bahwa ada perbedaan dalam merekrut pemain berdasarkan kecepatan dalam melakukan sprint dalam 40 yard.\n",
    "- dari informasi `Broad_Jump` terlihat juga ada perbedaan signifikan dalam merekrut pemain berdasarkan lompat jauh. ini mungkin berkorelasi dengan speed dalam berlari setiap pemain.\n",
    "\n",
    "Dapat kita simpulkan bahwa setiap pemain NFL yang direkrut harus memiliki postur tubuh yang bagus dan memiki kecepatan dalam melakukan penetrasi. Hal ini memang ciri khas permainan dalam NFL."
   ]
  },
  {
   "cell_type": "markdown",
   "metadata": {},
   "source": [
    "### 4.8 Mengecek Correlation matriks"
   ]
  },
  {
   "cell_type": "code",
   "execution_count": 13,
   "metadata": {},
   "outputs": [
    {
     "data": {
      "image/png": "[encoded data removed]",
      "text/plain": [
       "<Figure size 1080x720 with 2 Axes>"
      ]
     },
     "metadata": {
      "needs_background": "light"
     },
     "output_type": "display_data"
    }
   ],
   "source": [
    "# Melihat peta correlasi \n",
    "cmap = sns.diverging_palette(220, 10, as_cmap=True) # Generate a custom diverging colormap  \n",
    "corr = data_copy.corr()\n",
    "plt.figure(figsize=(15,10))\n",
    "sns.heatmap(corr, annot=True, vmin=-1, vmax=1, cmap=cmap)\n",
    "plt.title('Correlation map', fontsize=16)\n",
    "plt.show()"
   ]
  },
  {
   "cell_type": "markdown",
   "metadata": {},
   "source": [
    "Dari hasil korelasi heatmap diatas dapat dilihat bahwa :\n",
    "- Kita memiliki korelasi antara fitur dengan fitur sehingga kita memiliki Multikolinearitas yang tinggi. Dampaknya adalah adanya perubahan kecil pada data dari sampel ke sampel akan menyebabkan perubahan drastis pada nilai koefisien. Perubahan pada satu variabel dapat menyebabkan perubahan besar pada nilai koefisien regresi parsial variabel lainnya. \n",
    "- Untuk itu kita akan melakukan fitur selection nantinya untuk memilih fitur mana saja yang akan mempengaruhi dalam membuat model."
   ]
  },
  {
   "cell_type": "markdown",
   "metadata": {},
   "source": [
    "### Conclusion for EDA\n",
    "\n",
    "Dari hasil eksplorasi sederhada diatas dapat ditarik informasi :\n",
    "- Pemain yang direkrut memiliki presentase **64.83%** atau sebanyak 2254 pemain, dan pemain yang belum direkrut memiliki persentase **35.17%** atau sebanyak 1223 pemain. Sehingga bisa dibilang dataset ini *imbalance* dengan tingkatan **mild**.\n",
    "- Dari informasi pendidikan, jumlah pemain terbanyak yang direkrut menjadi NFL adalah dari akademi **Alabama**, **LSU** dan **Ohio St..** Mungkin saja program pendidikan football tersebut merupakan yang paling favorit untuk menjadi pemain NFL.\n",
    "- Dari informasi usia, usia yang sering dilakukan rekrut kisaran umur 20 tahun sampai 24 tahun. Untuk usia diatas 24 tahun sedikit kemungkinan akan direkrut sebagai pemain NFL.\n",
    "- Dari informasi pemain yang direkrut menjadi NFL posisi paling dominan adalah **Wide receiver (WR)**, **Cornerback (CB)**, dan **Running Back (RB)**. Karena posisi ini merupakan kunci dalam permainan NFL sehingga para tim memerlukan pemain yang bermain dalam posisi tersebut.\n",
    "- Dari informasi tipe pemain yang direkrut menjadi NFL adalah tipe pemain yang **Offensive** dan **Defensive**. Karena pada dasarnya permainan NFL bergantung pada pemain yang mampu melakukan penyerangan dengan baik dan bertahan dengan baik juga tentunya.\n",
    "- Dari informasi statistik berdasarkan tes peforma pemain, dapat dilihat bahwa tidak terlalu berdeda secara signifikan. Tetapi setelah dilihat lebih detail lagi bahwa, tipe bermain NFL adalah melakukan pertahan dengan baik dan melakukan penyerangan dengan baik juga tentunyaa, sehingga dalam melakukan pertahan dibutuhkan para pemain yang memiliki kondisi fisik yang bagus. Dan dalam melakukan penyerangan juga diperlukan kecepatan dalam membawa bola, sehingga diperlukan kecepatan berlari. Terlihat ada perbedaan di kolom **Weight**, **Sprint_40yd** dan **Vertical_jump**.\n",
    "\n"
   ]
  },
  {
   "cell_type": "markdown",
   "metadata": {},
   "source": [
    "# 5. Data Preprocessing"
   ]
  },
  {
   "cell_type": "markdown",
   "metadata": {},
   "source": [
    "### 5.1 Get Data Inference"
   ]
  },
  {
   "cell_type": "code",
   "execution_count": 70,
   "metadata": {},
   "outputs": [
    {
     "data": {
      "text/html": [
       "<div>\n",
       "<style scoped>\n",
       "    .dataframe tbody tr th:only-of-type {\n",
       "        vertical-align: middle;\n",
       "    }\n",
       "\n",
       "    .dataframe tbody tr th {\n",
       "        vertical-align: top;\n",
       "    }\n",
       "\n",
       "    .dataframe thead th {\n",
       "        text-align: right;\n",
       "    }\n",
       "</style>\n",
       "<table border=\"1\" class=\"dataframe\">\n",
       "  <thead>\n",
       "    <tr style=\"text-align: right;\">\n",
       "      <th></th>\n",
       "      <th>Year</th>\n",
       "      <th>Player</th>\n",
       "      <th>Age</th>\n",
       "      <th>School</th>\n",
       "      <th>Height</th>\n",
       "      <th>Weight</th>\n",
       "      <th>Sprint_40yd</th>\n",
       "      <th>Vertical_Jump</th>\n",
       "      <th>Bench_Press_Reps</th>\n",
       "      <th>Broad_Jump</th>\n",
       "      <th>Agility_3cone</th>\n",
       "      <th>Shuttle</th>\n",
       "      <th>Drafted..tm.rnd.yr.</th>\n",
       "      <th>BMI</th>\n",
       "      <th>Player_Type</th>\n",
       "      <th>Position_Type</th>\n",
       "      <th>Position</th>\n",
       "      <th>Drafted</th>\n",
       "    </tr>\n",
       "  </thead>\n",
       "  <tbody>\n",
       "    <tr>\n",
       "      <th>0</th>\n",
       "      <td>2013</td>\n",
       "      <td>Josh Boyd\\BoydJo00</td>\n",
       "      <td>23.0</td>\n",
       "      <td>Mississippi St.</td>\n",
       "      <td>1.9050</td>\n",
       "      <td>140.613635</td>\n",
       "      <td>5.14</td>\n",
       "      <td>67.31</td>\n",
       "      <td>32.0</td>\n",
       "      <td>264.16</td>\n",
       "      <td>7.16</td>\n",
       "      <td>4.64</td>\n",
       "      <td>Green Bay Packers / 5th / 167th pick / 2013</td>\n",
       "      <td>38.746946</td>\n",
       "      <td>defense</td>\n",
       "      <td>defensive_lineman</td>\n",
       "      <td>DT</td>\n",
       "      <td>Yes</td>\n",
       "    </tr>\n",
       "    <tr>\n",
       "      <th>1</th>\n",
       "      <td>2009</td>\n",
       "      <td>Clint Sintim\\SintCl99</td>\n",
       "      <td>23.0</td>\n",
       "      <td>Virginia</td>\n",
       "      <td>1.9050</td>\n",
       "      <td>116.119647</td>\n",
       "      <td>4.75</td>\n",
       "      <td>87.63</td>\n",
       "      <td>NaN</td>\n",
       "      <td>302.26</td>\n",
       "      <td>7.37</td>\n",
       "      <td>4.40</td>\n",
       "      <td>New York Giants / 2nd / 45th pick / 2009</td>\n",
       "      <td>31.997478</td>\n",
       "      <td>defense</td>\n",
       "      <td>line_backer</td>\n",
       "      <td>OLB</td>\n",
       "      <td>Yes</td>\n",
       "    </tr>\n",
       "    <tr>\n",
       "      <th>2</th>\n",
       "      <td>2017</td>\n",
       "      <td>T.J. Watt\\WattT.00</td>\n",
       "      <td>22.0</td>\n",
       "      <td>Wisconsin</td>\n",
       "      <td>1.9304</td>\n",
       "      <td>114.305277</td>\n",
       "      <td>4.69</td>\n",
       "      <td>93.98</td>\n",
       "      <td>21.0</td>\n",
       "      <td>325.12</td>\n",
       "      <td>6.79</td>\n",
       "      <td>4.13</td>\n",
       "      <td>Pittsburgh Steelers / 1st / 30th pick / 2017</td>\n",
       "      <td>30.674088</td>\n",
       "      <td>defense</td>\n",
       "      <td>line_backer</td>\n",
       "      <td>OLB</td>\n",
       "      <td>Yes</td>\n",
       "    </tr>\n",
       "    <tr>\n",
       "      <th>3</th>\n",
       "      <td>2014</td>\n",
       "      <td>Pierre Desir\\DesiPi00</td>\n",
       "      <td>23.0</td>\n",
       "      <td>Lindenwood</td>\n",
       "      <td>1.8542</td>\n",
       "      <td>89.811289</td>\n",
       "      <td>4.59</td>\n",
       "      <td>88.90</td>\n",
       "      <td>11.0</td>\n",
       "      <td>337.82</td>\n",
       "      <td>6.86</td>\n",
       "      <td>4.30</td>\n",
       "      <td>Cleveland Browns / 4th / 127th pick / 2014</td>\n",
       "      <td>26.122683</td>\n",
       "      <td>defense</td>\n",
       "      <td>defensive_back</td>\n",
       "      <td>CB</td>\n",
       "      <td>Yes</td>\n",
       "    </tr>\n",
       "    <tr>\n",
       "      <th>4</th>\n",
       "      <td>2019</td>\n",
       "      <td>Keenen Brown\\BrowKe03</td>\n",
       "      <td>23.0</td>\n",
       "      <td>Texas St.</td>\n",
       "      <td>1.8796</td>\n",
       "      <td>113.398093</td>\n",
       "      <td>4.75</td>\n",
       "      <td>83.82</td>\n",
       "      <td>17.0</td>\n",
       "      <td>297.18</td>\n",
       "      <td>7.27</td>\n",
       "      <td>4.51</td>\n",
       "      <td>NaN</td>\n",
       "      <td>32.097771</td>\n",
       "      <td>offense</td>\n",
       "      <td>backs_receivers</td>\n",
       "      <td>TE</td>\n",
       "      <td>No</td>\n",
       "    </tr>\n",
       "  </tbody>\n",
       "</table>\n",
       "</div>"
      ],
      "text/plain": [
       "   Year                 Player   Age           School  Height      Weight  \\\n",
       "0  2013     Josh Boyd\\BoydJo00  23.0  Mississippi St.  1.9050  140.613635   \n",
       "1  2009  Clint Sintim\\SintCl99  23.0         Virginia  1.9050  116.119647   \n",
       "2  2017     T.J. Watt\\WattT.00  22.0        Wisconsin  1.9304  114.305277   \n",
       "3  2014  Pierre Desir\\DesiPi00  23.0       Lindenwood  1.8542   89.811289   \n",
       "4  2019  Keenen Brown\\BrowKe03  23.0        Texas St.  1.8796  113.398093   \n",
       "\n",
       "   Sprint_40yd  Vertical_Jump  Bench_Press_Reps  Broad_Jump  Agility_3cone  \\\n",
       "0         5.14          67.31              32.0      264.16           7.16   \n",
       "1         4.75          87.63               NaN      302.26           7.37   \n",
       "2         4.69          93.98              21.0      325.12           6.79   \n",
       "3         4.59          88.90              11.0      337.82           6.86   \n",
       "4         4.75          83.82              17.0      297.18           7.27   \n",
       "\n",
       "   Shuttle                           Drafted..tm.rnd.yr.        BMI  \\\n",
       "0     4.64   Green Bay Packers / 5th / 167th pick / 2013  38.746946   \n",
       "1     4.40      New York Giants / 2nd / 45th pick / 2009  31.997478   \n",
       "2     4.13  Pittsburgh Steelers / 1st / 30th pick / 2017  30.674088   \n",
       "3     4.30    Cleveland Browns / 4th / 127th pick / 2014  26.122683   \n",
       "4     4.51                                           NaN  32.097771   \n",
       "\n",
       "  Player_Type      Position_Type Position Drafted  \n",
       "0     defense  defensive_lineman       DT     Yes  \n",
       "1     defense        line_backer      OLB     Yes  \n",
       "2     defense        line_backer      OLB     Yes  \n",
       "3     defense     defensive_back       CB     Yes  \n",
       "4     offense    backs_receivers       TE      No  "
      ]
     },
     "execution_count": 70,
     "metadata": {},
     "output_type": "execute_result"
    }
   ],
   "source": [
    "# mengambil 50 data secara random untuk data inference\n",
    "data_inf = data_copy.sample(50, random_state=8)\n",
    "\n",
    "# menghapus data inference dari dataframe \n",
    "data_copy = data_copy.drop(data_inf.index)\n",
    "\n",
    "# Reset Index\n",
    "data_copy.reset_index(drop=True, inplace=True)\n",
    "data_inf.reset_index(drop=True, inplace=True)\n",
    "\n",
    "# Display data_inf\n",
    "data_inf.head()"
   ]
  },
  {
   "cell_type": "markdown",
   "metadata": {},
   "source": [
    "### 5.2 Spliting Dataset"
   ]
  },
  {
   "cell_type": "code",
   "execution_count": 15,
   "metadata": {},
   "outputs": [
    {
     "name": "stdout",
     "output_type": "stream",
     "text": [
      "---- Train - Set ----\n",
      "Dimensi dari X_train : (2741, 17)\n",
      "Dimensi dari y_train : (2741,)\n",
      "\n",
      "---- Test - Set ----\n",
      "Dimensi dari X_test : (686, 17)\n",
      "Dimensi dari y_test : (686,)\n"
     ]
    }
   ],
   "source": [
    "# define 'X' and 'y'\n",
    "X = data_copy.drop(['Drafted'], axis=1)\n",
    "y = data_copy['Drafted']\n",
    "\n",
    "# Splitting Dataset\n",
    "X_train, X_test, y_train, y_test = train_test_split(X,y, test_size=0.2, random_state=42, stratify=y)\n",
    "\n",
    "# Cek dimensi Train dan Test\n",
    "print('---- Train - Set ----')\n",
    "print('Dimensi dari X_train :', X_train.shape)\n",
    "print('Dimensi dari y_train :', y_train.shape)\n",
    "print('')\n",
    "print('---- Test - Set ----')\n",
    "print('Dimensi dari X_test :', X_test.shape)\n",
    "print('Dimensi dari y_test :', y_test.shape)"
   ]
  },
  {
   "cell_type": "markdown",
   "metadata": {},
   "source": [
    "Setelah kita melakukan splitting dataset menjadi data Train-set dan Test-set. Selanjutnya kita akan melakukan tahap **feature engineereing**"
   ]
  },
  {
   "cell_type": "markdown",
   "metadata": {},
   "source": [
    "### 5.3 Feature Engineering\n",
    "\n",
    "Di dalam feature engineering ini kita akan melakukan handling **outlier** dan melakukan handling **missing value**. Walpun ada beberapa algoritma yang digunkan tidak sensitive terhadap **outlier** tetapi tidak masalah kita akan melakukan handling saja."
   ]
  },
  {
   "cell_type": "markdown",
   "metadata": {},
   "source": [
    "#### 5.3.1 Handling Outlier"
   ]
  },
  {
   "cell_type": "markdown",
   "metadata": {},
   "source": [
    "Selanjutnya kita akan melakukan handling outlier terhadap beberapa fitur.\n",
    "\n",
    "Sebelum melakukan handling outlier, kita akan mengecek distribusi dataset nya, dan mengecek nilai dari skewness nya. Untuk menentukan metode yang tepat untuk meakukan handling outlier.\n",
    "\n"
   ]
  },
  {
   "cell_type": "code",
   "execution_count": 16,
   "metadata": {},
   "outputs": [],
   "source": [
    "# Create function for create histogram and boxplot\n",
    "def diagnostic_plots(df, variable):\n",
    "    # Define figure size\n",
    "    plt.figure(figsize=(16,4))\n",
    "    \n",
    "    # Create Histogram\n",
    "    plt.subplot(1,2,1)\n",
    "    sns.histplot(df[variable], bins=30, color='#49c726')\n",
    "    plt.title(\"Distribution of Histogram\")\n",
    "    \n",
    "    # Create Boxplot\n",
    "    plt.subplot(1,2,2)\n",
    "    sns.boxplot(df[variable], color='#fca103')\n",
    "    plt.title(\"Distibution of Boxplot\")\n",
    "    plt.show()"
   ]
  },
  {
   "cell_type": "code",
   "execution_count": 17,
   "metadata": {
    "scrolled": false
   },
   "outputs": [
    {
     "name": "stdout",
     "output_type": "stream",
     "text": [
      "Tampilan sebelum di handling outliers\n"
     ]
    },
    {
     "data": {
      "image/png": "[encoded data removed]",
      "text/plain": [
       "<Figure size 1152x288 with 2 Axes>"
      ]
     },
     "metadata": {
      "needs_background": "light"
     },
     "output_type": "display_data"
    },
    {
     "name": "stdout",
     "output_type": "stream",
     "text": [
      "Skewness value 0.03959306288191746\n"
     ]
    },
    {
     "data": {
      "image/png": "[encoded data removed]",
      "text/plain": [
       "<Figure size 1152x288 with 2 Axes>"
      ]
     },
     "metadata": {
      "needs_background": "light"
     },
     "output_type": "display_data"
    },
    {
     "name": "stdout",
     "output_type": "stream",
     "text": [
      "Skewness value 0.2961958922355677\n"
     ]
    },
    {
     "data": {
      "image/png": "[encoded data removed]",
      "text/plain": [
       "<Figure size 1152x288 with 2 Axes>"
      ]
     },
     "metadata": {
      "needs_background": "light"
     },
     "output_type": "display_data"
    },
    {
     "name": "stdout",
     "output_type": "stream",
     "text": [
      "Skewness value -0.16621717876465117\n"
     ]
    },
    {
     "data": {
      "image/png": "[encoded data removed]",
      "text/plain": [
       "<Figure size 1152x288 with 2 Axes>"
      ]
     },
     "metadata": {
      "needs_background": "light"
     },
     "output_type": "display_data"
    },
    {
     "name": "stdout",
     "output_type": "stream",
     "text": [
      "Skewness value 0.5629817115799338\n"
     ]
    },
    {
     "data": {
      "image/png": "[encoded data removed]",
      "text/plain": [
       "<Figure size 1152x288 with 2 Axes>"
      ]
     },
     "metadata": {
      "needs_background": "light"
     },
     "output_type": "display_data"
    },
    {
     "name": "stdout",
     "output_type": "stream",
     "text": [
      "Skewness value 0.7879336812513117\n"
     ]
    },
    {
     "data": {
      "image/png": "[encoded data removed]",
      "text/plain": [
       "<Figure size 1152x288 with 2 Axes>"
      ]
     },
     "metadata": {
      "needs_background": "light"
     },
     "output_type": "display_data"
    },
    {
     "name": "stdout",
     "output_type": "stream",
     "text": [
      "Skewness value -0.23040383225357455\n"
     ]
    },
    {
     "data": {
      "image/png": "[encoded data removed]",
      "text/plain": [
       "<Figure size 1152x288 with 2 Axes>"
      ]
     },
     "metadata": {
      "needs_background": "light"
     },
     "output_type": "display_data"
    },
    {
     "name": "stdout",
     "output_type": "stream",
     "text": [
      "Skewness value 0.2604785864081489\n"
     ]
    },
    {
     "data": {
      "image/png": "[encoded data removed]",
      "text/plain": [
       "<Figure size 1152x288 with 2 Axes>"
      ]
     },
     "metadata": {
      "needs_background": "light"
     },
     "output_type": "display_data"
    },
    {
     "name": "stdout",
     "output_type": "stream",
     "text": [
      "Skewness value -0.48507956270336455\n"
     ]
    },
    {
     "data": {
      "image/png": "[encoded data removed]",
      "text/plain": [
       "<Figure size 1152x288 with 2 Axes>"
      ]
     },
     "metadata": {
      "needs_background": "light"
     },
     "output_type": "display_data"
    },
    {
     "name": "stdout",
     "output_type": "stream",
     "text": [
      "Skewness value 0.7915475266501273\n"
     ]
    },
    {
     "data": {
      "image/png": "[encoded data removed]",
      "text/plain": [
       "<Figure size 1152x288 with 2 Axes>"
      ]
     },
     "metadata": {
      "needs_background": "light"
     },
     "output_type": "display_data"
    },
    {
     "name": "stdout",
     "output_type": "stream",
     "text": [
      "Skewness value 0.7133482298539878\n"
     ]
    },
    {
     "data": {
      "image/png": "[encoded data removed]",
      "text/plain": [
       "<Figure size 1152x288 with 2 Axes>"
      ]
     },
     "metadata": {
      "needs_background": "light"
     },
     "output_type": "display_data"
    },
    {
     "name": "stdout",
     "output_type": "stream",
     "text": [
      "Skewness value 0.6669223815385894\n"
     ]
    }
   ],
   "source": [
    "print(\"Tampilan sebelum di handling outliers\")\n",
    "for cols in X_train.describe().columns:\n",
    "    diagnostic_plots(X_train, cols)\n",
    "    print(f\"Skewness value {X_train[cols].skew()}\")"
   ]
  },
  {
   "cell_type": "markdown",
   "metadata": {},
   "source": [
    "Setelah melihat hasil distribusi dari **X_train**, selanjutnya kita akan melihat nilai skewnes dan melihat apa yang harus kita lakukan terhadap outlier tersebut."
   ]
  },
  {
   "cell_type": "code",
   "execution_count": 18,
   "metadata": {},
   "outputs": [],
   "source": [
    "## Create function for distibution normal\n",
    "\n",
    "def find_normal_distribution(df, variables):\n",
    "    upper_boundary = df[variables].mean() + 3 * df[variables].std()\n",
    "    lower_boundary = df[variables].mean() - 3 * df[variables].std()\n",
    "    \n",
    "    return upper_boundary, lower_boundary\n",
    "\n",
    "\n",
    "## Create function for skew distribution\n",
    "def find_skew_distribution(df, variable):\n",
    "    IQR = df[variable].quantile(0.75) - df[variable].quantile(0.25)\n",
    "\n",
    "    lower_boundary = df[variable].quantile(0.25) - (IQR * 1.5)\n",
    "    upper_boundary = df[variable].quantile(0.75) + (IQR * 1.5)\n",
    "\n",
    "    return upper_boundary, lower_boundary"
   ]
  },
  {
   "cell_type": "code",
   "execution_count": 19,
   "metadata": {},
   "outputs": [
    {
     "data": {
      "text/html": [
       "<div>\n",
       "<style scoped>\n",
       "    .dataframe tbody tr th:only-of-type {\n",
       "        vertical-align: middle;\n",
       "    }\n",
       "\n",
       "    .dataframe tbody tr th {\n",
       "        vertical-align: top;\n",
       "    }\n",
       "\n",
       "    .dataframe thead th {\n",
       "        text-align: right;\n",
       "    }\n",
       "</style>\n",
       "<table border=\"1\" class=\"dataframe\">\n",
       "  <thead>\n",
       "    <tr style=\"text-align: right;\">\n",
       "      <th></th>\n",
       "      <th>columns</th>\n",
       "      <th>nilai_skewness</th>\n",
       "      <th>detect</th>\n",
       "      <th>percentage_outlier</th>\n",
       "      <th>action</th>\n",
       "    </tr>\n",
       "  </thead>\n",
       "  <tbody>\n",
       "    <tr>\n",
       "      <th>0</th>\n",
       "      <td>Year</td>\n",
       "      <td>0.025916</td>\n",
       "      <td>normal</td>\n",
       "      <td>0.000000</td>\n",
       "      <td>No Action</td>\n",
       "    </tr>\n",
       "    <tr>\n",
       "      <th>1</th>\n",
       "      <td>Age</td>\n",
       "      <td>0.277844</td>\n",
       "      <td>normal</td>\n",
       "      <td>0.693178</td>\n",
       "      <td>Trimming</td>\n",
       "    </tr>\n",
       "    <tr>\n",
       "      <th>2</th>\n",
       "      <td>Height</td>\n",
       "      <td>-0.142983</td>\n",
       "      <td>normal</td>\n",
       "      <td>0.072966</td>\n",
       "      <td>Trimming</td>\n",
       "    </tr>\n",
       "    <tr>\n",
       "      <th>3</th>\n",
       "      <td>Weight</td>\n",
       "      <td>0.560395</td>\n",
       "      <td>skewed</td>\n",
       "      <td>0.000000</td>\n",
       "      <td>No Action</td>\n",
       "    </tr>\n",
       "    <tr>\n",
       "      <th>4</th>\n",
       "      <td>Sprint_40yd</td>\n",
       "      <td>0.780754</td>\n",
       "      <td>skewed</td>\n",
       "      <td>0.437796</td>\n",
       "      <td>Trimming</td>\n",
       "    </tr>\n",
       "    <tr>\n",
       "      <th>5</th>\n",
       "      <td>Vertical_Jump</td>\n",
       "      <td>-0.236693</td>\n",
       "      <td>normal</td>\n",
       "      <td>0.109449</td>\n",
       "      <td>Trimming</td>\n",
       "    </tr>\n",
       "    <tr>\n",
       "      <th>6</th>\n",
       "      <td>Bench_Press_Reps</td>\n",
       "      <td>0.306593</td>\n",
       "      <td>normal</td>\n",
       "      <td>0.218898</td>\n",
       "      <td>Trimming</td>\n",
       "    </tr>\n",
       "    <tr>\n",
       "      <th>7</th>\n",
       "      <td>Broad_Jump</td>\n",
       "      <td>-0.483818</td>\n",
       "      <td>normal</td>\n",
       "      <td>0.291864</td>\n",
       "      <td>Trimming</td>\n",
       "    </tr>\n",
       "    <tr>\n",
       "      <th>8</th>\n",
       "      <td>Agility_3cone</td>\n",
       "      <td>0.780109</td>\n",
       "      <td>skewed</td>\n",
       "      <td>0.583729</td>\n",
       "      <td>Trimming</td>\n",
       "    </tr>\n",
       "    <tr>\n",
       "      <th>9</th>\n",
       "      <td>Shuttle</td>\n",
       "      <td>0.695656</td>\n",
       "      <td>skewed</td>\n",
       "      <td>0.656695</td>\n",
       "      <td>Trimming</td>\n",
       "    </tr>\n",
       "    <tr>\n",
       "      <th>10</th>\n",
       "      <td>BMI</td>\n",
       "      <td>0.650023</td>\n",
       "      <td>skewed</td>\n",
       "      <td>0.218898</td>\n",
       "      <td>Trimming</td>\n",
       "    </tr>\n",
       "  </tbody>\n",
       "</table>\n",
       "</div>"
      ],
      "text/plain": [
       "             columns  nilai_skewness  detect  percentage_outlier     action\n",
       "0               Year        0.025916  normal            0.000000  No Action\n",
       "1                Age        0.277844  normal            0.693178   Trimming\n",
       "2             Height       -0.142983  normal            0.072966   Trimming\n",
       "3             Weight        0.560395  skewed            0.000000  No Action\n",
       "4        Sprint_40yd        0.780754  skewed            0.437796   Trimming\n",
       "5      Vertical_Jump       -0.236693  normal            0.109449   Trimming\n",
       "6   Bench_Press_Reps        0.306593  normal            0.218898   Trimming\n",
       "7         Broad_Jump       -0.483818  normal            0.291864   Trimming\n",
       "8      Agility_3cone        0.780109  skewed            0.583729   Trimming\n",
       "9            Shuttle        0.695656  skewed            0.656695   Trimming\n",
       "10               BMI        0.650023  skewed            0.218898   Trimming"
      ]
     },
     "execution_count": 19,
     "metadata": {},
     "output_type": "execute_result"
    }
   ],
   "source": [
    "# Melakukan pengecekan nilai skewness dan memeberikan label outlier\n",
    "proses_outlier = pd.DataFrame({'columns': X_train.describe().columns, \n",
    "                               'nilai_skewness': data_copy.skew(axis=0)})\n",
    "proses_outlier.reset_index(drop=True, inplace=True)\n",
    "\n",
    "proses_outlier['detect'] = np.where(proses_outlier['nilai_skewness'].abs()>0.5, \n",
    "                                   'skewed', 'normal')\n",
    "\n",
    "## Membuat fungsi untuk mencari percentage outlier\n",
    "outliers = {'percentage_outlier': []}\n",
    "for row in proses_outlier.index.tolist():\n",
    "    col = proses_outlier.iloc[row]['columns']\n",
    "    dist = proses_outlier.iloc[row]['detect']\n",
    "    if dist == 'normal':\n",
    "        upper_boundary, lower_boundary = find_normal_distribution(X_train, col)\n",
    "    else:\n",
    "        upper_boundary, lower_boundary = find_skew_distribution(X_train, col)\n",
    "        \n",
    "    total_right_tail = len(X_train[X_train[col] > upper_boundary])\n",
    "    total_left_tail = len(X_train[X_train[col] < lower_boundary])\n",
    "    total_right_tail_percent = total_right_tail/len(X_train)*100\n",
    "    total_left_tail_percent = total_left_tail/len(X_train)*100\n",
    "    total_outlier_percent =total_left_tail_percent + total_right_tail_percent\n",
    "    \n",
    "    outliers['percentage_outlier'].append(total_outlier_percent)\n",
    "    \n",
    "outliers = pd.DataFrame(outliers) # Memasukkan variabel outlier kedalam dataframe\n",
    "# Melakukan penggabungan\n",
    "X_train_outlier = pd.concat([proses_outlier, outliers], axis=1)\n",
    "X_train_outlier['action'] = np.where(X_train_outlier['percentage_outlier']==0, 'No Action',\n",
    "                                    np.where(X_train_outlier['percentage_outlier']>5, 'Capping','Trimming'))\n",
    "X_train_outlier"
   ]
  },
  {
   "cell_type": "markdown",
   "metadata": {},
   "source": [
    "Setleh kita mengecek dan memberikan label terhadap fitur yang memiliki skewnes tentu kita akan melakukan handling dengan 3 metode :\n",
    "1. **TRIMMING** = Jika outlier < 5%\n",
    "2. **CAPPING** = Jika outlier direntang 5-15%\n",
    "3. **KEEP** = Jika outlier >15%, kita tidak akan melakukan handling melainkan akan kita biarkan saja."
   ]
  },
  {
   "cell_type": "code",
   "execution_count": 20,
   "metadata": {},
   "outputs": [
    {
     "name": "stdout",
     "output_type": "stream",
     "text": [
      "Before trimming (2741, 17)\n",
      "After trimming (2666, 17)\n"
     ]
    }
   ],
   "source": [
    "# Method Trimming\n",
    "from feature_engine.outliers import OutlierTrimmer\n",
    "\n",
    "print(f\"Before trimming {X_train.shape}\")\n",
    "\n",
    "# Berhubung ditribusi datanya cenderung normal kita akan menggunakan 3*STD\n",
    "trim_normal = OutlierTrimmer(capping_method='gaussian',\n",
    "                     tail='both', fold=3,\n",
    "                     variables=['Age','Height','Vertical_Jump', 'Bench_Press_Reps', 'Broad_Jump'],\n",
    "                     missing_values='ignore')\n",
    "# Fit Trim\n",
    "X_train_a = trim_normal.fit_transform(X_train)\n",
    "\n",
    "# Apabila distribusi datanya skew kita akan menggunakan 1.5 IQR\n",
    "trim_skew = OutlierTrimmer(capping_method='iqr',\n",
    "                          tail='both', fold=1.5,\n",
    "                          variables=['Sprint_40yd', 'Agility_3cone', 'Shuttle', 'BMI'],\n",
    "                          missing_values='ignore')\n",
    "# Fit Trim\n",
    "X_train_handled = trim_skew.fit_transform(X_train_a)\n",
    "\n",
    "print(f\"After trimming {X_train_handled.shape}\")"
   ]
  },
  {
   "cell_type": "code",
   "execution_count": 21,
   "metadata": {},
   "outputs": [
    {
     "name": "stdout",
     "output_type": "stream",
     "text": [
      "MELIHAT DIMENSI TRAIN SET\n",
      "------------------------------\n",
      "X_train dimensi : (2666, 17)\n",
      "y_train dimensi : (2666,)\n"
     ]
    }
   ],
   "source": [
    "## Melakukan penyamaan dimensi pada y_train\n",
    "y_train_handled = y_train.drop(y_train.index.difference(X_train_handled.index))\n",
    "print(\"MELIHAT DIMENSI TRAIN SET\")\n",
    "print('-'*30)\n",
    "print(f\"X_train dimensi : {X_train_handled.shape}\")\n",
    "print(f\"y_train dimensi : {y_train_handled.shape}\")"
   ]
  },
  {
   "cell_type": "markdown",
   "metadata": {},
   "source": [
    "Setelah kita melakukan handling outlier pada data **X_train**, selanjut nya kita akan mengecek distribusinya setelah dilakukan handling outlier."
   ]
  },
  {
   "cell_type": "code",
   "execution_count": 22,
   "metadata": {
    "scrolled": false
   },
   "outputs": [
    {
     "name": "stdout",
     "output_type": "stream",
     "text": [
      "Tampilan setelah di lakukan handling outliers\n"
     ]
    },
    {
     "data": {
      "image/png": "[encoded data removed]",
      "text/plain": [
       "<Figure size 1152x288 with 2 Axes>"
      ]
     },
     "metadata": {
      "needs_background": "light"
     },
     "output_type": "display_data"
    },
    {
     "name": "stdout",
     "output_type": "stream",
     "text": [
      "Skewness value 0.03378702121539068\n"
     ]
    },
    {
     "data": {
      "image/png": "[encoded data removed]",
      "text/plain": [
       "<Figure size 1152x288 with 2 Axes>"
      ]
     },
     "metadata": {
      "needs_background": "light"
     },
     "output_type": "display_data"
    },
    {
     "name": "stdout",
     "output_type": "stream",
     "text": [
      "Skewness value -0.051124500386016444\n"
     ]
    },
    {
     "data": {
      "image/png": "[encoded data removed]",
      "text/plain": [
       "<Figure size 1152x288 with 2 Axes>"
      ]
     },
     "metadata": {
      "needs_background": "light"
     },
     "output_type": "display_data"
    },
    {
     "name": "stdout",
     "output_type": "stream",
     "text": [
      "Skewness value -0.16868735864150705\n"
     ]
    },
    {
     "data": {
      "image/png": "[encoded data removed]",
      "text/plain": [
       "<Figure size 1152x288 with 2 Axes>"
      ]
     },
     "metadata": {
      "needs_background": "light"
     },
     "output_type": "display_data"
    },
    {
     "name": "stdout",
     "output_type": "stream",
     "text": [
      "Skewness value 0.592880072419854\n"
     ]
    },
    {
     "data": {
      "image/png": "[encoded data removed]",
      "text/plain": [
       "<Figure size 1152x288 with 2 Axes>"
      ]
     },
     "metadata": {
      "needs_background": "light"
     },
     "output_type": "display_data"
    },
    {
     "name": "stdout",
     "output_type": "stream",
     "text": [
      "Skewness value 0.7526899889383623\n"
     ]
    },
    {
     "data": {
      "image/png": "[encoded data removed]",
      "text/plain": [
       "<Figure size 1152x288 with 2 Axes>"
      ]
     },
     "metadata": {
      "needs_background": "light"
     },
     "output_type": "display_data"
    },
    {
     "name": "stdout",
     "output_type": "stream",
     "text": [
      "Skewness value -0.1938699589401427\n"
     ]
    },
    {
     "data": {
      "image/png": "[encoded data removed]",
      "text/plain": [
       "<Figure size 1152x288 with 2 Axes>"
      ]
     },
     "metadata": {
      "needs_background": "light"
     },
     "output_type": "display_data"
    },
    {
     "name": "stdout",
     "output_type": "stream",
     "text": [
      "Skewness value 0.1663451092990582\n"
     ]
    },
    {
     "data": {
      "image/png": "[encoded data removed]",
      "text/plain": [
       "<Figure size 1152x288 with 2 Axes>"
      ]
     },
     "metadata": {
      "needs_background": "light"
     },
     "output_type": "display_data"
    },
    {
     "name": "stdout",
     "output_type": "stream",
     "text": [
      "Skewness value -0.4118558987241599\n"
     ]
    },
    {
     "data": {
      "image/png": "[encoded data removed]",
      "text/plain": [
       "<Figure size 1152x288 with 2 Axes>"
      ]
     },
     "metadata": {
      "needs_background": "light"
     },
     "output_type": "display_data"
    },
    {
     "name": "stdout",
     "output_type": "stream",
     "text": [
      "Skewness value 0.6962453254509178\n"
     ]
    },
    {
     "data": {
      "image/png": "[encoded data removed]",
      "text/plain": [
       "<Figure size 1152x288 with 2 Axes>"
      ]
     },
     "metadata": {
      "needs_background": "light"
     },
     "output_type": "display_data"
    },
    {
     "name": "stdout",
     "output_type": "stream",
     "text": [
      "Skewness value 0.5658508009844646\n"
     ]
    },
    {
     "data": {
      "image/png": "[encoded data removed]",
      "text/plain": [
       "<Figure size 1152x288 with 2 Axes>"
      ]
     },
     "metadata": {
      "needs_background": "light"
     },
     "output_type": "display_data"
    },
    {
     "name": "stdout",
     "output_type": "stream",
     "text": [
      "Skewness value 0.6679131793781593\n"
     ]
    }
   ],
   "source": [
    "print(\"Tampilan setelah di lakukan handling outliers\")\n",
    "for cols in X_train_handled.describe().columns:\n",
    "    diagnostic_plots(X_train_handled, cols)\n",
    "    print(f\"Skewness value {X_train_handled[cols].skew()}\")"
   ]
  },
  {
   "cell_type": "markdown",
   "metadata": {},
   "source": [
    "Oke, sepertinya dalam proses trimming terlihat ada sekit pengurangan data akibat, data di trim(dihapus) untuk outliernya saja. Dan terlihat juga memang dari visualisasi boxplot tidak terlihat bersih begitu ya dalam penanganan outlier menggunakan trimming. Tetapi tidak masalah, kita akan melanjutkan ke tahapan berikutnya.. "
   ]
  },
  {
   "cell_type": "markdown",
   "metadata": {},
   "source": [
    "#### 5.3.2 Handling Missing Values\n",
    "\n",
    "Di dalam handling missing values ini, akan melihat informasi berapa proporsi data yang hilang sehingga kita akan melakukan metode handling yang tepat untuk melakukan hanling missing values ini."
   ]
  },
  {
   "cell_type": "code",
   "execution_count": 23,
   "metadata": {},
   "outputs": [
    {
     "data": {
      "text/html": [
       "<div>\n",
       "<style scoped>\n",
       "    .dataframe tbody tr th:only-of-type {\n",
       "        vertical-align: middle;\n",
       "    }\n",
       "\n",
       "    .dataframe tbody tr th {\n",
       "        vertical-align: top;\n",
       "    }\n",
       "\n",
       "    .dataframe thead th {\n",
       "        text-align: right;\n",
       "    }\n",
       "</style>\n",
       "<table border=\"1\" class=\"dataframe\">\n",
       "  <thead>\n",
       "    <tr style=\"text-align: right;\">\n",
       "      <th></th>\n",
       "      <th>Percentage Missing Value in X_train</th>\n",
       "    </tr>\n",
       "  </thead>\n",
       "  <tbody>\n",
       "    <tr>\n",
       "      <th>Agility_3cone</th>\n",
       "      <td>35.033758</td>\n",
       "    </tr>\n",
       "    <tr>\n",
       "      <th>Drafted..tm.rnd.yr.</th>\n",
       "      <td>34.808702</td>\n",
       "    </tr>\n",
       "    <tr>\n",
       "      <th>Shuttle</th>\n",
       "      <td>32.708177</td>\n",
       "    </tr>\n",
       "    <tr>\n",
       "      <th>Bench_Press_Reps</th>\n",
       "      <td>25.993998</td>\n",
       "    </tr>\n",
       "    <tr>\n",
       "      <th>Broad_Jump</th>\n",
       "      <td>20.480120</td>\n",
       "    </tr>\n",
       "    <tr>\n",
       "      <th>Vertical_Jump</th>\n",
       "      <td>19.542386</td>\n",
       "    </tr>\n",
       "    <tr>\n",
       "      <th>Age</th>\n",
       "      <td>15.753938</td>\n",
       "    </tr>\n",
       "    <tr>\n",
       "      <th>Sprint_40yd</th>\n",
       "      <td>4.463616</td>\n",
       "    </tr>\n",
       "    <tr>\n",
       "      <th>Position_Type</th>\n",
       "      <td>0.000000</td>\n",
       "    </tr>\n",
       "    <tr>\n",
       "      <th>Player_Type</th>\n",
       "      <td>0.000000</td>\n",
       "    </tr>\n",
       "    <tr>\n",
       "      <th>BMI</th>\n",
       "      <td>0.000000</td>\n",
       "    </tr>\n",
       "    <tr>\n",
       "      <th>Year</th>\n",
       "      <td>0.000000</td>\n",
       "    </tr>\n",
       "    <tr>\n",
       "      <th>Player</th>\n",
       "      <td>0.000000</td>\n",
       "    </tr>\n",
       "    <tr>\n",
       "      <th>Weight</th>\n",
       "      <td>0.000000</td>\n",
       "    </tr>\n",
       "    <tr>\n",
       "      <th>Height</th>\n",
       "      <td>0.000000</td>\n",
       "    </tr>\n",
       "    <tr>\n",
       "      <th>School</th>\n",
       "      <td>0.000000</td>\n",
       "    </tr>\n",
       "    <tr>\n",
       "      <th>Position</th>\n",
       "      <td>0.000000</td>\n",
       "    </tr>\n",
       "  </tbody>\n",
       "</table>\n",
       "</div>"
      ],
      "text/plain": [
       "                     Percentage Missing Value in X_train\n",
       "Agility_3cone                                  35.033758\n",
       "Drafted..tm.rnd.yr.                            34.808702\n",
       "Shuttle                                        32.708177\n",
       "Bench_Press_Reps                               25.993998\n",
       "Broad_Jump                                     20.480120\n",
       "Vertical_Jump                                  19.542386\n",
       "Age                                            15.753938\n",
       "Sprint_40yd                                     4.463616\n",
       "Position_Type                                   0.000000\n",
       "Player_Type                                     0.000000\n",
       "BMI                                             0.000000\n",
       "Year                                            0.000000\n",
       "Player                                          0.000000\n",
       "Weight                                          0.000000\n",
       "Height                                          0.000000\n",
       "School                                          0.000000\n",
       "Position                                        0.000000"
      ]
     },
     "execution_count": 23,
     "metadata": {},
     "output_type": "execute_result"
    }
   ],
   "source": [
    "# Melihat missing value pada data X_train\n",
    "pd.DataFrame(X_train_handled.isnull().mean()*100).rename(columns={0:'Percentage Missing Value in X_train'}).sort_values(by='Percentage Missing Value in X_train', ascending=False)"
   ]
  },
  {
   "cell_type": "markdown",
   "metadata": {},
   "source": [
    "Dari hasil pengecekan informasi mengenai percentage dari missing value, terlihat bahwa data pada Train-set khususnya di **X_train** terdapat  missing value. Di lihat dari missing valuenya. Bahwa ada 2 katergori missing value pada data ini.\n",
    "- Untuk kolom yang tergolong dalam missinga value **MCAR** adalah `Agility_3cone`, `Drafted..tm.rnd.yr.`, `Shuttle`, `Bench_Press_Reps`, `Vertical_Jump`, dan `Sprint_40yd`. \n",
    "- Untuk kolom yang tergolong dalam missing value **MNAR** adalah `Age`. Karena kemungkinan ada beberapa pemian yang tidak mencantumkan umur mereka, sehingga kolom `Age` tergolong **MNAR**.\n",
    "\n",
    "Dari hasil informasi diatas, kita akan melakukan handling missing values dengan metode **Impute** sesuai dengan ditribusinya."
   ]
  },
  {
   "cell_type": "code",
   "execution_count": 24,
   "metadata": {},
   "outputs": [
    {
     "name": "stdout",
     "output_type": "stream",
     "text": [
      "Percentage missing value in y_train : 0.0\n"
     ]
    }
   ],
   "source": [
    "# Melihat presentase Null-value di dalam Train-set\n",
    "print('Percentage missing value in y_train :',y_train.isnull().mean()*100)"
   ]
  },
  {
   "cell_type": "markdown",
   "metadata": {},
   "source": [
    "Dari hasil pengecekan terhadap **y_train** terlihat tidak memiliki missing values. Sehingga kita tidak melakukan apa-apa.\n"
   ]
  },
  {
   "cell_type": "code",
   "execution_count": 25,
   "metadata": {},
   "outputs": [
    {
     "data": {
      "text/html": [
       "<div>\n",
       "<style scoped>\n",
       "    .dataframe tbody tr th:only-of-type {\n",
       "        vertical-align: middle;\n",
       "    }\n",
       "\n",
       "    .dataframe tbody tr th {\n",
       "        vertical-align: top;\n",
       "    }\n",
       "\n",
       "    .dataframe thead th {\n",
       "        text-align: right;\n",
       "    }\n",
       "</style>\n",
       "<table border=\"1\" class=\"dataframe\">\n",
       "  <thead>\n",
       "    <tr style=\"text-align: right;\">\n",
       "      <th></th>\n",
       "      <th>Percentage Missing Value in X_test</th>\n",
       "    </tr>\n",
       "  </thead>\n",
       "  <tbody>\n",
       "    <tr>\n",
       "      <th>Agility_3cone</th>\n",
       "      <td>36.151603</td>\n",
       "    </tr>\n",
       "    <tr>\n",
       "      <th>Drafted..tm.rnd.yr.</th>\n",
       "      <td>35.131195</td>\n",
       "    </tr>\n",
       "    <tr>\n",
       "      <th>Shuttle</th>\n",
       "      <td>34.548105</td>\n",
       "    </tr>\n",
       "    <tr>\n",
       "      <th>Bench_Press_Reps</th>\n",
       "      <td>26.530612</td>\n",
       "    </tr>\n",
       "    <tr>\n",
       "      <th>Broad_Jump</th>\n",
       "      <td>22.886297</td>\n",
       "    </tr>\n",
       "    <tr>\n",
       "      <th>Vertical_Jump</th>\n",
       "      <td>21.720117</td>\n",
       "    </tr>\n",
       "    <tr>\n",
       "      <th>Age</th>\n",
       "      <td>15.451895</td>\n",
       "    </tr>\n",
       "    <tr>\n",
       "      <th>Sprint_40yd</th>\n",
       "      <td>7.142857</td>\n",
       "    </tr>\n",
       "    <tr>\n",
       "      <th>Position_Type</th>\n",
       "      <td>0.000000</td>\n",
       "    </tr>\n",
       "    <tr>\n",
       "      <th>Player_Type</th>\n",
       "      <td>0.000000</td>\n",
       "    </tr>\n",
       "    <tr>\n",
       "      <th>BMI</th>\n",
       "      <td>0.000000</td>\n",
       "    </tr>\n",
       "    <tr>\n",
       "      <th>Year</th>\n",
       "      <td>0.000000</td>\n",
       "    </tr>\n",
       "    <tr>\n",
       "      <th>Player</th>\n",
       "      <td>0.000000</td>\n",
       "    </tr>\n",
       "    <tr>\n",
       "      <th>Weight</th>\n",
       "      <td>0.000000</td>\n",
       "    </tr>\n",
       "    <tr>\n",
       "      <th>Height</th>\n",
       "      <td>0.000000</td>\n",
       "    </tr>\n",
       "    <tr>\n",
       "      <th>School</th>\n",
       "      <td>0.000000</td>\n",
       "    </tr>\n",
       "    <tr>\n",
       "      <th>Position</th>\n",
       "      <td>0.000000</td>\n",
       "    </tr>\n",
       "  </tbody>\n",
       "</table>\n",
       "</div>"
      ],
      "text/plain": [
       "                     Percentage Missing Value in X_test\n",
       "Agility_3cone                                 36.151603\n",
       "Drafted..tm.rnd.yr.                           35.131195\n",
       "Shuttle                                       34.548105\n",
       "Bench_Press_Reps                              26.530612\n",
       "Broad_Jump                                    22.886297\n",
       "Vertical_Jump                                 21.720117\n",
       "Age                                           15.451895\n",
       "Sprint_40yd                                    7.142857\n",
       "Position_Type                                  0.000000\n",
       "Player_Type                                    0.000000\n",
       "BMI                                            0.000000\n",
       "Year                                           0.000000\n",
       "Player                                         0.000000\n",
       "Weight                                         0.000000\n",
       "Height                                         0.000000\n",
       "School                                         0.000000\n",
       "Position                                       0.000000"
      ]
     },
     "execution_count": 25,
     "metadata": {},
     "output_type": "execute_result"
    }
   ],
   "source": [
    "# Meliaht Missing Value di dalam Test-set\n",
    "pd.DataFrame(X_test.isnull().mean()*100).rename(columns={0:'Percentage Missing Value in X_test'}).sort_values(by='Percentage Missing Value in X_test', ascending=False)"
   ]
  },
  {
   "cell_type": "markdown",
   "metadata": {},
   "source": [
    "Dari hasil pengecekan informasi mengenai persentase missing values diatas. Sama halnya dengan **X_train**. \n",
    "\n",
    "Sehingga kita akan melakukan metode handling missing values dengan metode **Impute** sesuai dengan distribusi datanya."
   ]
  },
  {
   "cell_type": "code",
   "execution_count": 26,
   "metadata": {},
   "outputs": [
    {
     "name": "stdout",
     "output_type": "stream",
     "text": [
      "Percentage missing value in y_test : 0.0\n"
     ]
    }
   ],
   "source": [
    "# Melihat presentase Null-value di dalam Test-set\n",
    "print('Percentage missing value in y_test :',y_test.isna().mean()*100)"
   ]
  },
  {
   "cell_type": "markdown",
   "metadata": {},
   "source": [
    "Sama halmnya dengan **y_train**. **y_test** sepertinya tidak memiliki missing values, sehingga kita tidak melakukan handling apapun."
   ]
  },
  {
   "cell_type": "markdown",
   "metadata": {},
   "source": [
    "Dari hasil inspeksi terhadap informasi terhadap presentase missing missing baik pada **train-set** dan **test-set**. Kita akan melakukan dengan bantuan library *Sckit-learn* yaitu adalah **SimpleImputer**. Kenapa saya menggunakan **SimpleImputer**, karena library tersebut bisa melakukan *fit_transform* sehingga kita akan melakukannya di pipeline."
   ]
  },
  {
   "cell_type": "markdown",
   "metadata": {},
   "source": [
    "### 5.4 Drop Unecessary Variables\n"
   ]
  },
  {
   "cell_type": "code",
   "execution_count": 27,
   "metadata": {},
   "outputs": [],
   "source": [
    "# Drop kolom yang tidak dibutuhkan pada Train Set\n",
    "X_train_handled.drop(columns=['Player', 'Year', 'Drafted..tm.rnd.yr.', 'BMI'], axis=1, inplace=True)\n",
    "\n",
    "# Drop kolom yang tidak dibutuhkan pada Test Set\n",
    "X_test.drop(columns=['Player', 'Year', 'Drafted..tm.rnd.yr.', 'BMI'], axis=1, inplace=True)"
   ]
  },
  {
   "cell_type": "markdown",
   "metadata": {},
   "source": [
    "Alasan kenapa saya melakukan drop kolom tersebut..\n",
    "- Pada kolom `Player` tidak ada kaitannya dengan prediksi berdasarkan nama pemain. Sehingga saya akan drop\n",
    "- Pada kolom `Year` saya tidak ingin model bisa melakukan prediksi berdasarkan tahun player itu muncul. Sehingga saya lakukan drop\n",
    "- Pada kolom `Drafted..tm.rnd.yr.` tidak ada kaitannya pemain akan direkrut berdasarkan draftnya. Sehingga saya melakukan drop pada kolom tersebut\n",
    "- Pada kolom `BMI` karena kolom ini memiliki korelasi yang tinggi terhadap kolom `Weight` dan `Height`. Sehingga saya tidak mengginkan hal itu terjadi.\n"
   ]
  },
  {
   "cell_type": "markdown",
   "metadata": {},
   "source": [
    "### 5.5 Features Selection\n",
    "\n",
    "Kenapa harus ada fitur selection?\n",
    "> Karena untuk mengurangi dimensi fitur ini. Feature selection memiliki kemampuan mengurangi dimensionalitas suatu data sehingga dapat meningkatkan performa dari model yang akan kita buat."
   ]
  },
  {
   "cell_type": "markdown",
   "metadata": {},
   "source": [
    "#### 5.5.1 Select fitur berdasarkan correlation untuk numerikal"
   ]
  },
  {
   "cell_type": "code",
   "execution_count": 28,
   "metadata": {},
   "outputs": [],
   "source": [
    "# dengan fungsi ini kita dapat memilih fitur yang sangat berkorelasi\n",
    "# kita akan menghapus fitur yang berkorelasi dengan fitur lainnya \n",
    "\n",
    "def correlation(dataset, threshold):\n",
    "    col_corr = set()  # Set of all the names of correlated columns\n",
    "    corr_matrix = X_train_handled.corr()\n",
    "    for i in range(len(corr_matrix.columns)):\n",
    "        for j in range(i):\n",
    "            if abs(corr_matrix.iloc[i, j]) > threshold: # we are interested in absolute coeff value\n",
    "                colname = corr_matrix.columns[i]  # getting the name of column\n",
    "                col_corr.add(colname)\n",
    "    return col_corr"
   ]
  },
  {
   "cell_type": "code",
   "execution_count": 29,
   "metadata": {},
   "outputs": [
    {
     "name": "stdout",
     "output_type": "stream",
     "text": [
      "Berapa kolom yang tidak diperlukan untuk membuat model ? 4 kolom\n",
      "Kolom apa saja ?\n",
      " {'Broad_Jump', 'Shuttle', 'Sprint_40yd', 'Agility_3cone'}\n"
     ]
    }
   ],
   "source": [
    "corr_features = correlation(X_train_handled, 0.8)\n",
    "print(f\"Berapa kolom yang tidak diperlukan untuk membuat model ? {len(set(corr_features))} kolom\")\n",
    "print(f\"Kolom apa saja ?\\n {corr_features}\")"
   ]
  },
  {
   "cell_type": "code",
   "execution_count": 30,
   "metadata": {},
   "outputs": [
    {
     "name": "stdout",
     "output_type": "stream",
     "text": [
      "Berhasil melakukan Selection\n"
     ]
    }
   ],
   "source": [
    "# Applying featur select \n",
    "X_train_handled.drop(corr_features,axis=1, inplace=True) #Drop kolom yang tidak diperlukan pada Train\n",
    "X_test.drop(corr_features,axis=1, inplace=True) #Drop kolom yang tidak diperlukan pada Test\n",
    "print(\"Berhasil melakukan Selection\")"
   ]
  },
  {
   "cell_type": "markdown",
   "metadata": {},
   "source": [
    "#### 5.5.2 Select fitur bedasarkan hypotesis untuk kategorical"
   ]
  },
  {
   "cell_type": "code",
   "execution_count": 31,
   "metadata": {},
   "outputs": [
    {
     "data": {
      "text/html": [
       "<div>\n",
       "<style scoped>\n",
       "    .dataframe tbody tr th:only-of-type {\n",
       "        vertical-align: middle;\n",
       "    }\n",
       "\n",
       "    .dataframe tbody tr th {\n",
       "        vertical-align: top;\n",
       "    }\n",
       "\n",
       "    .dataframe thead th {\n",
       "        text-align: right;\n",
       "    }\n",
       "</style>\n",
       "<table border=\"1\" class=\"dataframe\">\n",
       "  <thead>\n",
       "    <tr style=\"text-align: right;\">\n",
       "      <th></th>\n",
       "      <th>COLS</th>\n",
       "      <th>P-Value</th>\n",
       "    </tr>\n",
       "  </thead>\n",
       "  <tbody>\n",
       "    <tr>\n",
       "      <th>1</th>\n",
       "      <td>Player_Type</td>\n",
       "      <td>1.0</td>\n",
       "    </tr>\n",
       "    <tr>\n",
       "      <th>2</th>\n",
       "      <td>Position_Type</td>\n",
       "      <td>1.0</td>\n",
       "    </tr>\n",
       "    <tr>\n",
       "      <th>3</th>\n",
       "      <td>Position</td>\n",
       "      <td>1.0</td>\n",
       "    </tr>\n",
       "  </tbody>\n",
       "</table>\n",
       "</div>"
      ],
      "text/plain": [
       "            COLS  P-Value\n",
       "1    Player_Type      1.0\n",
       "2  Position_Type      1.0\n",
       "3       Position      1.0"
      ]
     },
     "execution_count": 31,
     "metadata": {},
     "output_type": "execute_result"
    }
   ],
   "source": [
    "from scipy.stats import chi2_contingency\n",
    "\n",
    "# Prepare data\n",
    "categorical_cols = X_train_handled.select_dtypes(include='object').columns.tolist() # Pisah data untuk Categorikal\n",
    "selection_cat = X_train_handled[categorical_cols] # Split categorical data\n",
    "p = data_copy['Drafted'].replace({'No':0,'Yes':1})\n",
    "\n",
    "#H0: Tidak ada hubungan yang signifikan antara label target terhadap kolom categorical\n",
    "#H1: Ada hubungan yang signifikan antara label target terhadap kolom categorical\n",
    "p_val = []\n",
    "for col in selection_cat.columns:\n",
    "    contingency_table=pd.crosstab(selection_cat[col],p)\n",
    "    stat, p, dof, expected = chi2_contingency(contingency_table)\n",
    "    p_val.append(p)\n",
    "\n",
    "p_val_cat = pd.DataFrame({'COLS':selection_cat.columns,'P-Value':p_val})\n",
    "drop_cols = p_val_cat[p_val_cat['P-Value']>0.05]\n",
    "drop_cols"
   ]
  },
  {
   "cell_type": "markdown",
   "metadata": {},
   "source": [
    "Berdasarkan hasil hypotesis diatas, dapat kita lihat bahwa ada 3 kolom seperti `Player_Type`, `Position_Type`, dan `Position`  yang tidak memiliki hubungan dengan variable target kita. Sehingga kita akan melakukan drop terhadap kolom tersebut."
   ]
  },
  {
   "cell_type": "code",
   "execution_count": 32,
   "metadata": {},
   "outputs": [
    {
     "name": "stdout",
     "output_type": "stream",
     "text": [
      "Berhasil melakukan Selection\n"
     ]
    }
   ],
   "source": [
    "# Applying featur select \n",
    "X_train_handled.drop(columns=['Player_Type', 'Position_Type', 'Position'], axis=1, inplace=True) #Drop kolom yang tidak diperlukan pada Train\n",
    "X_test.drop(columns=['Player_Type', 'Position_Type', 'Position'], axis=1, inplace=True) #Drop kolom yang tidak diperlukan pada Test\n",
    "print(\"Berhasil melakukan Selection\")"
   ]
  },
  {
   "cell_type": "code",
   "execution_count": 33,
   "metadata": {},
   "outputs": [
    {
     "data": {
      "text/html": [
       "<div>\n",
       "<style scoped>\n",
       "    .dataframe tbody tr th:only-of-type {\n",
       "        vertical-align: middle;\n",
       "    }\n",
       "\n",
       "    .dataframe tbody tr th {\n",
       "        vertical-align: top;\n",
       "    }\n",
       "\n",
       "    .dataframe thead th {\n",
       "        text-align: right;\n",
       "    }\n",
       "</style>\n",
       "<table border=\"1\" class=\"dataframe\">\n",
       "  <thead>\n",
       "    <tr style=\"text-align: right;\">\n",
       "      <th></th>\n",
       "      <th>Age</th>\n",
       "      <th>School</th>\n",
       "      <th>Height</th>\n",
       "      <th>Weight</th>\n",
       "      <th>Vertical_Jump</th>\n",
       "      <th>Bench_Press_Reps</th>\n",
       "    </tr>\n",
       "  </thead>\n",
       "  <tbody>\n",
       "    <tr>\n",
       "      <th>296</th>\n",
       "      <td>23.0</td>\n",
       "      <td>Iowa</td>\n",
       "      <td>1.8288</td>\n",
       "      <td>106.594207</td>\n",
       "      <td>88.90</td>\n",
       "      <td>26.0</td>\n",
       "    </tr>\n",
       "    <tr>\n",
       "      <th>751</th>\n",
       "      <td>22.0</td>\n",
       "      <td>Montana</td>\n",
       "      <td>1.8796</td>\n",
       "      <td>92.532843</td>\n",
       "      <td>90.17</td>\n",
       "      <td>19.0</td>\n",
       "    </tr>\n",
       "    <tr>\n",
       "      <th>92</th>\n",
       "      <td>22.0</td>\n",
       "      <td>Cincinnati</td>\n",
       "      <td>1.9304</td>\n",
       "      <td>116.119647</td>\n",
       "      <td>102.87</td>\n",
       "      <td>21.0</td>\n",
       "    </tr>\n",
       "    <tr>\n",
       "      <th>463</th>\n",
       "      <td>22.0</td>\n",
       "      <td>Georgia</td>\n",
       "      <td>1.9304</td>\n",
       "      <td>95.707990</td>\n",
       "      <td>87.63</td>\n",
       "      <td>18.0</td>\n",
       "    </tr>\n",
       "    <tr>\n",
       "      <th>853</th>\n",
       "      <td>22.0</td>\n",
       "      <td>Duke</td>\n",
       "      <td>1.9050</td>\n",
       "      <td>99.336729</td>\n",
       "      <td>NaN</td>\n",
       "      <td>NaN</td>\n",
       "    </tr>\n",
       "    <tr>\n",
       "      <th>...</th>\n",
       "      <td>...</td>\n",
       "      <td>...</td>\n",
       "      <td>...</td>\n",
       "      <td>...</td>\n",
       "      <td>...</td>\n",
       "      <td>...</td>\n",
       "    </tr>\n",
       "    <tr>\n",
       "      <th>1652</th>\n",
       "      <td>22.0</td>\n",
       "      <td>TCU</td>\n",
       "      <td>1.9812</td>\n",
       "      <td>145.149558</td>\n",
       "      <td>73.66</td>\n",
       "      <td>23.0</td>\n",
       "    </tr>\n",
       "    <tr>\n",
       "      <th>792</th>\n",
       "      <td>20.0</td>\n",
       "      <td>Georgia Tech</td>\n",
       "      <td>1.9304</td>\n",
       "      <td>97.522360</td>\n",
       "      <td>100.33</td>\n",
       "      <td>14.0</td>\n",
       "    </tr>\n",
       "    <tr>\n",
       "      <th>2970</th>\n",
       "      <td>NaN</td>\n",
       "      <td>Norfolk St.</td>\n",
       "      <td>2.0066</td>\n",
       "      <td>122.016347</td>\n",
       "      <td>82.55</td>\n",
       "      <td>24.0</td>\n",
       "    </tr>\n",
       "    <tr>\n",
       "      <th>1225</th>\n",
       "      <td>22.0</td>\n",
       "      <td>Furman</td>\n",
       "      <td>1.9304</td>\n",
       "      <td>141.974412</td>\n",
       "      <td>60.96</td>\n",
       "      <td>23.0</td>\n",
       "    </tr>\n",
       "    <tr>\n",
       "      <th>3400</th>\n",
       "      <td>NaN</td>\n",
       "      <td>Troy</td>\n",
       "      <td>1.8288</td>\n",
       "      <td>87.996920</td>\n",
       "      <td>NaN</td>\n",
       "      <td>14.0</td>\n",
       "    </tr>\n",
       "  </tbody>\n",
       "</table>\n",
       "<p>2666 rows × 6 columns</p>\n",
       "</div>"
      ],
      "text/plain": [
       "       Age        School  Height      Weight  Vertical_Jump  Bench_Press_Reps\n",
       "296   23.0          Iowa  1.8288  106.594207          88.90              26.0\n",
       "751   22.0       Montana  1.8796   92.532843          90.17              19.0\n",
       "92    22.0    Cincinnati  1.9304  116.119647         102.87              21.0\n",
       "463   22.0       Georgia  1.9304   95.707990          87.63              18.0\n",
       "853   22.0          Duke  1.9050   99.336729            NaN               NaN\n",
       "...    ...           ...     ...         ...            ...               ...\n",
       "1652  22.0           TCU  1.9812  145.149558          73.66              23.0\n",
       "792   20.0  Georgia Tech  1.9304   97.522360         100.33              14.0\n",
       "2970   NaN   Norfolk St.  2.0066  122.016347          82.55              24.0\n",
       "1225  22.0        Furman  1.9304  141.974412          60.96              23.0\n",
       "3400   NaN          Troy  1.8288   87.996920            NaN              14.0\n",
       "\n",
       "[2666 rows x 6 columns]"
      ]
     },
     "execution_count": 33,
     "metadata": {},
     "output_type": "execute_result"
    }
   ],
   "source": [
    "# Define final variable\n",
    "X_train_final = X_train_handled\n",
    "y_train_final = y_train_handled\n",
    "\n",
    "# Cek fitur yang akan digunakan \n",
    "X_train_final"
   ]
  },
  {
   "cell_type": "markdown",
   "metadata": {},
   "source": [
    "Setelah kita melakukan fitur selection menggunkaan treshold korlasi untuk numerikal dan menggunakan hypotesis sederhana untuk kategorikal. Didapatkan hanya 6 fitur saja yang akan kita gunakan dalam pembuatan model machine learning."
   ]
  },
  {
   "cell_type": "markdown",
   "metadata": {},
   "source": [
    "### 5.6 Feature Encode"
   ]
  },
  {
   "cell_type": "code",
   "execution_count": 34,
   "metadata": {},
   "outputs": [],
   "source": [
    "# Encode fitur pada label target\n",
    "y_train_final = y_train_final.replace({'No': 0, 'Yes':1})\n",
    "y_test = y_test.replace({'No':0, 'Yes':1})"
   ]
  },
  {
   "cell_type": "markdown",
   "metadata": {},
   "source": [
    "### 5.7 Membuat Pipeline"
   ]
  },
  {
   "cell_type": "code",
   "execution_count": 35,
   "metadata": {},
   "outputs": [
    {
     "name": "stdout",
     "output_type": "stream",
     "text": [
      "Numerical Columns : Index(['Age', 'Height', 'Weight', 'Vertical_Jump', 'Bench_Press_Reps'], dtype='object')\n",
      "Categorical Columns : Index(['School'], dtype='object')\n"
     ]
    }
   ],
   "source": [
    "# Numerical Columns\n",
    "num_columns = X_train_final.select_dtypes(include=np.number).columns\n",
    "\n",
    "# Categorical Columns\n",
    "cat_columns = X_train_final.select_dtypes(include='object').columns\n",
    "\n",
    "print(\"Numerical Columns :\", num_columns)\n",
    "print(\"Categorical Columns :\", cat_columns)"
   ]
  },
  {
   "cell_type": "code",
   "execution_count": 36,
   "metadata": {},
   "outputs": [],
   "source": [
    "# Membuat pipeline untuk numerical\n",
    "numerical_pipeline = Pipeline([\n",
    "    (\"imputer\", SimpleImputer(strategy=\"mean\")), #kita akan melakukan imputasi dengan mean, Karena kita sudah mengecek distribusinya bahwa normal\n",
    "    (\"scaler\", StandardScaler())\n",
    "])\n",
    "\n",
    "# Membuat pipeline untuk kategorikal\n",
    "categorical_pipeline = Pipeline([\n",
    "    (\"imputer\", SimpleImputer(strategy=\"most_frequent\")), #kita akan melakukan imputasi dengan mode\n",
    "    (\"encode\", OneHotEncoder(handle_unknown='ignore'))\n",
    "])\n",
    "\n",
    "# Menggabungkan pipeline numerical dan categorical\n",
    "preprocessor = ColumnTransformer([\n",
    "    (\"numerical\", numerical_pipeline, num_columns),\n",
    "    (\"categorical\", categorical_pipeline, cat_columns),\n",
    "    \n",
    "], n_jobs=-1)"
   ]
  },
  {
   "cell_type": "markdown",
   "metadata": {},
   "source": [
    "# 6. Model Definition\n",
    "\n",
    "Disini kita akan menggunakan beberapa algoritma supervised mechine learning sepeerti:\n",
    "\n",
    "1. Logistic Regression\n",
    "2. Decision Tree\n",
    "3. Random Forest\n",
    "4. k-NN (k-nearest neighbors algorithm)\n",
    "5. AdaBoost Classifier\n",
    "6. SGDClassifier\n",
    "7. GradientBoostingClassifier"
   ]
  },
  {
   "cell_type": "code",
   "execution_count": 37,
   "metadata": {},
   "outputs": [],
   "source": [
    "# Pipeline model\n",
    "\n",
    "# Logistic Regression\n",
    "pipe_log = Pipeline([\n",
    "    (\"prep\", preprocessor),\n",
    "    (\"algo_log\", LogisticRegression()) # default param/best line model\n",
    "])\n",
    "\n",
    "# DecisionTreeClassifier\n",
    "pipe_dec = Pipeline([\n",
    "    (\"prep\", preprocessor),\n",
    "    (\"algo_dec\", BaggingClassifier(DecisionTreeClassifier(random_state=0))) #default param/best line model\n",
    "])\n",
    "\n",
    "# Random Forest\n",
    "pipe_ran = Pipeline([\n",
    "    (\"prep\", preprocessor),\n",
    "    (\"algo_ran\", BaggingClassifier(RandomForestClassifier(random_state=42))) #default param/best line model\n",
    "])\n",
    "\n",
    "# k-NN (k-nearest neighbors algorithm)\n",
    "pipe_knn = Pipeline([\n",
    "    (\"prep\", preprocessor),\n",
    "    (\"algo_knn\", KNeighborsClassifier()) # default param/best line model\n",
    "])\n",
    "\n",
    "# AdaBoost Classifier\n",
    "pipe_ada = Pipeline([\n",
    "    (\"prep\", preprocessor),\n",
    "    (\"algo_ada\", AdaBoostClassifier(random_state=42)) # default param/best line model\n",
    "])\n",
    "\n",
    "# SGDClassifier\n",
    "pipe_sgd = Pipeline([\n",
    "    (\"prep\", preprocessor),\n",
    "    (\"algo_sgd\", SGDClassifier()) # default param/best line model\n",
    "])\n",
    "\n",
    "# GradientBoostingClassifier\n",
    "pipe_gb = Pipeline([\n",
    "    (\"prep\", preprocessor),\n",
    "    (\"algo_gb\", GradientBoostingClassifier() )# default param/best line model\n",
    "])"
   ]
  },
  {
   "cell_type": "markdown",
   "metadata": {},
   "source": [
    "# 7. Model Training"
   ]
  },
  {
   "cell_type": "markdown",
   "metadata": {},
   "source": [
    "### 7.1 Logistic Regression"
   ]
  },
  {
   "cell_type": "code",
   "execution_count": 38,
   "metadata": {},
   "outputs": [
    {
     "name": "stdout",
     "output_type": "stream",
     "text": [
      "Wall time: 3.33 s\n"
     ]
    },
    {
     "data": {
      "text/plain": [
       "Pipeline(steps=[('prep',\n",
       "                 ColumnTransformer(n_jobs=-1,\n",
       "                                   transformers=[('numerical',\n",
       "                                                  Pipeline(steps=[('imputer',\n",
       "                                                                   SimpleImputer()),\n",
       "                                                                  ('scaler',\n",
       "                                                                   StandardScaler())]),\n",
       "                                                  Index(['Age', 'Height', 'Weight', 'Vertical_Jump', 'Bench_Press_Reps'], dtype='object')),\n",
       "                                                 ('categorical',\n",
       "                                                  Pipeline(steps=[('imputer',\n",
       "                                                                   SimpleImputer(strategy='most_frequent')),\n",
       "                                                                  ('encode',\n",
       "                                                                   OneHotEncoder(handle_unknown='ignore'))]),\n",
       "                                                  Index(['School'], dtype='object'))])),\n",
       "                ('algo_log', LogisticRegression())])"
      ]
     },
     "execution_count": 38,
     "metadata": {},
     "output_type": "execute_result"
    }
   ],
   "source": [
    "# Training model Logistic Regression\n",
    "%time pipe_log.fit(X_train_final, y_train_final)"
   ]
  },
  {
   "cell_type": "markdown",
   "metadata": {},
   "source": [
    "### 7.2 Decision Tree"
   ]
  },
  {
   "cell_type": "code",
   "execution_count": 39,
   "metadata": {},
   "outputs": [
    {
     "name": "stdout",
     "output_type": "stream",
     "text": [
      "Wall time: 1.75 s\n"
     ]
    },
    {
     "data": {
      "text/plain": [
       "Pipeline(steps=[('prep',\n",
       "                 ColumnTransformer(n_jobs=-1,\n",
       "                                   transformers=[('numerical',\n",
       "                                                  Pipeline(steps=[('imputer',\n",
       "                                                                   SimpleImputer()),\n",
       "                                                                  ('scaler',\n",
       "                                                                   StandardScaler())]),\n",
       "                                                  Index(['Age', 'Height', 'Weight', 'Vertical_Jump', 'Bench_Press_Reps'], dtype='object')),\n",
       "                                                 ('categorical',\n",
       "                                                  Pipeline(steps=[('imputer',\n",
       "                                                                   SimpleImputer(strategy='most_frequent')),\n",
       "                                                                  ('encode',\n",
       "                                                                   OneHotEncoder(handle_unknown='ignore'))]),\n",
       "                                                  Index(['School'], dtype='object'))])),\n",
       "                ('algo_dec',\n",
       "                 BaggingClassifier(base_estimator=DecisionTreeClassifier(random_state=0)))])"
      ]
     },
     "execution_count": 39,
     "metadata": {},
     "output_type": "execute_result"
    }
   ],
   "source": [
    "# Training model Decision Tree\n",
    "%time pipe_dec.fit(X_train_final, y_train_final)"
   ]
  },
  {
   "cell_type": "markdown",
   "metadata": {},
   "source": [
    "### 7.3 Random Forest"
   ]
  },
  {
   "cell_type": "code",
   "execution_count": 40,
   "metadata": {},
   "outputs": [
    {
     "name": "stdout",
     "output_type": "stream",
     "text": [
      "Wall time: 6.86 s\n"
     ]
    },
    {
     "data": {
      "text/plain": [
       "Pipeline(steps=[('prep',\n",
       "                 ColumnTransformer(n_jobs=-1,\n",
       "                                   transformers=[('numerical',\n",
       "                                                  Pipeline(steps=[('imputer',\n",
       "                                                                   SimpleImputer()),\n",
       "                                                                  ('scaler',\n",
       "                                                                   StandardScaler())]),\n",
       "                                                  Index(['Age', 'Height', 'Weight', 'Vertical_Jump', 'Bench_Press_Reps'], dtype='object')),\n",
       "                                                 ('categorical',\n",
       "                                                  Pipeline(steps=[('imputer',\n",
       "                                                                   SimpleImputer(strategy='most_frequent')),\n",
       "                                                                  ('encode',\n",
       "                                                                   OneHotEncoder(handle_unknown='ignore'))]),\n",
       "                                                  Index(['School'], dtype='object'))])),\n",
       "                ('algo_ran',\n",
       "                 BaggingClassifier(base_estimator=RandomForestClassifier(random_state=42)))])"
      ]
     },
     "execution_count": 40,
     "metadata": {},
     "output_type": "execute_result"
    }
   ],
   "source": [
    "# Training model Random Forest\n",
    "%time pipe_ran.fit(X_train_final, y_train_final)"
   ]
  },
  {
   "cell_type": "markdown",
   "metadata": {},
   "source": [
    "### 7.4  k-NN (k-nearest neighbors algorithm)"
   ]
  },
  {
   "cell_type": "code",
   "execution_count": 41,
   "metadata": {},
   "outputs": [
    {
     "name": "stdout",
     "output_type": "stream",
     "text": [
      "Wall time: 30 ms\n"
     ]
    },
    {
     "data": {
      "text/plain": [
       "Pipeline(steps=[('prep',\n",
       "                 ColumnTransformer(n_jobs=-1,\n",
       "                                   transformers=[('numerical',\n",
       "                                                  Pipeline(steps=[('imputer',\n",
       "                                                                   SimpleImputer()),\n",
       "                                                                  ('scaler',\n",
       "                                                                   StandardScaler())]),\n",
       "                                                  Index(['Age', 'Height', 'Weight', 'Vertical_Jump', 'Bench_Press_Reps'], dtype='object')),\n",
       "                                                 ('categorical',\n",
       "                                                  Pipeline(steps=[('imputer',\n",
       "                                                                   SimpleImputer(strategy='most_frequent')),\n",
       "                                                                  ('encode',\n",
       "                                                                   OneHotEncoder(handle_unknown='ignore'))]),\n",
       "                                                  Index(['School'], dtype='object'))])),\n",
       "                ('algo_knn', KNeighborsClassifier())])"
      ]
     },
     "execution_count": 41,
     "metadata": {},
     "output_type": "execute_result"
    }
   ],
   "source": [
    "# Training model k-NN (k-nearest neighbors algorithm)\n",
    "%time pipe_knn.fit(X_train_final, y_train_final)"
   ]
  },
  {
   "cell_type": "markdown",
   "metadata": {},
   "source": [
    "### 7.5 AdaBoost Classifier"
   ]
  },
  {
   "cell_type": "code",
   "execution_count": 42,
   "metadata": {},
   "outputs": [
    {
     "name": "stdout",
     "output_type": "stream",
     "text": [
      "Wall time: 230 ms\n"
     ]
    },
    {
     "data": {
      "text/plain": [
       "Pipeline(steps=[('prep',\n",
       "                 ColumnTransformer(n_jobs=-1,\n",
       "                                   transformers=[('numerical',\n",
       "                                                  Pipeline(steps=[('imputer',\n",
       "                                                                   SimpleImputer()),\n",
       "                                                                  ('scaler',\n",
       "                                                                   StandardScaler())]),\n",
       "                                                  Index(['Age', 'Height', 'Weight', 'Vertical_Jump', 'Bench_Press_Reps'], dtype='object')),\n",
       "                                                 ('categorical',\n",
       "                                                  Pipeline(steps=[('imputer',\n",
       "                                                                   SimpleImputer(strategy='most_frequent')),\n",
       "                                                                  ('encode',\n",
       "                                                                   OneHotEncoder(handle_unknown='ignore'))]),\n",
       "                                                  Index(['School'], dtype='object'))])),\n",
       "                ('algo_ada', AdaBoostClassifier(random_state=42))])"
      ]
     },
     "execution_count": 42,
     "metadata": {},
     "output_type": "execute_result"
    }
   ],
   "source": [
    "# Training model AdaBoost Classifier\n",
    "%time pipe_ada.fit(X_train_final, y_train_final)"
   ]
  },
  {
   "cell_type": "markdown",
   "metadata": {},
   "source": [
    "### 7.6 SGDClassifier"
   ]
  },
  {
   "cell_type": "code",
   "execution_count": 43,
   "metadata": {},
   "outputs": [
    {
     "name": "stdout",
     "output_type": "stream",
     "text": [
      "Wall time: 46 ms\n"
     ]
    },
    {
     "data": {
      "text/plain": [
       "Pipeline(steps=[('prep',\n",
       "                 ColumnTransformer(n_jobs=-1,\n",
       "                                   transformers=[('numerical',\n",
       "                                                  Pipeline(steps=[('imputer',\n",
       "                                                                   SimpleImputer()),\n",
       "                                                                  ('scaler',\n",
       "                                                                   StandardScaler())]),\n",
       "                                                  Index(['Age', 'Height', 'Weight', 'Vertical_Jump', 'Bench_Press_Reps'], dtype='object')),\n",
       "                                                 ('categorical',\n",
       "                                                  Pipeline(steps=[('imputer',\n",
       "                                                                   SimpleImputer(strategy='most_frequent')),\n",
       "                                                                  ('encode',\n",
       "                                                                   OneHotEncoder(handle_unknown='ignore'))]),\n",
       "                                                  Index(['School'], dtype='object'))])),\n",
       "                ('algo_sgd', SGDClassifier())])"
      ]
     },
     "execution_count": 43,
     "metadata": {},
     "output_type": "execute_result"
    }
   ],
   "source": [
    "# Training model SGDClassifier\n",
    "%time pipe_sgd.fit(X_train_final, y_train_final)"
   ]
  },
  {
   "cell_type": "markdown",
   "metadata": {},
   "source": [
    "### 7.7 GradientBoostingClassifier"
   ]
  },
  {
   "cell_type": "code",
   "execution_count": 44,
   "metadata": {},
   "outputs": [
    {
     "name": "stdout",
     "output_type": "stream",
     "text": [
      "Wall time: 357 ms\n"
     ]
    },
    {
     "data": {
      "text/plain": [
       "Pipeline(steps=[('prep',\n",
       "                 ColumnTransformer(n_jobs=-1,\n",
       "                                   transformers=[('numerical',\n",
       "                                                  Pipeline(steps=[('imputer',\n",
       "                                                                   SimpleImputer()),\n",
       "                                                                  ('scaler',\n",
       "                                                                   StandardScaler())]),\n",
       "                                                  Index(['Age', 'Height', 'Weight', 'Vertical_Jump', 'Bench_Press_Reps'], dtype='object')),\n",
       "                                                 ('categorical',\n",
       "                                                  Pipeline(steps=[('imputer',\n",
       "                                                                   SimpleImputer(strategy='most_frequent')),\n",
       "                                                                  ('encode',\n",
       "                                                                   OneHotEncoder(handle_unknown='ignore'))]),\n",
       "                                                  Index(['School'], dtype='object'))])),\n",
       "                ('algo_gb', GradientBoostingClassifier())])"
      ]
     },
     "execution_count": 44,
     "metadata": {},
     "output_type": "execute_result"
    }
   ],
   "source": [
    "# Training model GradientBoostingClassifier\n",
    "%time pipe_gb.fit(X_train_final, y_train_final)"
   ]
  },
  {
   "cell_type": "markdown",
   "metadata": {},
   "source": [
    "# 8. Model Evaluation"
   ]
  },
  {
   "cell_type": "markdown",
   "metadata": {},
   "source": [
    "Pada bagian ini, dilakukan evaluasi model yang harus menunjukkan bagaimana performa model berdasarkan metrics yang dipilih. Hal ini harus dibuktikan dengan visualisasi tren performa dan/atau tingkat kesalahan model. **Lakukan analisis terkait dengan hasil pada model dan tuliskan hasil analisisnya**."
   ]
  },
  {
   "cell_type": "code",
   "execution_count": 45,
   "metadata": {},
   "outputs": [],
   "source": [
    "# membuat list kosong\n",
    "Train_score = []\n",
    "Test_score = []\n",
    "F1_score = []\n",
    "ROC_AUC_Score = []\n",
    "Time_teken = []"
   ]
  },
  {
   "cell_type": "markdown",
   "metadata": {},
   "source": [
    "### 8.1 Logistic Regression"
   ]
  },
  {
   "cell_type": "code",
   "execution_count": 46,
   "metadata": {},
   "outputs": [
    {
     "name": "stdout",
     "output_type": "stream",
     "text": [
      "--------------------------------------------------\n",
      "===== ACURACCY SCORE =====\n",
      "Accuracy Train : 0.6909227306826706\n",
      "Accuracy Test : 0.6282798833819242\n",
      "--------------------------------------------------\n",
      "--------------------------------------------------\n",
      "===== F1 Score =====\n",
      "F1 Score :  0.7545717035611165\n",
      "--------------------------------------------------\n",
      "--------------------------------------------------\n",
      "===== ROC AUC Score =====\n",
      "ROC AUC Score :  0.5213623012727866\n",
      "--------------------------------------------------\n",
      "--------------------------------------------------\n",
      "===== CLASSIFICATION REPORT =====\n",
      "--------------------------------------------------\n",
      "\n",
      "               precision    recall  f1-score   support\n",
      "\n",
      "           0       0.42      0.16      0.23       241\n",
      "           1       0.66      0.88      0.75       445\n",
      "\n",
      "    accuracy                           0.63       686\n",
      "   macro avg       0.54      0.52      0.49       686\n",
      "weighted avg       0.58      0.63      0.57       686\n",
      "\n",
      "--------------------------------------------------\n",
      "--------------------------------------------------\n",
      "===== Confusion Matrix =====\n",
      "--------------------------------------------------\n"
     ]
    },
    {
     "data": {
      "image/png": "[encoded data removed]",
      "text/plain": [
       "<Figure size 432x288 with 2 Axes>"
      ]
     },
     "metadata": {
      "needs_background": "light"
     },
     "output_type": "display_data"
    },
    {
     "name": "stdout",
     "output_type": "stream",
     "text": [
      "\n",
      "Time : 0.257 sec\n"
     ]
    }
   ],
   "source": [
    "# Model Evaluation\n",
    "\n",
    "## Predict on Train-Set and Test-Set\n",
    "y_pred_train = pipe_log.predict(X_train_final)\n",
    "y_pred_test = pipe_log.predict(X_test)\n",
    "\n",
    "tic = time.time()\n",
    "\n",
    "# Evaluate Model of matriks\n",
    "print('-'*50)\n",
    "print('===== ACURACCY SCORE =====')\n",
    "print('Accuracy Train :',accuracy_score(y_train_final, y_pred_train))\n",
    "Train_score.append(accuracy_score(y_train_final, y_pred_train))\n",
    "print('Accuracy Test :',accuracy_score(y_test, y_pred_test))\n",
    "Test_score.append(accuracy_score(y_test, y_pred_test))\n",
    "print('-'*50)\n",
    "\n",
    "print('-'*50)\n",
    "print('===== F1 Score =====')\n",
    "print('F1 Score : ', f1_score(y_test, y_pred_test))\n",
    "F1_score.append(f1_score(y_test, y_pred_test))\n",
    "print('-'*50)\n",
    "\n",
    "print('-'*50)\n",
    "print('===== ROC AUC Score =====')\n",
    "print('ROC AUC Score : ', roc_auc_score(y_test, y_pred_test))\n",
    "ROC_AUC_Score.append(roc_auc_score(y_test, y_pred_test))\n",
    "print('-'*50)\n",
    "\n",
    "print('-'*50)\n",
    "print('===== CLASSIFICATION REPORT =====')\n",
    "print('-'*50)\n",
    "print('\\n',classification_report(y_test, y_pred_test))\n",
    "print('-'*50)\n",
    "\n",
    "print('-'*50)\n",
    "print('===== Confusion Matrix =====')\n",
    "print('-'*50)\n",
    "plot_confusion_matrix(pipe_log, X_test, y_test, cmap='Reds')  \n",
    "plt.show()\n",
    "print('')\n",
    "\n",
    "toc = time.time()\n",
    "time_taken = toc-tic\n",
    "print('Time : {} sec'.format(round(time_taken, 3)))\n",
    "Time_teken.append(round(time_taken, 3))"
   ]
  },
  {
   "cell_type": "markdown",
   "metadata": {},
   "source": [
    "### 8.2 Decision Tree"
   ]
  },
  {
   "cell_type": "code",
   "execution_count": 47,
   "metadata": {},
   "outputs": [
    {
     "name": "stdout",
     "output_type": "stream",
     "text": [
      "--------------------------------------------------\n",
      "===== ACURACCY SCORE =====\n",
      "Accuracy Train : 0.9842460615153789\n",
      "Accuracy Test : 0.749271137026239\n",
      "--------------------------------------------------\n",
      "--------------------------------------------------\n",
      "===== F1 Score =====\n",
      "F1 Score :  0.8189473684210526\n",
      "--------------------------------------------------\n",
      "--------------------------------------------------\n",
      "===== ROC AUC Score =====\n",
      "ROC AUC Score :  0.6964147512704555\n",
      "--------------------------------------------------\n",
      "--------------------------------------------------\n",
      "===== CLASSIFICATION REPORT =====\n",
      "--------------------------------------------------\n",
      "\n",
      "               precision    recall  f1-score   support\n",
      "\n",
      "           0       0.69      0.52      0.59       241\n",
      "           1       0.77      0.87      0.82       445\n",
      "\n",
      "    accuracy                           0.75       686\n",
      "   macro avg       0.73      0.70      0.71       686\n",
      "weighted avg       0.74      0.75      0.74       686\n",
      "\n",
      "--------------------------------------------------\n",
      "--------------------------------------------------\n",
      "===== Confusion Matrix =====\n",
      "--------------------------------------------------\n"
     ]
    },
    {
     "data": {
      "image/png": "[encoded data removed]",
      "text/plain": [
       "<Figure size 432x288 with 2 Axes>"
      ]
     },
     "metadata": {
      "needs_background": "light"
     },
     "output_type": "display_data"
    },
    {
     "name": "stdout",
     "output_type": "stream",
     "text": [
      "\n",
      "Time : 0.227 sec\n"
     ]
    }
   ],
   "source": [
    "# Model Evaluation\n",
    "\n",
    "## Predict on Train-Set and Test-Set\n",
    "y_pred_train = pipe_dec.predict(X_train_final)\n",
    "y_pred_test = pipe_dec.predict(X_test)\n",
    "\n",
    "tic = time.time()\n",
    "\n",
    "# Evaluate Model of matriks\n",
    "print('-'*50)\n",
    "print('===== ACURACCY SCORE =====')\n",
    "print('Accuracy Train :',accuracy_score(y_train_final, y_pred_train))\n",
    "Train_score.append(accuracy_score(y_train_final, y_pred_train))\n",
    "print('Accuracy Test :',accuracy_score(y_test, y_pred_test))\n",
    "Test_score.append(accuracy_score(y_test, y_pred_test))\n",
    "print('-'*50)\n",
    "\n",
    "print('-'*50)\n",
    "print('===== F1 Score =====')\n",
    "print('F1 Score : ', f1_score(y_test, y_pred_test))\n",
    "F1_score.append(f1_score(y_test, y_pred_test))\n",
    "print('-'*50)\n",
    "\n",
    "print('-'*50)\n",
    "print('===== ROC AUC Score =====')\n",
    "print('ROC AUC Score : ', roc_auc_score(y_test, y_pred_test))\n",
    "ROC_AUC_Score.append(roc_auc_score(y_test, y_pred_test))\n",
    "print('-'*50)\n",
    "\n",
    "print('-'*50)\n",
    "print('===== CLASSIFICATION REPORT =====')\n",
    "print('-'*50)\n",
    "print('\\n',classification_report(y_test, y_pred_test))\n",
    "print('-'*50)\n",
    "\n",
    "print('-'*50)\n",
    "print('===== Confusion Matrix =====')\n",
    "print('-'*50)\n",
    "plot_confusion_matrix(pipe_dec, X_test, y_test, cmap='Reds')  \n",
    "plt.show()\n",
    "print('')\n",
    "\n",
    "toc = time.time()\n",
    "time_taken = toc-tic\n",
    "print('Time : {} sec'.format(round(time_taken, 3)))\n",
    "Time_teken.append(round(time_taken, 3))"
   ]
  },
  {
   "cell_type": "markdown",
   "metadata": {},
   "source": [
    "### 8.3 Random Forest"
   ]
  },
  {
   "cell_type": "code",
   "execution_count": 48,
   "metadata": {},
   "outputs": [
    {
     "name": "stdout",
     "output_type": "stream",
     "text": [
      "--------------------------------------------------\n",
      "===== ACURACCY SCORE =====\n",
      "Accuracy Train : 0.9617404351087772\n",
      "Accuracy Test : 0.7857142857142857\n",
      "--------------------------------------------------\n",
      "--------------------------------------------------\n",
      "===== F1 Score =====\n",
      "F1 Score :  0.8528528528528528\n",
      "--------------------------------------------------\n",
      "--------------------------------------------------\n",
      "===== ROC AUC Score =====\n",
      "ROC AUC Score :  0.7130915194181546\n",
      "--------------------------------------------------\n",
      "--------------------------------------------------\n",
      "===== CLASSIFICATION REPORT =====\n",
      "--------------------------------------------------\n",
      "\n",
      "               precision    recall  f1-score   support\n",
      "\n",
      "           0       0.86      0.47      0.61       241\n",
      "           1       0.77      0.96      0.85       445\n",
      "\n",
      "    accuracy                           0.79       686\n",
      "   macro avg       0.81      0.71      0.73       686\n",
      "weighted avg       0.80      0.79      0.77       686\n",
      "\n",
      "--------------------------------------------------\n",
      "--------------------------------------------------\n",
      "===== Confusion Matrix =====\n",
      "--------------------------------------------------\n"
     ]
    },
    {
     "data": {
      "image/png": "[encoded data removed]",
      "text/plain": [
       "<Figure size 432x288 with 2 Axes>"
      ]
     },
     "metadata": {
      "needs_background": "light"
     },
     "output_type": "display_data"
    },
    {
     "name": "stdout",
     "output_type": "stream",
     "text": [
      "\n",
      "Time : 0.572 sec\n"
     ]
    }
   ],
   "source": [
    "# Model Evaluation\n",
    "\n",
    "## Predict on Train-Set and Test-Set\n",
    "y_pred_train = pipe_ran.predict(X_train_final)\n",
    "y_pred_test = pipe_ran.predict(X_test)\n",
    "\n",
    "tic = time.time()\n",
    "\n",
    "# Evaluate Model of matriks\n",
    "print('-'*50)\n",
    "print('===== ACURACCY SCORE =====')\n",
    "print('Accuracy Train :',accuracy_score(y_train_final, y_pred_train))\n",
    "Train_score.append(accuracy_score(y_train_final, y_pred_train))\n",
    "print('Accuracy Test :',accuracy_score(y_test, y_pred_test))\n",
    "Test_score.append(accuracy_score(y_test, y_pred_test))\n",
    "print('-'*50)\n",
    "\n",
    "print('-'*50)\n",
    "print('===== F1 Score =====')\n",
    "print('F1 Score : ', f1_score(y_test, y_pred_test))\n",
    "F1_score.append(f1_score(y_test, y_pred_test))\n",
    "print('-'*50)\n",
    "\n",
    "print('-'*50)\n",
    "print('===== ROC AUC Score =====')\n",
    "print('ROC AUC Score : ', roc_auc_score(y_test, y_pred_test))\n",
    "ROC_AUC_Score.append(roc_auc_score(y_test, y_pred_test))\n",
    "print('-'*50)\n",
    "\n",
    "print('-'*50)\n",
    "print('===== CLASSIFICATION REPORT =====')\n",
    "print('-'*50)\n",
    "print('\\n',classification_report(y_test, y_pred_test))\n",
    "print('-'*50)\n",
    "\n",
    "print('-'*50)\n",
    "print('===== Confusion Matrix =====')\n",
    "print('-'*50)\n",
    "plot_confusion_matrix(pipe_ran, X_test, y_test, cmap='Reds')  \n",
    "plt.show()\n",
    "print('')\n",
    "\n",
    "toc = time.time()\n",
    "time_taken = toc-tic\n",
    "print('Time : {} sec'.format(round(time_taken, 3)))\n",
    "Time_teken.append(round(time_taken, 3))"
   ]
  },
  {
   "cell_type": "markdown",
   "metadata": {},
   "source": [
    "### 8.4 k-NN (k-nearest neighbors algorithm)"
   ]
  },
  {
   "cell_type": "code",
   "execution_count": 49,
   "metadata": {},
   "outputs": [
    {
     "name": "stdout",
     "output_type": "stream",
     "text": [
      "--------------------------------------------------\n",
      "===== ACURACCY SCORE =====\n",
      "Accuracy Train : 0.7576894223555889\n",
      "Accuracy Test : 0.6239067055393586\n",
      "--------------------------------------------------\n",
      "--------------------------------------------------\n",
      "===== F1 Score =====\n",
      "F1 Score :  0.7334710743801652\n",
      "--------------------------------------------------\n",
      "--------------------------------------------------\n",
      "===== ROC AUC Score =====\n",
      "ROC AUC Score :  0.5503286866520584\n",
      "--------------------------------------------------\n",
      "--------------------------------------------------\n",
      "===== CLASSIFICATION REPORT =====\n",
      "--------------------------------------------------\n",
      "\n",
      "               precision    recall  f1-score   support\n",
      "\n",
      "           0       0.45      0.30      0.36       241\n",
      "           1       0.68      0.80      0.73       445\n",
      "\n",
      "    accuracy                           0.62       686\n",
      "   macro avg       0.56      0.55      0.55       686\n",
      "weighted avg       0.60      0.62      0.60       686\n",
      "\n",
      "--------------------------------------------------\n",
      "--------------------------------------------------\n",
      "===== Confusion Matrix =====\n",
      "--------------------------------------------------\n"
     ]
    },
    {
     "data": {
      "image/png": "[encoded data removed]",
      "text/plain": [
       "<Figure size 432x288 with 2 Axes>"
      ]
     },
     "metadata": {
      "needs_background": "light"
     },
     "output_type": "display_data"
    },
    {
     "name": "stdout",
     "output_type": "stream",
     "text": [
      "\n",
      "Time : 0.374 sec\n"
     ]
    }
   ],
   "source": [
    "# Model Evaluation\n",
    "\n",
    "## Predict on Train-Set and Test-Set\n",
    "y_pred_train = pipe_knn.predict(X_train_final)\n",
    "y_pred_test = pipe_knn.predict(X_test)\n",
    "\n",
    "tic = time.time()\n",
    "\n",
    "# Evaluate Model of matriks\n",
    "print('-'*50)\n",
    "print('===== ACURACCY SCORE =====')\n",
    "print('Accuracy Train :',accuracy_score(y_train_final, y_pred_train))\n",
    "Train_score.append(accuracy_score(y_train_final, y_pred_train))\n",
    "print('Accuracy Test :',accuracy_score(y_test, y_pred_test))\n",
    "Test_score.append(accuracy_score(y_test, y_pred_test))\n",
    "print('-'*50)\n",
    "\n",
    "print('-'*50)\n",
    "print('===== F1 Score =====')\n",
    "print('F1 Score : ', f1_score(y_test, y_pred_test))\n",
    "F1_score.append(f1_score(y_test, y_pred_test))\n",
    "print('-'*50)\n",
    "\n",
    "print('-'*50)\n",
    "print('===== ROC AUC Score =====')\n",
    "print('ROC AUC Score : ', roc_auc_score(y_test, y_pred_test))\n",
    "ROC_AUC_Score.append(roc_auc_score(y_test, y_pred_test))\n",
    "print('-'*50)\n",
    "\n",
    "print('-'*50)\n",
    "print('===== CLASSIFICATION REPORT =====')\n",
    "print('-'*50)\n",
    "print('\\n',classification_report(y_test, y_pred_test))\n",
    "print('-'*50)\n",
    "\n",
    "print('-'*50)\n",
    "print('===== Confusion Matrix =====')\n",
    "print('-'*50)\n",
    "plot_confusion_matrix(pipe_knn, X_test, y_test, cmap='Reds')  \n",
    "plt.show()\n",
    "print('')\n",
    "\n",
    "toc = time.time()\n",
    "time_taken = toc-tic\n",
    "print('Time : {} sec'.format(round(time_taken, 3)))\n",
    "Time_teken.append(round(time_taken, 3))"
   ]
  },
  {
   "cell_type": "markdown",
   "metadata": {},
   "source": [
    "### 8.5 AdaBoost Classifier"
   ]
  },
  {
   "cell_type": "code",
   "execution_count": 50,
   "metadata": {},
   "outputs": [
    {
     "name": "stdout",
     "output_type": "stream",
     "text": [
      "--------------------------------------------------\n",
      "===== ACURACCY SCORE =====\n",
      "Accuracy Train : 0.8060765191297824\n",
      "Accuracy Test : 0.7871720116618076\n",
      "--------------------------------------------------\n",
      "--------------------------------------------------\n",
      "===== F1 Score =====\n",
      "F1 Score :  0.8545816733067729\n",
      "--------------------------------------------------\n",
      "--------------------------------------------------\n",
      "===== ROC AUC Score =====\n",
      "ROC AUC Score :  0.7123129283416476\n",
      "--------------------------------------------------\n",
      "--------------------------------------------------\n",
      "===== CLASSIFICATION REPORT =====\n",
      "--------------------------------------------------\n",
      "\n",
      "               precision    recall  f1-score   support\n",
      "\n",
      "           0       0.87      0.46      0.60       241\n",
      "           1       0.77      0.96      0.85       445\n",
      "\n",
      "    accuracy                           0.79       686\n",
      "   macro avg       0.82      0.71      0.73       686\n",
      "weighted avg       0.80      0.79      0.77       686\n",
      "\n",
      "--------------------------------------------------\n",
      "--------------------------------------------------\n",
      "===== Confusion Matrix =====\n",
      "--------------------------------------------------\n"
     ]
    },
    {
     "data": {
      "image/png": "[encoded data removed]",
      "text/plain": [
       "<Figure size 432x288 with 2 Axes>"
      ]
     },
     "metadata": {
      "needs_background": "light"
     },
     "output_type": "display_data"
    },
    {
     "name": "stdout",
     "output_type": "stream",
     "text": [
      "\n",
      "Time : 0.269 sec\n"
     ]
    }
   ],
   "source": [
    "# Model Evaluation\n",
    "\n",
    "## Predict on Train-Set and Test-Set\n",
    "y_pred_train = pipe_ada.predict(X_train_final)\n",
    "y_pred_test = pipe_ada.predict(X_test)\n",
    "\n",
    "tic = time.time()\n",
    "\n",
    "# Evaluate Model of matriks\n",
    "print('-'*50)\n",
    "print('===== ACURACCY SCORE =====')\n",
    "print('Accuracy Train :',accuracy_score(y_train_final, y_pred_train))\n",
    "Train_score.append(accuracy_score(y_train_final, y_pred_train))\n",
    "print('Accuracy Test :',accuracy_score(y_test, y_pred_test))\n",
    "Test_score.append(accuracy_score(y_test, y_pred_test))\n",
    "print('-'*50)\n",
    "\n",
    "print('-'*50)\n",
    "print('===== F1 Score =====')\n",
    "print('F1 Score : ', f1_score(y_test, y_pred_test))\n",
    "F1_score.append(f1_score(y_test, y_pred_test))\n",
    "print('-'*50)\n",
    "\n",
    "print('-'*50)\n",
    "print('===== ROC AUC Score =====')\n",
    "print('ROC AUC Score : ', roc_auc_score(y_test, y_pred_test))\n",
    "ROC_AUC_Score.append(roc_auc_score(y_test, y_pred_test))\n",
    "print('-'*50)\n",
    "\n",
    "print('-'*50)\n",
    "print('===== CLASSIFICATION REPORT =====')\n",
    "print('-'*50)\n",
    "print('\\n',classification_report(y_test, y_pred_test))\n",
    "print('-'*50)\n",
    "\n",
    "print('-'*50)\n",
    "print('===== Confusion Matrix =====')\n",
    "print('-'*50)\n",
    "plot_confusion_matrix(pipe_ada, X_test, y_test, cmap='Reds')  \n",
    "plt.show()\n",
    "print('')\n",
    "\n",
    "toc = time.time()\n",
    "time_taken = toc-tic\n",
    "print('Time : {} sec'.format(round(time_taken, 3)))\n",
    "Time_teken.append(round(time_taken, 3))"
   ]
  },
  {
   "cell_type": "markdown",
   "metadata": {},
   "source": [
    "### 8.6 SGDClassifier"
   ]
  },
  {
   "cell_type": "code",
   "execution_count": 51,
   "metadata": {},
   "outputs": [
    {
     "name": "stdout",
     "output_type": "stream",
     "text": [
      "--------------------------------------------------\n",
      "===== ACURACCY SCORE =====\n",
      "Accuracy Train : 0.6785446361590397\n",
      "Accuracy Test : 0.6282798833819242\n",
      "--------------------------------------------------\n",
      "--------------------------------------------------\n",
      "===== F1 Score =====\n",
      "F1 Score :  0.7482724580454098\n",
      "--------------------------------------------------\n",
      "--------------------------------------------------\n",
      "===== ROC AUC Score =====\n",
      "ROC AUC Score :  0.5337265140565994\n",
      "--------------------------------------------------\n",
      "--------------------------------------------------\n",
      "===== CLASSIFICATION REPORT =====\n",
      "--------------------------------------------------\n",
      "\n",
      "               precision    recall  f1-score   support\n",
      "\n",
      "           0       0.44      0.22      0.29       241\n",
      "           1       0.67      0.85      0.75       445\n",
      "\n",
      "    accuracy                           0.63       686\n",
      "   macro avg       0.55      0.53      0.52       686\n",
      "weighted avg       0.59      0.63      0.59       686\n",
      "\n",
      "--------------------------------------------------\n",
      "--------------------------------------------------\n",
      "===== Confusion Matrix =====\n",
      "--------------------------------------------------\n"
     ]
    },
    {
     "data": {
      "image/png": "[encoded data removed]",
      "text/plain": [
       "<Figure size 432x288 with 2 Axes>"
      ]
     },
     "metadata": {
      "needs_background": "light"
     },
     "output_type": "display_data"
    },
    {
     "name": "stdout",
     "output_type": "stream",
     "text": [
      "\n",
      "Time : 0.24 sec\n"
     ]
    }
   ],
   "source": [
    "# Model Evaluation\n",
    "\n",
    "## Predict on Train-Set and Test-Set\n",
    "y_pred_train = pipe_sgd.predict(X_train_final)\n",
    "y_pred_test = pipe_sgd.predict(X_test)\n",
    "\n",
    "tic = time.time()\n",
    "\n",
    "# Evaluate Model of matriks\n",
    "print('-'*50)\n",
    "print('===== ACURACCY SCORE =====')\n",
    "print('Accuracy Train :',accuracy_score(y_train_final, y_pred_train))\n",
    "Train_score.append(accuracy_score(y_train_final, y_pred_train))\n",
    "print('Accuracy Test :',accuracy_score(y_test, y_pred_test))\n",
    "Test_score.append(accuracy_score(y_test, y_pred_test))\n",
    "print('-'*50)\n",
    "\n",
    "print('-'*50)\n",
    "print('===== F1 Score =====')\n",
    "print('F1 Score : ', f1_score(y_test, y_pred_test))\n",
    "F1_score.append(f1_score(y_test, y_pred_test))\n",
    "print('-'*50)\n",
    "\n",
    "print('-'*50)\n",
    "print('===== ROC AUC Score =====')\n",
    "print('ROC AUC Score : ', roc_auc_score(y_test, y_pred_test))\n",
    "ROC_AUC_Score.append(roc_auc_score(y_test, y_pred_test))\n",
    "print('-'*50)\n",
    "\n",
    "print('-'*50)\n",
    "print('===== CLASSIFICATION REPORT =====')\n",
    "print('-'*50)\n",
    "print('\\n',classification_report(y_test, y_pred_test))\n",
    "print('-'*50)\n",
    "\n",
    "print('-'*50)\n",
    "print('===== Confusion Matrix =====')\n",
    "print('-'*50)\n",
    "plot_confusion_matrix(pipe_sgd, X_test, y_test, cmap='Reds')  \n",
    "plt.show()\n",
    "print('')\n",
    "\n",
    "toc = time.time()\n",
    "time_taken = toc-tic\n",
    "print('Time : {} sec'.format(round(time_taken, 3)))\n",
    "Time_teken.append(round(time_taken, 3))"
   ]
  },
  {
   "cell_type": "markdown",
   "metadata": {},
   "source": [
    "### 8.7 GradientBoostingClassifier"
   ]
  },
  {
   "cell_type": "code",
   "execution_count": 52,
   "metadata": {},
   "outputs": [
    {
     "name": "stdout",
     "output_type": "stream",
     "text": [
      "--------------------------------------------------\n",
      "===== ACURACCY SCORE =====\n",
      "Accuracy Train : 0.8210802700675168\n",
      "Accuracy Test : 0.7973760932944607\n",
      "--------------------------------------------------\n",
      "--------------------------------------------------\n",
      "===== F1 Score =====\n",
      "F1 Score :  0.8633235004916422\n",
      "--------------------------------------------------\n",
      "--------------------------------------------------\n",
      "===== ROC AUC Score =====\n",
      "ROC AUC Score :  0.7173248170077859\n",
      "--------------------------------------------------\n",
      "--------------------------------------------------\n",
      "===== CLASSIFICATION REPORT =====\n",
      "--------------------------------------------------\n",
      "\n",
      "               precision    recall  f1-score   support\n",
      "\n",
      "           0       0.95      0.45      0.61       241\n",
      "           1       0.77      0.99      0.86       445\n",
      "\n",
      "    accuracy                           0.80       686\n",
      "   macro avg       0.86      0.72      0.74       686\n",
      "weighted avg       0.83      0.80      0.77       686\n",
      "\n",
      "--------------------------------------------------\n",
      "--------------------------------------------------\n",
      "===== Confusion Matrix =====\n",
      "--------------------------------------------------\n"
     ]
    },
    {
     "data": {
      "image/png": "[encoded data removed]",
      "text/plain": [
       "<Figure size 432x288 with 2 Axes>"
      ]
     },
     "metadata": {
      "needs_background": "light"
     },
     "output_type": "display_data"
    },
    {
     "name": "stdout",
     "output_type": "stream",
     "text": [
      "\n",
      "Time : 0.228 sec\n"
     ]
    }
   ],
   "source": [
    "# Model Evaluation\n",
    "\n",
    "## Predict on Train-Set and Test-Set\n",
    "y_pred_train = pipe_gb.predict(X_train_final)\n",
    "y_pred_test = pipe_gb.predict(X_test)\n",
    "\n",
    "tic = time.time()\n",
    "\n",
    "# Evaluate Model of matriks\n",
    "print('-'*50)\n",
    "print('===== ACURACCY SCORE =====')\n",
    "print('Accuracy Train :',accuracy_score(y_train_final, y_pred_train))\n",
    "Train_score.append(accuracy_score(y_train_final, y_pred_train))\n",
    "print('Accuracy Test :',accuracy_score(y_test, y_pred_test))\n",
    "Test_score.append(accuracy_score(y_test, y_pred_test))\n",
    "print('-'*50)\n",
    "\n",
    "print('-'*50)\n",
    "print('===== F1 Score =====')\n",
    "print('F1 Score : ', f1_score(y_test, y_pred_test))\n",
    "F1_score.append(f1_score(y_test, y_pred_test))\n",
    "print('-'*50)\n",
    "\n",
    "print('-'*50)\n",
    "print('===== ROC AUC Score =====')\n",
    "print('ROC AUC Score : ', roc_auc_score(y_test, y_pred_test))\n",
    "ROC_AUC_Score.append(roc_auc_score(y_test, y_pred_test))\n",
    "print('-'*50)\n",
    "\n",
    "print('-'*50)\n",
    "print('===== CLASSIFICATION REPORT =====')\n",
    "print('-'*50)\n",
    "print('\\n',classification_report(y_test, y_pred_test))\n",
    "print('-'*50)\n",
    "\n",
    "print('-'*50)\n",
    "print('===== Confusion Matrix =====')\n",
    "print('-'*50)\n",
    "plot_confusion_matrix(pipe_gb, X_test, y_test, cmap='Reds')  \n",
    "plt.show()\n",
    "print('')\n",
    "\n",
    "toc = time.time()\n",
    "time_taken = toc-tic\n",
    "print('Time : {} sec'.format(round(time_taken, 3)))\n",
    "Time_teken.append(round(time_taken, 3))"
   ]
  },
  {
   "cell_type": "markdown",
   "metadata": {},
   "source": [
    "### 8.8 Model Comparison "
   ]
  },
  {
   "cell_type": "code",
   "execution_count": 53,
   "metadata": {},
   "outputs": [
    {
     "data": {
      "text/html": [
       "<div>\n",
       "<style scoped>\n",
       "    .dataframe tbody tr th:only-of-type {\n",
       "        vertical-align: middle;\n",
       "    }\n",
       "\n",
       "    .dataframe tbody tr th {\n",
       "        vertical-align: top;\n",
       "    }\n",
       "\n",
       "    .dataframe thead th {\n",
       "        text-align: right;\n",
       "    }\n",
       "</style>\n",
       "<table border=\"1\" class=\"dataframe\">\n",
       "  <thead>\n",
       "    <tr style=\"text-align: right;\">\n",
       "      <th></th>\n",
       "      <th>Model</th>\n",
       "      <th>Train score</th>\n",
       "      <th>Test score</th>\n",
       "      <th>ROC_AUC</th>\n",
       "      <th>F1 SCORE</th>\n",
       "      <th>Time taken (second)</th>\n",
       "    </tr>\n",
       "  </thead>\n",
       "  <tbody>\n",
       "    <tr>\n",
       "      <th>6</th>\n",
       "      <td>GradientBoostingClassifier</td>\n",
       "      <td>0.821080</td>\n",
       "      <td>0.797376</td>\n",
       "      <td>0.717325</td>\n",
       "      <td>0.863324</td>\n",
       "      <td>0.228</td>\n",
       "    </tr>\n",
       "    <tr>\n",
       "      <th>4</th>\n",
       "      <td>AdaBoostClassifier</td>\n",
       "      <td>0.806077</td>\n",
       "      <td>0.787172</td>\n",
       "      <td>0.712313</td>\n",
       "      <td>0.854582</td>\n",
       "      <td>0.269</td>\n",
       "    </tr>\n",
       "    <tr>\n",
       "      <th>2</th>\n",
       "      <td>Random Forest</td>\n",
       "      <td>0.961740</td>\n",
       "      <td>0.785714</td>\n",
       "      <td>0.713092</td>\n",
       "      <td>0.852853</td>\n",
       "      <td>0.572</td>\n",
       "    </tr>\n",
       "    <tr>\n",
       "      <th>1</th>\n",
       "      <td>Decision Tree</td>\n",
       "      <td>0.984246</td>\n",
       "      <td>0.749271</td>\n",
       "      <td>0.696415</td>\n",
       "      <td>0.818947</td>\n",
       "      <td>0.227</td>\n",
       "    </tr>\n",
       "    <tr>\n",
       "      <th>0</th>\n",
       "      <td>Logistic Regression</td>\n",
       "      <td>0.690923</td>\n",
       "      <td>0.628280</td>\n",
       "      <td>0.521362</td>\n",
       "      <td>0.754572</td>\n",
       "      <td>0.257</td>\n",
       "    </tr>\n",
       "    <tr>\n",
       "      <th>5</th>\n",
       "      <td>SGDClassifier</td>\n",
       "      <td>0.678545</td>\n",
       "      <td>0.628280</td>\n",
       "      <td>0.533727</td>\n",
       "      <td>0.748272</td>\n",
       "      <td>0.240</td>\n",
       "    </tr>\n",
       "    <tr>\n",
       "      <th>3</th>\n",
       "      <td>k-NN</td>\n",
       "      <td>0.757689</td>\n",
       "      <td>0.623907</td>\n",
       "      <td>0.550329</td>\n",
       "      <td>0.733471</td>\n",
       "      <td>0.374</td>\n",
       "    </tr>\n",
       "  </tbody>\n",
       "</table>\n",
       "</div>"
      ],
      "text/plain": [
       "                        Model  Train score  Test score   ROC_AUC  F1 SCORE  \\\n",
       "6  GradientBoostingClassifier     0.821080    0.797376  0.717325  0.863324   \n",
       "4          AdaBoostClassifier     0.806077    0.787172  0.712313  0.854582   \n",
       "2               Random Forest     0.961740    0.785714  0.713092  0.852853   \n",
       "1               Decision Tree     0.984246    0.749271  0.696415  0.818947   \n",
       "0         Logistic Regression     0.690923    0.628280  0.521362  0.754572   \n",
       "5               SGDClassifier     0.678545    0.628280  0.533727  0.748272   \n",
       "3                        k-NN     0.757689    0.623907  0.550329  0.733471   \n",
       "\n",
       "   Time taken (second)  \n",
       "6                0.228  \n",
       "4                0.269  \n",
       "2                0.572  \n",
       "1                0.227  \n",
       "0                0.257  \n",
       "5                0.240  \n",
       "3                0.374  "
      ]
     },
     "execution_count": 53,
     "metadata": {},
     "output_type": "execute_result"
    }
   ],
   "source": [
    "# comparison algorithm\n",
    "model_default = pd.DataFrame({'Model': ['Logistic Regression', 'Decision Tree', 'Random Forest', 'k-NN', 'AdaBoostClassifier', 'SGDClassifier', 'GradientBoostingClassifier'],\n",
    "                          'Train score' : Train_score,\n",
    "                          'Test score': Test_score, \n",
    "                          'ROC_AUC': ROC_AUC_Score,\n",
    "                          'F1 SCORE': F1_score,\n",
    "                          'Time taken (second)': Time_teken})\n",
    "\n",
    "# Menampilkan dan melakukan shorting berdasarkan F1 Score\n",
    "model_default.sort_values(by='F1 SCORE', ascending=False)"
   ]
  },
  {
   "cell_type": "markdown",
   "metadata": {},
   "source": [
    "Dari hasil tabel diatas, dengan algoritma menggunakan *default parameter* didapatkan hasil :\n",
    "* Top 3 Best model berdasarkan **F1-Score** adalah :\n",
    "    1. GradientBoostingClassifier, terlihat dari train dan test set model masuk kedalam **GOOD FIT**\n",
    "    2. Random Forest, terlihat dari train dan test set model mengalami **Overfitting**\n",
    "    3. AdaBoostClassifier, terlihat dari train dan test model bisa dikatakan **GOOD FIT**\n",
    "\n",
    "Dari ke tiga model tersebut, saya akan melakukan **tuning** terhadap model yang tidak mengalami **overfitting**. Sehingga saya akan melakukannya pada model **GradientBoostingClassifier** dan  **AdaBoostClassifier**."
   ]
  },
  {
   "cell_type": "markdown",
   "metadata": {},
   "source": [
    "### 8.9 Hyperparameter tuning"
   ]
  },
  {
   "cell_type": "markdown",
   "metadata": {},
   "source": [
    "Di dalam melakukan tuning ini, kita akan melakukan dengan 2 metode yaitu :\n",
    "1. Random Search\n",
    "2. Grid Search\n",
    "\n",
    "Kita akan melakukan random search untuk menentukan parameter yang terbaik untuk model algoritma yang akan kita tuning. Sementara gridsearch kita akan mencari best parameter dari yang terbaik yang telah dilakukan random search. Dan nantinya kita akan mendapatkan model yang sangat baik mungkin atau bisa saja dari 2 model yang akan dilakukan tuning. akan mengalami peningkatan, atau juga tidak akan berpengaruh secara signifikan. Kita tidak tau sebelum mencobannya. So, let's go kita lakukan step ini."
   ]
  },
  {
   "cell_type": "markdown",
   "metadata": {},
   "source": [
    "#### 8.9.1 Random Search"
   ]
  },
  {
   "cell_type": "markdown",
   "metadata": {},
   "source": [
    "##### GradientBoostingClassifier"
   ]
  },
  {
   "cell_type": "code",
   "execution_count": 54,
   "metadata": {},
   "outputs": [
    {
     "name": "stdout",
     "output_type": "stream",
     "text": [
      "Fitting 3 folds for each of 10 candidates, totalling 30 fits\n",
      "Wall time: 6min 25s\n",
      "Best parameter :\n",
      " {'algo_gb__n_estimators': 200, 'algo_gb__min_samples_split': 4, 'algo_gb__min_samples_leaf': 3, 'algo_gb__max_depth': 3, 'algo_gb__loss': 'exponential', 'algo_gb__learning_rate': 0.01, 'algo_gb__criterion': 'mse'}\n"
     ]
    }
   ],
   "source": [
    "# Create the random grid\n",
    "random_grid = {\n",
    "    'algo_gb__loss' : ['deviance', 'exponential'],\n",
    "    'algo_gb__learning_rate': [0.01, 0.05, 0.1],\n",
    "    'algo_gb__n_estimators' : np.arange(100,301,100),\n",
    "    'algo_gb__criterion': ['friedman_mse', 'squared_error', 'mse', 'mae'],\n",
    "    'algo_gb__min_samples_split': np.arange(2,5),\n",
    "    'algo_gb__min_samples_leaf' : np.arange(2,5),\n",
    "    'algo_gb__max_depth': np.arange(2,5)\n",
    "}\n",
    "\n",
    "\n",
    "gb_randomcv = RandomizedSearchCV(pipe_gb, param_distributions=random_grid, scoring=\"f1\", cv=3, verbose=1, random_state=1, n_jobs=-1)\n",
    "%time gb_randomcv.fit(X_train_final, y_train_final)\n",
    "print('Best parameter :\\n', gb_randomcv.best_params_)"
   ]
  },
  {
   "cell_type": "markdown",
   "metadata": {},
   "source": [
    "#### AdaBoostClassifier"
   ]
  },
  {
   "cell_type": "code",
   "execution_count": 55,
   "metadata": {},
   "outputs": [
    {
     "name": "stdout",
     "output_type": "stream",
     "text": [
      "Fitting 3 folds for each of 10 candidates, totalling 30 fits\n",
      "Wall time: 9.68 s\n",
      "Best parameter :\n",
      " {'algo_ada__n_estimators': 50, 'algo_ada__learning_rate': 0.1, 'algo_ada__algorithm': 'SAMME'}\n"
     ]
    }
   ],
   "source": [
    "# Create the random grid\n",
    "random_grid = {\n",
    "    'algo_ada__n_estimators' : [50, 100, 150, 200, 300],\n",
    "    'algo_ada__learning_rate' : [0.1, 0.4, 0.8, 1, 1.2],\n",
    "    'algo_ada__algorithm' : ['SAMME', 'SAMME.R']\n",
    "}\n",
    "\n",
    "\n",
    "ada_randomcv = RandomizedSearchCV(pipe_ada, param_distributions=random_grid, scoring=\"f1\", cv=3, verbose=1, random_state=2, n_jobs=-1)\n",
    "%time ada_randomcv.fit(X_train_final, y_train_final)\n",
    "print('Best parameter :\\n', ada_randomcv.best_params_)"
   ]
  },
  {
   "cell_type": "markdown",
   "metadata": {},
   "source": [
    "#### 8.9.2 GridSearchCV"
   ]
  },
  {
   "cell_type": "markdown",
   "metadata": {},
   "source": [
    "##### GradientBoostingClassifier"
   ]
  },
  {
   "cell_type": "code",
   "execution_count": 56,
   "metadata": {},
   "outputs": [
    {
     "name": "stdout",
     "output_type": "stream",
     "text": [
      "Fitting 3 folds for each of 243 candidates, totalling 729 fits\n",
      "Wall time: 3min 46s\n",
      "Best parameter :\n",
      " {'algo_gb__criterion': 'mse', 'algo_gb__learning_rate': 0.008, 'algo_gb__loss': 'exponential', 'algo_gb__max_depth': 3, 'algo_gb__min_samples_leaf': 2, 'algo_gb__min_samples_split': 4, 'algo_gb__n_estimators': 200}\n"
     ]
    }
   ],
   "source": [
    "# Create GridSearchCV\n",
    "param_grid_gradient = {\n",
    "    'algo_gb__n_estimators': [gb_randomcv.best_params_['algo_gb__n_estimators'] - 50,\n",
    "                             gb_randomcv.best_params_['algo_gb__n_estimators'],\n",
    "                             gb_randomcv.best_params_['algo_gb__n_estimators'] + 50],\n",
    "    'algo_gb__min_samples_split': [gb_randomcv.best_params_['algo_gb__min_samples_split'] -1,\n",
    "                                  gb_randomcv.best_params_['algo_gb__min_samples_split'],\n",
    "                                  gb_randomcv.best_params_['algo_gb__min_samples_split'] +1],\n",
    "    'algo_gb__min_samples_leaf': [gb_randomcv.best_params_['algo_gb__min_samples_leaf'] -1,\n",
    "                                 gb_randomcv.best_params_['algo_gb__min_samples_leaf'],\n",
    "                                 gb_randomcv.best_params_['algo_gb__min_samples_leaf'] +1],\n",
    "    'algo_gb__max_depth': [gb_randomcv.best_params_['algo_gb__max_depth'] -1,\n",
    "                          gb_randomcv.best_params_['algo_gb__max_depth'],\n",
    "                          gb_randomcv.best_params_['algo_gb__max_depth'] +1],\n",
    "    'algo_gb__loss': [gb_randomcv.best_params_['algo_gb__loss']],\n",
    "    'algo_gb__learning_rate': [gb_randomcv.best_params_['algo_gb__learning_rate'] - 0.002,\n",
    "                              gb_randomcv.best_params_['algo_gb__learning_rate'],\n",
    "                              gb_randomcv.best_params_['algo_gb__learning_rate'] + 0.002],\n",
    "    'algo_gb__criterion' : [gb_randomcv.best_params_['algo_gb__criterion']]\n",
    "}\n",
    "gb_gridcv = GridSearchCV(estimator=pipe_gb, param_grid=param_grid_gradient, cv=3, verbose=1, n_jobs=-1, scoring='f1')\n",
    "%time gb_gridcv.fit(X_train_final, y_train_final)\n",
    "print('Best parameter :\\n', gb_gridcv.best_params_)"
   ]
  },
  {
   "cell_type": "code",
   "execution_count": 57,
   "metadata": {},
   "outputs": [],
   "source": [
    "# define model best after tuning\n",
    "model_gb = gb_gridcv.best_estimator_"
   ]
  },
  {
   "cell_type": "markdown",
   "metadata": {},
   "source": [
    "##### AdaBoostClassifier"
   ]
  },
  {
   "cell_type": "code",
   "execution_count": 58,
   "metadata": {},
   "outputs": [
    {
     "name": "stdout",
     "output_type": "stream",
     "text": [
      "Fitting 3 folds for each of 15 candidates, totalling 45 fits\n",
      "Wall time: 4.56 s\n",
      "Best parameter :\n",
      " {'algo_ada__algorithm': 'SAMME', 'algo_ada__learning_rate': 0.08, 'algo_ada__n_estimators': 50}\n"
     ]
    }
   ],
   "source": [
    "# Create GridSearchCV\n",
    "param_grid_ada = {\n",
    "    'algo_ada__n_estimators' : [ada_randomcv.best_params_['algo_ada__n_estimators'] - 10,\n",
    "                               ada_randomcv.best_params_['algo_ada__n_estimators'],\n",
    "                               ada_randomcv.best_params_['algo_ada__n_estimators'] + 10],\n",
    "    'algo_ada__learning_rate' : [ada_randomcv.best_params_['algo_ada__learning_rate'] - 0.05,\n",
    "                                ada_randomcv.best_params_['algo_ada__learning_rate'] - 0.02,\n",
    "                                ada_randomcv.best_params_['algo_ada__learning_rate'],\n",
    "                                ada_randomcv.best_params_['algo_ada__learning_rate'] + 0.02,\n",
    "                                ada_randomcv.best_params_['algo_ada__learning_rate'] + 0.05],\n",
    "    'algo_ada__algorithm' : [ada_randomcv.best_params_['algo_ada__algorithm']]\n",
    "}\n",
    "ada_gridcv = GridSearchCV(estimator=pipe_ada, param_grid=param_grid_ada, cv=3, verbose=2, n_jobs=-1, scoring='f1')\n",
    "%time ada_gridcv.fit(X_train_final, y_train_final)\n",
    "print('Best parameter :\\n', ada_gridcv.best_params_)"
   ]
  },
  {
   "cell_type": "code",
   "execution_count": 59,
   "metadata": {},
   "outputs": [],
   "source": [
    "# define model best after tuning\n",
    "model_ada = ada_gridcv.best_estimator_"
   ]
  },
  {
   "cell_type": "markdown",
   "metadata": {},
   "source": [
    "Setelah melakukan tuning terhadap kedua model baik pada **GradientBoostingClassifier** dan **AdaBoostClassifier** didapatkan hasil parameter terbaiknya :\n",
    "- **GradientBoostingClassifier**  Best parameter :\n",
    " {'algo_gb__criterion': 'mse', 'algo_gb__learning_rate': 0.008, 'algo_gb__loss': 'exponential', 'algo_gb__max_depth': 3, 'algo_gb__min_samples_leaf': 2, 'algo_gb__min_samples_split': 4, 'algo_gb__n_estimators': 200}\n",
    "- **AdaBoostClassifier** Best parameter :\n",
    " {'algo_ada__algorithm': 'SAMME', 'algo_ada__learning_rate': 0.08, 'algo_ada__n_estimators': 50}"
   ]
  },
  {
   "cell_type": "markdown",
   "metadata": {},
   "source": [
    "### 8.10 Model Evaluation After Tuning"
   ]
  },
  {
   "cell_type": "code",
   "execution_count": 60,
   "metadata": {},
   "outputs": [],
   "source": [
    "# membuat list kosong\n",
    "Train_score_sesudah = []\n",
    "Test_score_sesudah = []\n",
    "F1_score_sesudah = []\n",
    "ROC_AUC_Score_sesudah = []\n",
    "Time_teken_sesudah = []"
   ]
  },
  {
   "cell_type": "markdown",
   "metadata": {},
   "source": [
    "#### 8.10.1 GradientBoostingClassifier"
   ]
  },
  {
   "cell_type": "code",
   "execution_count": 61,
   "metadata": {},
   "outputs": [
    {
     "name": "stdout",
     "output_type": "stream",
     "text": [
      "--------------------------------------------------\n",
      "===== ACURACCY SCORE =====\n",
      "Accuracy Train : 0.8019504876219055\n",
      "Accuracy Test : 0.8032069970845481\n",
      "--------------------------------------------------\n",
      "--------------------------------------------------\n",
      "===== F1 Score =====\n",
      "F1 Score :  0.8682926829268294\n",
      "--------------------------------------------------\n",
      "--------------------------------------------------\n",
      "===== ROC AUC Score =====\n",
      "ROC AUC Score :  0.7199170124481328\n",
      "--------------------------------------------------\n",
      "--------------------------------------------------\n",
      "===== CLASSIFICATION REPORT =====\n",
      "--------------------------------------------------\n",
      "\n",
      "               precision    recall  f1-score   support\n",
      "\n",
      "           0       1.00      0.44      0.61       241\n",
      "           1       0.77      1.00      0.87       445\n",
      "\n",
      "    accuracy                           0.80       686\n",
      "   macro avg       0.88      0.72      0.74       686\n",
      "weighted avg       0.85      0.80      0.78       686\n",
      "\n",
      "--------------------------------------------------\n",
      "--------------------------------------------------\n",
      "===== Confusion Matrix =====\n",
      "--------------------------------------------------\n"
     ]
    },
    {
     "data": {
      "image/png": "[encoded data removed]",
      "text/plain": [
       "<Figure size 432x288 with 2 Axes>"
      ]
     },
     "metadata": {
      "needs_background": "light"
     },
     "output_type": "display_data"
    },
    {
     "name": "stdout",
     "output_type": "stream",
     "text": [
      "\n",
      "Time : 0.289 sec\n"
     ]
    }
   ],
   "source": [
    "# Model Evaluation\n",
    "\n",
    "## Predict on Train-Set and Test-Set\n",
    "y_pred_train = model_gb.predict(X_train_final)\n",
    "y_pred_test = model_gb.predict(X_test)\n",
    "\n",
    "tic = time.time()\n",
    "\n",
    "# Evaluate Model of matriks\n",
    "print('-'*50)\n",
    "print('===== ACURACCY SCORE =====')\n",
    "print('Accuracy Train :',accuracy_score(y_train_final, y_pred_train))\n",
    "Train_score_sesudah.append(accuracy_score(y_train_final, y_pred_train))\n",
    "print('Accuracy Test :',accuracy_score(y_test, y_pred_test))\n",
    "Test_score_sesudah.append(accuracy_score(y_test, y_pred_test))\n",
    "print('-'*50)\n",
    "\n",
    "print('-'*50)\n",
    "print('===== F1 Score =====')\n",
    "print('F1 Score : ', f1_score(y_test, y_pred_test))\n",
    "F1_score_sesudah.append(f1_score(y_test, y_pred_test))\n",
    "print('-'*50)\n",
    "\n",
    "print('-'*50)\n",
    "print('===== ROC AUC Score =====')\n",
    "print('ROC AUC Score : ', roc_auc_score(y_test, y_pred_test))\n",
    "ROC_AUC_Score_sesudah.append(roc_auc_score(y_test, y_pred_test))\n",
    "print('-'*50)\n",
    "\n",
    "print('-'*50)\n",
    "print('===== CLASSIFICATION REPORT =====')\n",
    "print('-'*50)\n",
    "print('\\n',classification_report(y_test, y_pred_test))\n",
    "print('-'*50)\n",
    "\n",
    "print('-'*50)\n",
    "print('===== Confusion Matrix =====')\n",
    "print('-'*50)\n",
    "plot_confusion_matrix(model_gb, X_test, y_test, cmap='Reds')  \n",
    "plt.show()\n",
    "print('')\n",
    "\n",
    "toc = time.time()\n",
    "time_taken = toc-tic\n",
    "print('Time : {} sec'.format(round(time_taken, 3)))\n",
    "Time_teken_sesudah.append(round(time_taken, 3))"
   ]
  },
  {
   "cell_type": "markdown",
   "metadata": {},
   "source": [
    "#### 8.10.2 AdaBoostClassifier"
   ]
  },
  {
   "cell_type": "code",
   "execution_count": 62,
   "metadata": {
    "scrolled": false
   },
   "outputs": [
    {
     "name": "stdout",
     "output_type": "stream",
     "text": [
      "--------------------------------------------------\n",
      "===== ACURACCY SCORE =====\n",
      "Accuracy Train : 0.8019504876219055\n",
      "Accuracy Test : 0.8032069970845481\n",
      "--------------------------------------------------\n",
      "--------------------------------------------------\n",
      "===== F1 Score =====\n",
      "F1 Score :  0.8682926829268294\n",
      "--------------------------------------------------\n",
      "--------------------------------------------------\n",
      "===== ROC AUC Score =====\n",
      "ROC AUC Score :  0.7199170124481328\n",
      "--------------------------------------------------\n",
      "--------------------------------------------------\n",
      "===== CLASSIFICATION REPORT =====\n",
      "--------------------------------------------------\n",
      "\n",
      "               precision    recall  f1-score   support\n",
      "\n",
      "           0       1.00      0.44      0.61       241\n",
      "           1       0.77      1.00      0.87       445\n",
      "\n",
      "    accuracy                           0.80       686\n",
      "   macro avg       0.88      0.72      0.74       686\n",
      "weighted avg       0.85      0.80      0.78       686\n",
      "\n",
      "--------------------------------------------------\n",
      "--------------------------------------------------\n",
      "===== Confusion Matrix =====\n",
      "--------------------------------------------------\n"
     ]
    },
    {
     "data": {
      "image/png": "[encoded data removed]",
      "text/plain": [
       "<Figure size 432x288 with 2 Axes>"
      ]
     },
     "metadata": {
      "needs_background": "light"
     },
     "output_type": "display_data"
    },
    {
     "name": "stdout",
     "output_type": "stream",
     "text": [
      "\n",
      "Time : 0.344 sec\n"
     ]
    }
   ],
   "source": [
    "# Model Evaluation\n",
    "\n",
    "## Predict on Train-Set and Test-Set\n",
    "y_pred_train = model_ada.predict(X_train_final)\n",
    "y_pred_test = model_ada.predict(X_test)\n",
    "\n",
    "tic = time.time()\n",
    "\n",
    "# Evaluate Model of matriks\n",
    "print('-'*50)\n",
    "print('===== ACURACCY SCORE =====')\n",
    "print('Accuracy Train :',accuracy_score(y_train_final, y_pred_train))\n",
    "Train_score_sesudah.append(accuracy_score(y_train_final, y_pred_train))\n",
    "print('Accuracy Test :',accuracy_score(y_test, y_pred_test))\n",
    "Test_score_sesudah.append(accuracy_score(y_test, y_pred_test))\n",
    "print('-'*50)\n",
    "\n",
    "print('-'*50)\n",
    "print('===== F1 Score =====')\n",
    "print('F1 Score : ', f1_score(y_test, y_pred_test))\n",
    "F1_score_sesudah.append(f1_score(y_test, y_pred_test))\n",
    "print('-'*50)\n",
    "\n",
    "print('-'*50)\n",
    "print('===== ROC AUC Score =====')\n",
    "print('ROC AUC Score : ', roc_auc_score(y_test, y_pred_test))\n",
    "ROC_AUC_Score_sesudah.append(roc_auc_score(y_test, y_pred_test))\n",
    "print('-'*50)\n",
    "\n",
    "print('-'*50)\n",
    "print('===== CLASSIFICATION REPORT =====')\n",
    "print('-'*50)\n",
    "print('\\n',classification_report(y_test, y_pred_test))\n",
    "print('-'*50)\n",
    "\n",
    "print('-'*50)\n",
    "print('===== Confusion Matrix =====')\n",
    "print('-'*50)\n",
    "plot_confusion_matrix(model_ada, X_test, y_test, cmap='Reds')  \n",
    "plt.show()\n",
    "print('')\n",
    "\n",
    "toc = time.time()\n",
    "time_taken = toc-tic\n",
    "print('Time : {} sec'.format(round(time_taken, 3)))\n",
    "Time_teken_sesudah.append(round(time_taken, 3))"
   ]
  },
  {
   "cell_type": "markdown",
   "metadata": {},
   "source": [
    "### 8.11 Model Comparison before dan after tuning"
   ]
  },
  {
   "cell_type": "code",
   "execution_count": 63,
   "metadata": {},
   "outputs": [],
   "source": [
    "# Create Dataframe model, after tuning\n",
    "model_after_tuning = pd.DataFrame({'Model': ['GradientBoostingClassifier', 'AdaBoostClassifier'],\n",
    "                          'Train score' : Train_score_sesudah,\n",
    "                          'Test score': Test_score_sesudah, \n",
    "                          'ROC_AUC': ROC_AUC_Score_sesudah,\n",
    "                          'F1 SCORE': F1_score_sesudah,\n",
    "                          'Time taken (second)': Time_teken_sesudah})\n"
   ]
  },
  {
   "cell_type": "code",
   "execution_count": 64,
   "metadata": {},
   "outputs": [
    {
     "data": {
      "text/html": [
       "<div>\n",
       "<style scoped>\n",
       "    .dataframe tbody tr th:only-of-type {\n",
       "        vertical-align: middle;\n",
       "    }\n",
       "\n",
       "    .dataframe tbody tr th {\n",
       "        vertical-align: top;\n",
       "    }\n",
       "\n",
       "    .dataframe thead th {\n",
       "        text-align: right;\n",
       "    }\n",
       "</style>\n",
       "<table border=\"1\" class=\"dataframe\">\n",
       "  <thead>\n",
       "    <tr style=\"text-align: right;\">\n",
       "      <th></th>\n",
       "      <th>Model</th>\n",
       "      <th>Train score</th>\n",
       "      <th>Test score</th>\n",
       "      <th>ROC_AUC</th>\n",
       "      <th>F1 SCORE</th>\n",
       "      <th>Time taken (second)</th>\n",
       "    </tr>\n",
       "  </thead>\n",
       "  <tbody>\n",
       "    <tr>\n",
       "      <th>6</th>\n",
       "      <td>GradientBoostingClassifier</td>\n",
       "      <td>0.821080</td>\n",
       "      <td>0.797376</td>\n",
       "      <td>0.717325</td>\n",
       "      <td>0.863324</td>\n",
       "      <td>0.228</td>\n",
       "    </tr>\n",
       "    <tr>\n",
       "      <th>4</th>\n",
       "      <td>AdaBoostClassifier</td>\n",
       "      <td>0.806077</td>\n",
       "      <td>0.787172</td>\n",
       "      <td>0.712313</td>\n",
       "      <td>0.854582</td>\n",
       "      <td>0.269</td>\n",
       "    </tr>\n",
       "    <tr>\n",
       "      <th>2</th>\n",
       "      <td>Random Forest</td>\n",
       "      <td>0.961740</td>\n",
       "      <td>0.785714</td>\n",
       "      <td>0.713092</td>\n",
       "      <td>0.852853</td>\n",
       "      <td>0.572</td>\n",
       "    </tr>\n",
       "  </tbody>\n",
       "</table>\n",
       "</div>"
      ],
      "text/plain": [
       "                        Model  Train score  Test score   ROC_AUC  F1 SCORE  \\\n",
       "6  GradientBoostingClassifier     0.821080    0.797376  0.717325  0.863324   \n",
       "4          AdaBoostClassifier     0.806077    0.787172  0.712313  0.854582   \n",
       "2               Random Forest     0.961740    0.785714  0.713092  0.852853   \n",
       "\n",
       "   Time taken (second)  \n",
       "6                0.228  \n",
       "4                0.269  \n",
       "2                0.572  "
      ]
     },
     "execution_count": 64,
     "metadata": {},
     "output_type": "execute_result"
    }
   ],
   "source": [
    "# Show model before tuning\n",
    "model_default.sort_values(by='F1 SCORE', ascending=False).head(3)"
   ]
  },
  {
   "cell_type": "code",
   "execution_count": 65,
   "metadata": {},
   "outputs": [
    {
     "data": {
      "text/html": [
       "<div>\n",
       "<style scoped>\n",
       "    .dataframe tbody tr th:only-of-type {\n",
       "        vertical-align: middle;\n",
       "    }\n",
       "\n",
       "    .dataframe tbody tr th {\n",
       "        vertical-align: top;\n",
       "    }\n",
       "\n",
       "    .dataframe thead th {\n",
       "        text-align: right;\n",
       "    }\n",
       "</style>\n",
       "<table border=\"1\" class=\"dataframe\">\n",
       "  <thead>\n",
       "    <tr style=\"text-align: right;\">\n",
       "      <th></th>\n",
       "      <th>Model</th>\n",
       "      <th>Train score</th>\n",
       "      <th>Test score</th>\n",
       "      <th>ROC_AUC</th>\n",
       "      <th>F1 SCORE</th>\n",
       "      <th>Time taken (second)</th>\n",
       "    </tr>\n",
       "  </thead>\n",
       "  <tbody>\n",
       "    <tr>\n",
       "      <th>0</th>\n",
       "      <td>GradientBoostingClassifier</td>\n",
       "      <td>0.80195</td>\n",
       "      <td>0.803207</td>\n",
       "      <td>0.719917</td>\n",
       "      <td>0.868293</td>\n",
       "      <td>0.289</td>\n",
       "    </tr>\n",
       "    <tr>\n",
       "      <th>1</th>\n",
       "      <td>AdaBoostClassifier</td>\n",
       "      <td>0.80195</td>\n",
       "      <td>0.803207</td>\n",
       "      <td>0.719917</td>\n",
       "      <td>0.868293</td>\n",
       "      <td>0.344</td>\n",
       "    </tr>\n",
       "  </tbody>\n",
       "</table>\n",
       "</div>"
      ],
      "text/plain": [
       "                        Model  Train score  Test score   ROC_AUC  F1 SCORE  \\\n",
       "0  GradientBoostingClassifier      0.80195    0.803207  0.719917  0.868293   \n",
       "1          AdaBoostClassifier      0.80195    0.803207  0.719917  0.868293   \n",
       "\n",
       "   Time taken (second)  \n",
       "0                0.289  \n",
       "1                0.344  "
      ]
     },
     "execution_count": 65,
     "metadata": {},
     "output_type": "execute_result"
    }
   ],
   "source": [
    "# Show model after tuning\n",
    "model_after_tuning.sort_values(by='F1 SCORE', ascending=False)"
   ]
  },
  {
   "cell_type": "markdown",
   "metadata": {},
   "source": [
    "Dari hasil komparasi model sebelum dan sesudah tuning terlihat bahwa :\n",
    "- untuk model **GradientBoostingClassifier** tidak ada peningkatan secara signifikan dari sebelum dan sesudah tuning. Tetapi terlihat ada sedikit perbedaan pada nilai train dan test. Sehingga model bisa dikatan benar-benar **GOOD FITT**\n",
    "- untuk model **AdaBoostClassifier** terlihat ada hanya sedikit peningkatan setalah dilakukan tuning. Tetapi terlihat pada train dan test sedikit ada perbedaan pada nilainya, Sehingga model bisa dikatakan **GOOD FITT**\n",
    "\n",
    "Dari hasil kedua model setelah dilakukan tuning. Kita akan menggunakan model dari **GradientBoostingClassifier** untuk melakukan model inference dan membuat dashboard nantinya."
   ]
  },
  {
   "cell_type": "markdown",
   "metadata": {},
   "source": [
    "# 9. Model Saving\n",
    "\n",
    "Dengan melihat hasil evaluasi model, pilihlah model terbaik untuk disimpan. Model terbaik ini akan digunakan kembali dalam melakukan deployment di Heroku."
   ]
  },
  {
   "cell_type": "code",
   "execution_count": 66,
   "metadata": {},
   "outputs": [],
   "source": [
    "# Melakukan penyimpanan model\n",
    "import pickle\n",
    "\n",
    "# model\n",
    "with open(\"model.pkl\", \"wb\") as model_file:\n",
    "    pickle.dump(model_gb, model_file)"
   ]
  },
  {
   "cell_type": "markdown",
   "metadata": {},
   "source": [
    "# 10. Model Inference"
   ]
  },
  {
   "cell_type": "markdown",
   "metadata": {},
   "source": [
    "Model yang sudah dilatih akan dicoba pada data yang bukan termasuk ke dalam train-set ataupun test-set. Data ini harus dalam format yang asli, bukan data yang sudah di-scaled."
   ]
  },
  {
   "cell_type": "code",
   "execution_count": 71,
   "metadata": {},
   "outputs": [
    {
     "data": {
      "text/html": [
       "<div>\n",
       "<style scoped>\n",
       "    .dataframe tbody tr th:only-of-type {\n",
       "        vertical-align: middle;\n",
       "    }\n",
       "\n",
       "    .dataframe tbody tr th {\n",
       "        vertical-align: top;\n",
       "    }\n",
       "\n",
       "    .dataframe thead th {\n",
       "        text-align: right;\n",
       "    }\n",
       "</style>\n",
       "<table border=\"1\" class=\"dataframe\">\n",
       "  <thead>\n",
       "    <tr style=\"text-align: right;\">\n",
       "      <th></th>\n",
       "      <th>Year</th>\n",
       "      <th>Player</th>\n",
       "      <th>Age</th>\n",
       "      <th>School</th>\n",
       "      <th>Height</th>\n",
       "      <th>Weight</th>\n",
       "      <th>Sprint_40yd</th>\n",
       "      <th>Vertical_Jump</th>\n",
       "      <th>Bench_Press_Reps</th>\n",
       "      <th>Broad_Jump</th>\n",
       "      <th>Agility_3cone</th>\n",
       "      <th>Shuttle</th>\n",
       "      <th>Drafted..tm.rnd.yr.</th>\n",
       "      <th>BMI</th>\n",
       "      <th>Player_Type</th>\n",
       "      <th>Position_Type</th>\n",
       "      <th>Position</th>\n",
       "      <th>Drafted</th>\n",
       "    </tr>\n",
       "  </thead>\n",
       "  <tbody>\n",
       "    <tr>\n",
       "      <th>0</th>\n",
       "      <td>2013</td>\n",
       "      <td>Josh Boyd\\BoydJo00</td>\n",
       "      <td>23.0</td>\n",
       "      <td>Mississippi St.</td>\n",
       "      <td>1.9050</td>\n",
       "      <td>140.613635</td>\n",
       "      <td>5.14</td>\n",
       "      <td>67.31</td>\n",
       "      <td>32.0</td>\n",
       "      <td>264.16</td>\n",
       "      <td>7.16</td>\n",
       "      <td>4.64</td>\n",
       "      <td>Green Bay Packers / 5th / 167th pick / 2013</td>\n",
       "      <td>38.746946</td>\n",
       "      <td>defense</td>\n",
       "      <td>defensive_lineman</td>\n",
       "      <td>DT</td>\n",
       "      <td>Yes</td>\n",
       "    </tr>\n",
       "    <tr>\n",
       "      <th>1</th>\n",
       "      <td>2009</td>\n",
       "      <td>Clint Sintim\\SintCl99</td>\n",
       "      <td>23.0</td>\n",
       "      <td>Virginia</td>\n",
       "      <td>1.9050</td>\n",
       "      <td>116.119647</td>\n",
       "      <td>4.75</td>\n",
       "      <td>87.63</td>\n",
       "      <td>NaN</td>\n",
       "      <td>302.26</td>\n",
       "      <td>7.37</td>\n",
       "      <td>4.40</td>\n",
       "      <td>New York Giants / 2nd / 45th pick / 2009</td>\n",
       "      <td>31.997478</td>\n",
       "      <td>defense</td>\n",
       "      <td>line_backer</td>\n",
       "      <td>OLB</td>\n",
       "      <td>Yes</td>\n",
       "    </tr>\n",
       "    <tr>\n",
       "      <th>2</th>\n",
       "      <td>2017</td>\n",
       "      <td>T.J. Watt\\WattT.00</td>\n",
       "      <td>22.0</td>\n",
       "      <td>Wisconsin</td>\n",
       "      <td>1.9304</td>\n",
       "      <td>114.305277</td>\n",
       "      <td>4.69</td>\n",
       "      <td>93.98</td>\n",
       "      <td>21.0</td>\n",
       "      <td>325.12</td>\n",
       "      <td>6.79</td>\n",
       "      <td>4.13</td>\n",
       "      <td>Pittsburgh Steelers / 1st / 30th pick / 2017</td>\n",
       "      <td>30.674088</td>\n",
       "      <td>defense</td>\n",
       "      <td>line_backer</td>\n",
       "      <td>OLB</td>\n",
       "      <td>Yes</td>\n",
       "    </tr>\n",
       "    <tr>\n",
       "      <th>3</th>\n",
       "      <td>2014</td>\n",
       "      <td>Pierre Desir\\DesiPi00</td>\n",
       "      <td>23.0</td>\n",
       "      <td>Lindenwood</td>\n",
       "      <td>1.8542</td>\n",
       "      <td>89.811289</td>\n",
       "      <td>4.59</td>\n",
       "      <td>88.90</td>\n",
       "      <td>11.0</td>\n",
       "      <td>337.82</td>\n",
       "      <td>6.86</td>\n",
       "      <td>4.30</td>\n",
       "      <td>Cleveland Browns / 4th / 127th pick / 2014</td>\n",
       "      <td>26.122683</td>\n",
       "      <td>defense</td>\n",
       "      <td>defensive_back</td>\n",
       "      <td>CB</td>\n",
       "      <td>Yes</td>\n",
       "    </tr>\n",
       "    <tr>\n",
       "      <th>4</th>\n",
       "      <td>2019</td>\n",
       "      <td>Keenen Brown\\BrowKe03</td>\n",
       "      <td>23.0</td>\n",
       "      <td>Texas St.</td>\n",
       "      <td>1.8796</td>\n",
       "      <td>113.398093</td>\n",
       "      <td>4.75</td>\n",
       "      <td>83.82</td>\n",
       "      <td>17.0</td>\n",
       "      <td>297.18</td>\n",
       "      <td>7.27</td>\n",
       "      <td>4.51</td>\n",
       "      <td>NaN</td>\n",
       "      <td>32.097771</td>\n",
       "      <td>offense</td>\n",
       "      <td>backs_receivers</td>\n",
       "      <td>TE</td>\n",
       "      <td>No</td>\n",
       "    </tr>\n",
       "  </tbody>\n",
       "</table>\n",
       "</div>"
      ],
      "text/plain": [
       "   Year                 Player   Age           School  Height      Weight  \\\n",
       "0  2013     Josh Boyd\\BoydJo00  23.0  Mississippi St.  1.9050  140.613635   \n",
       "1  2009  Clint Sintim\\SintCl99  23.0         Virginia  1.9050  116.119647   \n",
       "2  2017     T.J. Watt\\WattT.00  22.0        Wisconsin  1.9304  114.305277   \n",
       "3  2014  Pierre Desir\\DesiPi00  23.0       Lindenwood  1.8542   89.811289   \n",
       "4  2019  Keenen Brown\\BrowKe03  23.0        Texas St.  1.8796  113.398093   \n",
       "\n",
       "   Sprint_40yd  Vertical_Jump  Bench_Press_Reps  Broad_Jump  Agility_3cone  \\\n",
       "0         5.14          67.31              32.0      264.16           7.16   \n",
       "1         4.75          87.63               NaN      302.26           7.37   \n",
       "2         4.69          93.98              21.0      325.12           6.79   \n",
       "3         4.59          88.90              11.0      337.82           6.86   \n",
       "4         4.75          83.82              17.0      297.18           7.27   \n",
       "\n",
       "   Shuttle                           Drafted..tm.rnd.yr.        BMI  \\\n",
       "0     4.64   Green Bay Packers / 5th / 167th pick / 2013  38.746946   \n",
       "1     4.40      New York Giants / 2nd / 45th pick / 2009  31.997478   \n",
       "2     4.13  Pittsburgh Steelers / 1st / 30th pick / 2017  30.674088   \n",
       "3     4.30    Cleveland Browns / 4th / 127th pick / 2014  26.122683   \n",
       "4     4.51                                           NaN  32.097771   \n",
       "\n",
       "  Player_Type      Position_Type Position Drafted  \n",
       "0     defense  defensive_lineman       DT     Yes  \n",
       "1     defense        line_backer      OLB     Yes  \n",
       "2     defense        line_backer      OLB     Yes  \n",
       "3     defense     defensive_back       CB     Yes  \n",
       "4     offense    backs_receivers       TE      No  "
      ]
     },
     "execution_count": 71,
     "metadata": {},
     "output_type": "execute_result"
    }
   ],
   "source": [
    "# melihat data inference yang telah kita siapkan sebelumnya\n",
    "data_inf.head()"
   ]
  },
  {
   "cell_type": "code",
   "execution_count": 79,
   "metadata": {},
   "outputs": [
    {
     "data": {
      "text/html": [
       "<div>\n",
       "<style scoped>\n",
       "    .dataframe tbody tr th:only-of-type {\n",
       "        vertical-align: middle;\n",
       "    }\n",
       "\n",
       "    .dataframe tbody tr th {\n",
       "        vertical-align: top;\n",
       "    }\n",
       "\n",
       "    .dataframe thead th {\n",
       "        text-align: right;\n",
       "    }\n",
       "</style>\n",
       "<table border=\"1\" class=\"dataframe\">\n",
       "  <thead>\n",
       "    <tr style=\"text-align: right;\">\n",
       "      <th></th>\n",
       "      <th>Age</th>\n",
       "      <th>School</th>\n",
       "      <th>Height</th>\n",
       "      <th>Weight</th>\n",
       "      <th>Vertical_Jump</th>\n",
       "      <th>Bench_Press_Reps</th>\n",
       "      <th>Drafted - Prediction</th>\n",
       "    </tr>\n",
       "  </thead>\n",
       "  <tbody>\n",
       "    <tr>\n",
       "      <th>0</th>\n",
       "      <td>23.0</td>\n",
       "      <td>Mississippi St.</td>\n",
       "      <td>1.9050</td>\n",
       "      <td>140.613635</td>\n",
       "      <td>67.31</td>\n",
       "      <td>32.0</td>\n",
       "      <td>Yes</td>\n",
       "    </tr>\n",
       "    <tr>\n",
       "      <th>1</th>\n",
       "      <td>23.0</td>\n",
       "      <td>Virginia</td>\n",
       "      <td>1.9050</td>\n",
       "      <td>116.119647</td>\n",
       "      <td>87.63</td>\n",
       "      <td>NaN</td>\n",
       "      <td>Yes</td>\n",
       "    </tr>\n",
       "    <tr>\n",
       "      <th>2</th>\n",
       "      <td>22.0</td>\n",
       "      <td>Wisconsin</td>\n",
       "      <td>1.9304</td>\n",
       "      <td>114.305277</td>\n",
       "      <td>93.98</td>\n",
       "      <td>21.0</td>\n",
       "      <td>Yes</td>\n",
       "    </tr>\n",
       "    <tr>\n",
       "      <th>3</th>\n",
       "      <td>23.0</td>\n",
       "      <td>Lindenwood</td>\n",
       "      <td>1.8542</td>\n",
       "      <td>89.811289</td>\n",
       "      <td>88.90</td>\n",
       "      <td>11.0</td>\n",
       "      <td>Yes</td>\n",
       "    </tr>\n",
       "    <tr>\n",
       "      <th>4</th>\n",
       "      <td>23.0</td>\n",
       "      <td>Texas St.</td>\n",
       "      <td>1.8796</td>\n",
       "      <td>113.398093</td>\n",
       "      <td>83.82</td>\n",
       "      <td>17.0</td>\n",
       "      <td>Yes</td>\n",
       "    </tr>\n",
       "    <tr>\n",
       "      <th>5</th>\n",
       "      <td>21.0</td>\n",
       "      <td>Clemson</td>\n",
       "      <td>1.9812</td>\n",
       "      <td>147.871113</td>\n",
       "      <td>73.66</td>\n",
       "      <td>33.0</td>\n",
       "      <td>Yes</td>\n",
       "    </tr>\n",
       "    <tr>\n",
       "      <th>6</th>\n",
       "      <td>22.0</td>\n",
       "      <td>USC</td>\n",
       "      <td>1.9304</td>\n",
       "      <td>113.398093</td>\n",
       "      <td>NaN</td>\n",
       "      <td>20.0</td>\n",
       "      <td>Yes</td>\n",
       "    </tr>\n",
       "    <tr>\n",
       "      <th>7</th>\n",
       "      <td>NaN</td>\n",
       "      <td>Dixie State</td>\n",
       "      <td>1.9050</td>\n",
       "      <td>121.562755</td>\n",
       "      <td>NaN</td>\n",
       "      <td>35.0</td>\n",
       "      <td>No</td>\n",
       "    </tr>\n",
       "    <tr>\n",
       "      <th>8</th>\n",
       "      <td>NaN</td>\n",
       "      <td>Texas Tech</td>\n",
       "      <td>1.9304</td>\n",
       "      <td>93.440028</td>\n",
       "      <td>93.98</td>\n",
       "      <td>6.0</td>\n",
       "      <td>No</td>\n",
       "    </tr>\n",
       "    <tr>\n",
       "      <th>9</th>\n",
       "      <td>22.0</td>\n",
       "      <td>Oklahoma</td>\n",
       "      <td>1.8542</td>\n",
       "      <td>91.625659</td>\n",
       "      <td>90.17</td>\n",
       "      <td>20.0</td>\n",
       "      <td>Yes</td>\n",
       "    </tr>\n",
       "  </tbody>\n",
       "</table>\n",
       "</div>"
      ],
      "text/plain": [
       "    Age           School  Height      Weight  Vertical_Jump  Bench_Press_Reps  \\\n",
       "0  23.0  Mississippi St.  1.9050  140.613635          67.31              32.0   \n",
       "1  23.0         Virginia  1.9050  116.119647          87.63               NaN   \n",
       "2  22.0        Wisconsin  1.9304  114.305277          93.98              21.0   \n",
       "3  23.0       Lindenwood  1.8542   89.811289          88.90              11.0   \n",
       "4  23.0        Texas St.  1.8796  113.398093          83.82              17.0   \n",
       "5  21.0          Clemson  1.9812  147.871113          73.66              33.0   \n",
       "6  22.0              USC  1.9304  113.398093            NaN              20.0   \n",
       "7   NaN      Dixie State  1.9050  121.562755            NaN              35.0   \n",
       "8   NaN       Texas Tech  1.9304   93.440028          93.98               6.0   \n",
       "9  22.0         Oklahoma  1.8542   91.625659          90.17              20.0   \n",
       "\n",
       "  Drafted - Prediction  \n",
       "0                  Yes  \n",
       "1                  Yes  \n",
       "2                  Yes  \n",
       "3                  Yes  \n",
       "4                  Yes  \n",
       "5                  Yes  \n",
       "6                  Yes  \n",
       "7                   No  \n",
       "8                   No  \n",
       "9                  Yes  "
      ]
     },
     "execution_count": 79,
     "metadata": {},
     "output_type": "execute_result"
    }
   ],
   "source": [
    "# Predict Model Inference\n",
    "y_pred_inf = model_gb.predict(data_inf)\n",
    "y_pred_inf = pd.DataFrame(y_pred_inf, columns=['Drafted - Prediction'])\n",
    "y_pred_inf.replace({0:'No', 1:'Yes'}, inplace=True)\n",
    "\n",
    "# Create New Variabel DataFrame\n",
    "data_inf_select = data_inf[['Age', 'School', 'Height', 'Weight', 'Vertical_Jump', 'Bench_Press_Reps']]\n",
    "# Concate to Original Inference-Set\n",
    "pd.concat([data_inf_select, y_pred_inf], axis=1).head(10)"
   ]
  },
  {
   "cell_type": "markdown",
   "metadata": {},
   "source": [
    "# 11. Pengambilan Kesimpulan"
   ]
  },
  {
   "cell_type": "markdown",
   "metadata": {},
   "source": [
    "Oke kita sudah selasai membuat sebuah model machine learning, yang diperuntukan untuk memprediksi klasifikasi biner, untuk membantu agent dalam melakukan rekrut pemain NFL dengan mempertimbangkan beberapa fitur yang digunakan untuk mendapatkan hasil model yang cukup baik. Agar memudahkan agent untuk menentukan apakah pemain yang akan direkrut itu sudah masuk kedalam syarat menjadi pemain NFL atau belum.\n",
    "\n",
    "\n",
    "## Model Analysis\n",
    "\n",
    "Dari hasil melakukan pemodelan dengan menggunakan beberapa model algoritma machine learning yang telah kita pelajari di Hacktiv8 ini. Dari hasil menggunakan default parameter terhadap model yang kita gunakan, ternyata kita mendapatkan 3 best model berdasarkan default parameter yang digunakan. Saya mengurutkan berdasarkan nilai score F1 Score.\n",
    "\n",
    "Top 3 Best model berdasarkan **F1-Score** adalah :\n",
    "1. **GradientBoostingClassifier** \n",
    "2. **RandomForestClassifier** \n",
    "3. **AdaBoostClassifier** \n",
    "\n",
    "| Model| Train Score | Test Score | F1-Score | Overview |\n",
    "|-|-|-|-|-|\n",
    "| GradientBoostingClassifier | 0.819580 | 0.798834 | 0.864173 | Good Fit |\n",
    "| RandomForestClassifier | 0.951613 | 0.790087 | 0.856287 | Overfitting |\n",
    "| AdaBoostClassifier | 0.806077 | 0.787172 | 0.854582 | Good Fit |\n",
    "\n",
    "Dari Top 3 model tersebut hanya 2 model yang dilakukan **Hyperparameter Tuning** pada model yang **Good Fit** saja. Dengan menggunakan 2 metode yaitu **RandomSearchCV** dan **GridSearchCV**. Setelah melakukan tuning didaptkan hasil :\n",
    "1. **GradientBoostingClassifier** \n",
    "    - Best parameter :\n",
    "        |Parameter| Result|\n",
    "        |-|-|\n",
    "        |criterion|mse|\n",
    "        |learning_rate|0.008|\n",
    "        |loss|exponential|\n",
    "        |max_depth|3|\n",
    "        |min_samples_leaf|2|\n",
    "        |min_samples_split|4|\n",
    "        |n_estimators|200|\n",
    "2. **AdaBoostClassifier**\n",
    "    - Best parameter\n",
    "        |Parameter|Result|\n",
    "        |-|-|\n",
    "        |algorithm|SAMME|\n",
    "        |learning_rate|0.08|\n",
    "        |n_estimators|50|\n",
    "\n",
    "\n",
    "Didapatkan hasil after tuning :\n",
    "\n",
    "| Model| Train Score | Test Score | F1-Score | Overview |\n",
    "|-|-|-|-|-|\n",
    "| GradientBoostingClassifier | 0.80195 | 0.803207 | 0.868293 | Good Fit |\n",
    "| AdaBoostClassifier | 0.80195 | 0.803207 | 0.868293 | Good Fit |\n",
    "\n",
    "- untuk model **GradientBoostingClassifier** tidak terlihat ada peningkatan secara signifikan dari sebelum dan sesudah tuning. Tetapi terlihat ada sedikit perbedaan pada nilai train dan test. Sehingga model bisa dikatan benar-benar **GOOD FITT**\n",
    "- untuk model **AdaBoostClassifier** terlihat hanya ada sedikit peningkatan setalah dilakukan tuning. Tetapi terlihat pada train dan test sedikit ada perbedaan pada nilainya, Sehingga model bisa dikatakan **GOOD FITT**\n",
    "\n",
    "\n",
    "## Overall Analysis\n",
    "Setelah melakukan serangkaian kegiatan untuk membuat model machine learning di kernel ini, kita akan menarik beberapa inforamasi yaitu :\n",
    "- Dari hasil melakukan ekplorasi data, kita mendapatkan informasi bahwa fitur `School` memiliki informasi tentang latar belakang mengenai pendidikan akademi untuk menjadi pemain NFL. Terlihat ada beberapa sekolah memiliki reputasi yang bagus sehingga tim-tim NFL yang menginkan pemain baru, mereka bisa memprioritaskan untuk merekrut pemain-pemain dari lulusan Akademi yang memiliki reputasi yang baik.\n",
    "- Kemudian kita bisa menarik informasi bahwa pemain NFL dituntut untuk memiliki peforma statistik yang bagus pada tubuh mereka. Karena pada dasarnya permaian tim NFL mengandalkan fisik dan speed yang tinggi untuk meraih kemenangan. Maksudnya apa, iya dalam permainan NFL membutuhkan seorang pemain yang mampu bergerak membawa bola kemudian berlari sampai ujung garis lawan. Dan pemain yang lain membantu pemain yang membawa bola untuk menghadang para lawan agar pemain yang membawa bola tidak bisa dijatuhkan atau bolanya direbut. Untuk itu perlunya fisik yang kuat dan memiliki speed didalam tim. \n",
    "- Dari hasil seleksi fitur yang akan digunakan untuk pembuatan model machine learning dalam menentukan apakah pemain akan di rekrut atau tidak begitu ya. Di dapatkan hanya 6 fitur saja, seperti `Age`, `School`, `Height`, `Weight`, `Vertical_Jump`, `Bench_Press_Reps`.\n",
    "- Didapatkan model terbaik untuk dilakukan deployment yaitu model dengan algoritma **GradienBoostingClassifier** yang telah dilakukan tuning sebelumnya."
   ]
  },
  {
   "cell_type": "code",
   "execution_count": null,
   "metadata": {},
   "outputs": [],
   "source": []
  }
 ],
 "metadata": {
  "kernelspec": {
   "display_name": "Python [conda env:jcopml]",
   "language": "python",
   "name": "conda-env-jcopml-py"
  },
  "language_info": {
   "codemirror_mode": {
    "name": "ipython",
    "version": 3
   },
   "file_extension": ".py",
   "mimetype": "text/x-python",
   "name": "python",
   "nbconvert_exporter": "python",
   "pygments_lexer": "ipython3",
   "version": "3.10.2"
  },
  "varInspector": {
   "cols": {
    "lenName": 16,
    "lenType": 16,
    "lenVar": 40
   },
   "kernels_config": {
    "python": {
     "delete_cmd_postfix": "",
     "delete_cmd_prefix": "del ",
     "library": "var_list.py",
     "varRefreshCmd": "print(var_dic_list())"
    },
    "r": {
     "delete_cmd_postfix": ") ",
     "delete_cmd_prefix": "rm(",
     "library": "var_list.r",
     "varRefreshCmd": "cat(var_dic_list()) "
    }
   },
   "types_to_exclude": [
    "module",
    "function",
    "builtin_function_or_method",
    "instance",
    "_Feature"
   ],
   "window_display": false
  }
 },
 "nbformat": 4,
 "nbformat_minor": 2
}
