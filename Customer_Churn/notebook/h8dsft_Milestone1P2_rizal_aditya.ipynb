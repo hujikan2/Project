{
  "cells": [
    {
      "cell_type": "markdown",
      "metadata": {
        "id": "iCuCvbmPdTjN"
      },
      "source": [
        "# 1. Perkenalan\n",
        "\n",
        "## Phase 2 - Milestones 1\n",
        "_Milestones ini dibuat guna mengevaluasi pembelajaran pada Hacktiv8 Data Science Full Time Program Phase 2 khususnya pada Artificial Neural Network._\n",
        "\n",
        "_Milestone 1 ini dikerjakan oleh **Rizal Aditya-008**_\n",
        "\n",
        "---\n",
        "\n",
        "## <b>Abstract</b>\n",
        "### What is Customer Churn?\n",
        "\n",
        "<img src=\"https://encrypted-tbn0.gstatic.com/images?q=tbn:ANd9GcRytvKB28ZLgeQVKTJhLIV90z_xSO24VgW2ug&usqp=CAU\" alt=\"Churn Image\" style=\"max-width=100%\">\n",
        "\n",
        "<span style=\"font-size:12px;\"> Churn pelanggan didefinisikan sebagai ketika pelanggan atau pelanggan berhenti melakukan bisnis dengan perusahaan atau layanan. </span>\n",
        "\n",
        "<span style=\"font-size:12px;\"> Pelanggan di industri telekomunikasi dapat memilih dari berbagai penyedia layanan dan secara aktif beralih dari satu ke yang berikutnya. Bisnis telekomunikasi memiliki tingkat churn tahunan sebesar 15-25 persen di pasar yang sangat kompetitif ini.</span>\n",
        "\n",
        "<span style=\"font-size:12px;\"> Retensi pelanggan individual itu sulit karena sebagian besar perusahaan memiliki banyak pelanggan dan tidak mampu menghabiskan banyak waktu untuk masing-masing pelanggan. Biayanya akan terlalu besar. Namun, jika perusahaan dapat memperkirakan pelanggan mana yang kemungkinan besar akan pergi, ia dapat memfokuskan upaya retensi pelanggan hanya pada klien \"berisiko tinggi\" ini. Tujuan utamanya adalah untuk memperluas area cakupannya dan mengambil lebih banyak loyalitas pelanggan. </span>\n",
        "\n",
        "<span style=\"font-size:12px;\"><b>Untuk mengurangi churn pelanggan, perusahaan telekomunikasi perlu memprediksi pelanggan mana yang berisiko tinggi churn.</b></span> \n",
        "\n",
        "<span style=\"font-size:12px;\">Untuk mendeteksi tanda-tanda awal potensi churn, pertama-tama kita harus melihat pandangan  tentang maslah pelanggan dan interaksi mereka di berbagai saluran, termasuk kunjungan toko/cabang, riwayat pembelian produk, panggilan layanan pelanggan, transaksi berbasis web, dan interaksi media sosial. </span> \n",
        "\n",
        "<span style=\"font-size:12px;\">Akibatnya, dengan mengatasi churn, bisnis ini mungkin tidak hanya mempertahankan posisi pasar mereka, tetapi juga tumbuh dan berkembang. Semakin banyak pelanggan yang mereka miliki di jaringan mereka, semakin rendah biaya inisiasi dan semakin besar keuntungannya. Akibatnya, fokus utama perusahaan untuk sukses adalah mengurangi pengurangan klien dan menerapkan strategi yang efektif. </span> \n",
        "\n",
        "##<b> Task </b>\n",
        "<span style=\"font-size:12px;\"> Dari hasil penjelasan mengenai **Churn** diatas, kita akan membantu membuat model untuk menentukan dan meminimalisir pengguna yang akan melakukan **Churn** untuk mengurangi biaya yang dikeluarkan.</span>\n",
        "\n",
        "### <b> Data Sources </b>\n",
        "Unduh dataset yang akan digunakan [disini](https://www.kaggle.com/blastchar/telco-customer-churn)\n"
      ]
    },
    {
      "cell_type": "markdown",
      "metadata": {
        "id": "xyQMYSm6lJet"
      },
      "source": [
        "# 2. Import Libraries"
      ]
    },
    {
      "cell_type": "code",
      "execution_count": 144,
      "metadata": {
        "id": "B_zD0ehVlNXj"
      },
      "outputs": [],
      "source": [
        "import warnings\n",
        "warnings.filterwarnings('ignore')\n",
        "\n",
        "import pandas as pd\n",
        "import numpy as np\n",
        "import matplotlib.pyplot as plt\n",
        "import seaborn as sns\n",
        "\n",
        "# Sckit-Learn\n",
        "from sklearn.model_selection import train_test_split\n",
        "from sklearn.compose import ColumnTransformer\n",
        "\n",
        "# Tensorflow\n",
        "import tensorflow as tf\n",
        "from tensorflow import keras"
      ]
    },
    {
      "cell_type": "markdown",
      "metadata": {
        "id": "FibRPcn9lcIL"
      },
      "source": [
        "# 3. Data Loading"
      ]
    },
    {
      "cell_type": "code",
      "execution_count": 145,
      "metadata": {
        "colab": {
          "base_uri": "https://localhost:8080/",
          "height": 412
        },
        "id": "Novc-D5p6GVu",
        "outputId": "ff3176c3-a90e-4f77-f807-d5458fbec3e4"
      },
      "outputs": [
        {
          "output_type": "stream",
          "name": "stdout",
          "text": [
            "Drive already mounted at /content/gdrive; to attempt to forcibly remount, call drive.mount(\"/content/gdrive\", force_remount=True).\n",
            "Jumlah baris dari dataset ini adalah : 7043\n",
            "Jumlah kolom dari dataset ini adalah : 20\n"
          ]
        },
        {
          "output_type": "execute_result",
          "data": {
            "text/plain": [
              "      gender  SeniorCitizen Partner Dependents  tenure PhoneService  \\\n",
              "2200  Female              0      No         No      19          Yes   \n",
              "4627    Male              0      No         No      60          Yes   \n",
              "3225  Female              0      No         No      13          Yes   \n",
              "2828    Male              0      No         No       1          Yes   \n",
              "3768  Female              0     Yes         No      55          Yes   \n",
              "\n",
              "     MultipleLines InternetService       OnlineSecurity         OnlineBackup  \\\n",
              "2200            No             DSL                   No                  Yes   \n",
              "4627           Yes     Fiber optic                  Yes                  Yes   \n",
              "3225            No             DSL                  Yes                   No   \n",
              "2828            No              No  No internet service  No internet service   \n",
              "3768           Yes     Fiber optic                   No                  Yes   \n",
              "\n",
              "         DeviceProtection          TechSupport          StreamingTV  \\\n",
              "2200                   No                   No                  Yes   \n",
              "4627                  Yes                  Yes                  Yes   \n",
              "3225                   No                   No                  Yes   \n",
              "2828  No internet service  No internet service  No internet service   \n",
              "3768                   No                   No                   No   \n",
              "\n",
              "          StreamingMovies        Contract PaperlessBilling  \\\n",
              "2200                   No        One year               No   \n",
              "4627                  Yes        One year              Yes   \n",
              "3225                  Yes  Month-to-month              Yes   \n",
              "2828  No internet service        Two year               No   \n",
              "3768                   No  Month-to-month              Yes   \n",
              "\n",
              "                PaymentMethod  MonthlyCharges TotalCharges Churn  \n",
              "2200         Electronic check           58.20      1045.25    No  \n",
              "4627  Credit card (automatic)          116.60       7049.5    No  \n",
              "3225         Electronic check           71.95       923.85    No  \n",
              "2828             Mailed check           20.45        20.45    No  \n",
              "3768  Credit card (automatic)           77.75       4266.4    No  "
            ],
            "text/html": [
              "\n",
              "  <div id=\"df-c47549c1-0712-4bba-8047-fa6b7f733cda\">\n",
              "    <div class=\"colab-df-container\">\n",
              "      <div>\n",
              "<style scoped>\n",
              "    .dataframe tbody tr th:only-of-type {\n",
              "        vertical-align: middle;\n",
              "    }\n",
              "\n",
              "    .dataframe tbody tr th {\n",
              "        vertical-align: top;\n",
              "    }\n",
              "\n",
              "    .dataframe thead th {\n",
              "        text-align: right;\n",
              "    }\n",
              "</style>\n",
              "<table border=\"1\" class=\"dataframe\">\n",
              "  <thead>\n",
              "    <tr style=\"text-align: right;\">\n",
              "      <th></th>\n",
              "      <th>gender</th>\n",
              "      <th>SeniorCitizen</th>\n",
              "      <th>Partner</th>\n",
              "      <th>Dependents</th>\n",
              "      <th>tenure</th>\n",
              "      <th>PhoneService</th>\n",
              "      <th>MultipleLines</th>\n",
              "      <th>InternetService</th>\n",
              "      <th>OnlineSecurity</th>\n",
              "      <th>OnlineBackup</th>\n",
              "      <th>DeviceProtection</th>\n",
              "      <th>TechSupport</th>\n",
              "      <th>StreamingTV</th>\n",
              "      <th>StreamingMovies</th>\n",
              "      <th>Contract</th>\n",
              "      <th>PaperlessBilling</th>\n",
              "      <th>PaymentMethod</th>\n",
              "      <th>MonthlyCharges</th>\n",
              "      <th>TotalCharges</th>\n",
              "      <th>Churn</th>\n",
              "    </tr>\n",
              "  </thead>\n",
              "  <tbody>\n",
              "    <tr>\n",
              "      <th>2200</th>\n",
              "      <td>Female</td>\n",
              "      <td>0</td>\n",
              "      <td>No</td>\n",
              "      <td>No</td>\n",
              "      <td>19</td>\n",
              "      <td>Yes</td>\n",
              "      <td>No</td>\n",
              "      <td>DSL</td>\n",
              "      <td>No</td>\n",
              "      <td>Yes</td>\n",
              "      <td>No</td>\n",
              "      <td>No</td>\n",
              "      <td>Yes</td>\n",
              "      <td>No</td>\n",
              "      <td>One year</td>\n",
              "      <td>No</td>\n",
              "      <td>Electronic check</td>\n",
              "      <td>58.20</td>\n",
              "      <td>1045.25</td>\n",
              "      <td>No</td>\n",
              "    </tr>\n",
              "    <tr>\n",
              "      <th>4627</th>\n",
              "      <td>Male</td>\n",
              "      <td>0</td>\n",
              "      <td>No</td>\n",
              "      <td>No</td>\n",
              "      <td>60</td>\n",
              "      <td>Yes</td>\n",
              "      <td>Yes</td>\n",
              "      <td>Fiber optic</td>\n",
              "      <td>Yes</td>\n",
              "      <td>Yes</td>\n",
              "      <td>Yes</td>\n",
              "      <td>Yes</td>\n",
              "      <td>Yes</td>\n",
              "      <td>Yes</td>\n",
              "      <td>One year</td>\n",
              "      <td>Yes</td>\n",
              "      <td>Credit card (automatic)</td>\n",
              "      <td>116.60</td>\n",
              "      <td>7049.5</td>\n",
              "      <td>No</td>\n",
              "    </tr>\n",
              "    <tr>\n",
              "      <th>3225</th>\n",
              "      <td>Female</td>\n",
              "      <td>0</td>\n",
              "      <td>No</td>\n",
              "      <td>No</td>\n",
              "      <td>13</td>\n",
              "      <td>Yes</td>\n",
              "      <td>No</td>\n",
              "      <td>DSL</td>\n",
              "      <td>Yes</td>\n",
              "      <td>No</td>\n",
              "      <td>No</td>\n",
              "      <td>No</td>\n",
              "      <td>Yes</td>\n",
              "      <td>Yes</td>\n",
              "      <td>Month-to-month</td>\n",
              "      <td>Yes</td>\n",
              "      <td>Electronic check</td>\n",
              "      <td>71.95</td>\n",
              "      <td>923.85</td>\n",
              "      <td>No</td>\n",
              "    </tr>\n",
              "    <tr>\n",
              "      <th>2828</th>\n",
              "      <td>Male</td>\n",
              "      <td>0</td>\n",
              "      <td>No</td>\n",
              "      <td>No</td>\n",
              "      <td>1</td>\n",
              "      <td>Yes</td>\n",
              "      <td>No</td>\n",
              "      <td>No</td>\n",
              "      <td>No internet service</td>\n",
              "      <td>No internet service</td>\n",
              "      <td>No internet service</td>\n",
              "      <td>No internet service</td>\n",
              "      <td>No internet service</td>\n",
              "      <td>No internet service</td>\n",
              "      <td>Two year</td>\n",
              "      <td>No</td>\n",
              "      <td>Mailed check</td>\n",
              "      <td>20.45</td>\n",
              "      <td>20.45</td>\n",
              "      <td>No</td>\n",
              "    </tr>\n",
              "    <tr>\n",
              "      <th>3768</th>\n",
              "      <td>Female</td>\n",
              "      <td>0</td>\n",
              "      <td>Yes</td>\n",
              "      <td>No</td>\n",
              "      <td>55</td>\n",
              "      <td>Yes</td>\n",
              "      <td>Yes</td>\n",
              "      <td>Fiber optic</td>\n",
              "      <td>No</td>\n",
              "      <td>Yes</td>\n",
              "      <td>No</td>\n",
              "      <td>No</td>\n",
              "      <td>No</td>\n",
              "      <td>No</td>\n",
              "      <td>Month-to-month</td>\n",
              "      <td>Yes</td>\n",
              "      <td>Credit card (automatic)</td>\n",
              "      <td>77.75</td>\n",
              "      <td>4266.4</td>\n",
              "      <td>No</td>\n",
              "    </tr>\n",
              "  </tbody>\n",
              "</table>\n",
              "</div>\n",
              "      <button class=\"colab-df-convert\" onclick=\"convertToInteractive('df-c47549c1-0712-4bba-8047-fa6b7f733cda')\"\n",
              "              title=\"Convert this dataframe to an interactive table.\"\n",
              "              style=\"display:none;\">\n",
              "        \n",
              "  <svg xmlns=\"http://www.w3.org/2000/svg\" height=\"24px\"viewBox=\"0 0 24 24\"\n",
              "       width=\"24px\">\n",
              "    <path d=\"M0 0h24v24H0V0z\" fill=\"none\"/>\n",
              "    <path d=\"M18.56 5.44l.94 2.06.94-2.06 2.06-.94-2.06-.94-.94-2.06-.94 2.06-2.06.94zm-11 1L8.5 8.5l.94-2.06 2.06-.94-2.06-.94L8.5 2.5l-.94 2.06-2.06.94zm10 10l.94 2.06.94-2.06 2.06-.94-2.06-.94-.94-2.06-.94 2.06-2.06.94z\"/><path d=\"M17.41 7.96l-1.37-1.37c-.4-.4-.92-.59-1.43-.59-.52 0-1.04.2-1.43.59L10.3 9.45l-7.72 7.72c-.78.78-.78 2.05 0 2.83L4 21.41c.39.39.9.59 1.41.59.51 0 1.02-.2 1.41-.59l7.78-7.78 2.81-2.81c.8-.78.8-2.07 0-2.86zM5.41 20L4 18.59l7.72-7.72 1.47 1.35L5.41 20z\"/>\n",
              "  </svg>\n",
              "      </button>\n",
              "      \n",
              "  <style>\n",
              "    .colab-df-container {\n",
              "      display:flex;\n",
              "      flex-wrap:wrap;\n",
              "      gap: 12px;\n",
              "    }\n",
              "\n",
              "    .colab-df-convert {\n",
              "      background-color: #E8F0FE;\n",
              "      border: none;\n",
              "      border-radius: 50%;\n",
              "      cursor: pointer;\n",
              "      display: none;\n",
              "      fill: #1967D2;\n",
              "      height: 32px;\n",
              "      padding: 0 0 0 0;\n",
              "      width: 32px;\n",
              "    }\n",
              "\n",
              "    .colab-df-convert:hover {\n",
              "      background-color: #E2EBFA;\n",
              "      box-shadow: 0px 1px 2px rgba(60, 64, 67, 0.3), 0px 1px 3px 1px rgba(60, 64, 67, 0.15);\n",
              "      fill: #174EA6;\n",
              "    }\n",
              "\n",
              "    [theme=dark] .colab-df-convert {\n",
              "      background-color: #3B4455;\n",
              "      fill: #D2E3FC;\n",
              "    }\n",
              "\n",
              "    [theme=dark] .colab-df-convert:hover {\n",
              "      background-color: #434B5C;\n",
              "      box-shadow: 0px 1px 3px 1px rgba(0, 0, 0, 0.15);\n",
              "      filter: drop-shadow(0px 1px 2px rgba(0, 0, 0, 0.3));\n",
              "      fill: #FFFFFF;\n",
              "    }\n",
              "  </style>\n",
              "\n",
              "      <script>\n",
              "        const buttonEl =\n",
              "          document.querySelector('#df-c47549c1-0712-4bba-8047-fa6b7f733cda button.colab-df-convert');\n",
              "        buttonEl.style.display =\n",
              "          google.colab.kernel.accessAllowed ? 'block' : 'none';\n",
              "\n",
              "        async function convertToInteractive(key) {\n",
              "          const element = document.querySelector('#df-c47549c1-0712-4bba-8047-fa6b7f733cda');\n",
              "          const dataTable =\n",
              "            await google.colab.kernel.invokeFunction('convertToInteractive',\n",
              "                                                     [key], {});\n",
              "          if (!dataTable) return;\n",
              "\n",
              "          const docLinkHtml = 'Like what you see? Visit the ' +\n",
              "            '<a target=\"_blank\" href=https://colab.research.google.com/notebooks/data_table.ipynb>data table notebook</a>'\n",
              "            + ' to learn more about interactive tables.';\n",
              "          element.innerHTML = '';\n",
              "          dataTable['output_type'] = 'display_data';\n",
              "          await google.colab.output.renderOutput(dataTable, element);\n",
              "          const docLink = document.createElement('div');\n",
              "          docLink.innerHTML = docLinkHtml;\n",
              "          element.appendChild(docLink);\n",
              "        }\n",
              "      </script>\n",
              "    </div>\n",
              "  </div>\n",
              "  "
            ]
          },
          "metadata": {},
          "execution_count": 145
        }
      ],
      "source": [
        "# Conect with google drive\n",
        "from google.colab import drive\n",
        "drive.mount('/content/gdrive')\n",
        "\n",
        "# Add path\n",
        "path = '/content/gdrive/MyDrive/assignment_hacktive8/Phase_2/Milestone/p2---ftds008---m1-hujikan2/data/Telco-Customer-Churn.csv'\n",
        "\n",
        "# Import dataset original\n",
        "data_ori = pd.read_csv(path)\n",
        "\n",
        "# Copy dataset\n",
        "data_churn = data_ori.copy()\n",
        "data_churn.drop(columns=['customerID'], axis=1, inplace=True) # Drop `customerID`\n",
        "print(f\"Jumlah baris dari dataset ini adalah : {data_churn.shape[0]}\")\n",
        "print(f\"Jumlah kolom dari dataset ini adalah : {data_churn.shape[1]}\")\n",
        "data_churn.sample(5, random_state=0) # menampilkan 5 data secara acak dari dataset"
      ]
    },
    {
      "cell_type": "markdown",
      "metadata": {
        "id": "ekxfHd5onKam"
      },
      "source": [
        "Kumpulan data mencakup informasi tentang:\n",
        "\n",
        "* Pelanggan yang pergi dalam sebulan terakhir – kolomnya disebut Churn\n",
        "* Layanan yang telah didaftarkan oleh setiap pelanggan – telepon, banyak saluran, internet, keamanan online, pencadangan online, perlindungan perangkat, dukungan teknis, dan streaming TV dan film\n",
        "* Informasi akun pelanggan – sudah berapa lama mereka menjadi pelanggan, kontrak, metode pembayaran, tagihan tanpa kertas, tagihan bulanan, dan total tagihan\n",
        "* Info demografis tentang pelanggan – jenis kelamin, rentang usia, dan jika mereka memiliki pasangan dan tanggungan\n",
        "\n",
        "---\n",
        "**Understanding About datasets**\n",
        "\n",
        "|Nama Kolom|Description|Response|\n",
        "|-|-|-|\n",
        "|customerID|ID Pelanggan|-|\n",
        "|gender|Apakah pelanggan laki-laki atau perempuan|-|\n",
        "|SeniorCitizen | Apakah pelanggan adalah warga senior atau tidak| (Yes=1, No=0)|\n",
        "|Partner|Apakah customer memiliki partner atau tidak|(Yes, No)|\n",
        "|Dependents |Apakah nasabah memiliki tanggungan atau tidak|(Yes, No)|\n",
        "|tenure | Berapa lama pelanggan berlangganan|months|\n",
        "|PhoneService |Apakah pelanggan memiliki layanan telepon atau tidak|(Yes, No)|\n",
        "|MultipleLines |Apakah pelanggan memiliki banyak saluran atau tidak|(Yes, No, No phone service)|\n",
        "|InternetService | Penyedia layanan internet pelanggan|(DSL, Fiber optic, No)|\n",
        "|OnlineSecurity |pakah pelanggan memiliki keamanan online atau tidak|(Yes, No, No internet service)|\n",
        "|OnlineBackup |Apakah pelanggan memiliki backup online atau tidak|(Yes, No, No internet service)|\n",
        "|DeviceProtection |Apakah pelanggan memiliki perlindungan perangkat atau tidak|(Yes, No, No internet service)|\n",
        "|TechSupport |Apakah pelanggan memiliki dukungan teknis atau tidak|(Yes, No, No internet service)|\n",
        "|StreamingTV |Apakah pelanggan memiliki TV streaming atau tidak|(Yes, No, No internet service)|\n",
        "|StreamingMovies |Apakah pelanggan memiliki streaming film atau tidak|(Yes, No, No internet service)|\n",
        "|Contract |Jangka waktu kontrak pelanggan|(Month-to-month, One year, Two year)|\n",
        "|PaperlessBilling |Apakah pelanggan memiliki paperless billing atau tidak|(Yes, No)|\n",
        "|PaymentMethod |Metode pembayaran pelanggan|(Electronic check, Mailed check, Bank transfer (automatic), Credit card (automatic))|\n",
        "|MonthlyCharges |Jumlah yang dibebankan kepada pelanggan setiap bulan|-|\n",
        "|TotalCharges |Jumlah total yang dibebankan kepada pelanggan|-|\n",
        "|**Churn**|Apakah pelanggan churn atau tidak|(Yes or No)"
      ]
    },
    {
      "cell_type": "code",
      "execution_count": 146,
      "metadata": {
        "colab": {
          "base_uri": "https://localhost:8080/"
        },
        "id": "9_ozrReBc79J",
        "outputId": "e32fb0d5-5136-4e74-e60c-50240ca9133c"
      },
      "outputs": [
        {
          "output_type": "stream",
          "name": "stdout",
          "text": [
            "<class 'pandas.core.frame.DataFrame'>\n",
            "RangeIndex: 7043 entries, 0 to 7042\n",
            "Data columns (total 20 columns):\n",
            " #   Column            Non-Null Count  Dtype  \n",
            "---  ------            --------------  -----  \n",
            " 0   gender            7043 non-null   object \n",
            " 1   SeniorCitizen     7043 non-null   int64  \n",
            " 2   Partner           7043 non-null   object \n",
            " 3   Dependents        7043 non-null   object \n",
            " 4   tenure            7043 non-null   int64  \n",
            " 5   PhoneService      7043 non-null   object \n",
            " 6   MultipleLines     7043 non-null   object \n",
            " 7   InternetService   7043 non-null   object \n",
            " 8   OnlineSecurity    7043 non-null   object \n",
            " 9   OnlineBackup      7043 non-null   object \n",
            " 10  DeviceProtection  7043 non-null   object \n",
            " 11  TechSupport       7043 non-null   object \n",
            " 12  StreamingTV       7043 non-null   object \n",
            " 13  StreamingMovies   7043 non-null   object \n",
            " 14  Contract          7043 non-null   object \n",
            " 15  PaperlessBilling  7043 non-null   object \n",
            " 16  PaymentMethod     7043 non-null   object \n",
            " 17  MonthlyCharges    7043 non-null   float64\n",
            " 18  TotalCharges      7043 non-null   object \n",
            " 19  Churn             7043 non-null   object \n",
            "dtypes: float64(1), int64(2), object(17)\n",
            "memory usage: 1.1+ MB\n"
          ]
        }
      ],
      "source": [
        "# Selanjutnya saya ingin melihat informasi dari dataset ini\n",
        "data_churn.info()"
      ]
    },
    {
      "cell_type": "markdown",
      "metadata": {
        "id": "O8qSB4YLnpwt"
      },
      "source": [
        "Dari hasil infromasi diatas dapat lihat bahwa dataset ini memiliki 2 tipe data, yaitu numerikal dan kategorikal\n",
        "\n",
        "Dilihat juga bahwa data ini memiliki informasi data yang lengkap dan sepertinya tidak memiliki data yang hilang.\n",
        "\n",
        "Terlihat juga bahwa fitur `TotalCharges` memiliki tipe data object yang seharusnya adalah **Numerikal** Kita akan merubahnya"
      ]
    },
    {
      "cell_type": "code",
      "execution_count": 147,
      "metadata": {
        "colab": {
          "base_uri": "https://localhost:8080/",
          "height": 300
        },
        "id": "7hswe-7cty7x",
        "outputId": "fb7459e6-50ba-4049-9ea7-a38be08e38d2"
      },
      "outputs": [
        {
          "output_type": "execute_result",
          "data": {
            "text/plain": [
              "            tenure  MonthlyCharges  TotalCharges\n",
              "count  7043.000000     7043.000000   7032.000000\n",
              "mean     32.371149       64.761692   2283.300441\n",
              "std      24.559481       30.090047   2266.771362\n",
              "min       0.000000       18.250000     18.800000\n",
              "25%       9.000000       35.500000    401.450000\n",
              "50%      29.000000       70.350000   1397.475000\n",
              "75%      55.000000       89.850000   3794.737500\n",
              "max      72.000000      118.750000   8684.800000"
            ],
            "text/html": [
              "\n",
              "  <div id=\"df-c4ded154-2501-426f-8cd8-920d75c1b851\">\n",
              "    <div class=\"colab-df-container\">\n",
              "      <div>\n",
              "<style scoped>\n",
              "    .dataframe tbody tr th:only-of-type {\n",
              "        vertical-align: middle;\n",
              "    }\n",
              "\n",
              "    .dataframe tbody tr th {\n",
              "        vertical-align: top;\n",
              "    }\n",
              "\n",
              "    .dataframe thead th {\n",
              "        text-align: right;\n",
              "    }\n",
              "</style>\n",
              "<table border=\"1\" class=\"dataframe\">\n",
              "  <thead>\n",
              "    <tr style=\"text-align: right;\">\n",
              "      <th></th>\n",
              "      <th>tenure</th>\n",
              "      <th>MonthlyCharges</th>\n",
              "      <th>TotalCharges</th>\n",
              "    </tr>\n",
              "  </thead>\n",
              "  <tbody>\n",
              "    <tr>\n",
              "      <th>count</th>\n",
              "      <td>7043.000000</td>\n",
              "      <td>7043.000000</td>\n",
              "      <td>7032.000000</td>\n",
              "    </tr>\n",
              "    <tr>\n",
              "      <th>mean</th>\n",
              "      <td>32.371149</td>\n",
              "      <td>64.761692</td>\n",
              "      <td>2283.300441</td>\n",
              "    </tr>\n",
              "    <tr>\n",
              "      <th>std</th>\n",
              "      <td>24.559481</td>\n",
              "      <td>30.090047</td>\n",
              "      <td>2266.771362</td>\n",
              "    </tr>\n",
              "    <tr>\n",
              "      <th>min</th>\n",
              "      <td>0.000000</td>\n",
              "      <td>18.250000</td>\n",
              "      <td>18.800000</td>\n",
              "    </tr>\n",
              "    <tr>\n",
              "      <th>25%</th>\n",
              "      <td>9.000000</td>\n",
              "      <td>35.500000</td>\n",
              "      <td>401.450000</td>\n",
              "    </tr>\n",
              "    <tr>\n",
              "      <th>50%</th>\n",
              "      <td>29.000000</td>\n",
              "      <td>70.350000</td>\n",
              "      <td>1397.475000</td>\n",
              "    </tr>\n",
              "    <tr>\n",
              "      <th>75%</th>\n",
              "      <td>55.000000</td>\n",
              "      <td>89.850000</td>\n",
              "      <td>3794.737500</td>\n",
              "    </tr>\n",
              "    <tr>\n",
              "      <th>max</th>\n",
              "      <td>72.000000</td>\n",
              "      <td>118.750000</td>\n",
              "      <td>8684.800000</td>\n",
              "    </tr>\n",
              "  </tbody>\n",
              "</table>\n",
              "</div>\n",
              "      <button class=\"colab-df-convert\" onclick=\"convertToInteractive('df-c4ded154-2501-426f-8cd8-920d75c1b851')\"\n",
              "              title=\"Convert this dataframe to an interactive table.\"\n",
              "              style=\"display:none;\">\n",
              "        \n",
              "  <svg xmlns=\"http://www.w3.org/2000/svg\" height=\"24px\"viewBox=\"0 0 24 24\"\n",
              "       width=\"24px\">\n",
              "    <path d=\"M0 0h24v24H0V0z\" fill=\"none\"/>\n",
              "    <path d=\"M18.56 5.44l.94 2.06.94-2.06 2.06-.94-2.06-.94-.94-2.06-.94 2.06-2.06.94zm-11 1L8.5 8.5l.94-2.06 2.06-.94-2.06-.94L8.5 2.5l-.94 2.06-2.06.94zm10 10l.94 2.06.94-2.06 2.06-.94-2.06-.94-.94-2.06-.94 2.06-2.06.94z\"/><path d=\"M17.41 7.96l-1.37-1.37c-.4-.4-.92-.59-1.43-.59-.52 0-1.04.2-1.43.59L10.3 9.45l-7.72 7.72c-.78.78-.78 2.05 0 2.83L4 21.41c.39.39.9.59 1.41.59.51 0 1.02-.2 1.41-.59l7.78-7.78 2.81-2.81c.8-.78.8-2.07 0-2.86zM5.41 20L4 18.59l7.72-7.72 1.47 1.35L5.41 20z\"/>\n",
              "  </svg>\n",
              "      </button>\n",
              "      \n",
              "  <style>\n",
              "    .colab-df-container {\n",
              "      display:flex;\n",
              "      flex-wrap:wrap;\n",
              "      gap: 12px;\n",
              "    }\n",
              "\n",
              "    .colab-df-convert {\n",
              "      background-color: #E8F0FE;\n",
              "      border: none;\n",
              "      border-radius: 50%;\n",
              "      cursor: pointer;\n",
              "      display: none;\n",
              "      fill: #1967D2;\n",
              "      height: 32px;\n",
              "      padding: 0 0 0 0;\n",
              "      width: 32px;\n",
              "    }\n",
              "\n",
              "    .colab-df-convert:hover {\n",
              "      background-color: #E2EBFA;\n",
              "      box-shadow: 0px 1px 2px rgba(60, 64, 67, 0.3), 0px 1px 3px 1px rgba(60, 64, 67, 0.15);\n",
              "      fill: #174EA6;\n",
              "    }\n",
              "\n",
              "    [theme=dark] .colab-df-convert {\n",
              "      background-color: #3B4455;\n",
              "      fill: #D2E3FC;\n",
              "    }\n",
              "\n",
              "    [theme=dark] .colab-df-convert:hover {\n",
              "      background-color: #434B5C;\n",
              "      box-shadow: 0px 1px 3px 1px rgba(0, 0, 0, 0.15);\n",
              "      filter: drop-shadow(0px 1px 2px rgba(0, 0, 0, 0.3));\n",
              "      fill: #FFFFFF;\n",
              "    }\n",
              "  </style>\n",
              "\n",
              "      <script>\n",
              "        const buttonEl =\n",
              "          document.querySelector('#df-c4ded154-2501-426f-8cd8-920d75c1b851 button.colab-df-convert');\n",
              "        buttonEl.style.display =\n",
              "          google.colab.kernel.accessAllowed ? 'block' : 'none';\n",
              "\n",
              "        async function convertToInteractive(key) {\n",
              "          const element = document.querySelector('#df-c4ded154-2501-426f-8cd8-920d75c1b851');\n",
              "          const dataTable =\n",
              "            await google.colab.kernel.invokeFunction('convertToInteractive',\n",
              "                                                     [key], {});\n",
              "          if (!dataTable) return;\n",
              "\n",
              "          const docLinkHtml = 'Like what you see? Visit the ' +\n",
              "            '<a target=\"_blank\" href=https://colab.research.google.com/notebooks/data_table.ipynb>data table notebook</a>'\n",
              "            + ' to learn more about interactive tables.';\n",
              "          element.innerHTML = '';\n",
              "          dataTable['output_type'] = 'display_data';\n",
              "          await google.colab.output.renderOutput(dataTable, element);\n",
              "          const docLink = document.createElement('div');\n",
              "          docLink.innerHTML = docLinkHtml;\n",
              "          element.appendChild(docLink);\n",
              "        }\n",
              "      </script>\n",
              "    </div>\n",
              "  </div>\n",
              "  "
            ]
          },
          "metadata": {},
          "execution_count": 147
        }
      ],
      "source": [
        "# Merubah tipe data pada kolom TotalCharges\n",
        "data_churn['TotalCharges'] = pd.to_numeric(data_churn.TotalCharges, errors='coerce')\n",
        "\n",
        "# Merbah data categorical\n",
        "data_churn['SeniorCitizen'] = data_churn['SeniorCitizen'].replace({1:'Yes', 0:'No'})\n",
        "\n",
        "# Melihat informasi statistik deskriptive\n",
        "data_churn.describe()"
      ]
    },
    {
      "cell_type": "markdown",
      "metadata": {
        "id": "KfJWKjNEt5GB"
      },
      "source": [
        " Dari informasi statistik diatas terlihat bahwa:\n",
        " - Informasi pada `tenure` terlihat bahwa rata-rata pelanggan adalah 32 bulan dengan maximum `tenure` adalah 72 bulan.\n",
        " - Informasi pada kolom `Monthly Charges` terlihat bahwa pelanggan yang dikenakan biaya perbulan rata-rata 64.78 dengan maximum biaya 118.75.\n",
        " - Informasi pada kolom `Total Charges` terlihat bahwa pelanggan yang dikenakan biaya total rata-rata 2282 dan maximum beban total biaya adalah 8684. \n",
        "\n",
        "Selanjutnnya kita akan melakukan eksplorasi data "
      ]
    },
    {
      "cell_type": "markdown",
      "metadata": {
        "id": "P14IyVPBoVp-"
      },
      "source": [
        "# 4. Exploratory Data Analysis (EDA)"
      ]
    },
    {
      "cell_type": "code",
      "execution_count": 148,
      "metadata": {
        "colab": {
          "base_uri": "https://localhost:8080/",
          "height": 356
        },
        "id": "j6oWssGYngX4",
        "outputId": "09f0d961-69bb-4db7-d97d-4203f1a1efba"
      },
      "outputs": [
        {
          "output_type": "execute_result",
          "data": {
            "text/plain": [
              "      gender SeniorCitizen Partner Dependents  tenure PhoneService  \\\n",
              "4986  Female            No      No         No      12          Yes   \n",
              "2812    Male            No     Yes         No      66          Yes   \n",
              "3371  Female            No     Yes        Yes      11          Yes   \n",
              "5896    Male           Yes     Yes         No      71          Yes   \n",
              "2913    Male            No      No         No      52           No   \n",
              "\n",
              "         MultipleLines InternetService       OnlineSecurity  \\\n",
              "4986               Yes     Fiber optic                   No   \n",
              "2812               Yes     Fiber optic                   No   \n",
              "3371                No              No  No internet service   \n",
              "5896               Yes              No  No internet service   \n",
              "2913  No phone service             DSL                  Yes   \n",
              "\n",
              "             OnlineBackup     DeviceProtection          TechSupport  \\\n",
              "4986                   No                   No                  Yes   \n",
              "2812                  Yes                   No                  Yes   \n",
              "3371  No internet service  No internet service  No internet service   \n",
              "5896  No internet service  No internet service  No internet service   \n",
              "2913                  Yes                  Yes                  Yes   \n",
              "\n",
              "              StreamingTV      StreamingMovies        Contract  \\\n",
              "4986                   No                   No  Month-to-month   \n",
              "2812                  Yes                  Yes        One year   \n",
              "3371  No internet service  No internet service  Month-to-month   \n",
              "5896  No internet service  No internet service        Two year   \n",
              "2913                  Yes                  Yes        Two year   \n",
              "\n",
              "     PaperlessBilling            PaymentMethod  MonthlyCharges  TotalCharges  \\\n",
              "4986              Yes  Credit card (automatic)           79.55        958.25   \n",
              "2812              Yes         Electronic check          104.05       6890.00   \n",
              "3371              Yes             Mailed check           19.25        180.30   \n",
              "5896               No  Credit card (automatic)           25.45       1789.65   \n",
              "2913               No  Credit card (automatic)           63.90       3334.95   \n",
              "\n",
              "     Churn  \n",
              "4986    No  \n",
              "2812   Yes  \n",
              "3371   Yes  \n",
              "5896    No  \n",
              "2913    No  "
            ],
            "text/html": [
              "\n",
              "  <div id=\"df-23d8cc0e-cbf9-4982-a236-31ed4ba87759\">\n",
              "    <div class=\"colab-df-container\">\n",
              "      <div>\n",
              "<style scoped>\n",
              "    .dataframe tbody tr th:only-of-type {\n",
              "        vertical-align: middle;\n",
              "    }\n",
              "\n",
              "    .dataframe tbody tr th {\n",
              "        vertical-align: top;\n",
              "    }\n",
              "\n",
              "    .dataframe thead th {\n",
              "        text-align: right;\n",
              "    }\n",
              "</style>\n",
              "<table border=\"1\" class=\"dataframe\">\n",
              "  <thead>\n",
              "    <tr style=\"text-align: right;\">\n",
              "      <th></th>\n",
              "      <th>gender</th>\n",
              "      <th>SeniorCitizen</th>\n",
              "      <th>Partner</th>\n",
              "      <th>Dependents</th>\n",
              "      <th>tenure</th>\n",
              "      <th>PhoneService</th>\n",
              "      <th>MultipleLines</th>\n",
              "      <th>InternetService</th>\n",
              "      <th>OnlineSecurity</th>\n",
              "      <th>OnlineBackup</th>\n",
              "      <th>DeviceProtection</th>\n",
              "      <th>TechSupport</th>\n",
              "      <th>StreamingTV</th>\n",
              "      <th>StreamingMovies</th>\n",
              "      <th>Contract</th>\n",
              "      <th>PaperlessBilling</th>\n",
              "      <th>PaymentMethod</th>\n",
              "      <th>MonthlyCharges</th>\n",
              "      <th>TotalCharges</th>\n",
              "      <th>Churn</th>\n",
              "    </tr>\n",
              "  </thead>\n",
              "  <tbody>\n",
              "    <tr>\n",
              "      <th>4986</th>\n",
              "      <td>Female</td>\n",
              "      <td>No</td>\n",
              "      <td>No</td>\n",
              "      <td>No</td>\n",
              "      <td>12</td>\n",
              "      <td>Yes</td>\n",
              "      <td>Yes</td>\n",
              "      <td>Fiber optic</td>\n",
              "      <td>No</td>\n",
              "      <td>No</td>\n",
              "      <td>No</td>\n",
              "      <td>Yes</td>\n",
              "      <td>No</td>\n",
              "      <td>No</td>\n",
              "      <td>Month-to-month</td>\n",
              "      <td>Yes</td>\n",
              "      <td>Credit card (automatic)</td>\n",
              "      <td>79.55</td>\n",
              "      <td>958.25</td>\n",
              "      <td>No</td>\n",
              "    </tr>\n",
              "    <tr>\n",
              "      <th>2812</th>\n",
              "      <td>Male</td>\n",
              "      <td>No</td>\n",
              "      <td>Yes</td>\n",
              "      <td>No</td>\n",
              "      <td>66</td>\n",
              "      <td>Yes</td>\n",
              "      <td>Yes</td>\n",
              "      <td>Fiber optic</td>\n",
              "      <td>No</td>\n",
              "      <td>Yes</td>\n",
              "      <td>No</td>\n",
              "      <td>Yes</td>\n",
              "      <td>Yes</td>\n",
              "      <td>Yes</td>\n",
              "      <td>One year</td>\n",
              "      <td>Yes</td>\n",
              "      <td>Electronic check</td>\n",
              "      <td>104.05</td>\n",
              "      <td>6890.00</td>\n",
              "      <td>Yes</td>\n",
              "    </tr>\n",
              "    <tr>\n",
              "      <th>3371</th>\n",
              "      <td>Female</td>\n",
              "      <td>No</td>\n",
              "      <td>Yes</td>\n",
              "      <td>Yes</td>\n",
              "      <td>11</td>\n",
              "      <td>Yes</td>\n",
              "      <td>No</td>\n",
              "      <td>No</td>\n",
              "      <td>No internet service</td>\n",
              "      <td>No internet service</td>\n",
              "      <td>No internet service</td>\n",
              "      <td>No internet service</td>\n",
              "      <td>No internet service</td>\n",
              "      <td>No internet service</td>\n",
              "      <td>Month-to-month</td>\n",
              "      <td>Yes</td>\n",
              "      <td>Mailed check</td>\n",
              "      <td>19.25</td>\n",
              "      <td>180.30</td>\n",
              "      <td>Yes</td>\n",
              "    </tr>\n",
              "    <tr>\n",
              "      <th>5896</th>\n",
              "      <td>Male</td>\n",
              "      <td>Yes</td>\n",
              "      <td>Yes</td>\n",
              "      <td>No</td>\n",
              "      <td>71</td>\n",
              "      <td>Yes</td>\n",
              "      <td>Yes</td>\n",
              "      <td>No</td>\n",
              "      <td>No internet service</td>\n",
              "      <td>No internet service</td>\n",
              "      <td>No internet service</td>\n",
              "      <td>No internet service</td>\n",
              "      <td>No internet service</td>\n",
              "      <td>No internet service</td>\n",
              "      <td>Two year</td>\n",
              "      <td>No</td>\n",
              "      <td>Credit card (automatic)</td>\n",
              "      <td>25.45</td>\n",
              "      <td>1789.65</td>\n",
              "      <td>No</td>\n",
              "    </tr>\n",
              "    <tr>\n",
              "      <th>2913</th>\n",
              "      <td>Male</td>\n",
              "      <td>No</td>\n",
              "      <td>No</td>\n",
              "      <td>No</td>\n",
              "      <td>52</td>\n",
              "      <td>No</td>\n",
              "      <td>No phone service</td>\n",
              "      <td>DSL</td>\n",
              "      <td>Yes</td>\n",
              "      <td>Yes</td>\n",
              "      <td>Yes</td>\n",
              "      <td>Yes</td>\n",
              "      <td>Yes</td>\n",
              "      <td>Yes</td>\n",
              "      <td>Two year</td>\n",
              "      <td>No</td>\n",
              "      <td>Credit card (automatic)</td>\n",
              "      <td>63.90</td>\n",
              "      <td>3334.95</td>\n",
              "      <td>No</td>\n",
              "    </tr>\n",
              "  </tbody>\n",
              "</table>\n",
              "</div>\n",
              "      <button class=\"colab-df-convert\" onclick=\"convertToInteractive('df-23d8cc0e-cbf9-4982-a236-31ed4ba87759')\"\n",
              "              title=\"Convert this dataframe to an interactive table.\"\n",
              "              style=\"display:none;\">\n",
              "        \n",
              "  <svg xmlns=\"http://www.w3.org/2000/svg\" height=\"24px\"viewBox=\"0 0 24 24\"\n",
              "       width=\"24px\">\n",
              "    <path d=\"M0 0h24v24H0V0z\" fill=\"none\"/>\n",
              "    <path d=\"M18.56 5.44l.94 2.06.94-2.06 2.06-.94-2.06-.94-.94-2.06-.94 2.06-2.06.94zm-11 1L8.5 8.5l.94-2.06 2.06-.94-2.06-.94L8.5 2.5l-.94 2.06-2.06.94zm10 10l.94 2.06.94-2.06 2.06-.94-2.06-.94-.94-2.06-.94 2.06-2.06.94z\"/><path d=\"M17.41 7.96l-1.37-1.37c-.4-.4-.92-.59-1.43-.59-.52 0-1.04.2-1.43.59L10.3 9.45l-7.72 7.72c-.78.78-.78 2.05 0 2.83L4 21.41c.39.39.9.59 1.41.59.51 0 1.02-.2 1.41-.59l7.78-7.78 2.81-2.81c.8-.78.8-2.07 0-2.86zM5.41 20L4 18.59l7.72-7.72 1.47 1.35L5.41 20z\"/>\n",
              "  </svg>\n",
              "      </button>\n",
              "      \n",
              "  <style>\n",
              "    .colab-df-container {\n",
              "      display:flex;\n",
              "      flex-wrap:wrap;\n",
              "      gap: 12px;\n",
              "    }\n",
              "\n",
              "    .colab-df-convert {\n",
              "      background-color: #E8F0FE;\n",
              "      border: none;\n",
              "      border-radius: 50%;\n",
              "      cursor: pointer;\n",
              "      display: none;\n",
              "      fill: #1967D2;\n",
              "      height: 32px;\n",
              "      padding: 0 0 0 0;\n",
              "      width: 32px;\n",
              "    }\n",
              "\n",
              "    .colab-df-convert:hover {\n",
              "      background-color: #E2EBFA;\n",
              "      box-shadow: 0px 1px 2px rgba(60, 64, 67, 0.3), 0px 1px 3px 1px rgba(60, 64, 67, 0.15);\n",
              "      fill: #174EA6;\n",
              "    }\n",
              "\n",
              "    [theme=dark] .colab-df-convert {\n",
              "      background-color: #3B4455;\n",
              "      fill: #D2E3FC;\n",
              "    }\n",
              "\n",
              "    [theme=dark] .colab-df-convert:hover {\n",
              "      background-color: #434B5C;\n",
              "      box-shadow: 0px 1px 3px 1px rgba(0, 0, 0, 0.15);\n",
              "      filter: drop-shadow(0px 1px 2px rgba(0, 0, 0, 0.3));\n",
              "      fill: #FFFFFF;\n",
              "    }\n",
              "  </style>\n",
              "\n",
              "      <script>\n",
              "        const buttonEl =\n",
              "          document.querySelector('#df-23d8cc0e-cbf9-4982-a236-31ed4ba87759 button.colab-df-convert');\n",
              "        buttonEl.style.display =\n",
              "          google.colab.kernel.accessAllowed ? 'block' : 'none';\n",
              "\n",
              "        async function convertToInteractive(key) {\n",
              "          const element = document.querySelector('#df-23d8cc0e-cbf9-4982-a236-31ed4ba87759');\n",
              "          const dataTable =\n",
              "            await google.colab.kernel.invokeFunction('convertToInteractive',\n",
              "                                                     [key], {});\n",
              "          if (!dataTable) return;\n",
              "\n",
              "          const docLinkHtml = 'Like what you see? Visit the ' +\n",
              "            '<a target=\"_blank\" href=https://colab.research.google.com/notebooks/data_table.ipynb>data table notebook</a>'\n",
              "            + ' to learn more about interactive tables.';\n",
              "          element.innerHTML = '';\n",
              "          dataTable['output_type'] = 'display_data';\n",
              "          await google.colab.output.renderOutput(dataTable, element);\n",
              "          const docLink = document.createElement('div');\n",
              "          docLink.innerHTML = docLinkHtml;\n",
              "          element.appendChild(docLink);\n",
              "        }\n",
              "      </script>\n",
              "    </div>\n",
              "  </div>\n",
              "  "
            ]
          },
          "metadata": {},
          "execution_count": 148
        }
      ],
      "source": [
        "# Melihat 5 data secara acak\n",
        "data_churn.sample(5)"
      ]
    },
    {
      "cell_type": "markdown",
      "metadata": {
        "id": "OnzADHGhojyd"
      },
      "source": [
        "### 4.1 Melihat Proporsi dari target (churn)"
      ]
    },
    {
      "cell_type": "code",
      "execution_count": 149,
      "metadata": {
        "id": "kEUq0wDsogzZ",
        "colab": {
          "base_uri": "https://localhost:8080/",
          "height": 441
        },
        "outputId": "b1a51225-8442-4d33-8149-f54ddd07f807"
      },
      "outputs": [
        {
          "output_type": "display_data",
          "data": {
            "text/plain": [
              "<Figure size 1080x432 with 2 Axes>"
            ],
            "image/png": "[encoded data removed]"
          },
          "metadata": {
            "needs_background": "light"
          }
        }
      ],
      "source": [
        "# your colors\n",
        "colors = ['#5cb85c', '#5bc0de']\n",
        "\n",
        "# membuat figure\n",
        "plt.figure(figsize=(15,6))\n",
        "\n",
        "# plot countplot\n",
        "plt.subplot(1,2,1)\n",
        "p1 = sns.countplot(data=data_churn, x='Churn', palette = colors)\n",
        "plt.title(\"Distribution of Churn\", fontsize='16')\n",
        "for p in p1.patches:\n",
        "    p1.annotate(f'{p.get_height()}', (p.get_x() + p.get_width()/2., p.get_height()), ha = 'center', va = 'center', xytext = (0, 10), textcoords = 'offset points')\n",
        "\n",
        "# plot pie chart\n",
        "plt.subplot(1,2,2)\n",
        "plt.pie(data_churn['Churn'].value_counts(), labels=data_churn['Churn'].unique(), explode=(0,0.05), autopct='%.2f%%', colors=colors)\n",
        "plt.title(\"Proportion of Churn\", fontsize='16')\n",
        "plt.legend()\n",
        "plt.tight_layout()\n",
        "plt.show()"
      ]
    },
    {
      "cell_type": "markdown",
      "metadata": {
        "id": "U0F1AOFGtC44"
      },
      "source": [
        "Dari hasil visualisasi tentang proporsi dari target(**Churn**) diatas terlihat bahwa : \n",
        "- Pelanggan yang melakukan **Churn** lebih sedikit dibandingkan dengan pelanggan yang tidak melakukan **Churn** persentasenya adalah 73.46% (5174) yang tidak melakukan **Churn** dan 26.54% (1864) yang melakukan **Churn**\n",
        "- Bisa dikatan dataset ini **imbalace** dengan ratio 1:3 sehingga kita akan melakukan **handling imbalance** nantinya"
      ]
    },
    {
      "cell_type": "markdown",
      "metadata": {
        "id": "Us45k1ch0Iai"
      },
      "source": [
        "### 4.2 Melihat informasi Churn berdasarkan Gender"
      ]
    },
    {
      "cell_type": "code",
      "execution_count": 150,
      "metadata": {
        "id": "d2kGfiLSx2Pd",
        "colab": {
          "base_uri": "https://localhost:8080/",
          "height": 441
        },
        "outputId": "2f100e47-ea9a-4c61-b5a6-b3c569f100d1"
      },
      "outputs": [
        {
          "output_type": "display_data",
          "data": {
            "text/plain": [
              "<Figure size 1080x432 with 2 Axes>"
            ],
            "image/png": "[encoded data removed]"
          },
          "metadata": {
            "needs_background": "light"
          }
        }
      ],
      "source": [
        "# membuat figure\n",
        "plt.figure(figsize=(15,6))\n",
        "\n",
        "# plot pie chart\n",
        "plt.subplot(1,2,1)\n",
        "plt.pie(data_churn['gender'].value_counts(), labels=data_churn['gender'].unique(), explode=(0,0.05), autopct='%.2f%%', colors=colors)\n",
        "plt.title(\"Proportion of Gender\", fontsize='16')\n",
        "\n",
        "# plot countplot\n",
        "plt.subplot(1,2,2)\n",
        "p1 = sns.countplot(data=data_churn, x='gender', hue='Churn', palette = colors)\n",
        "plt.title(\"Distribution of Churn by Gender\", fontsize='16')\n",
        "for p in p1.patches:\n",
        "    p1.annotate(f'{p.get_height()}', (p.get_x() + p.get_width()/2., p.get_height()), ha = 'center', va = 'center', xytext = (0, 10), textcoords = 'offset points')\n",
        "plt.legend()\n",
        "plt.tight_layout()\n",
        "plt.show()\n"
      ]
    },
    {
      "cell_type": "markdown",
      "metadata": {
        "id": "4RM8v9c00ON3"
      },
      "source": [
        "Dari informasi visulisasi diatas, terlihat bahwa pelanggan berdasarkan `Gender` tidak terlihat berbeda jauh, antara **Male** dan **Female**. \n",
        "\n",
        "Dan dari informasi visualisasi berdasarkan `Gender` dalam melakukan `Churn` terlihat bahwa yang melakukan **Churn** tidak terlalu berbeda jauh terhadap `Gender` baik pelanggan yang tidak melakukan **Churn** dan yang melakukan **Churn**."
      ]
    },
    {
      "cell_type": "markdown",
      "metadata": {
        "id": "YyQjHNc8V35o"
      },
      "source": [
        "### 4.3 Melihat informasi dari jenis pembayaran"
      ]
    },
    {
      "cell_type": "code",
      "execution_count": 151,
      "metadata": {
        "id": "yXcSIycXuofo",
        "colab": {
          "base_uri": "https://localhost:8080/",
          "height": 441
        },
        "outputId": "759e2cc9-bce8-462f-ae8f-641433437546"
      },
      "outputs": [
        {
          "output_type": "display_data",
          "data": {
            "text/plain": [
              "<Figure size 1080x432 with 2 Axes>"
            ],
            "image/png": "[encoded data removed]"
          },
          "metadata": {
            "needs_background": "light"
          }
        }
      ],
      "source": [
        "# your colors\n",
        "colors = ['#5cb85c', '#5bc0de']\n",
        "\n",
        "# membuat figure\n",
        "plt.figure(figsize=(15,6))\n",
        "\n",
        "# plot countplot\n",
        "plt.subplot(1,2,1)\n",
        "p1 = sns.countplot(data=data_churn, x='PaymentMethod', palette = ['#aee1f6', '#80ff80', '#aa77cc', '#008080'])\n",
        "plt.title(\"Distribution of Payment Method\", fontsize='16')\n",
        "for p in p1.patches:\n",
        "    p1.annotate(f'{p.get_height()}', (p.get_x() + p.get_width()/2., p.get_height()), ha = 'center', va = 'center', xytext = (0, 10), textcoords = 'offset points')\n",
        "plt.xticks(rotation = 25) # Rotates X-Axis Ticks by 25-degrees\n",
        "plt.xlabel(\"Payment Method\", fontsize='14')\n",
        "\n",
        "# plot chart\n",
        "plt.subplot(1,2,2)\n",
        "p2 = sns.countplot(data=data_churn, x='PaymentMethod', hue='Churn', palette = colors)\n",
        "plt.title(\"Distribution of Churn\", fontsize='16')\n",
        "for p in p2.patches:\n",
        "    p2.annotate(f'{p.get_height()}', (p.get_x() + p.get_width()/2., p.get_height()), ha = 'center', va = 'center', xytext = (0, 10), textcoords = 'offset points')\n",
        "plt.title(\"Proportion of Churn in Payment Method\", fontsize='16')\n",
        "plt.xticks(rotation = 25) # Rotates X-Axis Ticks by 25-degrees\n",
        "plt.xlabel(\"Payment Method\", fontsize='14')\n",
        "plt.legend()\n",
        "plt.tight_layout()\n",
        "plt.show()"
      ]
    },
    {
      "cell_type": "markdown",
      "metadata": {
        "id": "5TYkmuv9QaIc"
      },
      "source": [
        "Dari hasil informasi visualisasi diatas, terlihat bahwa :\n",
        "- Berdasarkan jenis `Payment Method`, **Electronic check** adalah yang paling sering digunakan dari jenis pembayaran lain. Dibandingkan dengan jenis pembayaran **Mailed check**, **Bank Transfer** dan **Credit Card** yang tidak jauh berbeda dalam penggunakan jenis pembayaran yang dilakukan.\n",
        "- Berdasarkan `Churn` terhadap `PaymentMethod` terlihat bahwa pelanggan yang melakukan **Churn** lebih dominan menggunakan jenis pembayaran **Electronic check**. Dibandingkan dengan jenis pembayaran **Mailed check**, **Bank Transfer** dan **Credit Card**.\n",
        "- Mungkin saja pelanggan yang menggunakan metode pembayaran **Automatic payment** lebih nyaman dalam melakukan pembayaran dan terlihat bahwa pelanggan yang menggunakan **Automatic Payment** lebih sedikit dalam melakukan **Churn**."
      ]
    },
    {
      "cell_type": "markdown",
      "metadata": {
        "id": "e2lT2WjvnXl2"
      },
      "source": [
        "### 4.4 Melihat informasi tentang jangka waktu pelanggan"
      ]
    },
    {
      "cell_type": "code",
      "execution_count": 152,
      "metadata": {
        "id": "DqyP7QGAV3hI",
        "colab": {
          "base_uri": "https://localhost:8080/",
          "height": 441
        },
        "outputId": "5746e066-3b47-47ed-ceb6-2b5aab1b7e9c"
      },
      "outputs": [
        {
          "output_type": "display_data",
          "data": {
            "text/plain": [
              "<Figure size 1080x432 with 2 Axes>"
            ],
            "image/png": "[encoded data removed]"
          },
          "metadata": {
            "needs_background": "light"
          }
        }
      ],
      "source": [
        "# Get the data\n",
        "tenure = data_churn['tenure'].value_counts().head(10)\n",
        "\n",
        "# Create figure\n",
        "plt.figure(figsize=(15,6))\n",
        "\n",
        "# Plot the data\n",
        "plt.subplot(1,2,1)\n",
        "ax = tenure.plot(kind='bar', color=\"#5bc0de\")\n",
        "for p in ax.patches:\n",
        "    ax.annotate(f'{p.get_height()}', (p.get_x() + p.get_width()/2., p.get_height()), ha = 'center', va = 'center', xytext = (0, 10), textcoords = 'offset points')\n",
        "plt.xlabel('Tenure', fontsize='14') # add to x-label to the plot\n",
        "plt.ylabel('Count') # add y-label to the plot\n",
        "plt.title('Distibution of Tenure', fontsize='16') # add title to the plot\n",
        "\n",
        "# plot count data *Contract*\n",
        "plt.subplot(1,2,2)\n",
        "ax1 = sns.countplot(data=data_churn, x='Contract', hue='Churn', palette=colors )\n",
        "for p in ax1.patches:\n",
        "    ax1.annotate(f'{p.get_height()}', (p.get_x() + p.get_width()/2., p.get_height()), ha = 'center', va = 'center', xytext = (0, 10), textcoords = 'offset points')\n",
        "plt.xlabel(\"Contract\", fontsize='14')\n",
        "plt.title('Proportion of Churn in Payment Contract', fontsize='16') # add title to the plot\n",
        "plt.legend()\n",
        "plt.tight_layout()\n",
        "plt.show()"
      ]
    },
    {
      "cell_type": "markdown",
      "metadata": {
        "id": "qjvyHk9CnWGY"
      },
      "source": [
        "Dari hasil visualisasi diatas terlihat bahwa:\n",
        "- Berdasarkan visualisasi `Tenure` terlihat bahwa pelanggan lebih tertarik mengambil `Tenure` dalam waktu hanya 1 bulan saja, mungkin saja pelanggan ingin memastikan untuk mendapatkan pelayanan atau service yang terbaik dari perusahaan ini. Sehingga para pelanggan mengambil `Tenure` dalam jangka waktu 1 bulan saja.\n",
        "- Berdasarkan visualisasi `Contract` terlihat juga pelanggan lebih sering mengambil `Contract` dalam jangka waktu hanya perbulan (**Month to month**) dibandingkan dengan setahun bahkan dua tahun. \n",
        "- Terlihat juga bahwa pelanggan yang melakukan **Churn** lebih dominan dalam mengambil `Contract` perbulan. Mungkin saja kepuasan pelanggan terhadap service yang diberikan oleh perusahaan Telco ini tidak maksimal.\n"
      ]
    },
    {
      "cell_type": "markdown",
      "metadata": {
        "id": "pVQ4W19isKW5"
      },
      "source": [
        "### 4.5 Melihat informasi Dependent and Partner"
      ]
    },
    {
      "cell_type": "code",
      "execution_count": 153,
      "metadata": {
        "id": "rNnbg_Uhq4JE",
        "colab": {
          "base_uri": "https://localhost:8080/",
          "height": 441
        },
        "outputId": "4c1f785a-ff47-41e1-e27e-21fe61086666"
      },
      "outputs": [
        {
          "output_type": "display_data",
          "data": {
            "text/plain": [
              "<Figure size 1080x432 with 2 Axes>"
            ],
            "image/png": "[encoded data removed]"
          },
          "metadata": {
            "needs_background": "light"
          }
        }
      ],
      "source": [
        "# your colors\n",
        "colors = ['#5cb85c', '#5bc0de']\n",
        "\n",
        "# membuat figure\n",
        "plt.figure(figsize=(15,6))\n",
        "\n",
        "# plot countplot\n",
        "plt.subplot(1,2,1)\n",
        "p1 = sns.countplot(data=data_churn, x='Dependents',hue='Churn',  palette = ['#80ff80','#008080'])\n",
        "plt.title(\"Distribution of Dependents\", fontsize='16')\n",
        "for p in p1.patches:\n",
        "    p1.annotate(f'{p.get_height()}', (p.get_x() + p.get_width()/2., p.get_height()), ha = 'center', va = 'center', xytext = (0, 10), textcoords = 'offset points')\n",
        "plt.xlabel(\"Dependents\", fontsize='14')\n",
        "\n",
        "# plot countplot\n",
        "plt.subplot(1,2,2)\n",
        "p2 = sns.countplot(data=data_churn, x='Partner', hue='Churn', palette = colors)\n",
        "plt.title(\"Distribution of Churn\", fontsize='16')\n",
        "for p in p2.patches:\n",
        "    p2.annotate(f'{p.get_height()}', (p.get_x() + p.get_width()/2., p.get_height()), ha = 'center', va = 'center', xytext = (0, 10), textcoords = 'offset points')\n",
        "plt.title(\"Distribution of Partner\", fontsize='16')\n",
        "plt.xlabel(\"Partner\", fontsize='14')\n",
        "plt.legend()\n",
        "plt.tight_layout()\n",
        "plt.show()\n"
      ]
    },
    {
      "cell_type": "markdown",
      "metadata": {
        "id": "uukKuXqxsLDg"
      },
      "source": [
        "Dari hasil visualisasi diatas terlihat bahwa:\n",
        "- Berdasarkan visualisasi `Dependents` terlihat bahwa pelanggan yang tidak memiliki tanggungan cenderung lebih banyak melakukan **Churn** dibandingkan dengan pelanggan yang tidak memiliki tanggungan.\n",
        "- Berdarkan visualisasi `Partner` terlihat bahwa pelanggan yang tidak memiliki pasangan cenderung melakukan **Churn** dibandingkan dengan pelanggan yang memiliki pasangan."
      ]
    },
    {
      "cell_type": "markdown",
      "metadata": {
        "id": "Qxg388c5zXHx"
      },
      "source": [
        "### 4.6 Melihat informasi mengenai Internet Service dan Phone Service"
      ]
    },
    {
      "cell_type": "code",
      "execution_count": 154,
      "metadata": {
        "id": "rS5eC7UwyfKg",
        "colab": {
          "base_uri": "https://localhost:8080/",
          "height": 441
        },
        "outputId": "0b1cc490-1156-4edc-8b8b-e3d38748e43b"
      },
      "outputs": [
        {
          "output_type": "display_data",
          "data": {
            "text/plain": [
              "<Figure size 1080x432 with 2 Axes>"
            ],
            "image/png": "[encoded data removed]"
          },
          "metadata": {
            "needs_background": "light"
          }
        }
      ],
      "source": [
        "# membuat figure\n",
        "plt.figure(figsize=(15,6))\n",
        "\n",
        "# plot countplot\n",
        "plt.subplot(1,2,1)\n",
        "p1 = sns.countplot(data=data_churn, x='InternetService',hue='Churn',  palette = ['#80ff80','#aa77cc'])\n",
        "plt.title(\"Distribution of Internet Service\", fontsize='16')\n",
        "for p in p1.patches:\n",
        "    p1.annotate(f'{p.get_height()}', (p.get_x() + p.get_width()/2., p.get_height()), ha = 'center', va = 'center', xytext = (0, 10), textcoords = 'offset points')\n",
        "plt.xlabel(\"InternetService\", fontsize='14')\n",
        "\n",
        "# plot countplot\n",
        "plt.subplot(1,2,2)\n",
        "p1 = sns.countplot(data=data_churn, x='PhoneService',hue='Churn',  palette = ['#80ff80','#aa77cc'])\n",
        "plt.title(\"Distribution of Phone Service\", fontsize='16')\n",
        "for p in p1.patches:\n",
        "    p1.annotate(f'{p.get_height()}', (p.get_x() + p.get_width()/2., p.get_height()), ha = 'center', va = 'center', xytext = (0, 10), textcoords = 'offset points')\n",
        "plt.xlabel(\"PhoneService\", fontsize='14')\n",
        "plt.legend()\n",
        "plt.tight_layout()\n",
        "plt.show()\n"
      ]
    },
    {
      "cell_type": "markdown",
      "metadata": {
        "id": "rzJhT922zWdz"
      },
      "source": [
        "Dari hasil informasi vusualisasi diatas:\n",
        "- Terlihat bahwa `InternetService` memiliki pelanggan yang melakukan **Churn** tertingga pada pelayanan *Fiber Optic*, mungkin saja pelayanan internet yang diberikan tidak maksimal sehingga para pelanggan melakukan **Churn**.\n",
        "- Terlihat bahwa pelanggan yang memiliki `PhoneService` lebih dominan dalam melakukan **Churn** dibandingkan dengan pelanggan yang tidak memiliki `PhoneService`."
      ]
    },
    {
      "cell_type": "markdown",
      "metadata": {
        "id": "2AK-Mo3D14TS"
      },
      "source": [
        "### 4.7 Melihat informasi mengenai Online Security dan Tech Support"
      ]
    },
    {
      "cell_type": "code",
      "execution_count": 155,
      "metadata": {
        "id": "UuG4bK7D1FFk",
        "colab": {
          "base_uri": "https://localhost:8080/",
          "height": 441
        },
        "outputId": "0cb08a22-94c4-4aad-a401-8593f8f99369"
      },
      "outputs": [
        {
          "output_type": "display_data",
          "data": {
            "text/plain": [
              "<Figure size 1080x432 with 2 Axes>"
            ],
            "image/png": "[encoded data removed]"
          },
          "metadata": {
            "needs_background": "light"
          }
        }
      ],
      "source": [
        "# membuat figure\n",
        "plt.figure(figsize=(15,6))\n",
        "\n",
        "# plot countplot\n",
        "plt.subplot(1,2,1)\n",
        "p1 = sns.countplot(data=data_churn, x='OnlineSecurity',hue='Churn',  palette = ['#80ff80','#aa77cc'])\n",
        "plt.title(\"Distribution of Online Security\", fontsize='16')\n",
        "for p in p1.patches:\n",
        "    p1.annotate(f'{p.get_height()}', (p.get_x() + p.get_width()/2., p.get_height()), ha = 'center', va = 'center', xytext = (0, 10), textcoords = 'offset points')\n",
        "plt.xlabel(\"OnlineSecurity\", fontsize='14')\n",
        "\n",
        "# plot countplot\n",
        "plt.subplot(1,2,2)\n",
        "p1 = sns.countplot(data=data_churn, x='TechSupport',hue='Churn',  palette = ['#80ff80','#aa77cc'])\n",
        "plt.title(\"Distribution of Tech Support\", fontsize='16')\n",
        "for p in p1.patches:\n",
        "    p1.annotate(f'{p.get_height()}', (p.get_x() + p.get_width()/2., p.get_height()), ha = 'center', va = 'center', xytext = (0, 10), textcoords = 'offset points')\n",
        "plt.xlabel(\"TechSupport\", fontsize='14')\n",
        "plt.legend()\n",
        "plt.tight_layout()\n",
        "plt.show()\n"
      ]
    },
    {
      "cell_type": "markdown",
      "metadata": {
        "id": "GxOInxih2DpT"
      },
      "source": [
        "Dari hasil visualisasi diatas terlihat bahwa:\n",
        "- Dari visualisasi `OnlineSecurity` terlihat bahwa pelanggan yang tidak memiliki keamanan cenderung **Churn** dibandingkan dengan pelanggan yang memiliki keamanan. Mungkin saja lebih baik membarikan keamanan pada para pelanggan untuk meminimalisir pelanggan yang akan **Churn** dan bisa meningkatkan income perusahaan.\n",
        "- Dari visualisasi `TechSupport` terlihat bahwa pelanggan yang tidak memiliki teknisi support cenderung melakukan **Churn** dibandingkan dengan pelanggan yang memiliki teknisi. "
      ]
    },
    {
      "cell_type": "markdown",
      "metadata": {
        "id": "Ia1ueiY8-P5k"
      },
      "source": [
        "### 4.8 Melihat informasi distribusi Charges dengan Churn"
      ]
    },
    {
      "cell_type": "code",
      "execution_count": 156,
      "metadata": {
        "colab": {
          "base_uri": "https://localhost:8080/",
          "height": 441
        },
        "id": "y0PNxCNi8A3N",
        "outputId": "e4d00024-f439-44e0-8128-55d54a935929"
      },
      "outputs": [
        {
          "output_type": "display_data",
          "data": {
            "text/plain": [
              "<Figure size 1008x432 with 2 Axes>"
            ],
            "image/png": "[encoded data removed]"
          },
          "metadata": {
            "needs_background": "light"
          }
        }
      ],
      "source": [
        "# Membuat figure\n",
        "plt.figure(figsize=(14,6))\n",
        "\n",
        "# Plot kde distribution churn \n",
        "plt.subplot(1,2,1)\n",
        "ax = sns.kdeplot(data_churn.MonthlyCharges[(data_churn[\"Churn\"] == 'No') ], shade = True)\n",
        "ax = sns.kdeplot(data_churn.MonthlyCharges[(data_churn[\"Churn\"] == 'Yes') ], shade= True)\n",
        "ax.legend([\"Not Churn\", \"Churn\"])\n",
        "ax.set_xlabel('Monthly Charges')\n",
        "ax.set_title('Distribution of monthly charges by churn', fontsize='16')\n",
        "\n",
        "# Plot kde distribution churn \n",
        "plt.subplot(1,2,2)\n",
        "ax = sns.kdeplot(data_churn.TotalCharges[(data_churn[\"Churn\"] == 'No') ], shade = True)\n",
        "ax = sns.kdeplot(data_churn.TotalCharges[(data_churn[\"Churn\"] == 'Yes') ], shade= True)\n",
        "ax.legend([\"Not Churn\", \"Churn\"])\n",
        "ax.set_xlabel('Total Charges')\n",
        "ax.set_title('Distribution of Total charges by churn', fontsize='16')\n",
        "plt.tight_layout()\n",
        "plt.show()"
      ]
    },
    {
      "cell_type": "markdown",
      "metadata": {
        "id": "eCACs0Re-U-M"
      },
      "source": [
        "Dari hasil informasi diatas terlihat bahwa:\n",
        "- Pelanggan cenderung melakukan **Churn** tehadap biaya yang dibebankan terlalu besar perbulannya dibandingkan dengan total biaya yang dibebankan.\n",
        "- Terlihat bahwa pelanggan akan melakukan **Churn** ketika total biaya yang dibebankan cenderung sedikit. Ini berbanding terbalik dengan Biaya bulanan yang dibebankan."
      ]
    },
    {
      "cell_type": "markdown",
      "metadata": {
        "id": "JpsYeTeR3Ldk"
      },
      "source": [
        "### 4.9 Conclusion EDA"
      ]
    },
    {
      "cell_type": "markdown",
      "metadata": {
        "id": "w335VveE3Qvi"
      },
      "source": [
        "Setelah kita melakukan Exploratory Data Analysis (EDA) secara singkat kita dapat menarik kesimpulan sebagai berikut:\n",
        "- Dari hasil informasi mengenai dataset ini, dataset ini memiliki 7043 baris data dan 21 kolom.\n",
        "- Dari informasi statistik yang didapatkan bahwa:\n",
        "  - Para pelanggan rata-rata mengambil `tenure` selama 32 bulan dan maximum adalah 72 bulan. \n",
        "  - Para pelanggan juga memiliki biaya rata-rata perbulan yang dibebankan biaya sebesar 64.78 dan dengan beban maximum biaya 1888.75\n",
        "- Dari hasil informasi mengenai para pelanggan yang melakukan `Churn` dapat dilihat bahwa sebanyak 1864 orang (26.54%) pelanggan melakukan **Churn** dan sebanyak 5174 orang (73.46%) pelanggan tidak melakukan **Churn** ini merupakan berita yang bisa dikataan cukup bagus untuk bisnis karena para pelanggan melakukan **Churn** lebih sedikit dibandingkan yang tidak melakukannya. Berbanding terbalik dengan kita yang akan membuat suatu model untuk memperkirakan pelanggan mana saja yang akan melakukan **Churn** karena dataset nya tidak **balance** sehingga diperlukan handling **imbalance** dataset nantinya.\n",
        "- Terlihat dari visualisasi bahwa para pelanggan cenderung mengambil `tenure` selama 1 bulan saja dengan masa `Contract` hanya perbulan saja dibandingkan dengan satu tahun dan dua tahun.\n",
        "- Dari informasi `Dependent` dan `Partner` bahwa para pelanggan cenderung lebih banyak melakukan **Churn** terhadap mereka yang tidak memiliki tanggungan dan tidak memiliki pasangan.\n",
        "- Dari informasi seperti `Service` terlihat bahwa pelanggan cenderung melakukan **Churn** apabila mereka tidak memiliki teknisi support dan keamanan.\n",
        "- Dari informasi biaya yang dibebankan perbulan terlihat bahwa para pelanggan akan **Churn** ketika biaya yang dibebankan terlalu besar dibandingkan dengan rata-rata beban biaya perbulan."
      ]
    },
    {
      "cell_type": "markdown",
      "metadata": {
        "id": "HcBtHObX_70M"
      },
      "source": [
        "# 5. Data Preprocessing"
      ]
    },
    {
      "cell_type": "markdown",
      "metadata": {
        "id": "R73Qui9ZlQ_z"
      },
      "source": [
        "### 5.1 Get Data Inference"
      ]
    },
    {
      "cell_type": "code",
      "execution_count": 157,
      "metadata": {
        "colab": {
          "base_uri": "https://localhost:8080/",
          "height": 356
        },
        "id": "AFD4oYMj_r4n",
        "outputId": "25aaa35f-62da-4f02-e8fc-a49d33e45c94"
      },
      "outputs": [
        {
          "output_type": "execute_result",
          "data": {
            "text/plain": [
              "   gender SeniorCitizen Partner Dependents  tenure PhoneService MultipleLines  \\\n",
              "0  Female           Yes     Yes         No      71          Yes           Yes   \n",
              "1    Male            No      No         No       3          Yes            No   \n",
              "2    Male            No      No         No       1          Yes           Yes   \n",
              "3    Male            No      No         No       8          Yes            No   \n",
              "4  Female            No     Yes         No      60          Yes           Yes   \n",
              "\n",
              "  InternetService OnlineSecurity OnlineBackup DeviceProtection TechSupport  \\\n",
              "0             DSL            Yes          Yes              Yes         Yes   \n",
              "1             DSL             No           No               No         Yes   \n",
              "2     Fiber optic             No           No               No          No   \n",
              "3     Fiber optic             No           No               No          No   \n",
              "4     Fiber optic             No          Yes              Yes         Yes   \n",
              "\n",
              "  StreamingTV StreamingMovies        Contract PaperlessBilling  \\\n",
              "0          No             Yes        Two year              Yes   \n",
              "1         Yes             Yes  Month-to-month              Yes   \n",
              "2          No              No  Month-to-month              Yes   \n",
              "3          No              No  Month-to-month               No   \n",
              "4         Yes             Yes        Two year              Yes   \n",
              "\n",
              "               PaymentMethod  MonthlyCharges  TotalCharges Churn  \n",
              "0  Bank transfer (automatic)           82.70       5831.20    No  \n",
              "1           Electronic check           69.35        191.35   Yes  \n",
              "2           Electronic check           75.30         75.30   Yes  \n",
              "3  Bank transfer (automatic)           70.70        553.40    No  \n",
              "4    Credit card (automatic)          110.80       6640.70    No  "
            ],
            "text/html": [
              "\n",
              "  <div id=\"df-6dd7ca26-9e91-4983-b19f-d2263a08cf06\">\n",
              "    <div class=\"colab-df-container\">\n",
              "      <div>\n",
              "<style scoped>\n",
              "    .dataframe tbody tr th:only-of-type {\n",
              "        vertical-align: middle;\n",
              "    }\n",
              "\n",
              "    .dataframe tbody tr th {\n",
              "        vertical-align: top;\n",
              "    }\n",
              "\n",
              "    .dataframe thead th {\n",
              "        text-align: right;\n",
              "    }\n",
              "</style>\n",
              "<table border=\"1\" class=\"dataframe\">\n",
              "  <thead>\n",
              "    <tr style=\"text-align: right;\">\n",
              "      <th></th>\n",
              "      <th>gender</th>\n",
              "      <th>SeniorCitizen</th>\n",
              "      <th>Partner</th>\n",
              "      <th>Dependents</th>\n",
              "      <th>tenure</th>\n",
              "      <th>PhoneService</th>\n",
              "      <th>MultipleLines</th>\n",
              "      <th>InternetService</th>\n",
              "      <th>OnlineSecurity</th>\n",
              "      <th>OnlineBackup</th>\n",
              "      <th>DeviceProtection</th>\n",
              "      <th>TechSupport</th>\n",
              "      <th>StreamingTV</th>\n",
              "      <th>StreamingMovies</th>\n",
              "      <th>Contract</th>\n",
              "      <th>PaperlessBilling</th>\n",
              "      <th>PaymentMethod</th>\n",
              "      <th>MonthlyCharges</th>\n",
              "      <th>TotalCharges</th>\n",
              "      <th>Churn</th>\n",
              "    </tr>\n",
              "  </thead>\n",
              "  <tbody>\n",
              "    <tr>\n",
              "      <th>0</th>\n",
              "      <td>Female</td>\n",
              "      <td>Yes</td>\n",
              "      <td>Yes</td>\n",
              "      <td>No</td>\n",
              "      <td>71</td>\n",
              "      <td>Yes</td>\n",
              "      <td>Yes</td>\n",
              "      <td>DSL</td>\n",
              "      <td>Yes</td>\n",
              "      <td>Yes</td>\n",
              "      <td>Yes</td>\n",
              "      <td>Yes</td>\n",
              "      <td>No</td>\n",
              "      <td>Yes</td>\n",
              "      <td>Two year</td>\n",
              "      <td>Yes</td>\n",
              "      <td>Bank transfer (automatic)</td>\n",
              "      <td>82.70</td>\n",
              "      <td>5831.20</td>\n",
              "      <td>No</td>\n",
              "    </tr>\n",
              "    <tr>\n",
              "      <th>1</th>\n",
              "      <td>Male</td>\n",
              "      <td>No</td>\n",
              "      <td>No</td>\n",
              "      <td>No</td>\n",
              "      <td>3</td>\n",
              "      <td>Yes</td>\n",
              "      <td>No</td>\n",
              "      <td>DSL</td>\n",
              "      <td>No</td>\n",
              "      <td>No</td>\n",
              "      <td>No</td>\n",
              "      <td>Yes</td>\n",
              "      <td>Yes</td>\n",
              "      <td>Yes</td>\n",
              "      <td>Month-to-month</td>\n",
              "      <td>Yes</td>\n",
              "      <td>Electronic check</td>\n",
              "      <td>69.35</td>\n",
              "      <td>191.35</td>\n",
              "      <td>Yes</td>\n",
              "    </tr>\n",
              "    <tr>\n",
              "      <th>2</th>\n",
              "      <td>Male</td>\n",
              "      <td>No</td>\n",
              "      <td>No</td>\n",
              "      <td>No</td>\n",
              "      <td>1</td>\n",
              "      <td>Yes</td>\n",
              "      <td>Yes</td>\n",
              "      <td>Fiber optic</td>\n",
              "      <td>No</td>\n",
              "      <td>No</td>\n",
              "      <td>No</td>\n",
              "      <td>No</td>\n",
              "      <td>No</td>\n",
              "      <td>No</td>\n",
              "      <td>Month-to-month</td>\n",
              "      <td>Yes</td>\n",
              "      <td>Electronic check</td>\n",
              "      <td>75.30</td>\n",
              "      <td>75.30</td>\n",
              "      <td>Yes</td>\n",
              "    </tr>\n",
              "    <tr>\n",
              "      <th>3</th>\n",
              "      <td>Male</td>\n",
              "      <td>No</td>\n",
              "      <td>No</td>\n",
              "      <td>No</td>\n",
              "      <td>8</td>\n",
              "      <td>Yes</td>\n",
              "      <td>No</td>\n",
              "      <td>Fiber optic</td>\n",
              "      <td>No</td>\n",
              "      <td>No</td>\n",
              "      <td>No</td>\n",
              "      <td>No</td>\n",
              "      <td>No</td>\n",
              "      <td>No</td>\n",
              "      <td>Month-to-month</td>\n",
              "      <td>No</td>\n",
              "      <td>Bank transfer (automatic)</td>\n",
              "      <td>70.70</td>\n",
              "      <td>553.40</td>\n",
              "      <td>No</td>\n",
              "    </tr>\n",
              "    <tr>\n",
              "      <th>4</th>\n",
              "      <td>Female</td>\n",
              "      <td>No</td>\n",
              "      <td>Yes</td>\n",
              "      <td>No</td>\n",
              "      <td>60</td>\n",
              "      <td>Yes</td>\n",
              "      <td>Yes</td>\n",
              "      <td>Fiber optic</td>\n",
              "      <td>No</td>\n",
              "      <td>Yes</td>\n",
              "      <td>Yes</td>\n",
              "      <td>Yes</td>\n",
              "      <td>Yes</td>\n",
              "      <td>Yes</td>\n",
              "      <td>Two year</td>\n",
              "      <td>Yes</td>\n",
              "      <td>Credit card (automatic)</td>\n",
              "      <td>110.80</td>\n",
              "      <td>6640.70</td>\n",
              "      <td>No</td>\n",
              "    </tr>\n",
              "  </tbody>\n",
              "</table>\n",
              "</div>\n",
              "      <button class=\"colab-df-convert\" onclick=\"convertToInteractive('df-6dd7ca26-9e91-4983-b19f-d2263a08cf06')\"\n",
              "              title=\"Convert this dataframe to an interactive table.\"\n",
              "              style=\"display:none;\">\n",
              "        \n",
              "  <svg xmlns=\"http://www.w3.org/2000/svg\" height=\"24px\"viewBox=\"0 0 24 24\"\n",
              "       width=\"24px\">\n",
              "    <path d=\"M0 0h24v24H0V0z\" fill=\"none\"/>\n",
              "    <path d=\"M18.56 5.44l.94 2.06.94-2.06 2.06-.94-2.06-.94-.94-2.06-.94 2.06-2.06.94zm-11 1L8.5 8.5l.94-2.06 2.06-.94-2.06-.94L8.5 2.5l-.94 2.06-2.06.94zm10 10l.94 2.06.94-2.06 2.06-.94-2.06-.94-.94-2.06-.94 2.06-2.06.94z\"/><path d=\"M17.41 7.96l-1.37-1.37c-.4-.4-.92-.59-1.43-.59-.52 0-1.04.2-1.43.59L10.3 9.45l-7.72 7.72c-.78.78-.78 2.05 0 2.83L4 21.41c.39.39.9.59 1.41.59.51 0 1.02-.2 1.41-.59l7.78-7.78 2.81-2.81c.8-.78.8-2.07 0-2.86zM5.41 20L4 18.59l7.72-7.72 1.47 1.35L5.41 20z\"/>\n",
              "  </svg>\n",
              "      </button>\n",
              "      \n",
              "  <style>\n",
              "    .colab-df-container {\n",
              "      display:flex;\n",
              "      flex-wrap:wrap;\n",
              "      gap: 12px;\n",
              "    }\n",
              "\n",
              "    .colab-df-convert {\n",
              "      background-color: #E8F0FE;\n",
              "      border: none;\n",
              "      border-radius: 50%;\n",
              "      cursor: pointer;\n",
              "      display: none;\n",
              "      fill: #1967D2;\n",
              "      height: 32px;\n",
              "      padding: 0 0 0 0;\n",
              "      width: 32px;\n",
              "    }\n",
              "\n",
              "    .colab-df-convert:hover {\n",
              "      background-color: #E2EBFA;\n",
              "      box-shadow: 0px 1px 2px rgba(60, 64, 67, 0.3), 0px 1px 3px 1px rgba(60, 64, 67, 0.15);\n",
              "      fill: #174EA6;\n",
              "    }\n",
              "\n",
              "    [theme=dark] .colab-df-convert {\n",
              "      background-color: #3B4455;\n",
              "      fill: #D2E3FC;\n",
              "    }\n",
              "\n",
              "    [theme=dark] .colab-df-convert:hover {\n",
              "      background-color: #434B5C;\n",
              "      box-shadow: 0px 1px 3px 1px rgba(0, 0, 0, 0.15);\n",
              "      filter: drop-shadow(0px 1px 2px rgba(0, 0, 0, 0.3));\n",
              "      fill: #FFFFFF;\n",
              "    }\n",
              "  </style>\n",
              "\n",
              "      <script>\n",
              "        const buttonEl =\n",
              "          document.querySelector('#df-6dd7ca26-9e91-4983-b19f-d2263a08cf06 button.colab-df-convert');\n",
              "        buttonEl.style.display =\n",
              "          google.colab.kernel.accessAllowed ? 'block' : 'none';\n",
              "\n",
              "        async function convertToInteractive(key) {\n",
              "          const element = document.querySelector('#df-6dd7ca26-9e91-4983-b19f-d2263a08cf06');\n",
              "          const dataTable =\n",
              "            await google.colab.kernel.invokeFunction('convertToInteractive',\n",
              "                                                     [key], {});\n",
              "          if (!dataTable) return;\n",
              "\n",
              "          const docLinkHtml = 'Like what you see? Visit the ' +\n",
              "            '<a target=\"_blank\" href=https://colab.research.google.com/notebooks/data_table.ipynb>data table notebook</a>'\n",
              "            + ' to learn more about interactive tables.';\n",
              "          element.innerHTML = '';\n",
              "          dataTable['output_type'] = 'display_data';\n",
              "          await google.colab.output.renderOutput(dataTable, element);\n",
              "          const docLink = document.createElement('div');\n",
              "          docLink.innerHTML = docLinkHtml;\n",
              "          element.appendChild(docLink);\n",
              "        }\n",
              "      </script>\n",
              "    </div>\n",
              "  </div>\n",
              "  "
            ]
          },
          "metadata": {},
          "execution_count": 157
        }
      ],
      "source": [
        "# mengambil 30 data secara random untuk data inference\n",
        "data_inf = data_churn.sample(30, random_state=8)\n",
        "\n",
        "# menghapus data inference dari dataframe \n",
        "data_churn = data_churn.drop(data_inf.index)\n",
        "\n",
        "# Reset Index\n",
        "data_churn.reset_index(drop=True, inplace=True)\n",
        "data_inf.reset_index(drop=True, inplace=True)\n",
        "\n",
        "# Display data_inf\n",
        "data_inf.head()"
      ]
    },
    {
      "cell_type": "markdown",
      "metadata": {
        "id": "Be8WvM3XlmdO"
      },
      "source": [
        "### 5.2 Spliting Dataset"
      ]
    },
    {
      "cell_type": "code",
      "execution_count": 158,
      "metadata": {
        "colab": {
          "base_uri": "https://localhost:8080/"
        },
        "id": "j-2ClFTvljOk",
        "outputId": "f060569a-7c75-492d-b16e-7ab99e70f604"
      },
      "outputs": [
        {
          "output_type": "stream",
          "name": "stdout",
          "text": [
            "---- Train - Set ----\n",
            "Dimensi dari X_train : (5610, 19)\n",
            "Dimensi dari y_train : (5610,)\n",
            "\n",
            "---- Test - Set ----\n",
            "Dimensi dari X_test : (1403, 19)\n",
            "Dimensi dari y_test : (1403,)\n"
          ]
        }
      ],
      "source": [
        "# define 'X' and 'y'\n",
        "X = data_churn.drop(['Churn'], axis=1)\n",
        "y = data_churn['Churn']\n",
        "\n",
        "# Splitting Dataset\n",
        "X_train, X_test, y_train, y_test = train_test_split(X,y, test_size=0.2, random_state=42, stratify=y)\n",
        "\n",
        "# Cek dimensi Train dan Test\n",
        "print('---- Train - Set ----')\n",
        "print('Dimensi dari X_train :', X_train.shape)\n",
        "print('Dimensi dari y_train :', y_train.shape)\n",
        "print('')\n",
        "print('---- Test - Set ----')\n",
        "print('Dimensi dari X_test :', X_test.shape)\n",
        "print('Dimensi dari y_test :', y_test.shape)"
      ]
    },
    {
      "cell_type": "markdown",
      "metadata": {
        "id": "TebPj0mrl-UU"
      },
      "source": [
        "Setelah kita melakukan splitting dataset menjadi data Train-set dan Test-set. Selanjutnya kita akan melakukan tahap **feature engineereing**"
      ]
    },
    {
      "cell_type": "markdown",
      "metadata": {
        "id": "AWPOosPSmDR0"
      },
      "source": [
        "### 5.3 Feature Engineering\n",
        "\n",
        "Di dalam feature engineering ini kita akan melakukan handling **outlier** dan melakukan handling **missing value**."
      ]
    },
    {
      "cell_type": "markdown",
      "metadata": {
        "id": "7iIMa6W_mSSH"
      },
      "source": [
        "#### 5.3.1 Handling Outlier"
      ]
    },
    {
      "cell_type": "code",
      "execution_count": 159,
      "metadata": {
        "id": "OAVasmBMl6AW"
      },
      "outputs": [],
      "source": [
        "# Create function for create histogram and boxplot\n",
        "def diagnostic_plots(df, variable):\n",
        "    # Define figure size\n",
        "    plt.figure(figsize=(16,4))\n",
        "    \n",
        "    # Create Histogram\n",
        "    plt.subplot(1,2,1)\n",
        "    sns.histplot(df[variable], bins=30, color='#49c726')\n",
        "    plt.title(\"Distribution of Histogram\")\n",
        "    \n",
        "    # Create Boxplot\n",
        "    plt.subplot(1,2,2)\n",
        "    sns.boxplot(df[variable], color='#fca103')\n",
        "    plt.title(\"Distibution of Boxplot\")\n",
        "    plt.show()"
      ]
    },
    {
      "cell_type": "code",
      "execution_count": 160,
      "metadata": {
        "colab": {
          "base_uri": "https://localhost:8080/",
          "height": 924
        },
        "id": "FIfAQcwcmWxB",
        "outputId": "c5af21e0-e5b6-41db-f016-2ed057e36815"
      },
      "outputs": [
        {
          "output_type": "stream",
          "name": "stdout",
          "text": [
            "Tampilan sebelum di handling outliers\n"
          ]
        },
        {
          "output_type": "display_data",
          "data": {
            "text/plain": [
              "<Figure size 1152x288 with 2 Axes>"
            ],
            "image/png": "[encoded data removed]"
          },
          "metadata": {
            "needs_background": "light"
          }
        },
        {
          "output_type": "stream",
          "name": "stdout",
          "text": [
            "Skewness value 0.2348985405945066\n"
          ]
        },
        {
          "output_type": "display_data",
          "data": {
            "text/plain": [
              "<Figure size 1152x288 with 2 Axes>"
            ],
            "image/png": "[encoded data removed]"
          },
          "metadata": {
            "needs_background": "light"
          }
        },
        {
          "output_type": "stream",
          "name": "stdout",
          "text": [
            "Skewness value -0.22133796669718517\n"
          ]
        },
        {
          "output_type": "display_data",
          "data": {
            "text/plain": [
              "<Figure size 1152x288 with 2 Axes>"
            ],
            "image/png": "[encoded data removed]"
          },
          "metadata": {
            "needs_background": "light"
          }
        },
        {
          "output_type": "stream",
          "name": "stdout",
          "text": [
            "Skewness value 0.9624861133516079\n"
          ]
        }
      ],
      "source": [
        "print(\"Tampilan sebelum di handling outliers\")\n",
        "for cols in X_train.describe().columns:\n",
        "    diagnostic_plots(X_train, cols)\n",
        "    print(f\"Skewness value {X_train[cols].skew()}\")"
      ]
    },
    {
      "cell_type": "code",
      "execution_count": 161,
      "metadata": {
        "id": "anfNonCQmZeN"
      },
      "outputs": [],
      "source": [
        "## Create function for distibution normal\n",
        "\n",
        "def find_normal_distribution(df, variables):\n",
        "    upper_boundary = df[variables].mean() + 3 * df[variables].std()\n",
        "    lower_boundary = df[variables].mean() - 3 * df[variables].std()\n",
        "    \n",
        "    return upper_boundary, lower_boundary\n",
        "\n",
        "\n",
        "## Create function for skew distribution\n",
        "def find_skew_distribution(df, variable):\n",
        "    IQR = df[variable].quantile(0.75) - df[variable].quantile(0.25)\n",
        "\n",
        "    lower_boundary = df[variable].quantile(0.25) - (IQR * 1.5)\n",
        "    upper_boundary = df[variable].quantile(0.75) + (IQR * 1.5)\n",
        "\n",
        "    return upper_boundary, lower_boundary"
      ]
    },
    {
      "cell_type": "code",
      "execution_count": 162,
      "metadata": {
        "colab": {
          "base_uri": "https://localhost:8080/",
          "height": 143
        },
        "id": "BgPOzt9AmigL",
        "outputId": "37c22f64-de29-4995-d3c2-7d0a74f63b72"
      },
      "outputs": [
        {
          "output_type": "execute_result",
          "data": {
            "text/plain": [
              "          columns  nilai_skewness  detect  percentage_outlier     action\n",
              "0          tenure        0.239230  normal                 0.0  No Action\n",
              "1  MonthlyCharges       -0.220850  normal                 0.0  No Action\n",
              "2    TotalCharges        0.961189  skewed                 0.0  No Action"
            ],
            "text/html": [
              "\n",
              "  <div id=\"df-f19db05d-0f10-4d7a-baf8-43be27fb3881\">\n",
              "    <div class=\"colab-df-container\">\n",
              "      <div>\n",
              "<style scoped>\n",
              "    .dataframe tbody tr th:only-of-type {\n",
              "        vertical-align: middle;\n",
              "    }\n",
              "\n",
              "    .dataframe tbody tr th {\n",
              "        vertical-align: top;\n",
              "    }\n",
              "\n",
              "    .dataframe thead th {\n",
              "        text-align: right;\n",
              "    }\n",
              "</style>\n",
              "<table border=\"1\" class=\"dataframe\">\n",
              "  <thead>\n",
              "    <tr style=\"text-align: right;\">\n",
              "      <th></th>\n",
              "      <th>columns</th>\n",
              "      <th>nilai_skewness</th>\n",
              "      <th>detect</th>\n",
              "      <th>percentage_outlier</th>\n",
              "      <th>action</th>\n",
              "    </tr>\n",
              "  </thead>\n",
              "  <tbody>\n",
              "    <tr>\n",
              "      <th>0</th>\n",
              "      <td>tenure</td>\n",
              "      <td>0.239230</td>\n",
              "      <td>normal</td>\n",
              "      <td>0.0</td>\n",
              "      <td>No Action</td>\n",
              "    </tr>\n",
              "    <tr>\n",
              "      <th>1</th>\n",
              "      <td>MonthlyCharges</td>\n",
              "      <td>-0.220850</td>\n",
              "      <td>normal</td>\n",
              "      <td>0.0</td>\n",
              "      <td>No Action</td>\n",
              "    </tr>\n",
              "    <tr>\n",
              "      <th>2</th>\n",
              "      <td>TotalCharges</td>\n",
              "      <td>0.961189</td>\n",
              "      <td>skewed</td>\n",
              "      <td>0.0</td>\n",
              "      <td>No Action</td>\n",
              "    </tr>\n",
              "  </tbody>\n",
              "</table>\n",
              "</div>\n",
              "      <button class=\"colab-df-convert\" onclick=\"convertToInteractive('df-f19db05d-0f10-4d7a-baf8-43be27fb3881')\"\n",
              "              title=\"Convert this dataframe to an interactive table.\"\n",
              "              style=\"display:none;\">\n",
              "        \n",
              "  <svg xmlns=\"http://www.w3.org/2000/svg\" height=\"24px\"viewBox=\"0 0 24 24\"\n",
              "       width=\"24px\">\n",
              "    <path d=\"M0 0h24v24H0V0z\" fill=\"none\"/>\n",
              "    <path d=\"M18.56 5.44l.94 2.06.94-2.06 2.06-.94-2.06-.94-.94-2.06-.94 2.06-2.06.94zm-11 1L8.5 8.5l.94-2.06 2.06-.94-2.06-.94L8.5 2.5l-.94 2.06-2.06.94zm10 10l.94 2.06.94-2.06 2.06-.94-2.06-.94-.94-2.06-.94 2.06-2.06.94z\"/><path d=\"M17.41 7.96l-1.37-1.37c-.4-.4-.92-.59-1.43-.59-.52 0-1.04.2-1.43.59L10.3 9.45l-7.72 7.72c-.78.78-.78 2.05 0 2.83L4 21.41c.39.39.9.59 1.41.59.51 0 1.02-.2 1.41-.59l7.78-7.78 2.81-2.81c.8-.78.8-2.07 0-2.86zM5.41 20L4 18.59l7.72-7.72 1.47 1.35L5.41 20z\"/>\n",
              "  </svg>\n",
              "      </button>\n",
              "      \n",
              "  <style>\n",
              "    .colab-df-container {\n",
              "      display:flex;\n",
              "      flex-wrap:wrap;\n",
              "      gap: 12px;\n",
              "    }\n",
              "\n",
              "    .colab-df-convert {\n",
              "      background-color: #E8F0FE;\n",
              "      border: none;\n",
              "      border-radius: 50%;\n",
              "      cursor: pointer;\n",
              "      display: none;\n",
              "      fill: #1967D2;\n",
              "      height: 32px;\n",
              "      padding: 0 0 0 0;\n",
              "      width: 32px;\n",
              "    }\n",
              "\n",
              "    .colab-df-convert:hover {\n",
              "      background-color: #E2EBFA;\n",
              "      box-shadow: 0px 1px 2px rgba(60, 64, 67, 0.3), 0px 1px 3px 1px rgba(60, 64, 67, 0.15);\n",
              "      fill: #174EA6;\n",
              "    }\n",
              "\n",
              "    [theme=dark] .colab-df-convert {\n",
              "      background-color: #3B4455;\n",
              "      fill: #D2E3FC;\n",
              "    }\n",
              "\n",
              "    [theme=dark] .colab-df-convert:hover {\n",
              "      background-color: #434B5C;\n",
              "      box-shadow: 0px 1px 3px 1px rgba(0, 0, 0, 0.15);\n",
              "      filter: drop-shadow(0px 1px 2px rgba(0, 0, 0, 0.3));\n",
              "      fill: #FFFFFF;\n",
              "    }\n",
              "  </style>\n",
              "\n",
              "      <script>\n",
              "        const buttonEl =\n",
              "          document.querySelector('#df-f19db05d-0f10-4d7a-baf8-43be27fb3881 button.colab-df-convert');\n",
              "        buttonEl.style.display =\n",
              "          google.colab.kernel.accessAllowed ? 'block' : 'none';\n",
              "\n",
              "        async function convertToInteractive(key) {\n",
              "          const element = document.querySelector('#df-f19db05d-0f10-4d7a-baf8-43be27fb3881');\n",
              "          const dataTable =\n",
              "            await google.colab.kernel.invokeFunction('convertToInteractive',\n",
              "                                                     [key], {});\n",
              "          if (!dataTable) return;\n",
              "\n",
              "          const docLinkHtml = 'Like what you see? Visit the ' +\n",
              "            '<a target=\"_blank\" href=https://colab.research.google.com/notebooks/data_table.ipynb>data table notebook</a>'\n",
              "            + ' to learn more about interactive tables.';\n",
              "          element.innerHTML = '';\n",
              "          dataTable['output_type'] = 'display_data';\n",
              "          await google.colab.output.renderOutput(dataTable, element);\n",
              "          const docLink = document.createElement('div');\n",
              "          docLink.innerHTML = docLinkHtml;\n",
              "          element.appendChild(docLink);\n",
              "        }\n",
              "      </script>\n",
              "    </div>\n",
              "  </div>\n",
              "  "
            ]
          },
          "metadata": {},
          "execution_count": 162
        }
      ],
      "source": [
        "# Melakukan pengecekan nilai skewness dan memeberikan label outlier\n",
        "proses_outlier = pd.DataFrame({'columns': X_train.describe().columns, \n",
        "                               'nilai_skewness': data_churn.skew(axis=0)})\n",
        "proses_outlier.reset_index(drop=True, inplace=True)\n",
        "\n",
        "proses_outlier['detect'] = np.where(proses_outlier['nilai_skewness'].abs()>0.5, \n",
        "                                   'skewed', 'normal')\n",
        "\n",
        "## Membuat fungsi untuk mencari percentage outlier\n",
        "outliers = {'percentage_outlier': []}\n",
        "for row in proses_outlier.index.tolist():\n",
        "    col = proses_outlier.iloc[row]['columns']\n",
        "    dist = proses_outlier.iloc[row]['detect']\n",
        "    if dist == 'normal':\n",
        "        upper_boundary, lower_boundary = find_normal_distribution(X_train, col)\n",
        "    else:\n",
        "        upper_boundary, lower_boundary = find_skew_distribution(X_train, col)\n",
        "        \n",
        "    total_right_tail = len(X_train[X_train[col] > upper_boundary])\n",
        "    total_left_tail = len(X_train[X_train[col] < lower_boundary])\n",
        "    total_right_tail_percent = total_right_tail/len(X_train)*100\n",
        "    total_left_tail_percent = total_left_tail/len(X_train)*100\n",
        "    total_outlier_percent =total_left_tail_percent + total_right_tail_percent\n",
        "    \n",
        "    outliers['percentage_outlier'].append(total_outlier_percent)\n",
        "    \n",
        "outliers = pd.DataFrame(outliers) # Memasukkan variabel outlier kedalam dataframe\n",
        "# Melakukan penggabungan\n",
        "X_train_outlier = pd.concat([proses_outlier, outliers], axis=1)\n",
        "X_train_outlier['action'] = np.where(X_train_outlier['percentage_outlier']==0, 'No Action',\n",
        "                                    np.where(X_train_outlier['percentage_outlier']>5, 'Capping','Trimming'))\n",
        "X_train_outlier"
      ]
    },
    {
      "cell_type": "markdown",
      "source": [
        "Dari hasil informasi pengecekan **Outlier** kita sepertinya memiliki dataset yang bersih terhadap outlier sehingga kita akan melanjutkana ke step berikutnya untuk handling **Missing Values**."
      ],
      "metadata": {
        "id": "eEKOdq1moyzr"
      }
    },
    {
      "cell_type": "markdown",
      "source": [
        "#### 5.3.2 Handling Missing Values\n",
        "Di dalam handling missing values ini, akan melihat informasi berapa proporsi data yang hilang sehingga kita akan melakukan metode handling yang tepat untuk melakukan hanling missing values ini."
      ],
      "metadata": {
        "id": "xeJBO3HHpJLM"
      }
    },
    {
      "cell_type": "code",
      "source": [
        "# Melihat missing value pada data X_train\n",
        "pd.DataFrame(X_train.isnull().mean()*100).rename(columns={0:'Percentage Missing Value in X_train'}).sort_values(by='Percentage Missing Value in X_train')"
      ],
      "metadata": {
        "colab": {
          "base_uri": "https://localhost:8080/",
          "height": 644
        },
        "id": "Ndh03AH3pAyt",
        "outputId": "1513b0e6-e1aa-4f3a-ed34-738354f82b7f"
      },
      "execution_count": 163,
      "outputs": [
        {
          "output_type": "execute_result",
          "data": {
            "text/plain": [
              "                  Percentage Missing Value in X_train\n",
              "gender                                       0.000000\n",
              "PaymentMethod                                0.000000\n",
              "PaperlessBilling                             0.000000\n",
              "Contract                                     0.000000\n",
              "StreamingMovies                              0.000000\n",
              "StreamingTV                                  0.000000\n",
              "TechSupport                                  0.000000\n",
              "DeviceProtection                             0.000000\n",
              "MonthlyCharges                               0.000000\n",
              "OnlineBackup                                 0.000000\n",
              "InternetService                              0.000000\n",
              "MultipleLines                                0.000000\n",
              "PhoneService                                 0.000000\n",
              "tenure                                       0.000000\n",
              "Dependents                                   0.000000\n",
              "Partner                                      0.000000\n",
              "SeniorCitizen                                0.000000\n",
              "OnlineSecurity                               0.000000\n",
              "TotalCharges                                 0.178253"
            ],
            "text/html": [
              "\n",
              "  <div id=\"df-f2b114bf-c93c-4dcc-9333-5c88aa06ce97\">\n",
              "    <div class=\"colab-df-container\">\n",
              "      <div>\n",
              "<style scoped>\n",
              "    .dataframe tbody tr th:only-of-type {\n",
              "        vertical-align: middle;\n",
              "    }\n",
              "\n",
              "    .dataframe tbody tr th {\n",
              "        vertical-align: top;\n",
              "    }\n",
              "\n",
              "    .dataframe thead th {\n",
              "        text-align: right;\n",
              "    }\n",
              "</style>\n",
              "<table border=\"1\" class=\"dataframe\">\n",
              "  <thead>\n",
              "    <tr style=\"text-align: right;\">\n",
              "      <th></th>\n",
              "      <th>Percentage Missing Value in X_train</th>\n",
              "    </tr>\n",
              "  </thead>\n",
              "  <tbody>\n",
              "    <tr>\n",
              "      <th>gender</th>\n",
              "      <td>0.000000</td>\n",
              "    </tr>\n",
              "    <tr>\n",
              "      <th>PaymentMethod</th>\n",
              "      <td>0.000000</td>\n",
              "    </tr>\n",
              "    <tr>\n",
              "      <th>PaperlessBilling</th>\n",
              "      <td>0.000000</td>\n",
              "    </tr>\n",
              "    <tr>\n",
              "      <th>Contract</th>\n",
              "      <td>0.000000</td>\n",
              "    </tr>\n",
              "    <tr>\n",
              "      <th>StreamingMovies</th>\n",
              "      <td>0.000000</td>\n",
              "    </tr>\n",
              "    <tr>\n",
              "      <th>StreamingTV</th>\n",
              "      <td>0.000000</td>\n",
              "    </tr>\n",
              "    <tr>\n",
              "      <th>TechSupport</th>\n",
              "      <td>0.000000</td>\n",
              "    </tr>\n",
              "    <tr>\n",
              "      <th>DeviceProtection</th>\n",
              "      <td>0.000000</td>\n",
              "    </tr>\n",
              "    <tr>\n",
              "      <th>MonthlyCharges</th>\n",
              "      <td>0.000000</td>\n",
              "    </tr>\n",
              "    <tr>\n",
              "      <th>OnlineBackup</th>\n",
              "      <td>0.000000</td>\n",
              "    </tr>\n",
              "    <tr>\n",
              "      <th>InternetService</th>\n",
              "      <td>0.000000</td>\n",
              "    </tr>\n",
              "    <tr>\n",
              "      <th>MultipleLines</th>\n",
              "      <td>0.000000</td>\n",
              "    </tr>\n",
              "    <tr>\n",
              "      <th>PhoneService</th>\n",
              "      <td>0.000000</td>\n",
              "    </tr>\n",
              "    <tr>\n",
              "      <th>tenure</th>\n",
              "      <td>0.000000</td>\n",
              "    </tr>\n",
              "    <tr>\n",
              "      <th>Dependents</th>\n",
              "      <td>0.000000</td>\n",
              "    </tr>\n",
              "    <tr>\n",
              "      <th>Partner</th>\n",
              "      <td>0.000000</td>\n",
              "    </tr>\n",
              "    <tr>\n",
              "      <th>SeniorCitizen</th>\n",
              "      <td>0.000000</td>\n",
              "    </tr>\n",
              "    <tr>\n",
              "      <th>OnlineSecurity</th>\n",
              "      <td>0.000000</td>\n",
              "    </tr>\n",
              "    <tr>\n",
              "      <th>TotalCharges</th>\n",
              "      <td>0.178253</td>\n",
              "    </tr>\n",
              "  </tbody>\n",
              "</table>\n",
              "</div>\n",
              "      <button class=\"colab-df-convert\" onclick=\"convertToInteractive('df-f2b114bf-c93c-4dcc-9333-5c88aa06ce97')\"\n",
              "              title=\"Convert this dataframe to an interactive table.\"\n",
              "              style=\"display:none;\">\n",
              "        \n",
              "  <svg xmlns=\"http://www.w3.org/2000/svg\" height=\"24px\"viewBox=\"0 0 24 24\"\n",
              "       width=\"24px\">\n",
              "    <path d=\"M0 0h24v24H0V0z\" fill=\"none\"/>\n",
              "    <path d=\"M18.56 5.44l.94 2.06.94-2.06 2.06-.94-2.06-.94-.94-2.06-.94 2.06-2.06.94zm-11 1L8.5 8.5l.94-2.06 2.06-.94-2.06-.94L8.5 2.5l-.94 2.06-2.06.94zm10 10l.94 2.06.94-2.06 2.06-.94-2.06-.94-.94-2.06-.94 2.06-2.06.94z\"/><path d=\"M17.41 7.96l-1.37-1.37c-.4-.4-.92-.59-1.43-.59-.52 0-1.04.2-1.43.59L10.3 9.45l-7.72 7.72c-.78.78-.78 2.05 0 2.83L4 21.41c.39.39.9.59 1.41.59.51 0 1.02-.2 1.41-.59l7.78-7.78 2.81-2.81c.8-.78.8-2.07 0-2.86zM5.41 20L4 18.59l7.72-7.72 1.47 1.35L5.41 20z\"/>\n",
              "  </svg>\n",
              "      </button>\n",
              "      \n",
              "  <style>\n",
              "    .colab-df-container {\n",
              "      display:flex;\n",
              "      flex-wrap:wrap;\n",
              "      gap: 12px;\n",
              "    }\n",
              "\n",
              "    .colab-df-convert {\n",
              "      background-color: #E8F0FE;\n",
              "      border: none;\n",
              "      border-radius: 50%;\n",
              "      cursor: pointer;\n",
              "      display: none;\n",
              "      fill: #1967D2;\n",
              "      height: 32px;\n",
              "      padding: 0 0 0 0;\n",
              "      width: 32px;\n",
              "    }\n",
              "\n",
              "    .colab-df-convert:hover {\n",
              "      background-color: #E2EBFA;\n",
              "      box-shadow: 0px 1px 2px rgba(60, 64, 67, 0.3), 0px 1px 3px 1px rgba(60, 64, 67, 0.15);\n",
              "      fill: #174EA6;\n",
              "    }\n",
              "\n",
              "    [theme=dark] .colab-df-convert {\n",
              "      background-color: #3B4455;\n",
              "      fill: #D2E3FC;\n",
              "    }\n",
              "\n",
              "    [theme=dark] .colab-df-convert:hover {\n",
              "      background-color: #434B5C;\n",
              "      box-shadow: 0px 1px 3px 1px rgba(0, 0, 0, 0.15);\n",
              "      filter: drop-shadow(0px 1px 2px rgba(0, 0, 0, 0.3));\n",
              "      fill: #FFFFFF;\n",
              "    }\n",
              "  </style>\n",
              "\n",
              "      <script>\n",
              "        const buttonEl =\n",
              "          document.querySelector('#df-f2b114bf-c93c-4dcc-9333-5c88aa06ce97 button.colab-df-convert');\n",
              "        buttonEl.style.display =\n",
              "          google.colab.kernel.accessAllowed ? 'block' : 'none';\n",
              "\n",
              "        async function convertToInteractive(key) {\n",
              "          const element = document.querySelector('#df-f2b114bf-c93c-4dcc-9333-5c88aa06ce97');\n",
              "          const dataTable =\n",
              "            await google.colab.kernel.invokeFunction('convertToInteractive',\n",
              "                                                     [key], {});\n",
              "          if (!dataTable) return;\n",
              "\n",
              "          const docLinkHtml = 'Like what you see? Visit the ' +\n",
              "            '<a target=\"_blank\" href=https://colab.research.google.com/notebooks/data_table.ipynb>data table notebook</a>'\n",
              "            + ' to learn more about interactive tables.';\n",
              "          element.innerHTML = '';\n",
              "          dataTable['output_type'] = 'display_data';\n",
              "          await google.colab.output.renderOutput(dataTable, element);\n",
              "          const docLink = document.createElement('div');\n",
              "          docLink.innerHTML = docLinkHtml;\n",
              "          element.appendChild(docLink);\n",
              "        }\n",
              "      </script>\n",
              "    </div>\n",
              "  </div>\n",
              "  "
            ]
          },
          "metadata": {},
          "execution_count": 163
        }
      ]
    },
    {
      "cell_type": "markdown",
      "source": [
        "Dari hasil informasi diatas terlihat bahwa fitur `TotalCharges` kita akan melakukan handling missing value dengan menggunakan metode Imputasi sederhana saja. Kita akan Melakukan imputasi dengan pandas menggunakan **Mean** karena dataset ini cenderung berdistribusi normal"
      ],
      "metadata": {
        "id": "4OujheCQqHV2"
      }
    },
    {
      "cell_type": "code",
      "source": [
        "# Melihat presentase Null-value di dalam Train-set\n",
        "print('Percentage missing value in y_train :',y_train.isnull().mean()*100)"
      ],
      "metadata": {
        "colab": {
          "base_uri": "https://localhost:8080/"
        },
        "id": "vGrz08gUpSFs",
        "outputId": "1b3339ff-dcfd-4779-9aa9-187b7d9c1976"
      },
      "execution_count": 164,
      "outputs": [
        {
          "output_type": "stream",
          "name": "stdout",
          "text": [
            "Percentage missing value in y_train : 0.0\n"
          ]
        }
      ]
    },
    {
      "cell_type": "markdown",
      "source": [
        "Hore sepertinya kita tidak memiliki missing value terhadap data ini sehingga kita tidak melakukan apa-apa."
      ],
      "metadata": {
        "id": "sHXvW1MqqokA"
      }
    },
    {
      "cell_type": "code",
      "source": [
        "# Melihat missing value pada data X_test\n",
        "pd.DataFrame(X_test.isnull().mean()*100).rename(columns={0:'Percentage Missing Value in X_train'}).sort_values(by='Percentage Missing Value in X_train')"
      ],
      "metadata": {
        "colab": {
          "base_uri": "https://localhost:8080/",
          "height": 644
        },
        "id": "a48kpB8bpwvy",
        "outputId": "2c83dede-3cd1-4b99-fe2e-d73aeaff1d68"
      },
      "execution_count": 165,
      "outputs": [
        {
          "output_type": "execute_result",
          "data": {
            "text/plain": [
              "                  Percentage Missing Value in X_train\n",
              "gender                                       0.000000\n",
              "PaymentMethod                                0.000000\n",
              "PaperlessBilling                             0.000000\n",
              "Contract                                     0.000000\n",
              "StreamingMovies                              0.000000\n",
              "StreamingTV                                  0.000000\n",
              "TechSupport                                  0.000000\n",
              "DeviceProtection                             0.000000\n",
              "MonthlyCharges                               0.000000\n",
              "OnlineBackup                                 0.000000\n",
              "InternetService                              0.000000\n",
              "MultipleLines                                0.000000\n",
              "PhoneService                                 0.000000\n",
              "tenure                                       0.000000\n",
              "Dependents                                   0.000000\n",
              "Partner                                      0.000000\n",
              "SeniorCitizen                                0.000000\n",
              "OnlineSecurity                               0.000000\n",
              "TotalCharges                                 0.071276"
            ],
            "text/html": [
              "\n",
              "  <div id=\"df-317acac6-1a7f-4122-8fc4-d53be38a1e44\">\n",
              "    <div class=\"colab-df-container\">\n",
              "      <div>\n",
              "<style scoped>\n",
              "    .dataframe tbody tr th:only-of-type {\n",
              "        vertical-align: middle;\n",
              "    }\n",
              "\n",
              "    .dataframe tbody tr th {\n",
              "        vertical-align: top;\n",
              "    }\n",
              "\n",
              "    .dataframe thead th {\n",
              "        text-align: right;\n",
              "    }\n",
              "</style>\n",
              "<table border=\"1\" class=\"dataframe\">\n",
              "  <thead>\n",
              "    <tr style=\"text-align: right;\">\n",
              "      <th></th>\n",
              "      <th>Percentage Missing Value in X_train</th>\n",
              "    </tr>\n",
              "  </thead>\n",
              "  <tbody>\n",
              "    <tr>\n",
              "      <th>gender</th>\n",
              "      <td>0.000000</td>\n",
              "    </tr>\n",
              "    <tr>\n",
              "      <th>PaymentMethod</th>\n",
              "      <td>0.000000</td>\n",
              "    </tr>\n",
              "    <tr>\n",
              "      <th>PaperlessBilling</th>\n",
              "      <td>0.000000</td>\n",
              "    </tr>\n",
              "    <tr>\n",
              "      <th>Contract</th>\n",
              "      <td>0.000000</td>\n",
              "    </tr>\n",
              "    <tr>\n",
              "      <th>StreamingMovies</th>\n",
              "      <td>0.000000</td>\n",
              "    </tr>\n",
              "    <tr>\n",
              "      <th>StreamingTV</th>\n",
              "      <td>0.000000</td>\n",
              "    </tr>\n",
              "    <tr>\n",
              "      <th>TechSupport</th>\n",
              "      <td>0.000000</td>\n",
              "    </tr>\n",
              "    <tr>\n",
              "      <th>DeviceProtection</th>\n",
              "      <td>0.000000</td>\n",
              "    </tr>\n",
              "    <tr>\n",
              "      <th>MonthlyCharges</th>\n",
              "      <td>0.000000</td>\n",
              "    </tr>\n",
              "    <tr>\n",
              "      <th>OnlineBackup</th>\n",
              "      <td>0.000000</td>\n",
              "    </tr>\n",
              "    <tr>\n",
              "      <th>InternetService</th>\n",
              "      <td>0.000000</td>\n",
              "    </tr>\n",
              "    <tr>\n",
              "      <th>MultipleLines</th>\n",
              "      <td>0.000000</td>\n",
              "    </tr>\n",
              "    <tr>\n",
              "      <th>PhoneService</th>\n",
              "      <td>0.000000</td>\n",
              "    </tr>\n",
              "    <tr>\n",
              "      <th>tenure</th>\n",
              "      <td>0.000000</td>\n",
              "    </tr>\n",
              "    <tr>\n",
              "      <th>Dependents</th>\n",
              "      <td>0.000000</td>\n",
              "    </tr>\n",
              "    <tr>\n",
              "      <th>Partner</th>\n",
              "      <td>0.000000</td>\n",
              "    </tr>\n",
              "    <tr>\n",
              "      <th>SeniorCitizen</th>\n",
              "      <td>0.000000</td>\n",
              "    </tr>\n",
              "    <tr>\n",
              "      <th>OnlineSecurity</th>\n",
              "      <td>0.000000</td>\n",
              "    </tr>\n",
              "    <tr>\n",
              "      <th>TotalCharges</th>\n",
              "      <td>0.071276</td>\n",
              "    </tr>\n",
              "  </tbody>\n",
              "</table>\n",
              "</div>\n",
              "      <button class=\"colab-df-convert\" onclick=\"convertToInteractive('df-317acac6-1a7f-4122-8fc4-d53be38a1e44')\"\n",
              "              title=\"Convert this dataframe to an interactive table.\"\n",
              "              style=\"display:none;\">\n",
              "        \n",
              "  <svg xmlns=\"http://www.w3.org/2000/svg\" height=\"24px\"viewBox=\"0 0 24 24\"\n",
              "       width=\"24px\">\n",
              "    <path d=\"M0 0h24v24H0V0z\" fill=\"none\"/>\n",
              "    <path d=\"M18.56 5.44l.94 2.06.94-2.06 2.06-.94-2.06-.94-.94-2.06-.94 2.06-2.06.94zm-11 1L8.5 8.5l.94-2.06 2.06-.94-2.06-.94L8.5 2.5l-.94 2.06-2.06.94zm10 10l.94 2.06.94-2.06 2.06-.94-2.06-.94-.94-2.06-.94 2.06-2.06.94z\"/><path d=\"M17.41 7.96l-1.37-1.37c-.4-.4-.92-.59-1.43-.59-.52 0-1.04.2-1.43.59L10.3 9.45l-7.72 7.72c-.78.78-.78 2.05 0 2.83L4 21.41c.39.39.9.59 1.41.59.51 0 1.02-.2 1.41-.59l7.78-7.78 2.81-2.81c.8-.78.8-2.07 0-2.86zM5.41 20L4 18.59l7.72-7.72 1.47 1.35L5.41 20z\"/>\n",
              "  </svg>\n",
              "      </button>\n",
              "      \n",
              "  <style>\n",
              "    .colab-df-container {\n",
              "      display:flex;\n",
              "      flex-wrap:wrap;\n",
              "      gap: 12px;\n",
              "    }\n",
              "\n",
              "    .colab-df-convert {\n",
              "      background-color: #E8F0FE;\n",
              "      border: none;\n",
              "      border-radius: 50%;\n",
              "      cursor: pointer;\n",
              "      display: none;\n",
              "      fill: #1967D2;\n",
              "      height: 32px;\n",
              "      padding: 0 0 0 0;\n",
              "      width: 32px;\n",
              "    }\n",
              "\n",
              "    .colab-df-convert:hover {\n",
              "      background-color: #E2EBFA;\n",
              "      box-shadow: 0px 1px 2px rgba(60, 64, 67, 0.3), 0px 1px 3px 1px rgba(60, 64, 67, 0.15);\n",
              "      fill: #174EA6;\n",
              "    }\n",
              "\n",
              "    [theme=dark] .colab-df-convert {\n",
              "      background-color: #3B4455;\n",
              "      fill: #D2E3FC;\n",
              "    }\n",
              "\n",
              "    [theme=dark] .colab-df-convert:hover {\n",
              "      background-color: #434B5C;\n",
              "      box-shadow: 0px 1px 3px 1px rgba(0, 0, 0, 0.15);\n",
              "      filter: drop-shadow(0px 1px 2px rgba(0, 0, 0, 0.3));\n",
              "      fill: #FFFFFF;\n",
              "    }\n",
              "  </style>\n",
              "\n",
              "      <script>\n",
              "        const buttonEl =\n",
              "          document.querySelector('#df-317acac6-1a7f-4122-8fc4-d53be38a1e44 button.colab-df-convert');\n",
              "        buttonEl.style.display =\n",
              "          google.colab.kernel.accessAllowed ? 'block' : 'none';\n",
              "\n",
              "        async function convertToInteractive(key) {\n",
              "          const element = document.querySelector('#df-317acac6-1a7f-4122-8fc4-d53be38a1e44');\n",
              "          const dataTable =\n",
              "            await google.colab.kernel.invokeFunction('convertToInteractive',\n",
              "                                                     [key], {});\n",
              "          if (!dataTable) return;\n",
              "\n",
              "          const docLinkHtml = 'Like what you see? Visit the ' +\n",
              "            '<a target=\"_blank\" href=https://colab.research.google.com/notebooks/data_table.ipynb>data table notebook</a>'\n",
              "            + ' to learn more about interactive tables.';\n",
              "          element.innerHTML = '';\n",
              "          dataTable['output_type'] = 'display_data';\n",
              "          await google.colab.output.renderOutput(dataTable, element);\n",
              "          const docLink = document.createElement('div');\n",
              "          docLink.innerHTML = docLinkHtml;\n",
              "          element.appendChild(docLink);\n",
              "        }\n",
              "      </script>\n",
              "    </div>\n",
              "  </div>\n",
              "  "
            ]
          },
          "metadata": {},
          "execution_count": 165
        }
      ]
    },
    {
      "cell_type": "markdown",
      "source": [
        "Sama halnya seperti kita melakukan handling missing value terhadap data Train, kita akan melakukan imputasi dengan menggunakan bantuan pandas. Dengan imputasi **Mean** karena dataset ini berdistribusi normal."
      ],
      "metadata": {
        "id": "wROElnotqxff"
      }
    },
    {
      "cell_type": "code",
      "source": [
        "# Melihat presentase Null-value di dalam Test-set\n",
        "print('Percentage missing value in y_test :',y_test.isna().mean()*100)"
      ],
      "metadata": {
        "colab": {
          "base_uri": "https://localhost:8080/"
        },
        "id": "rchC0mpYp3Dm",
        "outputId": "b6ad31c8-222d-4b27-83ab-7911f9f16dcc"
      },
      "execution_count": 166,
      "outputs": [
        {
          "output_type": "stream",
          "name": "stdout",
          "text": [
            "Percentage missing value in y_test : 0.0\n"
          ]
        }
      ]
    },
    {
      "cell_type": "markdown",
      "source": [
        "Setelah kita berhasil melakukan handling **Missing Value** kita akan melanjutkan ke step berikutnya.\n",
        "\n",
        "Di tahap berikutnya saya akan melakukan Encoding gterhadap Label Target \n"
      ],
      "metadata": {
        "id": "39PVGRTpr1Kx"
      }
    },
    {
      "cell_type": "code",
      "source": [
        "# Sekarang kita dapat mengubah label/target (ya dan tidak) menjadi 1 dan 0\n",
        "y_train = y_train.replace({'No':0, 'Yes':1})\n",
        "y_test = y_test.replace({'No':0, 'Yes':1})"
      ],
      "metadata": {
        "id": "An8wC-HESlM9"
      },
      "execution_count": 167,
      "outputs": []
    },
    {
      "cell_type": "markdown",
      "source": [
        "### 5.5 Create Pipeline Sklearn\n",
        "\n",
        "Di dalam Pipeline ini Kita menggunkan bantuan Library dari `jcopml` yang didalamnya dapat melakukan encode dan scaling dengan memilih parameter yang ingin kita gunakan."
      ],
      "metadata": {
        "id": "O7we9IfW2Th2"
      }
    },
    {
      "cell_type": "code",
      "source": [
        "# Splitting Columns (Numerical Columns and Categorical Columns)\n",
        "# Numerical Columns\n",
        "num_columns = X_train.select_dtypes(include=np.number).columns.tolist()\n",
        "# Categorucal Columns\n",
        "cat_columns = X_train.select_dtypes(include='object').columns.tolist()\n",
        "\n",
        "# Create Pipeline\n",
        "from jcopml.pipeline import num_pipe, cat_pipe # Library bantuan\n",
        "# Menggabungkan pipeline numerical dan categorical\n",
        "preprocessor = ColumnTransformer([\n",
        "    (\"numeric\", num_pipe(scaling='standard'), num_columns),\n",
        "    (\"categoric\", cat_pipe(encoder='ordinal'), cat_columns),\n",
        "])\n",
        "\n",
        "# Apply pipeline in the Train and Test set data\n",
        "X_train_final = preprocessor.fit_transform(X_train)\n",
        "X_test_final = preprocessor.transform(X_test)"
      ],
      "metadata": {
        "id": "sS4VBeXFLMiq"
      },
      "execution_count": 168,
      "outputs": []
    },
    {
      "cell_type": "code",
      "source": [
        "# Melakukan penyimpanan pipeline sckitlearn\n",
        "import pickle\n",
        "\n",
        "# proces\n",
        "with open(\"preprocessor.pkl\", \"wb\") as proses_file:\n",
        "    pickle.dump(preprocessor, proses_file)"
      ],
      "metadata": {
        "id": "EOU8EKoAkT7w"
      },
      "execution_count": 188,
      "outputs": []
    },
    {
      "cell_type": "markdown",
      "source": [
        "### 5.6 Over Sampling Method SMOTE\n",
        "\n",
        "\n"
      ],
      "metadata": {
        "id": "8gQUglgYPd1i"
      }
    },
    {
      "cell_type": "code",
      "source": [
        "# Sampling for handling Imbalance dataset\n",
        "from imblearn.over_sampling import SMOTE\n",
        "\n",
        "X_train_final, y_train_final = SMOTE(sampling_strategy='minority').fit_resample(X_train_final, y_train)\n",
        "print(y_train_final.value_counts())"
      ],
      "metadata": {
        "id": "KY6qV6cpLcrj",
        "colab": {
          "base_uri": "https://localhost:8080/"
        },
        "outputId": "a468ed4b-5f15-4c2d-e498-e55f1eb21b7d"
      },
      "execution_count": 169,
      "outputs": [
        {
          "output_type": "stream",
          "name": "stdout",
          "text": [
            "0    4121\n",
            "1    4121\n",
            "Name: Churn, dtype: int64\n"
          ]
        }
      ]
    },
    {
      "cell_type": "markdown",
      "source": [
        "### 5.7 Fitur Selection"
      ],
      "metadata": {
        "id": "fwIvB-UoSYTz"
      }
    },
    {
      "cell_type": "code",
      "source": [
        "# Define Columns\n",
        "columns = ['tenure', 'MonthlyCharges', 'TotalCharges', 'gender', 'SeniorCitizen', 'Partner', 'Dependents', \n",
        "           'PhoneService', 'MultipleLines', 'InternetService', 'OnlineSecurity', 'OnlineBackup', 'DeviceProtection', \n",
        "           'TechSupport', 'StreamingTV', 'StreamingMovies', 'Contract', 'PaperlessBilling', 'PaymentMethod']\t\n",
        "\n",
        "# Create dataframe\n",
        "X_train = pd.DataFrame(X_train_final, columns = columns)\n",
        "X_test = pd.DataFrame(X_test_final, columns = columns) # create dataframe\n",
        "\n",
        "# Correlation Analysis using Pearson Analysis\n",
        "from scipy.stats.stats import pearsonr\n",
        "out_list = []\n",
        "for column in X_train.columns:\n",
        "    corr_tuple = pearsonr(X_train[column], y_train_final)\n",
        "    out_list.append([column, corr_tuple[0], corr_tuple[1]])\n",
        "\n",
        "corr_df = pd.DataFrame(out_list, columns=[\"Features\", \"Correlation\", \"P-Value\"])\n",
        "corr_df.sort_values(by=['P-Value'], inplace=True)\n",
        "corr_df.head(7)"
      ],
      "metadata": {
        "colab": {
          "base_uri": "https://localhost:8080/",
          "height": 268
        },
        "id": "OX1ca8dreYuI",
        "outputId": "2ca02805-0252-43a5-8cf5-1c606f2924f7"
      },
      "execution_count": 170,
      "outputs": [
        {
          "output_type": "execute_result",
          "data": {
            "text/plain": [
              "            Features  Correlation        P-Value\n",
              "0             tenure    -0.411903   0.000000e+00\n",
              "16          Contract    -0.494894   0.000000e+00\n",
              "10    OnlineSecurity    -0.352122  3.426828e-239\n",
              "13       TechSupport    -0.341431  4.256696e-224\n",
              "17  PaperlessBilling     0.259575  5.178637e-127\n",
              "1     MonthlyCharges     0.252348  6.455765e-120\n",
              "6         Dependents    -0.232441  1.562453e-101"
            ],
            "text/html": [
              "\n",
              "  <div id=\"df-f5fda9bf-57a8-4c16-a74a-2f46457b2cd2\">\n",
              "    <div class=\"colab-df-container\">\n",
              "      <div>\n",
              "<style scoped>\n",
              "    .dataframe tbody tr th:only-of-type {\n",
              "        vertical-align: middle;\n",
              "    }\n",
              "\n",
              "    .dataframe tbody tr th {\n",
              "        vertical-align: top;\n",
              "    }\n",
              "\n",
              "    .dataframe thead th {\n",
              "        text-align: right;\n",
              "    }\n",
              "</style>\n",
              "<table border=\"1\" class=\"dataframe\">\n",
              "  <thead>\n",
              "    <tr style=\"text-align: right;\">\n",
              "      <th></th>\n",
              "      <th>Features</th>\n",
              "      <th>Correlation</th>\n",
              "      <th>P-Value</th>\n",
              "    </tr>\n",
              "  </thead>\n",
              "  <tbody>\n",
              "    <tr>\n",
              "      <th>0</th>\n",
              "      <td>tenure</td>\n",
              "      <td>-0.411903</td>\n",
              "      <td>0.000000e+00</td>\n",
              "    </tr>\n",
              "    <tr>\n",
              "      <th>16</th>\n",
              "      <td>Contract</td>\n",
              "      <td>-0.494894</td>\n",
              "      <td>0.000000e+00</td>\n",
              "    </tr>\n",
              "    <tr>\n",
              "      <th>10</th>\n",
              "      <td>OnlineSecurity</td>\n",
              "      <td>-0.352122</td>\n",
              "      <td>3.426828e-239</td>\n",
              "    </tr>\n",
              "    <tr>\n",
              "      <th>13</th>\n",
              "      <td>TechSupport</td>\n",
              "      <td>-0.341431</td>\n",
              "      <td>4.256696e-224</td>\n",
              "    </tr>\n",
              "    <tr>\n",
              "      <th>17</th>\n",
              "      <td>PaperlessBilling</td>\n",
              "      <td>0.259575</td>\n",
              "      <td>5.178637e-127</td>\n",
              "    </tr>\n",
              "    <tr>\n",
              "      <th>1</th>\n",
              "      <td>MonthlyCharges</td>\n",
              "      <td>0.252348</td>\n",
              "      <td>6.455765e-120</td>\n",
              "    </tr>\n",
              "    <tr>\n",
              "      <th>6</th>\n",
              "      <td>Dependents</td>\n",
              "      <td>-0.232441</td>\n",
              "      <td>1.562453e-101</td>\n",
              "    </tr>\n",
              "  </tbody>\n",
              "</table>\n",
              "</div>\n",
              "      <button class=\"colab-df-convert\" onclick=\"convertToInteractive('df-f5fda9bf-57a8-4c16-a74a-2f46457b2cd2')\"\n",
              "              title=\"Convert this dataframe to an interactive table.\"\n",
              "              style=\"display:none;\">\n",
              "        \n",
              "  <svg xmlns=\"http://www.w3.org/2000/svg\" height=\"24px\"viewBox=\"0 0 24 24\"\n",
              "       width=\"24px\">\n",
              "    <path d=\"M0 0h24v24H0V0z\" fill=\"none\"/>\n",
              "    <path d=\"M18.56 5.44l.94 2.06.94-2.06 2.06-.94-2.06-.94-.94-2.06-.94 2.06-2.06.94zm-11 1L8.5 8.5l.94-2.06 2.06-.94-2.06-.94L8.5 2.5l-.94 2.06-2.06.94zm10 10l.94 2.06.94-2.06 2.06-.94-2.06-.94-.94-2.06-.94 2.06-2.06.94z\"/><path d=\"M17.41 7.96l-1.37-1.37c-.4-.4-.92-.59-1.43-.59-.52 0-1.04.2-1.43.59L10.3 9.45l-7.72 7.72c-.78.78-.78 2.05 0 2.83L4 21.41c.39.39.9.59 1.41.59.51 0 1.02-.2 1.41-.59l7.78-7.78 2.81-2.81c.8-.78.8-2.07 0-2.86zM5.41 20L4 18.59l7.72-7.72 1.47 1.35L5.41 20z\"/>\n",
              "  </svg>\n",
              "      </button>\n",
              "      \n",
              "  <style>\n",
              "    .colab-df-container {\n",
              "      display:flex;\n",
              "      flex-wrap:wrap;\n",
              "      gap: 12px;\n",
              "    }\n",
              "\n",
              "    .colab-df-convert {\n",
              "      background-color: #E8F0FE;\n",
              "      border: none;\n",
              "      border-radius: 50%;\n",
              "      cursor: pointer;\n",
              "      display: none;\n",
              "      fill: #1967D2;\n",
              "      height: 32px;\n",
              "      padding: 0 0 0 0;\n",
              "      width: 32px;\n",
              "    }\n",
              "\n",
              "    .colab-df-convert:hover {\n",
              "      background-color: #E2EBFA;\n",
              "      box-shadow: 0px 1px 2px rgba(60, 64, 67, 0.3), 0px 1px 3px 1px rgba(60, 64, 67, 0.15);\n",
              "      fill: #174EA6;\n",
              "    }\n",
              "\n",
              "    [theme=dark] .colab-df-convert {\n",
              "      background-color: #3B4455;\n",
              "      fill: #D2E3FC;\n",
              "    }\n",
              "\n",
              "    [theme=dark] .colab-df-convert:hover {\n",
              "      background-color: #434B5C;\n",
              "      box-shadow: 0px 1px 3px 1px rgba(0, 0, 0, 0.15);\n",
              "      filter: drop-shadow(0px 1px 2px rgba(0, 0, 0, 0.3));\n",
              "      fill: #FFFFFF;\n",
              "    }\n",
              "  </style>\n",
              "\n",
              "      <script>\n",
              "        const buttonEl =\n",
              "          document.querySelector('#df-f5fda9bf-57a8-4c16-a74a-2f46457b2cd2 button.colab-df-convert');\n",
              "        buttonEl.style.display =\n",
              "          google.colab.kernel.accessAllowed ? 'block' : 'none';\n",
              "\n",
              "        async function convertToInteractive(key) {\n",
              "          const element = document.querySelector('#df-f5fda9bf-57a8-4c16-a74a-2f46457b2cd2');\n",
              "          const dataTable =\n",
              "            await google.colab.kernel.invokeFunction('convertToInteractive',\n",
              "                                                     [key], {});\n",
              "          if (!dataTable) return;\n",
              "\n",
              "          const docLinkHtml = 'Like what you see? Visit the ' +\n",
              "            '<a target=\"_blank\" href=https://colab.research.google.com/notebooks/data_table.ipynb>data table notebook</a>'\n",
              "            + ' to learn more about interactive tables.';\n",
              "          element.innerHTML = '';\n",
              "          dataTable['output_type'] = 'display_data';\n",
              "          await google.colab.output.renderOutput(dataTable, element);\n",
              "          const docLink = document.createElement('div');\n",
              "          docLink.innerHTML = docLinkHtml;\n",
              "          element.appendChild(docLink);\n",
              "        }\n",
              "      </script>\n",
              "    </div>\n",
              "  </div>\n",
              "  "
            ]
          },
          "metadata": {},
          "execution_count": 170
        }
      ]
    },
    {
      "cell_type": "markdown",
      "source": [
        "Dari hasil informasi diatas tentang fitur mana saja yang memiliki korelasi dengan label target dengan menggunakan correlation analysis using person analysis, didapatkan 7 fitur yaitu :\n",
        "1. Contract\n",
        "2. tenure\n",
        "3. OnlineSecurity\n",
        "4. TechSupport\n",
        "5. PaperlessBilling\n",
        "6. TotalCharges\n",
        "7. MonthlyCharges\n",
        "\n",
        "Selanjutnya akan kita apply ke data Train dan test set"
      ],
      "metadata": {
        "id": "-Dxc_dTQrTsi"
      }
    },
    {
      "cell_type": "code",
      "source": [
        "# Melakukan pemilihan fitur\n",
        "col = ['gender', 'SeniorCitizen', 'Partner', 'Dependents', 'PhoneService', 'MultipleLines', 'InternetService', \n",
        "       'OnlineBackup', 'DeviceProtection', 'StreamingTV', 'StreamingMovies', 'PaymentMethod']\t\n",
        "\n",
        "X_train_final = X_train.drop(col,axis=1) # drop for apply fitur we will use in Train data\n",
        "X_test_final = X_test.drop(col, axis=1) # drop for apply fitur we will use in Test data"
      ],
      "metadata": {
        "id": "v-IAYPmMsu3F"
      },
      "execution_count": 171,
      "outputs": []
    },
    {
      "cell_type": "code",
      "source": [
        "X_train_final.columns"
      ],
      "metadata": {
        "colab": {
          "base_uri": "https://localhost:8080/"
        },
        "id": "TTTu_sieBFHu",
        "outputId": "bb405d4c-c192-4237-a5fe-265c2bbd3bfb"
      },
      "execution_count": 200,
      "outputs": [
        {
          "output_type": "execute_result",
          "data": {
            "text/plain": [
              "Index(['tenure', 'MonthlyCharges', 'TotalCharges', 'OnlineSecurity',\n",
              "       'TechSupport', 'Contract', 'PaperlessBilling'],\n",
              "      dtype='object')"
            ]
          },
          "metadata": {},
          "execution_count": 200
        }
      ]
    },
    {
      "cell_type": "markdown",
      "source": [
        "### 5.8 Split dataset again to get Validation-set"
      ],
      "metadata": {
        "id": "4bTPjRZgQYRt"
      }
    },
    {
      "cell_type": "code",
      "source": [
        "# Splitting data\n",
        "X_train_final, X_val_final, y_train_final, y_val_final = train_test_split(X_train_final, y_train_final, test_size = 0.2, random_state = 42)\n",
        "\n",
        "# Cek dimensi Train dan Test\n",
        "print('---- Train - Set ----')\n",
        "print('Dimensi dari X_train :', X_train_final.shape)\n",
        "print('Dimensi dari y_train :', y_train_final.shape)\n",
        "print('')\n",
        "print('---- Val - Set ----')\n",
        "print('Dimensi dari X_val :', X_val_final.shape)\n",
        "print('Dimensi dari y_val :', y_val_final.shape)\n",
        "print('')\n",
        "print('---- Test - Set ----')\n",
        "print('Dimensi dari X_test :', X_test_final.shape)\n",
        "print('Dimensi dari y_test :', y_test.shape)"
      ],
      "metadata": {
        "id": "GhhRd_yzP0Wd",
        "colab": {
          "base_uri": "https://localhost:8080/"
        },
        "outputId": "d399b659-3120-4cb9-ecd3-041065194f0c"
      },
      "execution_count": 172,
      "outputs": [
        {
          "output_type": "stream",
          "name": "stdout",
          "text": [
            "---- Train - Set ----\n",
            "Dimensi dari X_train : (6593, 7)\n",
            "Dimensi dari y_train : (6593,)\n",
            "\n",
            "---- Val - Set ----\n",
            "Dimensi dari X_val : (1649, 7)\n",
            "Dimensi dari y_val : (1649,)\n",
            "\n",
            "---- Test - Set ----\n",
            "Dimensi dari X_test : (1403, 7)\n",
            "Dimensi dari y_test : (1403,)\n"
          ]
        }
      ]
    },
    {
      "cell_type": "markdown",
      "source": [
        "# 6. Model Definition\n",
        "Di dalam model deinition ini kita akan menggunakan 2 model, seperti : \n",
        "> Membuat model Artifical Neural Network dengan menggunakan Sequential API dan Functional API"
      ],
      "metadata": {
        "id": "YiWxyvvZSWqD"
      }
    },
    {
      "cell_type": "markdown",
      "source": [
        "### 6.1 Sequential API"
      ],
      "metadata": {
        "id": "tsc5N8fOvp8R"
      }
    },
    {
      "cell_type": "code",
      "source": [
        "# Pipeline\n",
        "dataset = tf.data.Dataset.from_tensor_slices((X_train_final, y_train_final)) # Pipeline\n",
        "dataset = dataset.shuffle(12312).repeat(2).batch(64) # Pipeline\n",
        "\n",
        "# Define Model's Architecture\n",
        "model = tf.keras.models.Sequential() # Set model deep learning sequential\n",
        "model.add(tf.keras.layers.Dense(units=60, activation='relu', input_shape=(7,), name='input'))  #Menambahkan input layer \n",
        "model.add(tf.keras.layers.BatchNormalization()) # add normalization\n",
        "model.add(tf.keras.layers.Dense(units=45, activation='relu', name='Dense1')) #Menambahkan layer Dense dengan neuron 45 dan activation relu\n",
        "model.add(tf.keras.layers.BatchNormalization()) # add normalization\n",
        "model.add(tf.keras.layers.Dense(units=30, activation='relu', name='Dense2')) #Menambahkan layer Dense dengan neuron 30 dan activation relu\n",
        "model.add(tf.keras.layers.BatchNormalization()) # add normalization\n",
        "model.add(tf.keras.layers.Dense(units=15, activation='relu', name='Dense3')) #Menambahkan layer Dense dengan neuron 15 dan activation relu\n",
        "model.add(tf.keras.layers.BatchNormalization()) # add normalization\n",
        "model.add(tf.keras.layers.Dense(units=1, activation='sigmoid', name='output')) #Menambahkan output layer  dan activation sigmoid\n",
        "\n",
        "# let's me know model\n",
        "model.summary()"
      ],
      "metadata": {
        "id": "JYw-pgVbRAke",
        "colab": {
          "base_uri": "https://localhost:8080/"
        },
        "outputId": "644e013f-6d4c-4484-d9b5-0b7186c5506e"
      },
      "execution_count": 173,
      "outputs": [
        {
          "output_type": "stream",
          "name": "stdout",
          "text": [
            "Model: \"sequential_3\"\n",
            "_________________________________________________________________\n",
            " Layer (type)                Output Shape              Param #   \n",
            "=================================================================\n",
            " input (Dense)               (None, 60)                480       \n",
            "                                                                 \n",
            " batch_normalization_21 (Bat  (None, 60)               240       \n",
            " chNormalization)                                                \n",
            "                                                                 \n",
            " Dense1 (Dense)              (None, 45)                2745      \n",
            "                                                                 \n",
            " batch_normalization_22 (Bat  (None, 45)               180       \n",
            " chNormalization)                                                \n",
            "                                                                 \n",
            " Dense2 (Dense)              (None, 30)                1380      \n",
            "                                                                 \n",
            " batch_normalization_23 (Bat  (None, 30)               120       \n",
            " chNormalization)                                                \n",
            "                                                                 \n",
            " Dense3 (Dense)              (None, 15)                465       \n",
            "                                                                 \n",
            " batch_normalization_24 (Bat  (None, 15)               60        \n",
            " chNormalization)                                                \n",
            "                                                                 \n",
            " output (Dense)              (None, 1)                 16        \n",
            "                                                                 \n",
            "=================================================================\n",
            "Total params: 5,686\n",
            "Trainable params: 5,386\n",
            "Non-trainable params: 300\n",
            "_________________________________________________________________\n"
          ]
        }
      ]
    },
    {
      "cell_type": "markdown",
      "source": [
        "Disini saya membuat model ANN sequential API dengan:\n",
        "- 1 input layer\n",
        "- 2 hidden layer (dengan masing neuron 45, 30, dan 15), activation = relu. '''\n",
        "Activation yang dipakai relu, karena berdasarkan yang saya ketahui untuk base model coba menggunakan relu terlebih dahulu, baru dicoba gunakan activation yang lain (harus di state di awal, karena defaultnya adalah None)'''.\n",
        "- 1 output layer, dengan 1 neuron dan activation = sigmoid. Karena sigmoid nilainya dari 0-1 dan target dataset ini adalah klasifikasi binary.\n",
        "- Saya juga menambahkan batchnormalization di sini, dengan harapan proses training data lebih cepat. Dari beberapa artikel menyebutkan bahwa proses ini untuk menstandarisasi input ke network, bahkan dalam beberapa kasus dapat mempercepat training data dan mengurangi generalization error. "
      ],
      "metadata": {
        "id": "hkjV-ftBkKi7"
      }
    },
    {
      "cell_type": "markdown",
      "source": [
        "### 6.2 Funtional API "
      ],
      "metadata": {
        "id": "yEeKSar8_uvG"
      }
    },
    {
      "cell_type": "code",
      "source": [
        "# Define Model's Architecture\n",
        "inputs = tf.keras.layers.Input(shape=(7,), name='Input_layer') # Membuat input layer\n",
        "\n",
        "dense_1 = tf.keras.layers.Dense(60, activation='relu', name='Dense1')(inputs) # Membuat layer dengan jumlah neuron 60 dengan activation relu\n",
        "batch_normal1 = tf.keras.layers.BatchNormalization()(dense_1) # Add normalization\n",
        "\n",
        "dense_2 = tf.keras.layers.Dense(40, activation='relu', name='Dense2')(batch_normal1) # Membuat layer dengan jumlah neuron 40 dengan activation relu\n",
        "batch_normal2 = tf.keras.layers.BatchNormalization()(dense_2) # Add normalization\n",
        "\n",
        "dense_3 = tf.keras.layers.Dense(20, activation='relu', name='Dense3')(batch_normal2) # Membuat layer dengan jumlah neuron 20 dengan activation relu\n",
        "batch_normal3 = tf.keras.layers.BatchNormalization()(dense_3) # Add normalization\n",
        "outputs = tf.keras.layers.Dense(1, activation='sigmoid', name='Output_layer')(batch_normal3) # Membuat output layer\n",
        "\n",
        "# deklarasi model\n",
        "model_ = tf.keras.models.Model(inputs=inputs, outputs=outputs)\n",
        "\n",
        "model_.summary()"
      ],
      "metadata": {
        "colab": {
          "base_uri": "https://localhost:8080/"
        },
        "id": "bv9henWx_uhR",
        "outputId": "66fb02d6-8bb9-4da0-c4ba-aeb35be5dacd"
      },
      "execution_count": 174,
      "outputs": [
        {
          "output_type": "stream",
          "name": "stdout",
          "text": [
            "Model: \"model_3\"\n",
            "_________________________________________________________________\n",
            " Layer (type)                Output Shape              Param #   \n",
            "=================================================================\n",
            " Input_layer (InputLayer)    [(None, 7)]               0         \n",
            "                                                                 \n",
            " Dense1 (Dense)              (None, 60)                480       \n",
            "                                                                 \n",
            " batch_normalization_25 (Bat  (None, 60)               240       \n",
            " chNormalization)                                                \n",
            "                                                                 \n",
            " Dense2 (Dense)              (None, 40)                2440      \n",
            "                                                                 \n",
            " batch_normalization_26 (Bat  (None, 40)               160       \n",
            " chNormalization)                                                \n",
            "                                                                 \n",
            " Dense3 (Dense)              (None, 20)                820       \n",
            "                                                                 \n",
            " batch_normalization_27 (Bat  (None, 20)               80        \n",
            " chNormalization)                                                \n",
            "                                                                 \n",
            " Output_layer (Dense)        (None, 1)                 21        \n",
            "                                                                 \n",
            "=================================================================\n",
            "Total params: 4,241\n",
            "Trainable params: 4,001\n",
            "Non-trainable params: 240\n",
            "_________________________________________________________________\n"
          ]
        }
      ]
    },
    {
      "cell_type": "markdown",
      "source": [
        "Disini saya membuat model ANN funtional API dengan:\n",
        "* Input Layer : Mengambil input\n",
        "* Dense Layer : Dense Layer adalah lapisan jaringan yang terhubung secara teratur.\n",
        "* BatchNormalization Layer  : Normalisasi batch menerapkan transformasi yang mempertahankan keluaran rata-rata mendekati 0 dan simpangan baku keluaran mendekati 1.\n",
        "* Activation function : Sebuah fungsi aktivasi dalam jaringan saraf mendefinisikan bagaimana jumlah bobot input diubah menjadi output dari sebuah node atau node dalam lapisan jaringan. Saya menggunkan activation='relu'\n",
        "* Output Layer : menggunakan activation='Sigmoid'"
      ],
      "metadata": {
        "id": "tDxp2DqUlwHd"
      }
    },
    {
      "cell_type": "markdown",
      "source": [
        "# 7. Model Training"
      ],
      "metadata": {
        "id": "DoXCIhlVn8NV"
      }
    },
    {
      "cell_type": "markdown",
      "source": [
        "### 7.1 Sequential API"
      ],
      "metadata": {
        "id": "9s8yhw6joA8t"
      }
    },
    {
      "cell_type": "code",
      "source": [
        "### Training Model Sequential API\n",
        "### model compile\n",
        "model.compile(loss='binary_crossentropy', \n",
        "              optimizer='adam',\n",
        "              metrics=['accuracy'])\n",
        "\n",
        "history = model.fit(dataset, \n",
        "                    epochs=80, \n",
        "                    validation_data=(X_val_final, y_val_final))"
      ],
      "metadata": {
        "colab": {
          "base_uri": "https://localhost:8080/"
        },
        "id": "DhnTWVn0n_rM",
        "outputId": "46707e13-0929-4d25-9d5b-b6e7ea18f8ed"
      },
      "execution_count": 175,
      "outputs": [
        {
          "output_type": "stream",
          "name": "stdout",
          "text": [
            "Epoch 1/80\n",
            "207/207 [==============================] - 2s 4ms/step - loss: 0.4949 - accuracy: 0.7593 - val_loss: 0.4994 - val_accuracy: 0.7611\n",
            "Epoch 2/80\n",
            "207/207 [==============================] - 1s 3ms/step - loss: 0.4657 - accuracy: 0.7752 - val_loss: 0.4784 - val_accuracy: 0.7787\n",
            "Epoch 3/80\n",
            "207/207 [==============================] - 1s 3ms/step - loss: 0.4571 - accuracy: 0.7820 - val_loss: 0.4746 - val_accuracy: 0.7696\n",
            "Epoch 4/80\n",
            "207/207 [==============================] - 1s 3ms/step - loss: 0.4532 - accuracy: 0.7833 - val_loss: 0.4652 - val_accuracy: 0.7738\n",
            "Epoch 5/80\n",
            "207/207 [==============================] - 1s 3ms/step - loss: 0.4470 - accuracy: 0.7848 - val_loss: 0.4582 - val_accuracy: 0.7799\n",
            "Epoch 6/80\n",
            "207/207 [==============================] - 1s 3ms/step - loss: 0.4466 - accuracy: 0.7881 - val_loss: 0.4611 - val_accuracy: 0.7683\n",
            "Epoch 7/80\n",
            "207/207 [==============================] - 1s 3ms/step - loss: 0.4402 - accuracy: 0.7904 - val_loss: 0.4755 - val_accuracy: 0.7696\n",
            "Epoch 8/80\n",
            "207/207 [==============================] - 1s 3ms/step - loss: 0.4410 - accuracy: 0.7879 - val_loss: 0.4594 - val_accuracy: 0.7738\n",
            "Epoch 9/80\n",
            "207/207 [==============================] - 1s 3ms/step - loss: 0.4362 - accuracy: 0.7958 - val_loss: 0.4665 - val_accuracy: 0.7774\n",
            "Epoch 10/80\n",
            "207/207 [==============================] - 1s 3ms/step - loss: 0.4305 - accuracy: 0.7960 - val_loss: 0.4629 - val_accuracy: 0.7823\n",
            "Epoch 11/80\n",
            "207/207 [==============================] - 1s 3ms/step - loss: 0.4307 - accuracy: 0.7968 - val_loss: 0.4589 - val_accuracy: 0.7932\n",
            "Epoch 12/80\n",
            "207/207 [==============================] - 1s 3ms/step - loss: 0.4293 - accuracy: 0.7952 - val_loss: 0.4622 - val_accuracy: 0.7805\n",
            "Epoch 13/80\n",
            "207/207 [==============================] - 1s 3ms/step - loss: 0.4245 - accuracy: 0.7999 - val_loss: 0.4635 - val_accuracy: 0.7805\n",
            "Epoch 14/80\n",
            "207/207 [==============================] - 1s 3ms/step - loss: 0.4250 - accuracy: 0.7991 - val_loss: 0.4580 - val_accuracy: 0.7787\n",
            "Epoch 15/80\n",
            "207/207 [==============================] - 1s 3ms/step - loss: 0.4219 - accuracy: 0.7996 - val_loss: 0.4514 - val_accuracy: 0.7884\n",
            "Epoch 16/80\n",
            "207/207 [==============================] - 1s 3ms/step - loss: 0.4179 - accuracy: 0.8038 - val_loss: 0.4482 - val_accuracy: 0.7817\n",
            "Epoch 17/80\n",
            "207/207 [==============================] - 1s 3ms/step - loss: 0.4214 - accuracy: 0.8008 - val_loss: 0.4560 - val_accuracy: 0.7878\n",
            "Epoch 18/80\n",
            "207/207 [==============================] - 1s 3ms/step - loss: 0.4181 - accuracy: 0.8037 - val_loss: 0.4541 - val_accuracy: 0.7817\n",
            "Epoch 19/80\n",
            "207/207 [==============================] - 1s 3ms/step - loss: 0.4159 - accuracy: 0.8025 - val_loss: 0.4637 - val_accuracy: 0.7853\n",
            "Epoch 20/80\n",
            "207/207 [==============================] - 1s 3ms/step - loss: 0.4151 - accuracy: 0.8040 - val_loss: 0.4509 - val_accuracy: 0.7829\n",
            "Epoch 21/80\n",
            "207/207 [==============================] - 1s 3ms/step - loss: 0.4131 - accuracy: 0.8071 - val_loss: 0.4506 - val_accuracy: 0.7914\n",
            "Epoch 22/80\n",
            "207/207 [==============================] - 1s 3ms/step - loss: 0.4154 - accuracy: 0.8064 - val_loss: 0.4505 - val_accuracy: 0.7823\n",
            "Epoch 23/80\n",
            "207/207 [==============================] - 1s 3ms/step - loss: 0.4126 - accuracy: 0.8059 - val_loss: 0.4506 - val_accuracy: 0.7920\n",
            "Epoch 24/80\n",
            "207/207 [==============================] - 1s 3ms/step - loss: 0.4127 - accuracy: 0.8060 - val_loss: 0.4367 - val_accuracy: 0.7878\n",
            "Epoch 25/80\n",
            "207/207 [==============================] - 1s 3ms/step - loss: 0.4080 - accuracy: 0.8095 - val_loss: 0.4490 - val_accuracy: 0.7835\n",
            "Epoch 26/80\n",
            "207/207 [==============================] - 1s 3ms/step - loss: 0.4096 - accuracy: 0.8106 - val_loss: 0.4609 - val_accuracy: 0.7829\n",
            "Epoch 27/80\n",
            "207/207 [==============================] - 1s 3ms/step - loss: 0.4097 - accuracy: 0.8087 - val_loss: 0.4476 - val_accuracy: 0.7890\n",
            "Epoch 28/80\n",
            "207/207 [==============================] - 1s 3ms/step - loss: 0.4044 - accuracy: 0.8143 - val_loss: 0.4428 - val_accuracy: 0.7878\n",
            "Epoch 29/80\n",
            "207/207 [==============================] - 1s 3ms/step - loss: 0.4082 - accuracy: 0.8132 - val_loss: 0.4480 - val_accuracy: 0.7871\n",
            "Epoch 30/80\n",
            "207/207 [==============================] - 1s 3ms/step - loss: 0.4035 - accuracy: 0.8121 - val_loss: 0.4460 - val_accuracy: 0.7865\n",
            "Epoch 31/80\n",
            "207/207 [==============================] - 1s 3ms/step - loss: 0.4031 - accuracy: 0.8153 - val_loss: 0.4484 - val_accuracy: 0.7847\n",
            "Epoch 32/80\n",
            "207/207 [==============================] - 1s 3ms/step - loss: 0.4035 - accuracy: 0.8133 - val_loss: 0.4479 - val_accuracy: 0.7884\n",
            "Epoch 33/80\n",
            "207/207 [==============================] - 1s 3ms/step - loss: 0.4049 - accuracy: 0.8099 - val_loss: 0.4471 - val_accuracy: 0.7878\n",
            "Epoch 34/80\n",
            "207/207 [==============================] - 1s 3ms/step - loss: 0.4119 - accuracy: 0.8093 - val_loss: 0.4464 - val_accuracy: 0.7902\n",
            "Epoch 35/80\n",
            "207/207 [==============================] - 1s 3ms/step - loss: 0.4054 - accuracy: 0.8139 - val_loss: 0.4545 - val_accuracy: 0.7823\n",
            "Epoch 36/80\n",
            "207/207 [==============================] - 1s 3ms/step - loss: 0.4018 - accuracy: 0.8141 - val_loss: 0.4496 - val_accuracy: 0.7878\n",
            "Epoch 37/80\n",
            "207/207 [==============================] - 1s 3ms/step - loss: 0.4007 - accuracy: 0.8136 - val_loss: 0.4510 - val_accuracy: 0.7902\n",
            "Epoch 38/80\n",
            "207/207 [==============================] - 1s 3ms/step - loss: 0.4039 - accuracy: 0.8144 - val_loss: 0.4421 - val_accuracy: 0.7956\n",
            "Epoch 39/80\n",
            "207/207 [==============================] - 1s 3ms/step - loss: 0.3990 - accuracy: 0.8134 - val_loss: 0.4403 - val_accuracy: 0.7884\n",
            "Epoch 40/80\n",
            "207/207 [==============================] - 1s 3ms/step - loss: 0.4002 - accuracy: 0.8157 - val_loss: 0.4491 - val_accuracy: 0.7829\n",
            "Epoch 41/80\n",
            "207/207 [==============================] - 1s 3ms/step - loss: 0.3956 - accuracy: 0.8132 - val_loss: 0.4470 - val_accuracy: 0.7968\n",
            "Epoch 42/80\n",
            "207/207 [==============================] - 1s 3ms/step - loss: 0.3950 - accuracy: 0.8159 - val_loss: 0.4471 - val_accuracy: 0.7859\n",
            "Epoch 43/80\n",
            "207/207 [==============================] - 1s 3ms/step - loss: 0.3928 - accuracy: 0.8199 - val_loss: 0.4440 - val_accuracy: 0.7950\n",
            "Epoch 44/80\n",
            "207/207 [==============================] - 1s 3ms/step - loss: 0.3999 - accuracy: 0.8162 - val_loss: 0.4485 - val_accuracy: 0.7944\n",
            "Epoch 45/80\n",
            "207/207 [==============================] - 1s 3ms/step - loss: 0.4063 - accuracy: 0.8119 - val_loss: 0.4517 - val_accuracy: 0.7859\n",
            "Epoch 46/80\n",
            "207/207 [==============================] - 1s 3ms/step - loss: 0.3983 - accuracy: 0.8145 - val_loss: 0.4422 - val_accuracy: 0.7884\n",
            "Epoch 47/80\n",
            "207/207 [==============================] - 1s 3ms/step - loss: 0.4043 - accuracy: 0.8124 - val_loss: 0.4457 - val_accuracy: 0.7890\n",
            "Epoch 48/80\n",
            "207/207 [==============================] - 1s 3ms/step - loss: 0.3979 - accuracy: 0.8159 - val_loss: 0.4447 - val_accuracy: 0.7944\n",
            "Epoch 49/80\n",
            "207/207 [==============================] - 1s 3ms/step - loss: 0.3980 - accuracy: 0.8158 - val_loss: 0.4427 - val_accuracy: 0.7956\n",
            "Epoch 50/80\n",
            "207/207 [==============================] - 1s 3ms/step - loss: 0.3929 - accuracy: 0.8199 - val_loss: 0.4381 - val_accuracy: 0.7944\n",
            "Epoch 51/80\n",
            "207/207 [==============================] - 1s 3ms/step - loss: 0.4009 - accuracy: 0.8125 - val_loss: 0.4389 - val_accuracy: 0.7938\n",
            "Epoch 52/80\n",
            "207/207 [==============================] - 1s 3ms/step - loss: 0.3938 - accuracy: 0.8168 - val_loss: 0.4473 - val_accuracy: 0.7981\n",
            "Epoch 53/80\n",
            "207/207 [==============================] - 1s 3ms/step - loss: 0.3946 - accuracy: 0.8209 - val_loss: 0.4419 - val_accuracy: 0.7926\n",
            "Epoch 54/80\n",
            "207/207 [==============================] - 1s 3ms/step - loss: 0.3912 - accuracy: 0.8199 - val_loss: 0.4395 - val_accuracy: 0.7902\n",
            "Epoch 55/80\n",
            "207/207 [==============================] - 1s 3ms/step - loss: 0.3914 - accuracy: 0.8199 - val_loss: 0.4402 - val_accuracy: 0.7896\n",
            "Epoch 56/80\n",
            "207/207 [==============================] - 1s 3ms/step - loss: 0.3894 - accuracy: 0.8221 - val_loss: 0.4483 - val_accuracy: 0.7908\n",
            "Epoch 57/80\n",
            "207/207 [==============================] - 1s 3ms/step - loss: 0.3919 - accuracy: 0.8200 - val_loss: 0.4381 - val_accuracy: 0.7938\n",
            "Epoch 58/80\n",
            "207/207 [==============================] - 1s 3ms/step - loss: 0.3899 - accuracy: 0.8194 - val_loss: 0.4360 - val_accuracy: 0.7987\n",
            "Epoch 59/80\n",
            "207/207 [==============================] - 1s 3ms/step - loss: 0.3911 - accuracy: 0.8184 - val_loss: 0.4455 - val_accuracy: 0.7932\n",
            "Epoch 60/80\n",
            "207/207 [==============================] - 1s 6ms/step - loss: 0.3897 - accuracy: 0.8206 - val_loss: 0.4385 - val_accuracy: 0.7950\n",
            "Epoch 61/80\n",
            "207/207 [==============================] - 1s 6ms/step - loss: 0.3867 - accuracy: 0.8213 - val_loss: 0.4428 - val_accuracy: 0.7956\n",
            "Epoch 62/80\n",
            "207/207 [==============================] - 1s 6ms/step - loss: 0.3903 - accuracy: 0.8207 - val_loss: 0.4425 - val_accuracy: 0.7999\n",
            "Epoch 63/80\n",
            "207/207 [==============================] - 1s 4ms/step - loss: 0.3850 - accuracy: 0.8250 - val_loss: 0.4387 - val_accuracy: 0.7950\n",
            "Epoch 64/80\n",
            "207/207 [==============================] - 1s 3ms/step - loss: 0.3850 - accuracy: 0.8225 - val_loss: 0.4413 - val_accuracy: 0.7981\n",
            "Epoch 65/80\n",
            "207/207 [==============================] - 1s 3ms/step - loss: 0.3871 - accuracy: 0.8209 - val_loss: 0.4402 - val_accuracy: 0.7975\n",
            "Epoch 66/80\n",
            "207/207 [==============================] - 1s 3ms/step - loss: 0.3857 - accuracy: 0.8225 - val_loss: 0.4327 - val_accuracy: 0.8035\n",
            "Epoch 67/80\n",
            "207/207 [==============================] - 1s 3ms/step - loss: 0.3851 - accuracy: 0.8223 - val_loss: 0.4412 - val_accuracy: 0.7962\n",
            "Epoch 68/80\n",
            "207/207 [==============================] - 1s 3ms/step - loss: 0.3863 - accuracy: 0.8207 - val_loss: 0.4415 - val_accuracy: 0.7975\n",
            "Epoch 69/80\n",
            "207/207 [==============================] - 1s 3ms/step - loss: 0.3871 - accuracy: 0.8214 - val_loss: 0.4333 - val_accuracy: 0.7993\n",
            "Epoch 70/80\n",
            "207/207 [==============================] - 1s 3ms/step - loss: 0.3850 - accuracy: 0.8225 - val_loss: 0.4382 - val_accuracy: 0.7987\n",
            "Epoch 71/80\n",
            "207/207 [==============================] - 1s 3ms/step - loss: 0.3828 - accuracy: 0.8226 - val_loss: 0.4410 - val_accuracy: 0.7981\n",
            "Epoch 72/80\n",
            "207/207 [==============================] - 1s 3ms/step - loss: 0.3860 - accuracy: 0.8209 - val_loss: 0.4387 - val_accuracy: 0.7981\n",
            "Epoch 73/80\n",
            "207/207 [==============================] - 1s 3ms/step - loss: 0.3850 - accuracy: 0.8213 - val_loss: 0.4348 - val_accuracy: 0.7944\n",
            "Epoch 74/80\n",
            "207/207 [==============================] - 1s 3ms/step - loss: 0.3793 - accuracy: 0.8265 - val_loss: 0.4488 - val_accuracy: 0.7926\n",
            "Epoch 75/80\n",
            "207/207 [==============================] - 1s 3ms/step - loss: 0.3815 - accuracy: 0.8229 - val_loss: 0.4352 - val_accuracy: 0.7993\n",
            "Epoch 76/80\n",
            "207/207 [==============================] - 1s 3ms/step - loss: 0.3824 - accuracy: 0.8209 - val_loss: 0.4383 - val_accuracy: 0.8023\n",
            "Epoch 77/80\n",
            "207/207 [==============================] - 1s 3ms/step - loss: 0.3856 - accuracy: 0.8224 - val_loss: 0.4342 - val_accuracy: 0.8041\n",
            "Epoch 78/80\n",
            "207/207 [==============================] - 1s 3ms/step - loss: 0.3852 - accuracy: 0.8217 - val_loss: 0.4417 - val_accuracy: 0.8029\n",
            "Epoch 79/80\n",
            "207/207 [==============================] - 1s 3ms/step - loss: 0.3830 - accuracy: 0.8225 - val_loss: 0.4439 - val_accuracy: 0.7890\n",
            "Epoch 80/80\n",
            "207/207 [==============================] - 1s 3ms/step - loss: 0.3811 - accuracy: 0.8236 - val_loss: 0.4405 - val_accuracy: 0.7896\n"
          ]
        }
      ]
    },
    {
      "cell_type": "code",
      "source": [
        "# Plotting Hasil training dari model Sequential API\n",
        "fig, ax = plt.subplots(1, 2, figsize=(20, 6))\n",
        "ax = ax.ravel()\n",
        "\n",
        "for i, met in enumerate([ \"accuracy\", \"loss\"]):\n",
        "    ax[i].plot(history.history[met])\n",
        "    ax[i].plot(history.history['val_'+met])\n",
        "    ax[i].set_title(\"Model {}\".format(met))\n",
        "    ax[i].set_xlabel(\"epochs\")\n",
        "    ax[i].set_ylabel(met)"
      ],
      "metadata": {
        "colab": {
          "base_uri": "https://localhost:8080/",
          "height": 378
        },
        "id": "i79Bru8Sn_o8",
        "outputId": "a8435307-ed55-41ed-ad4d-efd84cf884e3"
      },
      "execution_count": 176,
      "outputs": [
        {
          "output_type": "display_data",
          "data": {
            "text/plain": [
              "<Figure size 1440x432 with 2 Axes>"
            ],
            "image/png": "[encoded data removed]"
          },
          "metadata": {
            "needs_background": "light"
          }
        }
      ]
    },
    {
      "cell_type": "markdown",
      "source": [
        "Dari hasil visualisasi diatas, Setelah dilakukan training dengan 80x epoch didaptkan hasil:\n",
        "- Dari model accuracy, terlihat bahwa antara **accuracy** line *biru* dengan **val_accuracy** line *orange* tidak terlalu berbeda jauh sehingga bisa dikatakan model cukup bagus, tetpai kalau dilihat dari grafik linenya terlihat bahwa semakin lama kita melakukan training atau epoch dinaikkan kemungkinan akan ada peningkatan accuracy.\n",
        "- Dari model loss, terlih bahwa antara **loss** line *biru* dengan **val_loss** line *orange* semakin tinggi eopchnya kemungkinan nilai loss akan turun, tetapi terlihat ada perbedaan antara **loss** dengan **val_loss** seiring bertambahnya epoch"
      ],
      "metadata": {
        "id": "uijc6J-lwIv-"
      }
    },
    {
      "cell_type": "markdown",
      "source": [
        "### 7.2 Functional API\n"
      ],
      "metadata": {
        "id": "j2laFQKxx0UG"
      }
    },
    {
      "cell_type": "code",
      "source": [
        "### Training Model Functional API\n",
        "### model compile\n",
        "model_.compile(loss='binary_crossentropy', \n",
        "              optimizer='adam',\n",
        "              metrics=['accuracy'])\n",
        "\n",
        "history2 = model_.fit(dataset, \n",
        "                    epochs=80, \n",
        "                    validation_data=(X_val_final, y_val_final))"
      ],
      "metadata": {
        "colab": {
          "base_uri": "https://localhost:8080/"
        },
        "id": "IaE087NRn_mF",
        "outputId": "eb677d48-f5d4-4ed5-ffbd-a30dff095217"
      },
      "execution_count": 177,
      "outputs": [
        {
          "output_type": "stream",
          "name": "stdout",
          "text": [
            "Epoch 1/80\n",
            "207/207 [==============================] - 2s 4ms/step - loss: 0.4796 - accuracy: 0.7626 - val_loss: 0.5019 - val_accuracy: 0.7574\n",
            "Epoch 2/80\n",
            "207/207 [==============================] - 1s 3ms/step - loss: 0.4595 - accuracy: 0.7792 - val_loss: 0.4727 - val_accuracy: 0.7659\n",
            "Epoch 3/80\n",
            "207/207 [==============================] - 1s 3ms/step - loss: 0.4552 - accuracy: 0.7808 - val_loss: 0.4673 - val_accuracy: 0.7683\n",
            "Epoch 4/80\n",
            "207/207 [==============================] - 1s 3ms/step - loss: 0.4520 - accuracy: 0.7833 - val_loss: 0.4696 - val_accuracy: 0.7671\n",
            "Epoch 5/80\n",
            "207/207 [==============================] - 1s 3ms/step - loss: 0.4482 - accuracy: 0.7872 - val_loss: 0.4612 - val_accuracy: 0.7726\n",
            "Epoch 6/80\n",
            "207/207 [==============================] - 1s 3ms/step - loss: 0.4461 - accuracy: 0.7867 - val_loss: 0.4625 - val_accuracy: 0.7750\n",
            "Epoch 7/80\n",
            "207/207 [==============================] - 1s 3ms/step - loss: 0.4454 - accuracy: 0.7870 - val_loss: 0.4685 - val_accuracy: 0.7653\n",
            "Epoch 8/80\n",
            "207/207 [==============================] - 1s 3ms/step - loss: 0.4420 - accuracy: 0.7931 - val_loss: 0.4624 - val_accuracy: 0.7665\n",
            "Epoch 9/80\n",
            "207/207 [==============================] - 1s 3ms/step - loss: 0.4418 - accuracy: 0.7947 - val_loss: 0.4561 - val_accuracy: 0.7793\n",
            "Epoch 10/80\n",
            "207/207 [==============================] - 1s 3ms/step - loss: 0.4406 - accuracy: 0.7945 - val_loss: 0.4610 - val_accuracy: 0.7732\n",
            "Epoch 11/80\n",
            "207/207 [==============================] - 1s 3ms/step - loss: 0.4372 - accuracy: 0.7943 - val_loss: 0.4656 - val_accuracy: 0.7744\n",
            "Epoch 12/80\n",
            "207/207 [==============================] - 1s 3ms/step - loss: 0.4338 - accuracy: 0.7945 - val_loss: 0.4555 - val_accuracy: 0.7811\n",
            "Epoch 13/80\n",
            "207/207 [==============================] - 1s 3ms/step - loss: 0.4344 - accuracy: 0.7974 - val_loss: 0.4569 - val_accuracy: 0.7732\n",
            "Epoch 14/80\n",
            "207/207 [==============================] - 1s 3ms/step - loss: 0.4328 - accuracy: 0.7990 - val_loss: 0.4590 - val_accuracy: 0.7738\n",
            "Epoch 15/80\n",
            "207/207 [==============================] - 1s 3ms/step - loss: 0.4300 - accuracy: 0.7997 - val_loss: 0.4574 - val_accuracy: 0.7817\n",
            "Epoch 16/80\n",
            "207/207 [==============================] - 1s 3ms/step - loss: 0.4311 - accuracy: 0.7974 - val_loss: 0.4511 - val_accuracy: 0.7787\n",
            "Epoch 17/80\n",
            "207/207 [==============================] - 1s 3ms/step - loss: 0.4278 - accuracy: 0.8005 - val_loss: 0.4501 - val_accuracy: 0.7884\n",
            "Epoch 18/80\n",
            "207/207 [==============================] - 1s 3ms/step - loss: 0.4245 - accuracy: 0.8048 - val_loss: 0.4556 - val_accuracy: 0.7774\n",
            "Epoch 19/80\n",
            "207/207 [==============================] - 1s 3ms/step - loss: 0.4236 - accuracy: 0.8017 - val_loss: 0.4524 - val_accuracy: 0.7841\n",
            "Epoch 20/80\n",
            "207/207 [==============================] - 1s 3ms/step - loss: 0.4267 - accuracy: 0.8009 - val_loss: 0.4529 - val_accuracy: 0.7847\n",
            "Epoch 21/80\n",
            "207/207 [==============================] - 1s 3ms/step - loss: 0.4219 - accuracy: 0.8040 - val_loss: 0.4556 - val_accuracy: 0.7853\n",
            "Epoch 22/80\n",
            "207/207 [==============================] - 1s 3ms/step - loss: 0.4245 - accuracy: 0.7997 - val_loss: 0.4502 - val_accuracy: 0.7968\n",
            "Epoch 23/80\n",
            "207/207 [==============================] - 1s 3ms/step - loss: 0.4252 - accuracy: 0.7999 - val_loss: 0.4497 - val_accuracy: 0.7920\n",
            "Epoch 24/80\n",
            "207/207 [==============================] - 1s 3ms/step - loss: 0.4191 - accuracy: 0.8068 - val_loss: 0.4527 - val_accuracy: 0.7865\n",
            "Epoch 25/80\n",
            "207/207 [==============================] - 1s 3ms/step - loss: 0.4196 - accuracy: 0.8067 - val_loss: 0.4571 - val_accuracy: 0.7859\n",
            "Epoch 26/80\n",
            "207/207 [==============================] - 1s 3ms/step - loss: 0.4193 - accuracy: 0.8042 - val_loss: 0.4491 - val_accuracy: 0.7859\n",
            "Epoch 27/80\n",
            "207/207 [==============================] - 1s 3ms/step - loss: 0.4153 - accuracy: 0.8068 - val_loss: 0.4508 - val_accuracy: 0.7896\n",
            "Epoch 28/80\n",
            "207/207 [==============================] - 1s 3ms/step - loss: 0.4222 - accuracy: 0.8062 - val_loss: 0.4537 - val_accuracy: 0.7847\n",
            "Epoch 29/80\n",
            "207/207 [==============================] - 1s 3ms/step - loss: 0.4133 - accuracy: 0.8079 - val_loss: 0.4489 - val_accuracy: 0.7956\n",
            "Epoch 30/80\n",
            "207/207 [==============================] - 1s 3ms/step - loss: 0.4221 - accuracy: 0.8034 - val_loss: 0.4535 - val_accuracy: 0.7878\n",
            "Epoch 31/80\n",
            "207/207 [==============================] - 1s 3ms/step - loss: 0.4165 - accuracy: 0.8036 - val_loss: 0.4508 - val_accuracy: 0.7853\n",
            "Epoch 32/80\n",
            "207/207 [==============================] - 1s 3ms/step - loss: 0.4134 - accuracy: 0.8062 - val_loss: 0.4640 - val_accuracy: 0.7793\n",
            "Epoch 33/80\n",
            "207/207 [==============================] - 1s 3ms/step - loss: 0.4152 - accuracy: 0.8069 - val_loss: 0.4540 - val_accuracy: 0.7878\n",
            "Epoch 34/80\n",
            "207/207 [==============================] - 1s 3ms/step - loss: 0.4141 - accuracy: 0.8104 - val_loss: 0.4491 - val_accuracy: 0.7780\n",
            "Epoch 35/80\n",
            "207/207 [==============================] - 1s 3ms/step - loss: 0.4125 - accuracy: 0.8107 - val_loss: 0.4498 - val_accuracy: 0.7878\n",
            "Epoch 36/80\n",
            "207/207 [==============================] - 1s 3ms/step - loss: 0.4125 - accuracy: 0.8065 - val_loss: 0.4504 - val_accuracy: 0.7853\n",
            "Epoch 37/80\n",
            "207/207 [==============================] - 1s 3ms/step - loss: 0.4120 - accuracy: 0.8106 - val_loss: 0.4513 - val_accuracy: 0.7847\n",
            "Epoch 38/80\n",
            "207/207 [==============================] - 1s 3ms/step - loss: 0.4116 - accuracy: 0.8093 - val_loss: 0.4447 - val_accuracy: 0.7920\n",
            "Epoch 39/80\n",
            "207/207 [==============================] - 1s 3ms/step - loss: 0.4110 - accuracy: 0.8113 - val_loss: 0.4553 - val_accuracy: 0.7884\n",
            "Epoch 40/80\n",
            "207/207 [==============================] - 1s 3ms/step - loss: 0.4082 - accuracy: 0.8097 - val_loss: 0.4578 - val_accuracy: 0.7902\n",
            "Epoch 41/80\n",
            "207/207 [==============================] - 1s 3ms/step - loss: 0.4074 - accuracy: 0.8100 - val_loss: 0.4534 - val_accuracy: 0.7908\n",
            "Epoch 42/80\n",
            "207/207 [==============================] - 1s 3ms/step - loss: 0.4059 - accuracy: 0.8141 - val_loss: 0.4512 - val_accuracy: 0.7896\n",
            "Epoch 43/80\n",
            "207/207 [==============================] - 1s 3ms/step - loss: 0.4061 - accuracy: 0.8113 - val_loss: 0.4487 - val_accuracy: 0.7926\n",
            "Epoch 44/80\n",
            "207/207 [==============================] - 1s 3ms/step - loss: 0.4057 - accuracy: 0.8125 - val_loss: 0.4556 - val_accuracy: 0.7799\n",
            "Epoch 45/80\n",
            "207/207 [==============================] - 1s 3ms/step - loss: 0.4066 - accuracy: 0.8118 - val_loss: 0.4549 - val_accuracy: 0.7871\n",
            "Epoch 46/80\n",
            "207/207 [==============================] - 1s 3ms/step - loss: 0.4039 - accuracy: 0.8114 - val_loss: 0.4613 - val_accuracy: 0.7847\n",
            "Epoch 47/80\n",
            "207/207 [==============================] - 1s 3ms/step - loss: 0.4075 - accuracy: 0.8091 - val_loss: 0.4440 - val_accuracy: 0.7926\n",
            "Epoch 48/80\n",
            "207/207 [==============================] - 1s 3ms/step - loss: 0.4031 - accuracy: 0.8125 - val_loss: 0.4539 - val_accuracy: 0.7902\n",
            "Epoch 49/80\n",
            "207/207 [==============================] - 1s 3ms/step - loss: 0.4028 - accuracy: 0.8129 - val_loss: 0.4561 - val_accuracy: 0.7847\n",
            "Epoch 50/80\n",
            "207/207 [==============================] - 1s 3ms/step - loss: 0.4033 - accuracy: 0.8135 - val_loss: 0.4461 - val_accuracy: 0.7926\n",
            "Epoch 51/80\n",
            "207/207 [==============================] - 1s 3ms/step - loss: 0.4011 - accuracy: 0.8177 - val_loss: 0.4450 - val_accuracy: 0.7908\n",
            "Epoch 52/80\n",
            "207/207 [==============================] - 1s 3ms/step - loss: 0.4000 - accuracy: 0.8150 - val_loss: 0.4567 - val_accuracy: 0.7817\n",
            "Epoch 53/80\n",
            "207/207 [==============================] - 1s 3ms/step - loss: 0.4072 - accuracy: 0.8084 - val_loss: 0.4550 - val_accuracy: 0.7817\n",
            "Epoch 54/80\n",
            "207/207 [==============================] - 1s 3ms/step - loss: 0.4078 - accuracy: 0.8082 - val_loss: 0.4527 - val_accuracy: 0.7853\n",
            "Epoch 55/80\n",
            "207/207 [==============================] - 1s 3ms/step - loss: 0.4053 - accuracy: 0.8122 - val_loss: 0.4545 - val_accuracy: 0.7932\n",
            "Epoch 56/80\n",
            "207/207 [==============================] - 1s 3ms/step - loss: 0.4015 - accuracy: 0.8175 - val_loss: 0.4435 - val_accuracy: 0.7908\n",
            "Epoch 57/80\n",
            "207/207 [==============================] - 1s 3ms/step - loss: 0.4007 - accuracy: 0.8150 - val_loss: 0.4437 - val_accuracy: 0.7853\n",
            "Epoch 58/80\n",
            "207/207 [==============================] - 1s 3ms/step - loss: 0.3995 - accuracy: 0.8136 - val_loss: 0.4506 - val_accuracy: 0.7896\n",
            "Epoch 59/80\n",
            "207/207 [==============================] - 1s 3ms/step - loss: 0.3996 - accuracy: 0.8184 - val_loss: 0.4525 - val_accuracy: 0.7902\n",
            "Epoch 60/80\n",
            "207/207 [==============================] - 1s 3ms/step - loss: 0.3987 - accuracy: 0.8131 - val_loss: 0.4473 - val_accuracy: 0.7926\n",
            "Epoch 61/80\n",
            "207/207 [==============================] - 1s 3ms/step - loss: 0.3981 - accuracy: 0.8175 - val_loss: 0.4467 - val_accuracy: 0.7896\n",
            "Epoch 62/80\n",
            "207/207 [==============================] - 1s 3ms/step - loss: 0.3995 - accuracy: 0.8137 - val_loss: 0.4436 - val_accuracy: 0.7914\n",
            "Epoch 63/80\n",
            "207/207 [==============================] - 1s 3ms/step - loss: 0.3971 - accuracy: 0.8156 - val_loss: 0.4515 - val_accuracy: 0.7920\n",
            "Epoch 64/80\n",
            "207/207 [==============================] - 1s 3ms/step - loss: 0.3991 - accuracy: 0.8151 - val_loss: 0.4523 - val_accuracy: 0.7871\n",
            "Epoch 65/80\n",
            "207/207 [==============================] - 1s 3ms/step - loss: 0.3971 - accuracy: 0.8140 - val_loss: 0.4433 - val_accuracy: 0.7908\n",
            "Epoch 66/80\n",
            "207/207 [==============================] - 1s 3ms/step - loss: 0.3957 - accuracy: 0.8158 - val_loss: 0.4385 - val_accuracy: 0.7944\n",
            "Epoch 67/80\n",
            "207/207 [==============================] - 1s 3ms/step - loss: 0.3947 - accuracy: 0.8159 - val_loss: 0.4475 - val_accuracy: 0.7944\n",
            "Epoch 68/80\n",
            "207/207 [==============================] - 1s 3ms/step - loss: 0.3960 - accuracy: 0.8168 - val_loss: 0.4511 - val_accuracy: 0.7962\n",
            "Epoch 69/80\n",
            "207/207 [==============================] - 1s 3ms/step - loss: 0.3928 - accuracy: 0.8200 - val_loss: 0.4469 - val_accuracy: 0.7841\n",
            "Epoch 70/80\n",
            "207/207 [==============================] - 1s 3ms/step - loss: 0.3956 - accuracy: 0.8156 - val_loss: 0.4436 - val_accuracy: 0.7932\n",
            "Epoch 71/80\n",
            "207/207 [==============================] - 1s 3ms/step - loss: 0.3932 - accuracy: 0.8180 - val_loss: 0.4445 - val_accuracy: 0.8005\n",
            "Epoch 72/80\n",
            "207/207 [==============================] - 1s 3ms/step - loss: 0.3959 - accuracy: 0.8184 - val_loss: 0.4554 - val_accuracy: 0.7853\n",
            "Epoch 73/80\n",
            "207/207 [==============================] - 1s 3ms/step - loss: 0.3963 - accuracy: 0.8196 - val_loss: 0.4525 - val_accuracy: 0.7932\n",
            "Epoch 74/80\n",
            "207/207 [==============================] - 1s 3ms/step - loss: 0.3946 - accuracy: 0.8195 - val_loss: 0.4415 - val_accuracy: 0.7938\n",
            "Epoch 75/80\n",
            "207/207 [==============================] - 1s 3ms/step - loss: 0.3932 - accuracy: 0.8220 - val_loss: 0.4436 - val_accuracy: 0.7999\n",
            "Epoch 76/80\n",
            "207/207 [==============================] - 1s 3ms/step - loss: 0.3952 - accuracy: 0.8162 - val_loss: 0.4489 - val_accuracy: 0.7962\n",
            "Epoch 77/80\n",
            "207/207 [==============================] - 1s 3ms/step - loss: 0.3916 - accuracy: 0.8188 - val_loss: 0.4486 - val_accuracy: 0.7993\n",
            "Epoch 78/80\n",
            "207/207 [==============================] - 1s 3ms/step - loss: 0.3921 - accuracy: 0.8165 - val_loss: 0.4407 - val_accuracy: 0.7920\n",
            "Epoch 79/80\n",
            "207/207 [==============================] - 1s 3ms/step - loss: 0.3919 - accuracy: 0.8191 - val_loss: 0.4529 - val_accuracy: 0.7975\n",
            "Epoch 80/80\n",
            "207/207 [==============================] - 1s 3ms/step - loss: 0.3938 - accuracy: 0.8191 - val_loss: 0.4364 - val_accuracy: 0.7926\n"
          ]
        }
      ]
    },
    {
      "cell_type": "code",
      "source": [
        "# Plotting Hasil training dari model Functional API\n",
        "fig, ax = plt.subplots(1, 2, figsize=(20, 6))\n",
        "ax = ax.ravel()\n",
        "\n",
        "for i, met in enumerate([ \"accuracy\", \"loss\"]):\n",
        "    ax[i].plot(history2.history[met])\n",
        "    ax[i].plot(history2.history['val_'+met])\n",
        "    ax[i].set_title(\"Model {}\".format(met))\n",
        "    ax[i].set_xlabel(\"epochs\")\n",
        "    ax[i].set_ylabel(met)"
      ],
      "metadata": {
        "colab": {
          "base_uri": "https://localhost:8080/",
          "height": 378
        },
        "id": "M4zcMeSqn_jX",
        "outputId": "4eccdf99-7c06-4c5c-8531-f5464a9a2995"
      },
      "execution_count": 178,
      "outputs": [
        {
          "output_type": "display_data",
          "data": {
            "text/plain": [
              "<Figure size 1440x432 with 2 Axes>"
            ],
            "image/png": "[encoded data removed]"
          },
          "metadata": {
            "needs_background": "light"
          }
        }
      ]
    },
    {
      "cell_type": "markdown",
      "source": [
        "Dari hasil visualisasi menggunkan model Functional API, Setelah dilakukan training dengan 80x epoch didaptkan hasil:\n",
        "- Dari model accuracy, terlihat bahwa antara **accuracy** line *biru* dengan **val_accuracy** line *orange* tidak terlalu berbeda jauh sehingga bisa dikatakan model cukup bagus, tetpai kalau dilihat dari grafik dari **val_accuracy** linenya terlihat bahwa semakin lama kita melakukan training atau epoch dinaikkan kemungkinan akan ada peningkatan accuracy.\n",
        "\n",
        "- Dari model loss, terlihat bahwa antara **loss** line *biru* dengan **val_loss** line *orange* semakin tinggi eopchnya kemungkinan nilai loss dari **loss** akan turun, tetapi berbanding kebalik dengan **val_loss** dari line grafik terlihat bahwa semakin lama training dan epoch dinaikkan maka kemungkinan model loss akan overfitting."
      ],
      "metadata": {
        "id": "-eEW2-oUy661"
      }
    },
    {
      "cell_type": "markdown",
      "source": [
        "# 8. Model Evaluation\n",
        "\n",
        "### We used metrics from Scikit learn to evaluate the performance of our model\n",
        "  \n",
        "### Performance Criteria:\n",
        "  \n",
        "  * Accuracy Score\n",
        "  * F1 Score\n",
        "  * Precision Score\n",
        "  * Recall Score\n",
        "  * ROC Score"
      ],
      "metadata": {
        "id": "lB0QnPAmzsgV"
      }
    },
    {
      "cell_type": "code",
      "source": [
        "# membuat list kosong\n",
        "Train_score = []\n",
        "Val_score = []\n",
        "Test_score = []\n",
        "Precission = []\n",
        "Recall = []\n",
        "F1_score = []\n",
        "ROC_AUC_Score = []"
      ],
      "metadata": {
        "id": "kjy_nHSI2JNu"
      },
      "execution_count": 179,
      "outputs": []
    },
    {
      "cell_type": "markdown",
      "source": [
        "### 8.1 Sequential API "
      ],
      "metadata": {
        "id": "6cQjetzv-BnZ"
      }
    },
    {
      "cell_type": "code",
      "source": [
        "# Model Evaluation\n",
        "import sklearn\n",
        "\n",
        "## Predict on Train-Set and Test-Set\n",
        "y_pred_train = model.predict(X_train_final) # predict Train data\n",
        "y_pred_train = np.where(y_pred_train<0.5, 0, 1).squeeze()\n",
        "y_pred_val = model.predict(X_val_final) # predict Val data\n",
        "y_pred_val = np.where(y_pred_val<0.5, 0, 1).squeeze()\n",
        "y_pred_test = model.predict(X_test_final) # predict Test data\n",
        "y_pred_test = np.where(y_pred_test<0.5, 0, 1).squeeze()\n",
        "\n",
        "# Evaluate Model of matriks\n",
        "Train_score.append(sklearn.metrics.accuracy_score(y_train_final, y_pred_train)) # append in Train Score\n",
        "Val_score.append(sklearn.metrics.accuracy_score(y_val_final, y_pred_val)) # Append in Val Score\n",
        "Test_score.append(sklearn.metrics.accuracy_score(y_test, y_pred_test)) # Append in Test Score\n",
        "# append Precission score\n",
        "Precission.append(sklearn.metrics.precision_score(y_test, y_pred_test))\n",
        "# append Recal score\n",
        "Recall.append(sklearn.metrics.recall_score(y_test, y_pred_test))\n",
        "# append F1 Score\n",
        "F1_score.append(sklearn.metrics.f1_score(y_test, y_pred_test))\n",
        "# append ROC Sccore\n",
        "ROC_AUC_Score.append(sklearn.metrics.roc_auc_score(y_test, y_pred_test))\n",
        "\n",
        "print('-'*50)\n",
        "print('===== CLASSIFICATION REPORT =====')\n",
        "print('-'*50)\n",
        "print('\\n',sklearn.metrics.classification_report(y_test, y_pred_test))\n",
        "print('-'*50)\n",
        "print('')\n",
        "\n",
        "print('-'*50)\n",
        "print('===== CCONFUSION MATRIX =====')\n",
        "print('-'*50)\n",
        "# Create function\n",
        "predictions = []\n",
        "for element in y_pred_test:\n",
        "    if element > 0.5:\n",
        "        predictions.append(1)\n",
        "    else:\n",
        "        predictions.append(0)\n",
        "\n",
        "# Create figure\n",
        "plt.figure(figsize = (6, 5))\n",
        "sns.heatmap(sklearn.metrics.confusion_matrix(y_test, predictions),\n",
        "            annot = True,\n",
        "            fmt = '.0f',\n",
        "            cmap = 'Blues_r', cbar=False,\n",
        "            annot_kws={\"fontsize\":30})\n",
        "plt.xlabel(\"Prediction\")\n",
        "plt.ylabel(\"Actual\")\n",
        "plt.title(\"Confusion Matrix\", fontsize = 15)\n",
        "plt.tight_layout()\n",
        "plt.show();"
      ],
      "metadata": {
        "colab": {
          "base_uri": "https://localhost:8080/",
          "height": 701
        },
        "id": "9ljiXzNa5mGC",
        "outputId": "0be2054b-32a9-4fed-ac8f-9d1cfd836545"
      },
      "execution_count": 180,
      "outputs": [
        {
          "output_type": "stream",
          "name": "stdout",
          "text": [
            "--------------------------------------------------\n",
            "===== CLASSIFICATION REPORT =====\n",
            "--------------------------------------------------\n",
            "\n",
            "               precision    recall  f1-score   support\n",
            "\n",
            "           0       0.87      0.77      0.82      1030\n",
            "           1       0.52      0.69      0.60       373\n",
            "\n",
            "    accuracy                           0.75      1403\n",
            "   macro avg       0.70      0.73      0.71      1403\n",
            "weighted avg       0.78      0.75      0.76      1403\n",
            "\n",
            "--------------------------------------------------\n",
            "\n",
            "--------------------------------------------------\n",
            "===== CCONFUSION MATRIX =====\n",
            "--------------------------------------------------\n"
          ]
        },
        {
          "output_type": "display_data",
          "data": {
            "text/plain": [
              "<Figure size 432x360 with 1 Axes>"
            ],
            "image/png": "[encoded data removed]"
          },
          "metadata": {
            "needs_background": "light"
          }
        }
      ]
    },
    {
      "cell_type": "markdown",
      "source": [
        "### 8.2 Functional API"
      ],
      "metadata": {
        "id": "Wt5GH5AL-F8y"
      }
    },
    {
      "cell_type": "code",
      "source": [
        "## Predict on Train-Set and Test-Set\n",
        "y_pred_train = model_.predict(X_train_final) # predict Train data\n",
        "y_pred_train = np.where(y_pred_train<0.5, 0, 1).squeeze()\n",
        "y_pred_val = model_.predict(X_val_final) # predict Val data\n",
        "y_pred_val = np.where(y_pred_val<0.5, 0, 1).squeeze()\n",
        "y_pred_test = model_.predict(X_test_final) # predict Test data\n",
        "y_pred_test = np.where(y_pred_test<0.5, 0, 1).squeeze()\n",
        "\n",
        "# Evaluate Model of matriks\n",
        "Train_score.append(sklearn.metrics.accuracy_score(y_train_final, y_pred_train)) # append in Train Score\n",
        "Val_score.append(sklearn.metrics.accuracy_score(y_val_final, y_pred_val)) # Append in Val Score\n",
        "Test_score.append(sklearn.metrics.accuracy_score(y_test, y_pred_test)) # Append in Test Score\n",
        "# append Precission score\n",
        "Precission.append(sklearn.metrics.precision_score(y_test, y_pred_test))\n",
        "# append Recal score\n",
        "Recall.append(sklearn.metrics.recall_score(y_test, y_pred_test))\n",
        "# append F1 Score\n",
        "F1_score.append(sklearn.metrics.f1_score(y_test, y_pred_test))\n",
        "# append ROC Sccore\n",
        "ROC_AUC_Score.append(sklearn.metrics.roc_auc_score(y_test, y_pred_test))\n",
        "\n",
        "print('-'*50)\n",
        "print('===== CLASSIFICATION REPORT =====')\n",
        "print('-'*50)\n",
        "print('\\n',sklearn.metrics.classification_report(y_test, y_pred_test))\n",
        "print('-'*50)\n",
        "print('')\n",
        "\n",
        "print('-'*50)\n",
        "print('===== CCONFUSION MATRIX =====')\n",
        "print('-'*50)\n",
        "# Create function\n",
        "predictions = []\n",
        "for element in y_pred_test:\n",
        "    if element > 0.5:\n",
        "        predictions.append(1)\n",
        "    else:\n",
        "        predictions.append(0)\n",
        "\n",
        "# Create figure\n",
        "plt.figure(figsize = (6, 5))\n",
        "sns.heatmap(sklearn.metrics.confusion_matrix(y_test, predictions),\n",
        "            annot = True,\n",
        "            fmt = '.0f',\n",
        "            cmap = 'Blues_r', cbar=False,\n",
        "            annot_kws={\"fontsize\":30})\n",
        "plt.xlabel(\"Prediction\")\n",
        "plt.ylabel(\"Actual\")\n",
        "plt.title(\"Confusion Matrix\", fontsize = 15)\n",
        "plt.tight_layout()\n",
        "plt.show();"
      ],
      "metadata": {
        "colab": {
          "base_uri": "https://localhost:8080/",
          "height": 701
        },
        "id": "bn7qMsQU5l5T",
        "outputId": "00f017d1-996a-4355-a33d-cad48fd45876"
      },
      "execution_count": 181,
      "outputs": [
        {
          "output_type": "stream",
          "name": "stdout",
          "text": [
            "--------------------------------------------------\n",
            "===== CLASSIFICATION REPORT =====\n",
            "--------------------------------------------------\n",
            "\n",
            "               precision    recall  f1-score   support\n",
            "\n",
            "           0       0.88      0.73      0.80      1030\n",
            "           1       0.49      0.73      0.59       373\n",
            "\n",
            "    accuracy                           0.73      1403\n",
            "   macro avg       0.69      0.73      0.69      1403\n",
            "weighted avg       0.78      0.73      0.74      1403\n",
            "\n",
            "--------------------------------------------------\n",
            "\n",
            "--------------------------------------------------\n",
            "===== CCONFUSION MATRIX =====\n",
            "--------------------------------------------------\n"
          ]
        },
        {
          "output_type": "display_data",
          "data": {
            "text/plain": [
              "<Figure size 432x360 with 1 Axes>"
            ],
            "image/png": "[encoded data removed]"
          },
          "metadata": {
            "needs_background": "light"
          }
        }
      ]
    },
    {
      "cell_type": "markdown",
      "source": [
        "### 8.3 Model Compare\n"
      ],
      "metadata": {
        "id": "z_YQ-3hq_18C"
      }
    },
    {
      "cell_type": "code",
      "source": [
        "# comparison algorithm\n",
        "model_compare = pd.DataFrame({'Model ANN': ['Sequential API', 'Functional API'],\n",
        "                          'Train score' : Train_score,\n",
        "                          'Val score' : Val_score,\n",
        "                          'Test score': Test_score,\n",
        "                          'Precission' : Precission,\n",
        "                          'Recall' : Recall,\n",
        "                          'F1 Score': F1_score,\n",
        "                          'ROC Score': ROC_AUC_Score})\n",
        "\n",
        "# Menampilkan model\n",
        "model_compare.set_index('Model ANN').sort_values(by=['Recall'], ascending=False)"
      ],
      "metadata": {
        "colab": {
          "base_uri": "https://localhost:8080/",
          "height": 143
        },
        "id": "8_CNZLLX-8z4",
        "outputId": "d986dfaf-b15e-41e6-c1bc-8513c26a6f5c"
      },
      "execution_count": 182,
      "outputs": [
        {
          "output_type": "execute_result",
          "data": {
            "text/plain": [
              "                Train score  Val score  Test score  Precission    Recall  \\\n",
              "Model ANN                                                                  \n",
              "Functional API     0.832246   0.792602    0.729865    0.494565  0.731903   \n",
              "Sequential API     0.831943   0.789569    0.750535    0.523232  0.694370   \n",
              "\n",
              "                F1 Score  ROC Score  \n",
              "Model ANN                            \n",
              "Functional API  0.590270   0.730515  \n",
              "Sequential API  0.596774   0.732622  "
            ],
            "text/html": [
              "\n",
              "  <div id=\"df-e69f64f6-6e88-4d79-be61-116c0eb88fd5\">\n",
              "    <div class=\"colab-df-container\">\n",
              "      <div>\n",
              "<style scoped>\n",
              "    .dataframe tbody tr th:only-of-type {\n",
              "        vertical-align: middle;\n",
              "    }\n",
              "\n",
              "    .dataframe tbody tr th {\n",
              "        vertical-align: top;\n",
              "    }\n",
              "\n",
              "    .dataframe thead th {\n",
              "        text-align: right;\n",
              "    }\n",
              "</style>\n",
              "<table border=\"1\" class=\"dataframe\">\n",
              "  <thead>\n",
              "    <tr style=\"text-align: right;\">\n",
              "      <th></th>\n",
              "      <th>Train score</th>\n",
              "      <th>Val score</th>\n",
              "      <th>Test score</th>\n",
              "      <th>Precission</th>\n",
              "      <th>Recall</th>\n",
              "      <th>F1 Score</th>\n",
              "      <th>ROC Score</th>\n",
              "    </tr>\n",
              "    <tr>\n",
              "      <th>Model ANN</th>\n",
              "      <th></th>\n",
              "      <th></th>\n",
              "      <th></th>\n",
              "      <th></th>\n",
              "      <th></th>\n",
              "      <th></th>\n",
              "      <th></th>\n",
              "    </tr>\n",
              "  </thead>\n",
              "  <tbody>\n",
              "    <tr>\n",
              "      <th>Functional API</th>\n",
              "      <td>0.832246</td>\n",
              "      <td>0.792602</td>\n",
              "      <td>0.729865</td>\n",
              "      <td>0.494565</td>\n",
              "      <td>0.731903</td>\n",
              "      <td>0.590270</td>\n",
              "      <td>0.730515</td>\n",
              "    </tr>\n",
              "    <tr>\n",
              "      <th>Sequential API</th>\n",
              "      <td>0.831943</td>\n",
              "      <td>0.789569</td>\n",
              "      <td>0.750535</td>\n",
              "      <td>0.523232</td>\n",
              "      <td>0.694370</td>\n",
              "      <td>0.596774</td>\n",
              "      <td>0.732622</td>\n",
              "    </tr>\n",
              "  </tbody>\n",
              "</table>\n",
              "</div>\n",
              "      <button class=\"colab-df-convert\" onclick=\"convertToInteractive('df-e69f64f6-6e88-4d79-be61-116c0eb88fd5')\"\n",
              "              title=\"Convert this dataframe to an interactive table.\"\n",
              "              style=\"display:none;\">\n",
              "        \n",
              "  <svg xmlns=\"http://www.w3.org/2000/svg\" height=\"24px\"viewBox=\"0 0 24 24\"\n",
              "       width=\"24px\">\n",
              "    <path d=\"M0 0h24v24H0V0z\" fill=\"none\"/>\n",
              "    <path d=\"M18.56 5.44l.94 2.06.94-2.06 2.06-.94-2.06-.94-.94-2.06-.94 2.06-2.06.94zm-11 1L8.5 8.5l.94-2.06 2.06-.94-2.06-.94L8.5 2.5l-.94 2.06-2.06.94zm10 10l.94 2.06.94-2.06 2.06-.94-2.06-.94-.94-2.06-.94 2.06-2.06.94z\"/><path d=\"M17.41 7.96l-1.37-1.37c-.4-.4-.92-.59-1.43-.59-.52 0-1.04.2-1.43.59L10.3 9.45l-7.72 7.72c-.78.78-.78 2.05 0 2.83L4 21.41c.39.39.9.59 1.41.59.51 0 1.02-.2 1.41-.59l7.78-7.78 2.81-2.81c.8-.78.8-2.07 0-2.86zM5.41 20L4 18.59l7.72-7.72 1.47 1.35L5.41 20z\"/>\n",
              "  </svg>\n",
              "      </button>\n",
              "      \n",
              "  <style>\n",
              "    .colab-df-container {\n",
              "      display:flex;\n",
              "      flex-wrap:wrap;\n",
              "      gap: 12px;\n",
              "    }\n",
              "\n",
              "    .colab-df-convert {\n",
              "      background-color: #E8F0FE;\n",
              "      border: none;\n",
              "      border-radius: 50%;\n",
              "      cursor: pointer;\n",
              "      display: none;\n",
              "      fill: #1967D2;\n",
              "      height: 32px;\n",
              "      padding: 0 0 0 0;\n",
              "      width: 32px;\n",
              "    }\n",
              "\n",
              "    .colab-df-convert:hover {\n",
              "      background-color: #E2EBFA;\n",
              "      box-shadow: 0px 1px 2px rgba(60, 64, 67, 0.3), 0px 1px 3px 1px rgba(60, 64, 67, 0.15);\n",
              "      fill: #174EA6;\n",
              "    }\n",
              "\n",
              "    [theme=dark] .colab-df-convert {\n",
              "      background-color: #3B4455;\n",
              "      fill: #D2E3FC;\n",
              "    }\n",
              "\n",
              "    [theme=dark] .colab-df-convert:hover {\n",
              "      background-color: #434B5C;\n",
              "      box-shadow: 0px 1px 3px 1px rgba(0, 0, 0, 0.15);\n",
              "      filter: drop-shadow(0px 1px 2px rgba(0, 0, 0, 0.3));\n",
              "      fill: #FFFFFF;\n",
              "    }\n",
              "  </style>\n",
              "\n",
              "      <script>\n",
              "        const buttonEl =\n",
              "          document.querySelector('#df-e69f64f6-6e88-4d79-be61-116c0eb88fd5 button.colab-df-convert');\n",
              "        buttonEl.style.display =\n",
              "          google.colab.kernel.accessAllowed ? 'block' : 'none';\n",
              "\n",
              "        async function convertToInteractive(key) {\n",
              "          const element = document.querySelector('#df-e69f64f6-6e88-4d79-be61-116c0eb88fd5');\n",
              "          const dataTable =\n",
              "            await google.colab.kernel.invokeFunction('convertToInteractive',\n",
              "                                                     [key], {});\n",
              "          if (!dataTable) return;\n",
              "\n",
              "          const docLinkHtml = 'Like what you see? Visit the ' +\n",
              "            '<a target=\"_blank\" href=https://colab.research.google.com/notebooks/data_table.ipynb>data table notebook</a>'\n",
              "            + ' to learn more about interactive tables.';\n",
              "          element.innerHTML = '';\n",
              "          dataTable['output_type'] = 'display_data';\n",
              "          await google.colab.output.renderOutput(dataTable, element);\n",
              "          const docLink = document.createElement('div');\n",
              "          docLink.innerHTML = docLinkHtml;\n",
              "          element.appendChild(docLink);\n",
              "        }\n",
              "      </script>\n",
              "    </div>\n",
              "  </div>\n",
              "  "
            ]
          },
          "metadata": {},
          "execution_count": 182
        }
      ]
    },
    {
      "cell_type": "markdown",
      "source": [
        "Dari hasil evaluasi model terlihat bahwa model dengan menggunkaan **Functional API** lebih baik berdasarkan metriks **Recal** karena model mampu memprediksi pelanggan yang benar-benar akan **Churn**.\n",
        "\n",
        "Berdasarkan dari model **Functional API** kita menggunkan : \n",
        "* Input layer dengan shape 7\n",
        "* 3 hidden layer dengan neuron (60, 40 dan 20) menggunakan activation='relu'\n",
        "* setiap layer diberikan normalization dengan harapan proses training data lebih cepat. Dari beberapa artikel menyebutkan bahwa proses ini untuk menstandarisasi input ke network, bahkan dalam beberapa kasus dapat mempercepat training data dan mengurangi generalization error.\n",
        "* Output layer dengan activation='Sigmoid'\n",
        "\n"
      ],
      "metadata": {
        "id": "L7qq2bo6_7_X"
      }
    },
    {
      "cell_type": "markdown",
      "source": [
        "# 9. Model Saving\n",
        "\n",
        ">Dengan melihat hasil evaluasi model, pilihlah model terbaik untuk disimpan. Model terbaik ini akan digunakan kembali dalam melakukan deployment di Heroku.\n",
        "\n",
        "Dari hasil informasi yang telah kita dapatkan melalui evaluation model di dapatkan model **Functional API** terbaik dalam melakukan kasus klasifikasi untuk memprediksi pelanggan akan **Churn** atau tidak."
      ],
      "metadata": {
        "id": "91apZE9wL73q"
      }
    },
    {
      "cell_type": "code",
      "source": [
        "# Check firts to see if file exist already\n",
        "# If not, the model is saved to disk\n",
        "import os.path\n",
        "if os.path.isfile('models/model_functional.h5') is False:\n",
        "  model_.save('models/model_functional.h5')"
      ],
      "metadata": {
        "id": "gcrT8AVlOTqk"
      },
      "execution_count": 183,
      "outputs": []
    },
    {
      "cell_type": "code",
      "source": [
        "# Load models\n",
        "new_model = tf.keras.models.load_model('/content/models/model_functional.h5')\n",
        "new_model.summary()"
      ],
      "metadata": {
        "colab": {
          "base_uri": "https://localhost:8080/"
        },
        "id": "P9v280SVOwLr",
        "outputId": "d9c79126-0d11-4815-bb57-b6b185ca7c39"
      },
      "execution_count": 184,
      "outputs": [
        {
          "output_type": "stream",
          "name": "stdout",
          "text": [
            "Model: \"model_1\"\n",
            "_________________________________________________________________\n",
            " Layer (type)                Output Shape              Param #   \n",
            "=================================================================\n",
            " Input_layer (InputLayer)    [(None, 7)]               0         \n",
            "                                                                 \n",
            " Dense1 (Dense)              (None, 60)                480       \n",
            "                                                                 \n",
            " batch_normalization_11 (Bat  (None, 60)               240       \n",
            " chNormalization)                                                \n",
            "                                                                 \n",
            " Dense2 (Dense)              (None, 40)                2440      \n",
            "                                                                 \n",
            " batch_normalization_12 (Bat  (None, 40)               160       \n",
            " chNormalization)                                                \n",
            "                                                                 \n",
            " Dense3 (Dense)              (None, 20)                820       \n",
            "                                                                 \n",
            " batch_normalization_13 (Bat  (None, 20)               80        \n",
            " chNormalization)                                                \n",
            "                                                                 \n",
            " Output_layer (Dense)        (None, 1)                 21        \n",
            "                                                                 \n",
            "=================================================================\n",
            "Total params: 4,241\n",
            "Trainable params: 4,001\n",
            "Non-trainable params: 240\n",
            "_________________________________________________________________\n"
          ]
        }
      ]
    },
    {
      "cell_type": "markdown",
      "source": [
        "# 10. Model Inference"
      ],
      "metadata": {
        "id": "ULmmXSxxPkyj"
      }
    },
    {
      "cell_type": "code",
      "source": [
        "# melihat data inference yang telah kita siapkan sebelumnya\n",
        "data_inf.head()"
      ],
      "metadata": {
        "colab": {
          "base_uri": "https://localhost:8080/",
          "height": 356
        },
        "id": "7zhBCw24PkNx",
        "outputId": "d9a91121-8cde-4946-f186-61cf5c7d52e2"
      },
      "execution_count": 185,
      "outputs": [
        {
          "output_type": "execute_result",
          "data": {
            "text/plain": [
              "   gender SeniorCitizen Partner Dependents  tenure PhoneService MultipleLines  \\\n",
              "0  Female           Yes     Yes         No      71          Yes           Yes   \n",
              "1    Male            No      No         No       3          Yes            No   \n",
              "2    Male            No      No         No       1          Yes           Yes   \n",
              "3    Male            No      No         No       8          Yes            No   \n",
              "4  Female            No     Yes         No      60          Yes           Yes   \n",
              "\n",
              "  InternetService OnlineSecurity OnlineBackup DeviceProtection TechSupport  \\\n",
              "0             DSL            Yes          Yes              Yes         Yes   \n",
              "1             DSL             No           No               No         Yes   \n",
              "2     Fiber optic             No           No               No          No   \n",
              "3     Fiber optic             No           No               No          No   \n",
              "4     Fiber optic             No          Yes              Yes         Yes   \n",
              "\n",
              "  StreamingTV StreamingMovies        Contract PaperlessBilling  \\\n",
              "0          No             Yes        Two year              Yes   \n",
              "1         Yes             Yes  Month-to-month              Yes   \n",
              "2          No              No  Month-to-month              Yes   \n",
              "3          No              No  Month-to-month               No   \n",
              "4         Yes             Yes        Two year              Yes   \n",
              "\n",
              "               PaymentMethod  MonthlyCharges  TotalCharges Churn  \n",
              "0  Bank transfer (automatic)           82.70       5831.20    No  \n",
              "1           Electronic check           69.35        191.35   Yes  \n",
              "2           Electronic check           75.30         75.30   Yes  \n",
              "3  Bank transfer (automatic)           70.70        553.40    No  \n",
              "4    Credit card (automatic)          110.80       6640.70    No  "
            ],
            "text/html": [
              "\n",
              "  <div id=\"df-bf3018c1-e183-4fe2-908c-8f436e9da632\">\n",
              "    <div class=\"colab-df-container\">\n",
              "      <div>\n",
              "<style scoped>\n",
              "    .dataframe tbody tr th:only-of-type {\n",
              "        vertical-align: middle;\n",
              "    }\n",
              "\n",
              "    .dataframe tbody tr th {\n",
              "        vertical-align: top;\n",
              "    }\n",
              "\n",
              "    .dataframe thead th {\n",
              "        text-align: right;\n",
              "    }\n",
              "</style>\n",
              "<table border=\"1\" class=\"dataframe\">\n",
              "  <thead>\n",
              "    <tr style=\"text-align: right;\">\n",
              "      <th></th>\n",
              "      <th>gender</th>\n",
              "      <th>SeniorCitizen</th>\n",
              "      <th>Partner</th>\n",
              "      <th>Dependents</th>\n",
              "      <th>tenure</th>\n",
              "      <th>PhoneService</th>\n",
              "      <th>MultipleLines</th>\n",
              "      <th>InternetService</th>\n",
              "      <th>OnlineSecurity</th>\n",
              "      <th>OnlineBackup</th>\n",
              "      <th>DeviceProtection</th>\n",
              "      <th>TechSupport</th>\n",
              "      <th>StreamingTV</th>\n",
              "      <th>StreamingMovies</th>\n",
              "      <th>Contract</th>\n",
              "      <th>PaperlessBilling</th>\n",
              "      <th>PaymentMethod</th>\n",
              "      <th>MonthlyCharges</th>\n",
              "      <th>TotalCharges</th>\n",
              "      <th>Churn</th>\n",
              "    </tr>\n",
              "  </thead>\n",
              "  <tbody>\n",
              "    <tr>\n",
              "      <th>0</th>\n",
              "      <td>Female</td>\n",
              "      <td>Yes</td>\n",
              "      <td>Yes</td>\n",
              "      <td>No</td>\n",
              "      <td>71</td>\n",
              "      <td>Yes</td>\n",
              "      <td>Yes</td>\n",
              "      <td>DSL</td>\n",
              "      <td>Yes</td>\n",
              "      <td>Yes</td>\n",
              "      <td>Yes</td>\n",
              "      <td>Yes</td>\n",
              "      <td>No</td>\n",
              "      <td>Yes</td>\n",
              "      <td>Two year</td>\n",
              "      <td>Yes</td>\n",
              "      <td>Bank transfer (automatic)</td>\n",
              "      <td>82.70</td>\n",
              "      <td>5831.20</td>\n",
              "      <td>No</td>\n",
              "    </tr>\n",
              "    <tr>\n",
              "      <th>1</th>\n",
              "      <td>Male</td>\n",
              "      <td>No</td>\n",
              "      <td>No</td>\n",
              "      <td>No</td>\n",
              "      <td>3</td>\n",
              "      <td>Yes</td>\n",
              "      <td>No</td>\n",
              "      <td>DSL</td>\n",
              "      <td>No</td>\n",
              "      <td>No</td>\n",
              "      <td>No</td>\n",
              "      <td>Yes</td>\n",
              "      <td>Yes</td>\n",
              "      <td>Yes</td>\n",
              "      <td>Month-to-month</td>\n",
              "      <td>Yes</td>\n",
              "      <td>Electronic check</td>\n",
              "      <td>69.35</td>\n",
              "      <td>191.35</td>\n",
              "      <td>Yes</td>\n",
              "    </tr>\n",
              "    <tr>\n",
              "      <th>2</th>\n",
              "      <td>Male</td>\n",
              "      <td>No</td>\n",
              "      <td>No</td>\n",
              "      <td>No</td>\n",
              "      <td>1</td>\n",
              "      <td>Yes</td>\n",
              "      <td>Yes</td>\n",
              "      <td>Fiber optic</td>\n",
              "      <td>No</td>\n",
              "      <td>No</td>\n",
              "      <td>No</td>\n",
              "      <td>No</td>\n",
              "      <td>No</td>\n",
              "      <td>No</td>\n",
              "      <td>Month-to-month</td>\n",
              "      <td>Yes</td>\n",
              "      <td>Electronic check</td>\n",
              "      <td>75.30</td>\n",
              "      <td>75.30</td>\n",
              "      <td>Yes</td>\n",
              "    </tr>\n",
              "    <tr>\n",
              "      <th>3</th>\n",
              "      <td>Male</td>\n",
              "      <td>No</td>\n",
              "      <td>No</td>\n",
              "      <td>No</td>\n",
              "      <td>8</td>\n",
              "      <td>Yes</td>\n",
              "      <td>No</td>\n",
              "      <td>Fiber optic</td>\n",
              "      <td>No</td>\n",
              "      <td>No</td>\n",
              "      <td>No</td>\n",
              "      <td>No</td>\n",
              "      <td>No</td>\n",
              "      <td>No</td>\n",
              "      <td>Month-to-month</td>\n",
              "      <td>No</td>\n",
              "      <td>Bank transfer (automatic)</td>\n",
              "      <td>70.70</td>\n",
              "      <td>553.40</td>\n",
              "      <td>No</td>\n",
              "    </tr>\n",
              "    <tr>\n",
              "      <th>4</th>\n",
              "      <td>Female</td>\n",
              "      <td>No</td>\n",
              "      <td>Yes</td>\n",
              "      <td>No</td>\n",
              "      <td>60</td>\n",
              "      <td>Yes</td>\n",
              "      <td>Yes</td>\n",
              "      <td>Fiber optic</td>\n",
              "      <td>No</td>\n",
              "      <td>Yes</td>\n",
              "      <td>Yes</td>\n",
              "      <td>Yes</td>\n",
              "      <td>Yes</td>\n",
              "      <td>Yes</td>\n",
              "      <td>Two year</td>\n",
              "      <td>Yes</td>\n",
              "      <td>Credit card (automatic)</td>\n",
              "      <td>110.80</td>\n",
              "      <td>6640.70</td>\n",
              "      <td>No</td>\n",
              "    </tr>\n",
              "  </tbody>\n",
              "</table>\n",
              "</div>\n",
              "      <button class=\"colab-df-convert\" onclick=\"convertToInteractive('df-bf3018c1-e183-4fe2-908c-8f436e9da632')\"\n",
              "              title=\"Convert this dataframe to an interactive table.\"\n",
              "              style=\"display:none;\">\n",
              "        \n",
              "  <svg xmlns=\"http://www.w3.org/2000/svg\" height=\"24px\"viewBox=\"0 0 24 24\"\n",
              "       width=\"24px\">\n",
              "    <path d=\"M0 0h24v24H0V0z\" fill=\"none\"/>\n",
              "    <path d=\"M18.56 5.44l.94 2.06.94-2.06 2.06-.94-2.06-.94-.94-2.06-.94 2.06-2.06.94zm-11 1L8.5 8.5l.94-2.06 2.06-.94-2.06-.94L8.5 2.5l-.94 2.06-2.06.94zm10 10l.94 2.06.94-2.06 2.06-.94-2.06-.94-.94-2.06-.94 2.06-2.06.94z\"/><path d=\"M17.41 7.96l-1.37-1.37c-.4-.4-.92-.59-1.43-.59-.52 0-1.04.2-1.43.59L10.3 9.45l-7.72 7.72c-.78.78-.78 2.05 0 2.83L4 21.41c.39.39.9.59 1.41.59.51 0 1.02-.2 1.41-.59l7.78-7.78 2.81-2.81c.8-.78.8-2.07 0-2.86zM5.41 20L4 18.59l7.72-7.72 1.47 1.35L5.41 20z\"/>\n",
              "  </svg>\n",
              "      </button>\n",
              "      \n",
              "  <style>\n",
              "    .colab-df-container {\n",
              "      display:flex;\n",
              "      flex-wrap:wrap;\n",
              "      gap: 12px;\n",
              "    }\n",
              "\n",
              "    .colab-df-convert {\n",
              "      background-color: #E8F0FE;\n",
              "      border: none;\n",
              "      border-radius: 50%;\n",
              "      cursor: pointer;\n",
              "      display: none;\n",
              "      fill: #1967D2;\n",
              "      height: 32px;\n",
              "      padding: 0 0 0 0;\n",
              "      width: 32px;\n",
              "    }\n",
              "\n",
              "    .colab-df-convert:hover {\n",
              "      background-color: #E2EBFA;\n",
              "      box-shadow: 0px 1px 2px rgba(60, 64, 67, 0.3), 0px 1px 3px 1px rgba(60, 64, 67, 0.15);\n",
              "      fill: #174EA6;\n",
              "    }\n",
              "\n",
              "    [theme=dark] .colab-df-convert {\n",
              "      background-color: #3B4455;\n",
              "      fill: #D2E3FC;\n",
              "    }\n",
              "\n",
              "    [theme=dark] .colab-df-convert:hover {\n",
              "      background-color: #434B5C;\n",
              "      box-shadow: 0px 1px 3px 1px rgba(0, 0, 0, 0.15);\n",
              "      filter: drop-shadow(0px 1px 2px rgba(0, 0, 0, 0.3));\n",
              "      fill: #FFFFFF;\n",
              "    }\n",
              "  </style>\n",
              "\n",
              "      <script>\n",
              "        const buttonEl =\n",
              "          document.querySelector('#df-bf3018c1-e183-4fe2-908c-8f436e9da632 button.colab-df-convert');\n",
              "        buttonEl.style.display =\n",
              "          google.colab.kernel.accessAllowed ? 'block' : 'none';\n",
              "\n",
              "        async function convertToInteractive(key) {\n",
              "          const element = document.querySelector('#df-bf3018c1-e183-4fe2-908c-8f436e9da632');\n",
              "          const dataTable =\n",
              "            await google.colab.kernel.invokeFunction('convertToInteractive',\n",
              "                                                     [key], {});\n",
              "          if (!dataTable) return;\n",
              "\n",
              "          const docLinkHtml = 'Like what you see? Visit the ' +\n",
              "            '<a target=\"_blank\" href=https://colab.research.google.com/notebooks/data_table.ipynb>data table notebook</a>'\n",
              "            + ' to learn more about interactive tables.';\n",
              "          element.innerHTML = '';\n",
              "          dataTable['output_type'] = 'display_data';\n",
              "          await google.colab.output.renderOutput(dataTable, element);\n",
              "          const docLink = document.createElement('div');\n",
              "          docLink.innerHTML = docLinkHtml;\n",
              "          element.appendChild(docLink);\n",
              "        }\n",
              "      </script>\n",
              "    </div>\n",
              "  </div>\n",
              "  "
            ]
          },
          "metadata": {},
          "execution_count": 185
        }
      ]
    },
    {
      "cell_type": "code",
      "source": [
        "# Add data inference to Pipeline\n",
        "data_inf_pipe = preprocessor.transform(data_inf)\n",
        "\n",
        "# Selection fitur\n",
        "data_inf_select = pd.DataFrame(data_inf_pipe, columns = columns)\n",
        "data_inf_final = data_inf_select.drop(col, axis=1) # drop columns\n",
        "\n",
        "# Predict Model Inference\n",
        "y_pred_inf = model_.predict(data_inf_final)\n",
        "y_pred_inf = np.where(y_pred_test<0.5, 0, 1).squeeze()\n",
        "y_pred_inf = pd.DataFrame(y_pred_inf, columns=['Churn - Prediction'])\n",
        "y_pred_inf.replace({0:'No', 1:'Yes'}, inplace=True)\n",
        "\n",
        "# Create New Variabel DataFrame\n",
        "data_inf_select = data_inf[['gender', 'TotalCharges', 'Churn']]\n",
        "# Concate to Original Inference-Set\n",
        "pd.concat([data_inf_select, y_pred_inf], axis=1).head(10)"
      ],
      "metadata": {
        "colab": {
          "base_uri": "https://localhost:8080/",
          "height": 363
        },
        "id": "a2XQIWk8Qk_r",
        "outputId": "9f75008e-811b-445c-8a3a-b72285318d1b"
      },
      "execution_count": 186,
      "outputs": [
        {
          "output_type": "execute_result",
          "data": {
            "text/plain": [
              "   gender  TotalCharges Churn Churn - Prediction\n",
              "0  Female       5831.20    No                Yes\n",
              "1    Male        191.35   Yes                 No\n",
              "2    Male         75.30   Yes                Yes\n",
              "3    Male        553.40    No                Yes\n",
              "4  Female       6640.70    No                 No\n",
              "5    Male       7325.10    No                Yes\n",
              "6  Female       1536.75    No                Yes\n",
              "7  Female        365.65   Yes                Yes\n",
              "8  Female       3069.45    No                 No\n",
              "9  Female        302.35    No                 No"
            ],
            "text/html": [
              "\n",
              "  <div id=\"df-988f8382-6710-4e30-be80-e4b3acab810a\">\n",
              "    <div class=\"colab-df-container\">\n",
              "      <div>\n",
              "<style scoped>\n",
              "    .dataframe tbody tr th:only-of-type {\n",
              "        vertical-align: middle;\n",
              "    }\n",
              "\n",
              "    .dataframe tbody tr th {\n",
              "        vertical-align: top;\n",
              "    }\n",
              "\n",
              "    .dataframe thead th {\n",
              "        text-align: right;\n",
              "    }\n",
              "</style>\n",
              "<table border=\"1\" class=\"dataframe\">\n",
              "  <thead>\n",
              "    <tr style=\"text-align: right;\">\n",
              "      <th></th>\n",
              "      <th>gender</th>\n",
              "      <th>TotalCharges</th>\n",
              "      <th>Churn</th>\n",
              "      <th>Churn - Prediction</th>\n",
              "    </tr>\n",
              "  </thead>\n",
              "  <tbody>\n",
              "    <tr>\n",
              "      <th>0</th>\n",
              "      <td>Female</td>\n",
              "      <td>5831.20</td>\n",
              "      <td>No</td>\n",
              "      <td>Yes</td>\n",
              "    </tr>\n",
              "    <tr>\n",
              "      <th>1</th>\n",
              "      <td>Male</td>\n",
              "      <td>191.35</td>\n",
              "      <td>Yes</td>\n",
              "      <td>No</td>\n",
              "    </tr>\n",
              "    <tr>\n",
              "      <th>2</th>\n",
              "      <td>Male</td>\n",
              "      <td>75.30</td>\n",
              "      <td>Yes</td>\n",
              "      <td>Yes</td>\n",
              "    </tr>\n",
              "    <tr>\n",
              "      <th>3</th>\n",
              "      <td>Male</td>\n",
              "      <td>553.40</td>\n",
              "      <td>No</td>\n",
              "      <td>Yes</td>\n",
              "    </tr>\n",
              "    <tr>\n",
              "      <th>4</th>\n",
              "      <td>Female</td>\n",
              "      <td>6640.70</td>\n",
              "      <td>No</td>\n",
              "      <td>No</td>\n",
              "    </tr>\n",
              "    <tr>\n",
              "      <th>5</th>\n",
              "      <td>Male</td>\n",
              "      <td>7325.10</td>\n",
              "      <td>No</td>\n",
              "      <td>Yes</td>\n",
              "    </tr>\n",
              "    <tr>\n",
              "      <th>6</th>\n",
              "      <td>Female</td>\n",
              "      <td>1536.75</td>\n",
              "      <td>No</td>\n",
              "      <td>Yes</td>\n",
              "    </tr>\n",
              "    <tr>\n",
              "      <th>7</th>\n",
              "      <td>Female</td>\n",
              "      <td>365.65</td>\n",
              "      <td>Yes</td>\n",
              "      <td>Yes</td>\n",
              "    </tr>\n",
              "    <tr>\n",
              "      <th>8</th>\n",
              "      <td>Female</td>\n",
              "      <td>3069.45</td>\n",
              "      <td>No</td>\n",
              "      <td>No</td>\n",
              "    </tr>\n",
              "    <tr>\n",
              "      <th>9</th>\n",
              "      <td>Female</td>\n",
              "      <td>302.35</td>\n",
              "      <td>No</td>\n",
              "      <td>No</td>\n",
              "    </tr>\n",
              "  </tbody>\n",
              "</table>\n",
              "</div>\n",
              "      <button class=\"colab-df-convert\" onclick=\"convertToInteractive('df-988f8382-6710-4e30-be80-e4b3acab810a')\"\n",
              "              title=\"Convert this dataframe to an interactive table.\"\n",
              "              style=\"display:none;\">\n",
              "        \n",
              "  <svg xmlns=\"http://www.w3.org/2000/svg\" height=\"24px\"viewBox=\"0 0 24 24\"\n",
              "       width=\"24px\">\n",
              "    <path d=\"M0 0h24v24H0V0z\" fill=\"none\"/>\n",
              "    <path d=\"M18.56 5.44l.94 2.06.94-2.06 2.06-.94-2.06-.94-.94-2.06-.94 2.06-2.06.94zm-11 1L8.5 8.5l.94-2.06 2.06-.94-2.06-.94L8.5 2.5l-.94 2.06-2.06.94zm10 10l.94 2.06.94-2.06 2.06-.94-2.06-.94-.94-2.06-.94 2.06-2.06.94z\"/><path d=\"M17.41 7.96l-1.37-1.37c-.4-.4-.92-.59-1.43-.59-.52 0-1.04.2-1.43.59L10.3 9.45l-7.72 7.72c-.78.78-.78 2.05 0 2.83L4 21.41c.39.39.9.59 1.41.59.51 0 1.02-.2 1.41-.59l7.78-7.78 2.81-2.81c.8-.78.8-2.07 0-2.86zM5.41 20L4 18.59l7.72-7.72 1.47 1.35L5.41 20z\"/>\n",
              "  </svg>\n",
              "      </button>\n",
              "      \n",
              "  <style>\n",
              "    .colab-df-container {\n",
              "      display:flex;\n",
              "      flex-wrap:wrap;\n",
              "      gap: 12px;\n",
              "    }\n",
              "\n",
              "    .colab-df-convert {\n",
              "      background-color: #E8F0FE;\n",
              "      border: none;\n",
              "      border-radius: 50%;\n",
              "      cursor: pointer;\n",
              "      display: none;\n",
              "      fill: #1967D2;\n",
              "      height: 32px;\n",
              "      padding: 0 0 0 0;\n",
              "      width: 32px;\n",
              "    }\n",
              "\n",
              "    .colab-df-convert:hover {\n",
              "      background-color: #E2EBFA;\n",
              "      box-shadow: 0px 1px 2px rgba(60, 64, 67, 0.3), 0px 1px 3px 1px rgba(60, 64, 67, 0.15);\n",
              "      fill: #174EA6;\n",
              "    }\n",
              "\n",
              "    [theme=dark] .colab-df-convert {\n",
              "      background-color: #3B4455;\n",
              "      fill: #D2E3FC;\n",
              "    }\n",
              "\n",
              "    [theme=dark] .colab-df-convert:hover {\n",
              "      background-color: #434B5C;\n",
              "      box-shadow: 0px 1px 3px 1px rgba(0, 0, 0, 0.15);\n",
              "      filter: drop-shadow(0px 1px 2px rgba(0, 0, 0, 0.3));\n",
              "      fill: #FFFFFF;\n",
              "    }\n",
              "  </style>\n",
              "\n",
              "      <script>\n",
              "        const buttonEl =\n",
              "          document.querySelector('#df-988f8382-6710-4e30-be80-e4b3acab810a button.colab-df-convert');\n",
              "        buttonEl.style.display =\n",
              "          google.colab.kernel.accessAllowed ? 'block' : 'none';\n",
              "\n",
              "        async function convertToInteractive(key) {\n",
              "          const element = document.querySelector('#df-988f8382-6710-4e30-be80-e4b3acab810a');\n",
              "          const dataTable =\n",
              "            await google.colab.kernel.invokeFunction('convertToInteractive',\n",
              "                                                     [key], {});\n",
              "          if (!dataTable) return;\n",
              "\n",
              "          const docLinkHtml = 'Like what you see? Visit the ' +\n",
              "            '<a target=\"_blank\" href=https://colab.research.google.com/notebooks/data_table.ipynb>data table notebook</a>'\n",
              "            + ' to learn more about interactive tables.';\n",
              "          element.innerHTML = '';\n",
              "          dataTable['output_type'] = 'display_data';\n",
              "          await google.colab.output.renderOutput(dataTable, element);\n",
              "          const docLink = document.createElement('div');\n",
              "          docLink.innerHTML = docLinkHtml;\n",
              "          element.appendChild(docLink);\n",
              "        }\n",
              "      </script>\n",
              "    </div>\n",
              "  </div>\n",
              "  "
            ]
          },
          "metadata": {},
          "execution_count": 186
        }
      ]
    },
    {
      "cell_type": "markdown",
      "source": [
        "Dari hasil model inference terlihat bahwa model dapat melakukan prediksi, tetapi tidak terlalu tepat."
      ],
      "metadata": {
        "id": "0qzpEMkVSbAu"
      }
    },
    {
      "cell_type": "markdown",
      "source": [
        "# 11. Pengambilan Kesimpulan"
      ],
      "metadata": {
        "id": "7y9-mkXTSjlb"
      }
    },
    {
      "cell_type": "markdown",
      "source": [
        "Oke kita sudah selasai membuat sebuah model dengan bantuan algoritma ANN, yang diperuntukan untuk memprediksi klasifikasi biner, untuk membantu perusahaan dalam melakukan apakah pelanggan akan melakukan **Churn** atau tidak dengan mempertimbangkan beberapa fitur yang digunakan untuk mendapatkan hasil model yang cukup baik.\n",
        "\n",
        "### EDA Analysis\n",
        "Setelah kita melakukan Exploratory Data Analysis (EDA) secara singkat kita dapat menarik kesimpulan sebagai berikut:\n",
        "- Dari hasil informasi mengenai dataset ini, dataset ini memiliki 7043 baris data dan 21 kolom.\n",
        "- Dari informasi statistik yang didapatkan bahwa:\n",
        "  - Para pelanggan rata-rata mengambil `tenure` selama 32 bulan dan maximum adalah 72 bulan. \n",
        "  - Para pelanggan juga memiliki biaya rata-rata perbulan yang dibebankan biaya sebesar 64.78 dan dengan beban maximum biaya 1888.75\n",
        "- Dari hasil informasi mengenai para pelanggan yang melakukan `Churn` dapat dilihat bahwa sebanyak 1864 orang (26.54%) pelanggan melakukan **Churn** dan sebanyak 5174 orang (73.46%) pelanggan tidak melakukan **Churn** ini merupakan berita yang bisa dikataan cukup bagus untuk bisnis karena para pelanggan melakukan **Churn** lebih sedikit dibandingkan yang tidak melakukannya.\n",
        "- Terlihat dari visualisasi bahwa para pelanggan cenderung mengambil `tenure` selama 1 bulan saja dengan masa `Contract` hanya perbulan saja dibandingkan dengan satu tahun dan dua tahun. Mungkin dapat di asumsikan tipe pelanggan seperti ini hanya ingin coba-coba layanan saja dan atau membandingkan dengan perusahaan sejenis.\n",
        "- Dari informasi `Dependent` dan `Partner` bahwa para pelanggan cenderung lebih banyak melakukan **Churn** terhadap mereka yang tidak memiliki tanggungan dan tidak memiliki pasangan.\n",
        "- Dari informasi seperti `Service` terlihat bahwa pelanggan cenderung melakukan **Churn** apabila mereka tidak memiliki teknisi support dan keamanan.\n",
        "- Dari informasi biaya yang dibebankan perbulan terlihat bahwa para pelanggan akan **Churn** ketika biaya yang dibebankan terlalu besar dibandingkan dengan rata-rata beban biaya perbulan.\n",
        "\n",
        "### Model Analysis\n",
        "Dari hasil pemodelan dengan menggunakan algoritma ANN dengan 2 tipe yaitu **Sequential API** dan **Functional API** terlihat bahwa:\n",
        "- **Sequential API** \n",
        "  - Dari melakukan epoch sebanyak 80x didapatkan hasil, terlihat bahwa akurasi dari training set akan semakin meningkat seiring berjalannya epoch. Tetapi akurasi dan validation akan naik seiring waktu walaupun tidak begitu sama persis dengan training set. Untuk loss training set sendiri semakin turun seiring berjalannya waktu, sementara loss validation set juga ikut turun namun sedikit demi sedikit dan terlihat tidak begitu signifikan dibandingkan dengan training set. Kemungkinan jika epoch ditambah, kemungkinan gap yang ada semakin bertambah. Namun dari Base model ini, dirasa sudah cukup baik karena gap kedua set ini (baik loss dan akurasi) tidak begitu jauh.\n",
        "  - Dari hasil model evaluation menggunakan bebera metrik didapatkan hasil:\n",
        "   - Karena kasus ini adalah classification, untuk menentukan apakah pelanggan **Churn** atau tidak. saya lebih prefer untuk melihat hasil dari metrik **Recal** karena matriks tersebut menekan **FNR**, sehingga model diharapkan mampu bekerja dengan baik. \n",
        "   - Precision = 0.52\n",
        "   - Recal = 0.69\n",
        "   - F1 Score = 0.59\n",
        "\n",
        "- **Functional API**\n",
        "  - Dari melakukan epoch sebanyak 80x didapatkan hasil, sama halnya dengan **Sequential API**. terlihat bahwa akurasi dari training set akan semakin meningkat seiring berjalannya epoch. Tetapi akurasi dan validation akan naik seiring waktu walaupun tidak begitu sama persis dengan training set. Untuk loss training set sendiri semakin turun seiring berjalannya waktu, sementara loss validation set juga ikut turun namun sedikit demi sedikit dan terlihat tidak begitu signifikan dibandingkan dengan training set. Kemungkinan jika epoch ditambah, kemungkinan gap yang ada semakin bertambah. Namun dari Base model ini, dirasa sudah cukup baik karena gap kedua set ini (baik loss dan akurasi) tidak begitu jauh.\n",
        "  - Dari hasil model evaluation menggunakan bebera metrik didapatkan hasil:\n",
        "   - Karena kasus ini adalah classification, untuk menentukan apakah pelanggan **Churn** atau tidak. saya lebih prefer untuk melihat hasil dari metrik **Recal** karena matriks tersebut menekan **FNR**, sehingga model diharapkan mampu bekerja dengan baik. \n",
        "   - Precision = 0.49\n",
        "   - Recal = 0.73\n",
        "   - F1 Score = 0.59\n",
        "\n",
        "Berdasarkan hasil evalution score terlihat bahwa model **ANN Functional API** sedikit lebih unggul dibandingkan dengan **ANN Sequential API** dilihat dari score **Recal** karena model lebih fokus untuk menekan **FNR** untuk mencegah para pelanggan akan melakukan **Churn** untuk meningkatkan pendapatan dan menurunkan pengeluaran secara bisnis. \n",
        "\n",
        "Dari model **ANN Functional API** kita menggunkan : \n",
        "* 1 input layer\n",
        "* 3 hidden layer (dengan masing neuron 60, 40, dan 20), activation = relu. ''' Activation yang dipakai relu, karena berdasarkan yang saya ketahui untuk base model coba menggunakan relu terlebih dahulu, baru dicoba gunakan activation yang lain (harus di state di awal, karena defaultnya adalah None)'''.\n",
        "* 1 output layer, dengan 1 neuron dan activation = sigmoid. Karena sigmoid nilainya dari 0-1 dan target dataset ini adalah klasifikasi binary.\n",
        "* Saya juga menambahkan batchnormalization di sini setiap layer, dengan harapan proses training data lebih cepat. Dari beberapa artikel menyebutkan bahwa proses ini untuk menstandarisasi input ke network, bahkan dalam beberapa kasus dapat mempercepat training data dan mengurangi generalization error. "
      ],
      "metadata": {
        "id": "KahtuKFfSqMN"
      }
    },
    {
      "cell_type": "code",
      "source": [
        ""
      ],
      "metadata": {
        "id": "TEQntu5xRuSM"
      },
      "execution_count": null,
      "outputs": []
    }
  ],
  "metadata": {
    "colab": {
      "collapsed_sections": [],
      "name": "h8dsft_Milestone1P2_rizal_aditya.ipynb",
      "toc_visible": true,
      "provenance": []
    },
    "kernelspec": {
      "display_name": "Python 3",
      "name": "python3"
    },
    "language_info": {
      "name": "python"
    },
    "accelerator": "GPU"
  },
  "nbformat": 4,
  "nbformat_minor": 0
}